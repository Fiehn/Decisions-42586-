{
 "cells": [
  {
   "cell_type": "markdown",
   "id": "06f1736c",
   "metadata": {},
   "source": [
    "# Stochastic Linear Programming and solving in Julia\n",
    "\n",
    "In this notebook, emphasis is placed on stochastic linear programming and how to solve such optimization problems using Julia. \n",
    "\n",
    "We first give a very compact and high-level introduction to stochastic linear programming. The topic was covered more extensively in the related lectures (Stochastic Linear Programming 1 and 2) and related hands-on sessions. After recalling those basics, we dive into a number of example problems that can formulated as stochastic linear program. We go from a text-based description of those problems, to their mathematical formulation, and finally to their solving with Julia."
   ]
  },
  {
   "cell_type": "markdown",
   "id": "23f0fb9f",
   "metadata": {},
   "source": [
    "\n",
    "## 1. Introduction to Stochastic Linear Programming\n",
    "\n",
    "A Stochastic Linear Program (LP) is an optimization problem where the *objective function is linear* (in the decision variables), and subject to *linear equality and inequality constraints* (of the decision variables) as for a linear program. However, that optimization problem is subject to uncertainty, commonly describe by a number of scenarios for the uncertain parameter $\\omega$. An SLP can always be written as a minimization or as a maximization problem. And, in general, SLPs can have a mix of all types of constraints (equality and inequality). For simplicity and compactness, we will stick to their description in a standard minimization from, i.e., as minimization problems and with equality constraints only. It is always possible based on a number of dedicated tricks to reformulate a SLP into its standard form.\n",
    "\n",
    "A key aspect of SLPs is that they include 2 types of decisions:\n",
    " - \"here-and-now\" decisions, which are to be taken at the first stage of the problem, and seen as binding,\n",
    " - \"wait-and-see\" decisions (also referred to as recourse), which are to be taken when uncertainty unfolds eventually\n",
    " \n",
    "Here-and-now decisions are to be scenario-independent as they are supposed to hold whatever future realization of the uncertainty $\\omega$. This aspect is also commonly referred to as a non-anticipativity constraint or property. In constrat, the recourse decisions can be different for different outcomes of the uncertainty $\\omega$.\n",
    "\n",
    "Let us formulate SLPs in their standard minimization form. \n",
    "\n",
    "Write $\\mathbf{x}= [x_1, \\, x_2, \\, \\ldots, \\, x_n ]^\\top$, $\\mathbf{x} \\in \\mathbb{R}^n$, a vector of $n$ here-and now decision variables and $\\mathbf{c}= [c_1, \\, c_2, \\, \\ldots, \\, c_n ]^\\top$, $\\mathbf{c} \\in \\mathbb{R}^n$, the unit cost vector associated to those variables. In parallel, define $A \\in \\mathbb{R}^{m_\\text{h} \\times n}$ the matrix gathering the coefficients for the $m_\\text{h}$ linear equality constraints for the $n$ here-and-now decision variables, as well as $\\mathbf{b} \\in \\mathbb{R}^{m_\\text{h}}$ corresponding right-hand side. An SLP writes\n",
    "\n",
    "$$\n",
    "\\begin{align}\n",
    "\\min_{\\mathbf{x}} \\quad  & \\mathbf{c}^\\top \\mathbf{x} + \\mathbb{E}_\\omega \\left[ Q(\\mathbf{x}, \\omega) \\right] \\nonumber\\\\\n",
    "\\text{s.t.} \\quad & A \\mathbf{x} = \\mathbf{b} \\nonumber \\\\\n",
    "                  & \\mathbf{x} \\geq 0 \\nonumber\n",
    "\\end{align}\n",
    "$$\n",
    "\n",
    "In the above, $\\mathbb{E}_\\omega \\left[ Q(\\mathbf{x}, \\omega) \\right]$ is the expected recourse cost where the recourse cost is defined as another minimization problem based on recourse decision variables $\\mathbf{y}= [y_1, \\, y_2, \\, \\ldots, \\, y_l ]^\\top$, $\\mathbf{y} \\in \\mathbb{R}^l$, and related cost $\\mathbf{d}= [d_1, \\, d_2, \\, \\ldots, \\, d_l ]^\\top$, $\\mathbf{d} \\in \\mathbb{R}^l$, i.e.,\n",
    "\n",
    "$$\n",
    "\\begin{align} \n",
    "Q(\\mathbf{x},\\omega) \\quad = \\quad \\min_{\\mathbf{y}} \\quad  & \\mathbf{d}(\\omega)^\\top \\mathbf{y} \\nonumber\\\\\n",
    "\\text{s.t.} \\quad & T(\\omega) \\mathbf{x} + W(\\omega) \\mathbf{y} = \\mathbf{h}(\\omega) \\nonumber \\\\\n",
    "                  & \\mathbf{y} \\geq 0 \\nonumber\n",
    "\\end{align}\n",
    "$$\n",
    "\n",
    "This second linear program has constraints that bind the here-and-now decisions with the recourse decisions, with $T \\in \\mathbb{R}^{m_\\text{r} \\times n}$ the matrix of coefficients related to $\\mathbf{x}$ (and for $m_\\text{r}$ recourse constraints), $W \\in \\mathbb{R}^{m_\\text{r} \\times l}$ the matrix of coefficient related to $\\mathbf{y}$ and $\\mathbf{h}\\in \\mathbb{R}^{m_\\text{r} \\times l}$ the right-hand side. This second linear problem is conditioned to $\\omega$ since, in principle, there may be a single best decision for $\\mathbf{y}$ for any realization of that uncertainty.\n",
    "\n",
    "An interesting aspect though is that, since dealing with a min-min, and since the expectation can be approximated based on a set of samples $\\omega_k$ for the uncertainty ($k=1,\\ldots,K$), an SLP like that in the above admits a deterministic equivalent as\n",
    "\n",
    "$$\n",
    "\\begin{align}\n",
    "\\min_{\\mathbf{x},\\mathbf{y}} \\quad  & \\mathbf{c}^\\top \\mathbf{x} + \\sum_{k=1}^K p_k \\mathbf{d}_k^\\top \\mathbf{y}_k  \\nonumber\\\\\n",
    "\\text{s.t.} \\quad & A \\mathbf{x} = \\mathbf{b} \\nonumber \\\\\n",
    "                  & T_k \\mathbf{x} + W_k \\mathbf{y}_k = \\mathbf{h}_k & k=1,\\ldots,K \\nonumber \\\\\n",
    "                  & \\mathbf{x} \\geq 0 \\nonumber \\\\\n",
    "                  & \\mathbf{y}_k \\geq 0, & k=1,\\ldots,K \\nonumber\n",
    "\\end{align}\n",
    "$$\n",
    "\n",
    "The $p_k$'s are general weights for the various possible outcomes for $\\omega$. If those are equally likely, one simply has $p_k=1/K$. The deterministic equivalent is also called the *extensive form*.\n",
    "\n",
    "Note that in the special case where the matrix $W_k$ is not a function of $\\omega_k$, we talk about a stochastic linear program with *fixed* recourse. To indicate that, we may use the notation $W$ instead. \n",
    "\n"
   ]
  },
  {
   "cell_type": "markdown",
   "id": "ecdaf011",
   "metadata": {},
   "source": [
    "## 2. Application example 1: Gas procurement problem\n",
    "\n",
    "This application example is inspired by many stylized examples available in textbooks and online (e.g. at neos-guide.org).\n",
    "\n",
    "Gas has to be procured in advance, while the consumption of gas is highly linked to ambient temperature (since used for heating mostly). Gas retailer (and possibly system) operators have to procure gas in advance for direct use, and possibly also to be stored. They then rely on forecasts for future weather (e.g., \"is next winter going to be a cold one, or not?\") to be used as input to decision-making. Since predicting how cold the next year will be, there is quite some uncertainty in the gas demand. We want to make optimal decisions on gas procurement in view of such uncertainty.\n",
    "\n",
    "In the following, we first go through the way the problem is set up and then reformulated as an SLP. Then, we show how to solve that problem in Julia. \n",
    "\n",
    "## 2.1 Problem formulation\n",
    "\n",
    "Assume we currently have a \"normal\" winter, and we want to procure gas thinking of current winter, but also winter next year. A weather/climate forecaster tells you that next winter may be either \"normal\", \"cold\" and \"freezing cold\", with probabilities $p_1=$ 1/4, $p_2=$ 1/4 and $p_3=$ 1/2. The price of gas and the demand for it, are a direct function of how cold the winter may be. This is summarized in the following table:\n",
    "\n",
    "| scenario $k$ | Winter type | Demand $\\omega_k$(units) | Gas price $\\pi_k$ (DKK/unit) |\n",
    "| :- | :- | :-: | :-: |\n",
    "| 1 | normal     | 60  | 60\n",
    "| 2 | cold       | 100 | 70\n",
    "| 3 | freezing   | 200 | 100\n",
    "\n",
    "\n",
    "That means that, we know we need to procure 100 units of gas for the current year (as it is a \"normal\" winter) and then have to think of what we do about next year, under uncertainty on quantity and price. We have the possibility to store gas though, and it costs us $\\pi_s$ 10 DKK/unit per year.\n",
    "\n",
    "The first questions we need to ask ourselves for such problems are\n",
    "- what is the uncertain parameter $\\omega$\n",
    "- what are our here-and-now decisions $\\mathbf{x}$?\n",
    "- what are the recourse decisions $\\mathbf{y}$ (to be index by $k$ since dependent upon scenario $k$ for the uncertainty)\n",
    "\n",
    "From the problem description, it is fairly clear that the uncertain parameter $\\omega$ is the uncertain demand for gas in year 2. And, the demand for gas in year 1 is knows, since it is the current year and it is a \"normal\" one. In parallel, the course of actions seem to be as follows\n",
    "- we have to decide what to buy and store now, to have enough for this year, and be ready for next year (this is happening, whatever the scenario for year 2),\n",
    "- depending on the type of winter, we may have to buy the gas that we miss (this depends on the scenario considered)\n",
    "Based on this description of the course of action, the first set of decisions are the here-and-now decisions $\\mathbf{x} = [l^{(1)} \\, \\, s^{(1)}]^\\top$, for what we buy and store in year 1. In parallel, the unique recourse decision is $y_k = l^{(2)}_k$, for what we will buy and withdraw from the storage at year 2, within scenario $k$. In the present case, we have $K=3$ scenarios, with $k=1$ for the \"normal\" one, $k=2$ for the \"cold\" one and $k=3$ for the \"freezing\" one.\n",
    "\n",
    "Focusing directly on the extensive form, this eventually writes\n",
    "$$\n",
    "\\begin{align} \n",
    "\\min_{\\mathbf{x},\\mathbf{y}} \\quad  & \\mathbf{c}^\\top \\mathbf{x} + \\sum_{k=1}^K p_k d_k^\\top y_k  \\nonumber\\\\\n",
    "\\text{s.t.} \\quad & A \\mathbf{x} = \\mathbf{b} \\nonumber \\\\\n",
    "                  & T \\mathbf{x} + W y_k = h_k & k=1,\\ldots,K \\nonumber \\\\\n",
    "                  & \\mathbf{x} \\geq 0 \\nonumber \\\\\n",
    "                  & y_k \\geq 0, & k=1,\\ldots,K \\nonumber\n",
    "\\end{align}\n",
    "$$\n",
    "where, for the first-stage decisions,\n",
    "$$ A=\\left[\\begin{array}{cc} 1 & 0 \\\\ 0 & 0 \\end{array}\\right], \\qquad b = \\left[ \\begin{array}{c} \\omega_1\\\\0\\end{array}\\right] $$\n",
    "and, for the second-stage decisions,\n",
    "$$ T=\\left[ 0 \\, \\, 1 \\right], \\qquad W=1, \\qquad h_k = \\omega_k $$\n",
    "Finally, for the cost function,\n",
    "$$ \\mathbf{c} = \\left[ \\begin{array}{c} \\pi_1 \\\\ \\pi_s \\end{array}\\right], \\qquad d_k = \\pi_k $$\n",
    "\n",
    "The is a stochastic linear program with fixed recourse, since both matrices $T$ and $W$ are independent of the uncertain parameter $\\omega$ and its potential realizations $\\omega_k$.\n",
    "\n",
    "\n"
   ]
  },
  {
   "cell_type": "markdown",
   "id": "6a459fc1",
   "metadata": {},
   "source": [
    "\n",
    "### 2.2 Solving in Julia with JuMP and GPLK\n"
   ]
  },
  {
   "cell_type": "code",
   "execution_count": 3,
   "id": "a2187cc5",
   "metadata": {},
   "outputs": [],
   "source": [
    "#Import necessary Julia packages\n",
    "using LinearAlgebra\n",
    "using JuMP\n",
    "using GLPK\n",
    "\n",
    "#Declare model and optimizer\n",
    "gasmodel = Model()\n",
    "set_optimizer(gasmodel, GLPK.Optimizer)\n",
    "\n",
    "#Define parameters\n",
    "pv = [0.25 0.25 0.5]'\n",
    "ω = [60 100 200]'\n",
    "πv = [60 70 100]'\n",
    "ns = length(ω)\n",
    "πs = 10\n",
    "c = [πv[1] πs]'\n",
    "\n",
    "\n",
    "#Define variables\n",
    "@variable(gasmodel, x[1:2])\n",
    "@variable(gasmodel, y[1:3])\n",
    "\n",
    "#Define Constraints\n",
    "@constraint(gasmodel, x[1] == ω[1])\n",
    "@constraint(gasmodel, [k=1:ns], x[2] + y[k] == ω[k])\n",
    "@constraint(gasmodel, [k=1:ns], y[k] >= 0)\n",
    "@constraint(gasmodel, [k=1:2], x[k] >= 0)\n",
    "\n",
    "#Define Objective\n",
    "@objective(gasmodel, Min, sum(c.*x) + sum( (pv[k] * πv[k] * y[k]) for k in 1:ns))\n",
    "\n",
    "#Run the opimization\n",
    "optimize!(gasmodel)"
   ]
  },
  {
   "cell_type": "code",
   "execution_count": 4,
   "id": "b647d01e",
   "metadata": {},
   "outputs": [
    {
     "data": {
      "text/plain": [
       "2-element Vector{Float64}:\n",
       " 60.0\n",
       " 60.0"
      ]
     },
     "execution_count": 4,
     "metadata": {},
     "output_type": "execute_result"
    }
   ],
   "source": [
    "value.(x)"
   ]
  },
  {
   "cell_type": "code",
   "execution_count": 5,
   "id": "cba71aad",
   "metadata": {},
   "outputs": [
    {
     "data": {
      "text/plain": [
       "3-element Vector{Float64}:\n",
       "   0.0\n",
       "  40.0\n",
       " 140.0"
      ]
     },
     "execution_count": 5,
     "metadata": {},
     "output_type": "execute_result"
    }
   ],
   "source": [
    "value.(y)"
   ]
  },
  {
   "cell_type": "code",
   "execution_count": 6,
   "id": "0f45f5d7",
   "metadata": {},
   "outputs": [
    {
     "data": {
      "text/plain": [
       "11900.0"
      ]
     },
     "execution_count": 6,
     "metadata": {},
     "output_type": "execute_result"
    }
   ],
   "source": [
    "objective_value(gasmodel)"
   ]
  },
  {
   "cell_type": "markdown",
   "id": "dc202e1e",
   "metadata": {},
   "source": [
    "The solution is fairly obvious: the purchase for the first year is equal to the demand, while the best decision in terms of storage is to maximize the amount stored (and purchased in the first year too). This is since the cost for storage is far less than the price difference between normal and colder years. However, since we implicitely consider that the storage needs to be emptied the second year, it puts a limit on how much is stored, which is the quantity that will be needed, in case of a normal year."
   ]
  },
  {
   "cell_type": "markdown",
   "id": "1706e6e5",
   "metadata": {},
   "source": [
    "## 3. Application example 2: Newsvendor problem as a SLP (consumption side)\n",
    "\n",
    "The newsvendor problem is a very common, and widely studied, problem in decision-making under uncertainty. It was one of the main focus points of a previous block of the course (\"Stochastic optimization and the newsvendor problem\"). While it was shown at the time that it may be possible to obtain a closed-form solution for the newsvendor problem (assuming that the uncertainty distribution is known or can be modelled), it can also be solved as a stochastic linear program, without any assumption about the uncertainty. It relies on scenarios instead. \n",
    "\n",
    "In the following, we first go through the way the problem is set up and then reformulated as an SLP. Then, we show how to solve that problem in Julia. This version of the problem is on the consumption side, in the sense that the decision-maker has to decide how many paper to buy (so, \"consume\") now, to be then sold further on. In the next example, we will look at the other type of noewsvendor problem, on the production side.\n",
    "\n",
    "\n",
    "### 3.1 Problem setup and formulation\n",
    "\n",
    "In the newsvendor problem, we first need to identify the here-and-now decisions, and the recourse decisions. \n",
    "\n",
    "Remember that, in the stylised version of that problem, the newsvendor has to decide in advance (say in the morning before to go sell them) on a quantity $x$ of newpapers to purchase, to then be sold on the street eventually, under uncertain demand. The newsvendor has a number $K$ of scenarios for that demand, which we denote by $\\omega_k$, $k=1,\\ldots,K$, and with probability $p_k$ ($\\sum_k p_k = 1$). Hence, it appears that the here-and-now decision is that quantity $x$. The cost of purchasing the newspapers at this stage is $c$ (ex: $c=$ 10 DKK).\n",
    "\n",
    "Whenever selling a newspaper, the newsvendor makes a profit of $\\delta$ (ex: $\\delta=$ 5 DKK), hence meaning that the newspapers are sold at a unit price $c+\\delta$ (ex: $c+\\delta=$ 15 DKK). For any unsold newspaper at the end of the day, the newsvendor will bring them back to the depot and get a refund of $\\eta$ (ex: $\\eta=$ 2 DKK) per unit of newspapers not sold. This translates to a direct loss of $c-\\eta$ per unit not sold.\n",
    "\n",
    "There are then 2 potential cases:\n",
    " - either demand is higher than the quantity of newspapers originally purchased, and the newsvendor incurs an opportunity loss of $\\delta$ per unit that could have been sold\n",
    " - or, demand is less than the quantity of newspapers originally purchased, and the newvendor incurs a loss of $c+\\eta$ per unit that was not sold\n",
    "\n",
    "Based on these two cases, one could define the asymmetric loss function that was discussed when solving the newsvendor problem analytically. Looking at the problem as an SLP, these cases relate to a number of recourse decisions, i.e., the number of sold newspapers $y_1$, the number of missing newspapers $y_2$ (i.e., demand is there, but the newsvendor does not have enough of them), and the number of recycled newspapers $y_3$. Clearly, if $y_2=0$, then $y_3\\geq0$, and if $y_3=0$, then $y_2\\geq0$.\n",
    "\n",
    "Let us then formulate this problem as an SLP, as\n",
    "\n",
    "$$\n",
    "\\begin{align}\n",
    "\\min_{x} && c x + \\mathbb{E}_\\omega \\left[ Q(x, \\omega) \\right]  \\nonumber\\\\\n",
    "&& Q(x,\\omega) & = \\min_{y_1,y_2,y_3} & - (c+\\delta) y_1 -\\eta y_3 \\nonumber \\\\\n",
    "&&             & \\qquad \\text{s.t.}          & y_1 + y_2 = \\omega \\nonumber \\\\\n",
    "&&             &                      & y_1 + y_3 = x \\nonumber \\\\\n",
    "&&             &                      & x,y_1,y_2,y_3 \\geq 0 \\nonumber\n",
    "\\end{align}\n",
    "$$\n",
    "\n",
    "In practice, since we have a number of scenarios and associated probabilities, the SLP problem in its deterministic form becomes\n",
    "\n",
    "$$\n",
    "\\begin{align} \n",
    "\\min_{x} \\quad     & c x - \\sum_{k=1}^K p_k \\left( (c+\\delta) y_{1,k} + \\eta y_{3,k} \\right) \\nonumber \\\\\n",
    "\\text{s.t.} \\quad  & y_{1,k} + y_{2,k} = \\omega_k, \\quad k=1,\\ldots,K \\nonumber \\\\\n",
    "                   & y_{1,k} + y_{3,k} = x,  \\quad k=1,\\ldots,K \\nonumber \\\\\n",
    "                   & x,y_{1,k},y_{2,k},y_{3,k} \\geq 0 \\nonumber\n",
    "\\end{align}\n",
    "$$\n",
    "\n",
    "Since the here-and-now decision is scenario-independent (non-anticipativity constraint), we only have one decision variable $x$ in the above problem. However, since the recourse variable $y_1$, $y_2$ and $y_3$ are scenario dependent, we have to find an optimal value for each and every scenario $\\omega_k$. This is why an additional subscript $k$ appears in notations for those decision variables.\n",
    "\n",
    "Finally, if aiming to write that problem in a format similar to what we saw in Section 1, the here-and-now constraints can be removed (i.e., related to $A$ and $\\mathbf{b}$) as there are none. In parallel, one needs to write the recourse cost vector as\n",
    "\n",
    "$$ \\mathbf{d} = [-(c+\\delta) \\, \\, 0 \\, \\, -\\eta]^\\top $$\n",
    "\n",
    "the matrix $T$ and $W$ for the recourse constraints as\n",
    "\n",
    "$$ T = \\left( \\begin{array}{c}\n",
    "0\\\\\n",
    "-1\n",
    "\\end{array}\n",
    "\\right)\n",
    "$$\n",
    "\n",
    "and \n",
    "\n",
    "$$ W = \\left( \\begin{array}{ccc}\n",
    "1 & 1 & 0\\\\\n",
    "1 & 0 & 1\\\\\n",
    "\\end{array}\n",
    "\\right)\n",
    "$$\n",
    "\n",
    "as well as the right-hand side $h$ as\n",
    "\n",
    "$$ h_k = \\left( \\begin{array}{c}\n",
    "\\omega_k\\\\\n",
    "0\n",
    "\\end{array}\n",
    "\\right)\n",
    "$$\n",
    "\n",
    "In the above, both $T$ and $W$ matrices are independent of $\\omega_k$, hence we have a stochastic linear program with fixed recourse.\n"
   ]
  },
  {
   "cell_type": "markdown",
   "id": "6427f59f",
   "metadata": {},
   "source": [
    "\n",
    "### 3.2 Solving in Julia with JuMP and GPLK\n",
    "\n"
   ]
  },
  {
   "cell_type": "code",
   "execution_count": 7,
   "id": "33ed9fc1",
   "metadata": {},
   "outputs": [],
   "source": [
    "#Import necessary Julia packages\n",
    "using LinearAlgebra\n",
    "using JuMP\n",
    "using GLPK\n",
    "\n",
    "#Declare model and optimizer\n",
    "nvmodel = Model()\n",
    "set_optimizer(nvmodel, GLPK.Optimizer)\n",
    "\n",
    "#Define parameters\n",
    "ω = 1:99\n",
    "ns = length(ω)\n",
    "c = 1\n",
    "δ = 0.5\n",
    "η = 0.2\n",
    "\n",
    "#Define variables\n",
    "@variable(nvmodel, x)\n",
    "@variable(nvmodel, y_1[1:ns])\n",
    "@variable(nvmodel, y_2[1:ns])\n",
    "@variable(nvmodel, y_3[1:ns])\n",
    "\n",
    "#Define Constraints\n",
    "@constraint(nvmodel, [i=1:ns], y_1[i] + y_2[i] == ω[i])\n",
    "@constraint(nvmodel, [i=1:ns], - x + y_1[i] + y_3[i] == 0)\n",
    "@constraint(nvmodel, [i=1:ns], y_1[i] >= 0)\n",
    "@constraint(nvmodel, [i=1:ns], y_2[i] >= 0)\n",
    "@constraint(nvmodel, [i=1:ns], y_3[i] >= 0)\n",
    "@constraint(nvmodel, x >= 0)\n",
    "\n",
    "#Define Objective\n",
    "@objective(nvmodel, Min, c * x + (1/ns) * sum( (-(c+δ)*y_1[i] - η*y_3[i]) for i in 1:ns))\n",
    "\n",
    "#Run the opimization\n",
    "optimize!(nvmodel)"
   ]
  },
  {
   "cell_type": "code",
   "execution_count": 8,
   "id": "5d80d11a",
   "metadata": {},
   "outputs": [
    {
     "data": {
      "text/plain": [
       "39.0"
      ]
     },
     "execution_count": 8,
     "metadata": {},
     "output_type": "execute_result"
    }
   ],
   "source": [
    "value.(x)"
   ]
  },
  {
   "cell_type": "code",
   "execution_count": 9,
   "id": "ebaa965d",
   "metadata": {},
   "outputs": [
    {
     "data": {
      "text/plain": [
       "99-element Vector{Float64}:\n",
       "  1.0\n",
       "  2.0\n",
       "  3.0\n",
       "  4.0\n",
       "  5.0\n",
       "  6.0\n",
       "  7.0\n",
       "  8.0\n",
       "  9.0\n",
       " 10.0\n",
       " 11.0\n",
       " 12.0\n",
       " 13.0\n",
       "  ⋮\n",
       " 39.0\n",
       " 39.0\n",
       " 39.0\n",
       " 39.0\n",
       " 39.0\n",
       " 39.0\n",
       " 39.0\n",
       " 39.0\n",
       " 39.0\n",
       " 39.0\n",
       " 39.0\n",
       " 39.0"
      ]
     },
     "execution_count": 9,
     "metadata": {},
     "output_type": "execute_result"
    }
   ],
   "source": [
    "value.(y_1)"
   ]
  },
  {
   "cell_type": "code",
   "execution_count": 10,
   "id": "b90eae5c",
   "metadata": {},
   "outputs": [
    {
     "data": {
      "text/plain": [
       "99-element Vector{Float64}:\n",
       "  0.0\n",
       "  0.0\n",
       "  0.0\n",
       "  0.0\n",
       "  0.0\n",
       "  0.0\n",
       "  0.0\n",
       "  0.0\n",
       "  0.0\n",
       "  0.0\n",
       "  0.0\n",
       "  0.0\n",
       "  0.0\n",
       "  ⋮\n",
       " 49.0\n",
       " 50.0\n",
       " 51.0\n",
       " 52.0\n",
       " 53.0\n",
       " 54.0\n",
       " 55.0\n",
       " 56.0\n",
       " 57.0\n",
       " 58.0\n",
       " 59.0\n",
       " 60.0"
      ]
     },
     "execution_count": 10,
     "metadata": {},
     "output_type": "execute_result"
    }
   ],
   "source": [
    "value.(y_2)"
   ]
  },
  {
   "cell_type": "code",
   "execution_count": 11,
   "id": "24921a05",
   "metadata": {},
   "outputs": [
    {
     "data": {
      "text/plain": [
       "99-element Vector{Float64}:\n",
       " 38.0\n",
       " 37.0\n",
       " 36.0\n",
       " 35.0\n",
       " 34.0\n",
       " 33.0\n",
       " 32.0\n",
       " 31.0\n",
       " 30.0\n",
       " 29.0\n",
       " 28.0\n",
       " 27.0\n",
       " 26.0\n",
       "  ⋮\n",
       "  0.0\n",
       "  0.0\n",
       "  0.0\n",
       "  0.0\n",
       "  0.0\n",
       "  0.0\n",
       "  0.0\n",
       "  0.0\n",
       "  0.0\n",
       "  0.0\n",
       "  0.0\n",
       "  0.0"
      ]
     },
     "execution_count": 11,
     "metadata": {},
     "output_type": "execute_result"
    }
   ],
   "source": [
    "value.(y_3)"
   ]
  },
  {
   "cell_type": "code",
   "execution_count": 12,
   "id": "1b270c30",
   "metadata": {},
   "outputs": [
    {
     "data": {
      "text/plain": [
       "-9.769696969696966"
      ]
     },
     "execution_count": 12,
     "metadata": {},
     "output_type": "execute_result"
    }
   ],
   "source": [
    "objective_value(nvmodel)"
   ]
  },
  {
   "cell_type": "markdown",
   "id": "120e923c",
   "metadata": {},
   "source": [
    "## 4. Application example 3: Newsvendor problem as a SLP (production side)\n",
    "\n",
    "While the above version of the newsvendor problem looked at the consumption side (which is seen at the traditional version of the problem), we focus here on the symmetric problem if one is on the production side. This is for instance the case if selling renewable energy generation in electricity markets: one should place a bid in advance (the day before) while how much a wind farm or solar power plant will produce the day after cannot be known with certainty. However, if one produces more of less energy than in the contract, there is a penalty.\n",
    "\n",
    "In the following, we first go through the way the problem is set up and then reformulated as an SLP. Then, we show how to solve that problem in Julia. \n",
    "\n",
    "### 4.1 Problem setup and formulation\n",
    "\n",
    "As for the previous case, when starting with a newsvendor problem, we first need to identify the here-and-now decisions, and the recourse decisions. \n",
    "\n",
    "In the production version of the problem, a renewable energy trader (for instance) has to decide in advance (one day for the next) on a quantity $x$ of energy to sell on the electricity market. It is not the demand here that is uncertain, but how much the renewable energy asset will produce eventually. The trader has a number $K$ of scenarios for that production, which we denote by $\\omega_k$, $k=1,\\ldots,K$, and with probability $p_k$ ($\\sum_k p_k = 1$). Hence, it appears that the here-and-now decision is that quantity $x$. The unit price received when selling the quantity $x$ on the electricity market is $c$ (ex: $c=$ 100 DKK/MWh).\n",
    "\n",
    "Now, whenever the actual energy production is less than the contracted quantity $x$, the trader has to compensate by buying the quantity missing from another market at a price $c+\\delta$, e.g. $\\delta=$ 20 DKK/MWh. And, if producing more energy than the contracted quantity $x$, the market will take it, but at a price $c-\\eta$ that is lower that original price $c$ on the electricity market (e.g., $\\eta=$ 10 DKK/MWh). All in all, that means that, compared the case where the trader could perfectly predict how much will be produced, there are then 2 potential cases:\n",
    "- if energy production is more than the contracted value $x$, there will be an opportunity cost of $\\eta$ per unit of energy above $x$, \n",
    "- if energy production is less than the contracted value $x$, there will be a direct loss of $\\delta$ for any unit of energy below $x$.\n",
    "\n",
    "Based on these two cases, one could define the asymmetric loss function that was discussed when solving the newsvendor problem analytically. Looking at the problem as an SLP, these cases relate to a number of recourse decisions, i.e., the quantity of energy produced $y_1$, the quantity of energy missing $y_2$ (if production is less than the contract $x$), and the surplus of energy $y_3$ (in case the production is less than the contract $x$). Clearly, if $y_2=0$, then $y_3\\geq0$, and if $y_3=0$, then $y_2\\geq0$.\n",
    "\n",
    "Normally, a trader would want to maximize revenue. However, for convenience, we want to write it as a minimization problem (hence, minus the revenue). Let us then formulate this problem as an SLP, as\n",
    "\n",
    "$$\n",
    "\\begin{align}\n",
    "\\min_{x} && (-c) x + \\mathbb{E}_\\omega \\left[ Q(x, \\omega) \\right] \\nonumber\\\\\n",
    "&& Q(x,\\omega) & = \\min_{y_1,y_2,y_3} & (c+\\delta) y_2 - (c-\\eta) y_3 \\nonumber \\\\\n",
    "&&             & \\qquad \\text{s.t.}          & y_1 + y_2 = x \\nonumber \\\\\n",
    "&&             &                      & y_1 + y_3 = \\omega \\nonumber \\\\\n",
    "&&             &                      & x,y_1,y_2,y_3 \\geq 0 \\nonumber\n",
    "\\end{align}\n",
    "$$\n",
    "\n",
    "In practice, since we have a number of scenarios and associated probabilities, the SLP problem in its deterministic form becomes\n",
    "\n",
    "$$\n",
    "\\begin{align}\n",
    "\\min_{x} \\quad     & (-c) x + \\sum_{k=1}^K p_k \\left( (c+\\delta) y_{2,k} - (c-\\eta) y_{3,k} \\right) \\nonumber \\\\\n",
    "\\text{s.t.} \\quad  & y_{1,k} + y_{2,k} = x, \\quad k=1,\\ldots,K \\nonumber \\\\\n",
    "                   & y_{1,k} + y_{3,k} = \\omega_k,  \\quad k=1,\\ldots,K \\nonumber \\\\\n",
    "                   & x,y_{1,k},y_{2,k},y_{3,k} \\geq 0 \\nonumber\n",
    "\\end{align}\n",
    "$$\n",
    "\n",
    "Since the here-and-now decision is scenario-independent (non-anticipativity constraint), we only have one decision variable $x$ in the above problem. However, since the recourse variable $y_1$, $y_2$ and $y_3$ are scenario dependent, we have to find an optimal value for each and every scenario $\\omega_k$. This is why an additional subscript $k$ appears in notations for those decision variables.\n",
    "\n",
    "Finally, if aiming to write that problem in a format similar to what we obtained in Section 1, the here-and-now constraints can be removed (i.e., related to $A$ and $\\mathbf{b}$) as there are none. In parallel, one needs to write the recourse cost vector as\n",
    "\n",
    "$$ \\mathbf{d} = [0 \\, \\,  (c+\\delta) \\, \\, -(c-\\eta)]^\\top $$\n",
    "\n",
    "the matrix $T$ and $W$ for the recourse constraints as\n",
    "\n",
    "$$ T = \\left( \\begin{array}{c}\n",
    "0\\\\\n",
    "-1\n",
    "\\end{array}\n",
    "\\right)\n",
    "$$\n",
    "\n",
    "and \n",
    "\n",
    "$$ W = \\left( \\begin{array}{ccc}\n",
    "1 & 1 & 0\\\\\n",
    "1 & 0 & 1\\\\\n",
    "\\end{array}\n",
    "\\right)\n",
    "$$\n",
    "\n",
    "as well as the right-hand side $h$ as\n",
    "\n",
    "$$ h_k = \\left( \\begin{array}{c}\n",
    "0\\\\\n",
    "\\omega_k\n",
    "\\end{array}\n",
    "\\right)\n",
    "$$\n",
    "\n",
    "In the above, both $T$ and $W$ matrices are independent of $\\omega_k$, hence we have a stochastic linear program with fixed recourse.\n"
   ]
  },
  {
   "cell_type": "markdown",
   "id": "16441e7f",
   "metadata": {},
   "source": [
    "### 4.2 Solving in Julia with JuMP and GPLK"
   ]
  },
  {
   "cell_type": "code",
   "execution_count": 13,
   "id": "aab33d8b",
   "metadata": {},
   "outputs": [],
   "source": [
    "#Import necessary Julia packages\n",
    "using LinearAlgebra\n",
    "using JuMP\n",
    "using GLPK\n",
    "\n",
    "#Declare model and optimizer\n",
    "nvmodel = Model()\n",
    "set_optimizer(nvmodel, GLPK.Optimizer)\n",
    "\n",
    "#Define parameters\n",
    "ω = 1:99\n",
    "ns = length(ω)\n",
    "c = 100\n",
    "δ = 20\n",
    "η = 10\n",
    "\n",
    "#Define variables\n",
    "@variable(nvmodel, x)\n",
    "@variable(nvmodel, y_1[1:ns])\n",
    "@variable(nvmodel, y_2[1:ns])\n",
    "@variable(nvmodel, y_3[1:ns])\n",
    "\n",
    "#Define Constraints\n",
    "@constraint(nvmodel, [i=1:ns], - x + y_1[i] + y_2[i] == 0)\n",
    "@constraint(nvmodel, [i=1:ns], y_1[i] + y_3[i] == ω[i])\n",
    "@constraint(nvmodel, [i=1:ns], y_1[i] >= 0)\n",
    "@constraint(nvmodel, [i=1:ns], y_2[i] >= 0)\n",
    "@constraint(nvmodel, [i=1:ns], y_3[i] >= 0)\n",
    "@constraint(nvmodel, x >= 0)\n",
    "\n",
    "#Define Objective\n",
    "@objective(nvmodel, Min, (-c) * x + (1/ns) * sum( ((c+δ)*y_2[i] - (c-η)*y_3[i]) for i in 1:ns))\n",
    "\n",
    "#Run the opimization\n",
    "optimize!(nvmodel)"
   ]
  },
  {
   "cell_type": "code",
   "execution_count": 14,
   "id": "815b7598",
   "metadata": {},
   "outputs": [
    {
     "data": {
      "text/plain": [
       "34.0"
      ]
     },
     "execution_count": 14,
     "metadata": {},
     "output_type": "execute_result"
    }
   ],
   "source": [
    "value.(x)"
   ]
  },
  {
   "cell_type": "code",
   "execution_count": 15,
   "id": "1f6327f3",
   "metadata": {},
   "outputs": [
    {
     "data": {
      "text/plain": [
       "99-element Vector{Float64}:\n",
       "  1.0\n",
       "  2.0\n",
       "  3.0\n",
       "  4.0\n",
       "  5.0\n",
       "  6.0\n",
       "  7.0\n",
       "  8.0\n",
       "  9.0\n",
       " 10.0\n",
       " 11.0\n",
       " 12.0\n",
       " 13.0\n",
       "  ⋮\n",
       " 34.0\n",
       " 34.0\n",
       " 34.0\n",
       " 34.0\n",
       " 34.0\n",
       " 34.0\n",
       " 34.0\n",
       " 34.0\n",
       " 34.0\n",
       " 34.0\n",
       " 34.0\n",
       " 34.0"
      ]
     },
     "execution_count": 15,
     "metadata": {},
     "output_type": "execute_result"
    }
   ],
   "source": [
    "value.(y_1)"
   ]
  },
  {
   "cell_type": "code",
   "execution_count": 16,
   "id": "f086528e",
   "metadata": {},
   "outputs": [
    {
     "data": {
      "text/plain": [
       "99-element Vector{Float64}:\n",
       " 33.0\n",
       " 32.0\n",
       " 31.0\n",
       " 30.0\n",
       " 29.0\n",
       " 28.0\n",
       " 27.0\n",
       " 26.0\n",
       " 25.0\n",
       " 24.0\n",
       " 23.0\n",
       " 22.0\n",
       " 21.0\n",
       "  ⋮\n",
       "  0.0\n",
       "  0.0\n",
       "  0.0\n",
       "  0.0\n",
       "  0.0\n",
       "  0.0\n",
       "  0.0\n",
       "  0.0\n",
       "  0.0\n",
       "  0.0\n",
       "  0.0\n",
       "  0.0"
      ]
     },
     "execution_count": 16,
     "metadata": {},
     "output_type": "execute_result"
    }
   ],
   "source": [
    "value.(y_2)"
   ]
  },
  {
   "cell_type": "code",
   "execution_count": 17,
   "id": "ef19e71e",
   "metadata": {},
   "outputs": [
    {
     "data": {
      "text/plain": [
       "99-element Vector{Float64}:\n",
       "  0.0\n",
       "  0.0\n",
       "  0.0\n",
       "  0.0\n",
       "  0.0\n",
       "  0.0\n",
       "  0.0\n",
       "  0.0\n",
       "  0.0\n",
       "  0.0\n",
       "  0.0\n",
       "  0.0\n",
       "  0.0\n",
       "  ⋮\n",
       " 54.0\n",
       " 55.0\n",
       " 56.0\n",
       " 57.0\n",
       " 58.0\n",
       " 59.0\n",
       " 60.0\n",
       " 61.0\n",
       " 62.0\n",
       " 63.0\n",
       " 64.0\n",
       " 65.0"
      ]
     },
     "execution_count": 17,
     "metadata": {},
     "output_type": "execute_result"
    }
   ],
   "source": [
    "value.(y_3)"
   ]
  },
  {
   "cell_type": "code",
   "execution_count": 18,
   "id": "50999fac",
   "metadata": {},
   "outputs": [
    {
     "data": {
      "text/plain": [
       "-4670.0"
      ]
     },
     "execution_count": 18,
     "metadata": {},
     "output_type": "execute_result"
    }
   ],
   "source": [
    "objective_value(nvmodel)"
   ]
  }
 ],
 "metadata": {
  "kernelspec": {
   "display_name": "Julia 1.6.4",
   "language": "julia",
   "name": "julia-1.6"
  },
  "language_info": {
   "file_extension": ".jl",
   "mimetype": "application/julia",
   "name": "julia",
   "version": "1.6.4"
  }
 },
 "nbformat": 4,
 "nbformat_minor": 5
}
