{
 "cells": [
  {
   "cell_type": "markdown",
   "id": "06f1736c",
   "metadata": {},
   "source": [
    "# Analysis of Stochastic Linear Programs (SLPs)\n",
    "\n",
    "In this notebook, we look at some of the properties of Stochastic Linear Programs (SLPs), based on a Julia implementation of a newsvendor problem (energy trading newsvendor problem). \n",
    "\n",
    "We first give a compact overview of the concepts for analysis of SLPs, mainly coming for the paper by John Birge (1982). In a second part, we give a basic implementation of the energy trading problem as an SLP. Then in a third part, we illustrate the various concepts based on that problem.\n",
    "\n",
    "**References**\n",
    "\n",
    "Birge J. (1982). The value of the stochastic solution in stochastic linear programs with fixed recourse. *Mathematical Programming* **24**: 314-325."
   ]
  },
  {
   "cell_type": "markdown",
   "id": "23f0fb9f",
   "metadata": {},
   "source": [
    "\n",
    "## 1. Analysis of SLPs\n",
    "\n",
    "### 1.1 Basic program under uncertainty\n",
    "\n",
    "To eventually discuss the properties of SLPs, we first start by introducing the basic program involving our decisions (here-and-now and recourse) as well as the uncertain parameter. We limit ourselves to the case of fixed recourse. Note that the notations are different from the ones used by John Birge in his paper.\n",
    "\n",
    "Write $\\mathbf{x} \\in \\mathbb{R}^n$ the here-and-now decision variables, and $\\mathbf{y} \\in \\mathbb{R}^l$ the recourse decision variables. In parallel, $\\omega$ is the uncertain parameter. The program we are interested in is\n",
    "\n",
    "$$\n",
    "\\begin{align}\n",
    "\\min_{\\mathbf{x}} \\quad & \\phi(\\mathbf{x}, \\omega) \\, = \\, \\mathbf{c}^\\top \\mathbf{x} \\quad + \\quad \\min_{\\textbf{y}} \\big[ \\, \\mathbf{d}^\\top \\mathbf{y} \\, | \\,  T(\\omega)  \\mathbf{x} + W \\mathbf{y} = \\mathbf{h}(\\omega), \\, \\, \\mathbf{y} \\geq 0 \\, \\big] \\nonumber\\\\\n",
    "\\text{s.t} \\quad & A \\mathbf{x} = \\mathbf{b} \\nonumber \\\\\n",
    "& \\mathbf{x} \\geq 0 \\nonumber\n",
    "\\end{align}\n",
    "$$\n",
    "\n",
    "### 1.2 Definitions of important quantities\n",
    "\n",
    "If you had perfect information on $\\omega$, and could know what its realization may be, then you would plug that value of the realization of $\\omega$ in the above problem and solve it. Extending that idea, since being provided with a number of scenarios $\\omega_k$ and with associated probabilities $p_k$, one could solve the problem for each scenario $\\omega_k$, as if you knew this is what will happen, and then obtain an expectation based on the $p_k$ probabilities. This is what is called the *wait-and-see* solution (WS), with\n",
    "\n",
    "$$\\text{WS} = \\mathbb{E}_\\omega \\left[ \\min_{\\mathbf{x}} \\, \\phi(\\mathbf{x}, \\omega) \\right] $$\n",
    "\n",
    "which in practice, based on the scenarios available would become\n",
    "\n",
    "$$\\text{WS} = \\sum_k p_k \\left[ \\min_{\\mathbf{x}} \\,  \\phi(\\mathbf{x}, \\omega_k) \\right] $$\n",
    "\n",
    "As an alternative, even if $\\omega$ is not known in advance, while a number of scenarios $\\omega_k$ are available, one could also think of solving the original problem with a single value for $\\omega$, this single value being its expectation,\n",
    "\n",
    "$$\\mathbb{E}[\\omega] = \\sum_k p_k \\omega_k $$\n",
    "\n",
    "This eventually yields the so-called *expected value* (EV) problem:\n",
    "\n",
    "$$\\text{EV} = \\min_{\\mathbf{x}} \\, \\phi \\left(\\mathbf{x}, \\mathbb{E}[\\omega] \\right) $$\n",
    "\n",
    "We usually write $\\mathbf{x}(\\bar{\\omega})$ that solution, using $\\bar{\\omega}$ as a notation for the expectation of $\\omega$.\n",
    "\n",
    "If implementing that approach, we may then look at what would be the cost of having made such here-and-now decision while any of the scenarios $\\omega_k$ could actually realize. The expectation of this cost is referred to as the *expected result of the expected value* problem (EEv, in short), and is defined by\n",
    "\n",
    "$$\\text{EEV} = \\mathbb{E}_\\omega \\left[ \\phi \\left(\\mathbf{x}(\\bar{\\omega}), \\omega \\right) \\right] $$\n",
    "\n",
    "Again, based on the available scenarios, this gives\n",
    "\n",
    "$$\\text{EEV} = \\sum_k p_k \\phi \\left(\\mathbf{x}(\\bar{\\omega}), \\omega_k \\right) $$\n",
    "\n",
    "Obviously, we have now seen that it may be more appropriate to solve the stochastic linear program with fixed recourse to find a solution to the above program, in expectation. This is also referred to as the *recourse problem* (RP, as for the case of Birge's paper), with\n",
    "\n",
    "$$\\text{RP} = \\min_{\\mathbf{x}} \\, \\mathbb{E}_\\omega \\left[ \\phi(\\mathbf{x}, \\omega) \\right] $$\n",
    "\n",
    "which in practice, based on the scenarios available would become\n",
    "\n",
    "$$\\text{RP} = \\min_{\\mathbf{x}} \\,  \\sum_k p_k \\phi(\\mathbf{x}, \\omega_k)  $$\n",
    "\n",
    "Finally, we usually define the difference between the wait-and-see solution and the stochastic linear program, as the *expected value of perfect information* (EVPI), i.e.\n",
    "\n",
    "$$ \\text{EVPI} = \\text{RP}- \\text{WS} $$\n",
    "\n",
    "\n",
    "### 1.3 Relationship between these quantities\n",
    "\n",
    "Maybe the most important base result to analyse stochastic linear program is the following:\n",
    "\n",
    "$$ \\text{EEV} \\geq \\text{RP} \\geq \\text{WS} \\geq \\text{EV} $$\n",
    "\n",
    "This means that the objective function value obtained when solving the expected-value problem is at most that for the wait-and see problem, which is at most that for the stochastic linear program (recourse problem), which is at most the expected result of the expected value. This **does not** provide a ranking of the solutions, since please remember that the objective function values may not be directly comparable. For instance, the objective function of the expected-value problem completely overlooks what the recourse costs may be.\n",
    "\n",
    "Now, a first important result that can be deduced, is that the expected value of perfect information (EVPI) is at worst 0, and at best the difference between the EEV and the EV, i.e.,\n",
    "\n",
    "$$ 0 \\leq \\text{EVPI} \\leq \\text{EEV} - \\text{EV} $$\n",
    "\n",
    "However, we would prefer to have something that links RP and EEV, since we are generally interested on how well we may solve the problem with using a stochastic linear program instead of the expected value solution. For that, we define the *value of the stochastic solution* (VSS), as\n",
    "\n",
    "$$ \\text{VSS} = \\text{EEV} - \\text{RP} $$\n",
    "\n",
    "And, we can deduce that\n",
    "\n",
    "$$ 0 \\leq \\text{VSS} \\leq \\text{EEV} - \\text{EV} $$\n",
    "\n",
    "This is a key result of stochastic linear programming, since it tells that **the stochastic linear program will always be at least as good at the expected-value solution!**\n"
   ]
  },
  {
   "cell_type": "markdown",
   "id": "120e923c",
   "metadata": {},
   "source": [
    "## 2. Newsvendor problem as a SLP (energy trading newsvendor problem)\n",
    "\n",
    "When selling renewable energy generation in electricity markets: one should place a bid in advance (the day before). Necessarily, one cannot know how much a wind farm or solar power plant will produce the day after, with full certainty. However, if one produces more of less energy than in the contract, there is a penalty. One therefore needs to find the optimal energy quantity to offer, in view of that uncertainty, as well as the penalties for producing more or less than the contract.\n",
    "\n",
    "In the following, we first go through the way the problem is set up and then reformulated as an SLP. Then, we show how to solve that problem in Julia. \n",
    "\n",
    "### 2.1 Problem setup and formulation\n",
    "\n",
    "When starting with a newsvendor problem, we first need to identify the here-and-now decisions, and the recourse decisions. \n",
    "\n",
    "In that version of the problem, a renewable energy trader (for instance) has to decide in advance (one day for the next) on a quantity $x$ of energy to sell on the electricity market. It is not the demand here that is uncertain, but how much the renewable energy asset will produce eventually. The trader has a number $K$ of scenarios for that production, which we denote by $\\omega_k$, $k=1,\\ldots,K$, and with probability $p_k$ ($\\sum_k p_k = 1$). In the examples below, we consider that these scenarios come from a Gamma distribution, with parameters $k=30$, and $\\theta=1.5$. The expected energy generation therefore is $\\mu = k\\theta = 45$ MWh\n",
    "\n",
    "The here-and-now decision is that quantity $x$. The unit price received when selling the quantity $x$ on the electricity market is $c$ (ex: $c=$ 100 DKK/MWh).\n",
    "\n",
    "Now, whenever the actual energy production is less than the contracted quantity $x$, the trader has to compensate by buying the quantity missing from another market at a price $c+\\delta$, e.g. $\\delta=$ 20 DKK/MWh. And, if producing more energy than the contracted quantity $x$, the market will take it, but at a price $c-\\eta$ that is lower that original price $c$ on the electricity market (e.g., $\\eta=$ 10 DKK/MWh). All in all, that means that, compared the case where the trader could perfectly predict how much will be produced, there are then 2 potential cases:\n",
    "- if energy production is more than the contracted value $x$, there will be an opportunity cost of $\\eta$ per unit of energy above $x$, \n",
    "- if energy production is less than the contracted value $x$, there will be a direct loss of $\\delta$ for any unit of energy below $x$.\n",
    "\n",
    "Based on these two cases, one could define the asymmetric loss function that was discussed when solving the newsvendor problem analytically. Looking at the problem as an SLP, these cases relate to a number of recourse decisions, i.e., the quantity of energy contracted/produced $y_1$, the quantity of energy missing $y_2$ (if production is less than the contract $x$), and the surplus of energy $y_3$ (in case the production is less than the contract $x$). Clearly, if $y_2=0$, then $y_3\\geq0$, and if $y_3=0$, then $y_2\\geq0$.\n",
    "\n",
    "Normally, a trader would want to maximize revenue. However, for convenience, we want to write it as a minimization problem (hence, minus the revenue). Let us then formulate this problem as an SLP, as\n",
    "\n",
    "$$\n",
    "\\begin{align}\n",
    "\\min_{x} && (-c) x + \\mathbb{E}_\\omega \\left[ Q(x, \\omega) \\right] \\nonumber\\\\\n",
    "&& Q(x,\\omega) & = \\min_{y_1,y_2,y_3} & (c+\\delta) y_2 - (c-\\eta) y_3 \\nonumber \\\\\n",
    "&&             & \\qquad \\text{s.t.}          & y_1 + y_2 = x \\nonumber \\\\\n",
    "&&             &                      & y_1 + y_3 = \\omega \\nonumber \\\\\n",
    "&&             &                      & x,y_1,y_2,y_3 \\geq 0 \\nonumber\n",
    "\\end{align}\n",
    "$$\n",
    "\n",
    "Let us detail why the formulation, using 3 recourse variables $y_1$, $y_2$ and $y_3$ is very convenient. We have to consider 2 case:\n",
    "- if there is an energy generation surplus, this means we do not have missing energy, so $y_2=0$. The 2 constraints then are\n",
    "$$\n",
    "\\begin{align}\n",
    "&y_1 = x \\nonumber \\\\\n",
    "&y_1 + y_3 = \\omega \\nonumber \\\\\n",
    "& x,y_1,y_3 \\geq 0 \\nonumber\n",
    "\\end{align}\n",
    "$$\n",
    "Therefore, the variable $y_1$ gives the energy sold (contract) through the market, and $y_3$ defines the surplus (i.e., the difference between $x$ and $\\omega$).\n",
    "- if there is an energy generation shortage, this means we do not have a surplus, so $y_3=0$. The 2 constraints then are\n",
    "$$\n",
    "\\begin{align}\n",
    "&y_1 + y_2 = x \\nonumber \\\\\n",
    "&y_1 = \\omega \\nonumber \\\\\n",
    "& x,y_1,y_2 \\geq 0 \\nonumber\n",
    "\\end{align}\n",
    "$$\n",
    "Therefore, the variable $y_1$ gives the energy actually produced ($\\omega$), and $y_2$ defines the missing energy (i.e., the difference between $y_1$ and $x$).\n",
    "\n",
    "In practice, since we have a number of scenarios and associated probabilities, the SLP problem in its deterministic form becomes\n",
    "\n",
    "$$\n",
    "\\begin{align}\n",
    "\\min_{x,y_{1,k},y_{2,k},y_{3,k}} \\quad     & (-c) x + \\sum_{k=1}^K p_k \\left( (c+\\delta) y_{2,k} - (c-\\eta) y_{3,k} \\right) \\nonumber \\\\\n",
    "\\text{s.t.} \\quad  & y_{1,k} + y_{2,k} = x, \\quad k=1,\\ldots,K \\nonumber \\\\\n",
    "                   & y_{1,k} + y_{3,k} = \\omega_k,  \\quad k=1,\\ldots,K \\nonumber \\\\\n",
    "                   & x,y_{1,k},y_{2,k},y_{3,k} \\geq 0 \\nonumber\n",
    "\\end{align}\n",
    "$$\n",
    "\n",
    "Since the here-and-now decision is scenario-independent (non-anticipativity constraint), we only have one decision variable $x$ in the above problem. However, since the recourse variable $y_1$, $y_2$ and $y_3$ are scenario dependent, we have to find an optimal value for each and every scenario $\\omega_k$. This is why an additional subscript $k$ appears in notations for those decision variables.\n",
    "\n",
    "Finally, if aiming to write that problem in a format similar to what we obtained in Section 1, the here-and-now constraints can be removed (i.e., related to $A$ and $\\mathbf{b}$) as there are none. In parallel, one needs to write the recourse cost vector as\n",
    "\n",
    "$$ \\mathbf{d} = [0 \\, \\,  (c+\\delta) \\, \\, -(c-\\eta)]^\\top $$\n",
    "\n",
    "the matrix $T$ and $W$ for the recourse constraints as\n",
    "\n",
    "$$ T = \\left( \\begin{array}{c}\n",
    "0\\\\\n",
    "-1\n",
    "\\end{array}\n",
    "\\right)\n",
    "$$\n",
    "\n",
    "and \n",
    "\n",
    "$$ W = \\left( \\begin{array}{ccc}\n",
    "1 & 1 & 0\\\\\n",
    "1 & 0 & 1\\\\\n",
    "\\end{array}\n",
    "\\right)\n",
    "$$\n",
    "\n",
    "as well as the right-hand side $h$ as\n",
    "\n",
    "$$ h_k = \\left( \\begin{array}{c}\n",
    "0\\\\\n",
    "\\omega_k\n",
    "\\end{array}\n",
    "\\right)\n",
    "$$\n",
    "\n",
    "In the above, both $T$ and $W$ matrices are independent of $\\omega_k$, hence we have a stochastic linear program with fixed recourse.\n",
    "\n",
    "\n",
    "\n"
   ]
  },
  {
   "cell_type": "markdown",
   "id": "16441e7f",
   "metadata": {},
   "source": [
    "### 2.2 Solving in Julia with JuMP and GPLK\n",
    "\n",
    "We consider here an example application, based on the cost values and description of the uncertain parameter $\\omega$ in the above. This means that\n",
    "- energy is sold at $c=$ 100 DKK/MWh\n",
    "- the underage penalty is $\\eta=$ 10 DKK/MWh\n",
    "- the overage penalty is $\\delta=$ 20 DKK/MWh\n",
    "- the uncertain parameter follows a Gamma distribution, $\\omega \\sim \\text{Gamma}(30,1.5)$\n",
    "\n",
    "For the implementation, we fix the seed of the random number generator (to be sure we get the same results as in the lecture, and when re-running the notebook). And, we use 100 equiprobable scenarios for this example. This number will be varied later on, when focusing on the effect of sampling.\n",
    "\n",
    "The code and results are gathered in the following:"
   ]
  },
  {
   "cell_type": "code",
   "execution_count": 1,
   "id": "aab33d8b",
   "metadata": {},
   "outputs": [],
   "source": [
    "#Import necessary Julia packages\n",
    "using LinearAlgebra, JuMP, GLPK, Distributions, Random\n",
    "\n",
    "#Declare model and optimizer\n",
    "nvmodel = Model()\n",
    "set_optimizer(nvmodel, GLPK.Optimizer)\n",
    "\n",
    "#Define parameters\n",
    "c = 100\n",
    "δ = 20\n",
    "η = 10\n",
    "ns = 5 # number of scenarios\n",
    "\n",
    "#Obtain scenarios (they are all equiprobable, with probability 1/ns)\n",
    "d = Gamma(30,1.5)\n",
    "Random.seed!(114) # fix the seed of the random number generator, to be sure we get the same\n",
    "ω = rand(d,ns) \n",
    "\n",
    "#Define variables\n",
    "@variable(nvmodel, x)\n",
    "@variable(nvmodel, y_1[1:ns])\n",
    "@variable(nvmodel, y_2[1:ns])\n",
    "@variable(nvmodel, y_3[1:ns])\n",
    "\n",
    "#Define Constraints\n",
    "@constraint(nvmodel, [i=1:ns], - x + y_1[i] + y_2[i] == 0)\n",
    "@constraint(nvmodel, [i=1:ns], y_1[i] + y_3[i] == ω[i])\n",
    "@constraint(nvmodel, [i=1:ns], y_1[i] >= 0)\n",
    "@constraint(nvmodel, [i=1:ns], y_2[i] >= 0)\n",
    "@constraint(nvmodel, [i=1:ns], y_3[i] >= 0)\n",
    "@constraint(nvmodel, x >= 0)\n",
    "\n",
    "#Define Objective\n",
    "@objective(nvmodel, Min, (-c) * x + (1/ns) * sum( ((c+δ)*y_2[i] - (c-η)*y_3[i]) for i in 1:ns))\n",
    "\n",
    "#Run the opimization\n",
    "optimize!(nvmodel)"
   ]
  },
  {
   "cell_type": "markdown",
   "id": "309b043d",
   "metadata": {},
   "source": [
    "The scenarios we have as input (to described potential energy generation) are:"
   ]
  },
  {
   "cell_type": "code",
   "execution_count": 2,
   "id": "275a7ba0",
   "metadata": {},
   "outputs": [
    {
     "name": "stdout",
     "output_type": "stream",
     "text": [
      "[59.41941568329372, 43.616974047760934, 50.21235165865798, 50.463473672810096, 36.519643914844266]\n"
     ]
    }
   ],
   "source": [
    "println(ω)"
   ]
  },
  {
   "cell_type": "markdown",
   "id": "af365917",
   "metadata": {},
   "source": [
    "The here-and-now decision $x$ is "
   ]
  },
  {
   "cell_type": "code",
   "execution_count": 3,
   "id": "815b7598",
   "metadata": {},
   "outputs": [
    {
     "data": {
      "text/plain": [
       "43.616974047760934"
      ]
     },
     "execution_count": 3,
     "metadata": {},
     "output_type": "execute_result"
    }
   ],
   "source": [
    "value.(x)"
   ]
  },
  {
   "cell_type": "markdown",
   "id": "28df570d",
   "metadata": {},
   "source": [
    "We can also look at all the recourse decisions, for each and every scenario:"
   ]
  },
  {
   "cell_type": "code",
   "execution_count": 4,
   "id": "1f6327f3",
   "metadata": {},
   "outputs": [
    {
     "data": {
      "text/plain": [
       "5-element Vector{Float64}:\n",
       " 43.616974047760934\n",
       " 43.616974047760934\n",
       " 43.616974047760934\n",
       " 43.616974047760934\n",
       " 36.519643914844266"
      ]
     },
     "execution_count": 4,
     "metadata": {},
     "output_type": "execute_result"
    }
   ],
   "source": [
    "value.(y_1)"
   ]
  },
  {
   "cell_type": "code",
   "execution_count": 5,
   "id": "f086528e",
   "metadata": {},
   "outputs": [
    {
     "data": {
      "text/plain": [
       "5-element Vector{Float64}:\n",
       " 0.0\n",
       " 0.0\n",
       " 0.0\n",
       " 0.0\n",
       " 7.097330132916667"
      ]
     },
     "execution_count": 5,
     "metadata": {},
     "output_type": "execute_result"
    }
   ],
   "source": [
    "value.(y_2)"
   ]
  },
  {
   "cell_type": "code",
   "execution_count": 6,
   "id": "ef19e71e",
   "metadata": {},
   "outputs": [
    {
     "data": {
      "text/plain": [
       "5-element Vector{Float64}:\n",
       " 15.802441635532787\n",
       "  0.0\n",
       "  6.595377610897046\n",
       "  6.846499625049162\n",
       "  0.0"
      ]
     },
     "execution_count": 6,
     "metadata": {},
     "output_type": "execute_result"
    }
   ],
   "source": [
    "value.(y_3)"
   ]
  },
  {
   "cell_type": "markdown",
   "id": "6e479ede",
   "metadata": {},
   "source": [
    "Finally, at optimality, the objective function value is:"
   ]
  },
  {
   "cell_type": "code",
   "execution_count": 7,
   "id": "50999fac",
   "metadata": {},
   "outputs": [
    {
     "data": {
      "text/plain": [
       "-4717.759221272714"
      ]
     },
     "execution_count": 7,
     "metadata": {},
     "output_type": "execute_result"
    }
   ],
   "source": [
    "objective_value(nvmodel)"
   ]
  },
  {
   "cell_type": "markdown",
   "id": "653a0fef",
   "metadata": {},
   "source": [
    "Remember that one should cautious when looking at this objective function value, as it mixes costs related to the here and now decision (here, -43.62 $\\times$ 100=-4262 DKK) with the expected recourse costs."
   ]
  },
  {
   "cell_type": "markdown",
   "id": "09849d65",
   "metadata": {},
   "source": [
    "## 3. Analysing properties of an SLP based on the newsvendor example"
   ]
  },
  {
   "cell_type": "markdown",
   "id": "3fcc7703",
   "metadata": {},
   "source": [
    "Let us follow the line of thoughts of Section 1, in term of defining and solving the various problems. \n",
    "\n",
    "We start with the wait-and-see problem, which consists in solving the original problem for each of the scenarios individually, and then taking the expectation. Here, since our 5 scenarios are equiprobable, that will simply be the average."
   ]
  },
  {
   "cell_type": "code",
   "execution_count": 8,
   "id": "bf25d629",
   "metadata": {},
   "outputs": [
    {
     "name": "stdout",
     "output_type": "stream",
     "text": [
      "WS here-and-now decision: 48.0463717954734\n",
      "WS = -4804.637179547341\n"
     ]
    }
   ],
   "source": [
    "#Import necessary Julia packages\n",
    "using LinearAlgebra, JuMP, GLPK, Distributions, Random\n",
    "\n",
    "#Define parameters\n",
    "c = 100\n",
    "δ = 20\n",
    "η = 10\n",
    "ns = 5 # number of scenarios\n",
    "\n",
    "#Obtain scenarios (they are all equiprobable, with probability 1/ns)\n",
    "d = Gamma(30,1.5)\n",
    "Random.seed!(114) # fix the seed of the random number generator, to be sure we get the same\n",
    "ω = rand(d,ns)\n",
    "\n",
    "# Declare vectors to store (here-and-now) decisions and objective function values\n",
    "xv = zeros(ns)\n",
    "ov = zeros(ns)\n",
    "\n",
    "for i =1:ns # loop over scenarios\n",
    "    #Declare model and optimizer\n",
    "    wsmodel = Model()\n",
    "    set_optimizer(wsmodel, GLPK.Optimizer)\n",
    "\n",
    "    #Define variables\n",
    "    @variable(wsmodel, x)\n",
    "    @variable(wsmodel, y_1)\n",
    "    @variable(wsmodel, y_2)\n",
    "    @variable(wsmodel, y_3)\n",
    "\n",
    "    #Define Constraints\n",
    "    @constraint(wsmodel, - x + y_1 + y_2 == 0)\n",
    "    @constraint(wsmodel, y_1 + y_3 == ω[i])\n",
    "    @constraint(wsmodel, y_1 >= 0)\n",
    "    @constraint(wsmodel, y_2 >= 0)\n",
    "    @constraint(wsmodel, y_3 >= 0)\n",
    "    @constraint(wsmodel, x >= 0)\n",
    "\n",
    "    #Define Objective\n",
    "    @objective(wsmodel, Min, (-c) * x + (c+δ) * y_2 - (c-η) * y_3 )\n",
    "    #Run the opimization\n",
    "    optimize!(wsmodel)\n",
    "    \n",
    "    #Extract solutions\n",
    "    xv[i] = value.(x)\n",
    "    ov[i] = objective_value(wsmodel)\n",
    "end\n",
    "\n",
    "println(\"WS here-and-now decision: \", mean(xv))\n",
    "println(\"WS = \", mean(ov))\n"
   ]
  },
  {
   "cell_type": "markdown",
   "id": "fb33f5b7",
   "metadata": {},
   "source": [
    "The solution is actually straightforward, and the use of that code could be avoided. Indeed, if one knew the energy generation that would happen, the best decision would be to use this as here-and-now decision. Hence, in each scenario, the best is to use $\\omega_k$ as the here-and-now decision. The objective value we obtain is WS = -4804.64. We can already see that WS $\\leq$ RP. \n",
    "\n",
    "And, the expected value of perfect information (EVPI) is\n",
    "\n",
    "$$\\text{EVPI} = -4717.76 - (-4804.64) = 86.88$$\n",
    "\n",
    "This means that, in expectation for that problem, you would earn 86.88 DKK if you could know in advance which value of $\\omega$ was to realize."
   ]
  },
  {
   "cell_type": "markdown",
   "id": "a49ff799",
   "metadata": {},
   "source": [
    "Let us now look at the expected-value (EV) solution. We can use a similar approach for the code, expect that we first take the average of the scenarios and then solve a single program."
   ]
  },
  {
   "cell_type": "code",
   "execution_count": 9,
   "id": "51b6855c",
   "metadata": {},
   "outputs": [
    {
     "name": "stdout",
     "output_type": "stream",
     "text": [
      "WS here-and-now decision: 48.0463717954734\n",
      "WS = -4804.63717954734\n"
     ]
    }
   ],
   "source": [
    "#Import necessary Julia packages\n",
    "using LinearAlgebra, JuMP, GLPK, Distributions, Random\n",
    "\n",
    "#Define parameters\n",
    "c = 100\n",
    "δ = 20\n",
    "η = 10\n",
    "ns = 5 # number of scenarios\n",
    "\n",
    "#Obtain scenarios (they are all equiprobable, with probability 1/ns)\n",
    "d = Gamma(30,1.5)\n",
    "Random.seed!(114) # fix the seed of the random number generator, to be sure we get the same\n",
    "ω = rand(d,ns)\n",
    "ωm = mean(ω)\n",
    "\n",
    "#Declare model and optimizer\n",
    "evmodel = Model()\n",
    "set_optimizer(evmodel, GLPK.Optimizer)\n",
    "\n",
    "#Define variables\n",
    "@variable(evmodel, x)\n",
    "@variable(evmodel, y_1)\n",
    "@variable(evmodel, y_2)\n",
    "@variable(evmodel, y_3)\n",
    "\n",
    "#Define Constraints\n",
    "@constraint(evmodel, - x + y_1 + y_2 == 0)\n",
    "@constraint(evmodel, y_1 + y_3 == ωm)\n",
    "@constraint(evmodel, y_1 >= 0)\n",
    "@constraint(evmodel, y_2 >= 0)\n",
    "@constraint(evmodel, y_3 >= 0)\n",
    "@constraint(evmodel, x >= 0)\n",
    "\n",
    "#Define Objective\n",
    "@objective(evmodel, Min, (-c) * x + (c+δ) * y_2 - (c-η) * y_3 )\n",
    "#Run the opimization\n",
    "optimize!(evmodel)\n",
    "\n",
    "println(\"WS here-and-now decision: \", value.(x))\n",
    "println(\"WS = \", objective_value(evmodel))"
   ]
  },
  {
   "cell_type": "markdown",
   "id": "f72043be",
   "metadata": {},
   "source": [
    "Here again, the solution is obvious, since we solve the program as if we considered we knew the expected value for $\\omega$ was what is going to happen. Hence, we have\n",
    "$$ x_{\\text{EV}} = \\mathbb{E}[\\omega] = \\sum_k p_k \\omega_k = 48.05 $$\n",
    "\n",
    "The objective value we obtain is EV = -4804.64. This verifies the general case such that EV $\\leq$ WS, since we actually have EV $=$ WS."
   ]
  },
  {
   "cell_type": "markdown",
   "id": "e9cd80f5",
   "metadata": {},
   "source": [
    "We will now calculate the expected result of the expected-value solution (EEV):"
   ]
  },
  {
   "cell_type": "code",
   "execution_count": 10,
   "id": "bc745548",
   "metadata": {},
   "outputs": [
    {
     "name": "stdout",
     "output_type": "stream",
     "text": [
      "EEV = -4708.90042577729\n"
     ]
    }
   ],
   "source": [
    "#Import necessary Julia packages\n",
    "using LinearAlgebra, JuMP, GLPK, Distributions, Random\n",
    "\n",
    "#Define parameters\n",
    "c = 100\n",
    "δ = 20\n",
    "η = 10\n",
    "ns = 5 # number of scenarios\n",
    "\n",
    "#Obtain scenarios (they are all equiprobable, with probability 1/ns)\n",
    "d = Gamma(30,1.5)\n",
    "Random.seed!(114) # fix the seed of the random number generator, to be sure we get the same\n",
    "ω = rand(d,ns)\n",
    "ωm = mean(ω)\n",
    "\n",
    "# Declare the EV here-and-now decision, as well as vector of obvective values over scenarios\n",
    "x = ωm\n",
    "ov = zeros(ns)\n",
    "\n",
    "for i =1:ns # loop over scenarios\n",
    "    if (ω[i]>x)\n",
    "        y_1 = x\n",
    "        y_2 = 0\n",
    "        y_3 = ω[i]-x\n",
    "        ov[i] = (-c) * x + (c+δ) * y_2 - (c-η) * y_3\n",
    "    else\n",
    "        y_1 = ω[i]\n",
    "        y_2 = x-ω[i]\n",
    "        y_3 = 0\n",
    "        ov[i] = (-c) * x + (c+δ) * y_2 - (c-η) * y_3\n",
    "    end    \n",
    "end\n",
    "\n",
    "println(\"EEV = \", mean(ov))\n"
   ]
  },
  {
   "cell_type": "markdown",
   "id": "9eda3776",
   "metadata": {},
   "source": [
    "There, specifically, we can see that EEV $\\geq$ RP. Overall, we retrieve the relationship described in Section 1.3, i.e. such that\n",
    "\n",
    "$$\\text{EEV} \\geq \\text{RP} \\geq \\text{WS} \\geq \\text{EV}$$\n",
    "\n",
    "Finally, we find that the value of the stochastic solution is \n",
    "\n",
    "$$\\text{VSS} = \\text{EEV}-\\text{RP} = -4708.90 - (-4717.76) = 8.86 $$\n",
    "\n",
    "As expected, it is such that VSS $\\geq0$."
   ]
  }
 ],
 "metadata": {
  "kernelspec": {
   "display_name": "Julia 1.6.4",
   "language": "julia",
   "name": "julia-1.6"
  },
  "language_info": {
   "file_extension": ".jl",
   "mimetype": "application/julia",
   "name": "julia",
   "version": "1.6.4"
  }
 },
 "nbformat": 4,
 "nbformat_minor": 5
}
