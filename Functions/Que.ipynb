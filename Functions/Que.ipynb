{
 "cells": [
  {
   "cell_type": "markdown",
   "metadata": {},
   "source": [
    "# Queing Theory"
   ]
  },
  {
   "cell_type": "markdown",
   "metadata": {},
   "source": [
    "## Usefull functions"
   ]
  },
  {
   "cell_type": "code",
   "execution_count": 4,
   "metadata": {},
   "outputs": [
    {
     "data": {
      "text/plain": [
       "littles_law (generic function with 1 method)"
      ]
     },
     "metadata": {},
     "output_type": "display_data"
    }
   ],
   "source": []
  },
  {
   "cell_type": "markdown",
   "metadata": {},
   "source": [
    "## M/M/s"
   ]
  },
  {
   "cell_type": "code",
   "execution_count": 13,
   "metadata": {},
   "outputs": [
    {
     "data": {
      "text/plain": [
       "MMs (generic function with 1 method)"
      ]
     },
     "metadata": {},
     "output_type": "display_data"
    }
   ],
   "source": [
    "function Cn(n,lambda,mu,s)\n",
    "    if n <= s\n",
    "        Cn = ((lambda/mu)^n)/n!\n",
    "    else\n",
    "        ((lambda/mu)^n)/(s!*s^(n-s))\n",
    "    end\n",
    "end\n",
    "\n",
    "function P0(lambda,mu,s)\n",
    "    a = 0\n",
    "    for n in 0:s-1 \n",
    "        a += 1/(((lambda/mu)^n)/factorial(n) + ((lambda/mu)^s)/factorial(s)*1/(1-lambda/(s*mu)))\n",
    "    end\n",
    "end\n",
    "\n",
    "function Pn(n,lambda,mu,s)\n",
    "    if n <= s\n",
    "        (lambda/mu)^n/factorial(n)*P0(lambda,mu,s)\n",
    "    else\n",
    "        (lambda/mu)^n/(factorial(s)*s^(n-s))*P0(lambda,mu,s)\n",
    "    end\n",
    "end\n",
    "\n",
    "function MMs(n,lambda,mu,s)\n",
    "    pn = 0\n",
    "    cn = 0\n",
    "    p0 = 0\n",
    "    if lambda < s*mu\n",
    "        pn = Pn(n,lambda,mu,s)\n",
    "        p0 = P0(lambda,mu,s)\n",
    "    else\n",
    "        cn = Cn(n,lambda,mu,s)\n",
    "    end\n",
    "    return cn,pn,p0\n",
    "end\n"
   ]
  },
  {
   "cell_type": "code",
   "execution_count": 15,
   "metadata": {},
   "outputs": [
    {
     "ename": "MethodError",
     "evalue": "MethodError: no method matching *(::Float64, ::Nothing)\nClosest candidates are:\n  *(::Any, ::Any, !Matched::Any, !Matched::Any...) at C:\\Users\\rasmu\\AppData\\Local\\Programs\\Julia-1.7.2\\share\\julia\\base\\operators.jl:655\n  *(::Union{Float16, Float32, Float64}, !Matched::BigFloat) at C:\\Users\\rasmu\\AppData\\Local\\Programs\\Julia-1.7.2\\share\\julia\\base\\mpfr.jl:406\n  *(::Union{Real, Complex}, !Matched::Union{LinearAlgebra.Adjoint{var\"#s859\", var\"#s8591\"}, LinearAlgebra.Transpose{var\"#s859\", var\"#s8591\"}} where {var\"#s859\"<:Union{Real, Complex}, var\"#s8591\"<:(AbstractVector)}, !Matched::AbstractMatrix{<:Union{Real, Complex}}, !Matched::AbstractMatrix{<:Union{Real, Complex}}) at C:\\Users\\rasmu\\AppData\\Local\\Programs\\Julia-1.7.2\\share\\julia\\stdlib\\v1.7\\LinearAlgebra\\src\\matmul.jl:1172\n  ...",
     "output_type": "error",
     "traceback": [
      "MethodError: no method matching *(::Float64, ::Nothing)\n",
      "Closest candidates are:\n",
      "  *(::Any, ::Any, !Matched::Any, !Matched::Any...) at C:\\Users\\rasmu\\AppData\\Local\\Programs\\Julia-1.7.2\\share\\julia\\base\\operators.jl:655\n",
      "  *(::Union{Float16, Float32, Float64}, !Matched::BigFloat) at C:\\Users\\rasmu\\AppData\\Local\\Programs\\Julia-1.7.2\\share\\julia\\base\\mpfr.jl:406\n",
      "  *(::Union{Real, Complex}, !Matched::Union{LinearAlgebra.Adjoint{var\"#s859\", var\"#s8591\"}, LinearAlgebra.Transpose{var\"#s859\", var\"#s8591\"}} where {var\"#s859\"<:Union{Real, Complex}, var\"#s8591\"<:(AbstractVector)}, !Matched::AbstractMatrix{<:Union{Real, Complex}}, !Matched::AbstractMatrix{<:Union{Real, Complex}}) at C:\\Users\\rasmu\\AppData\\Local\\Programs\\Julia-1.7.2\\share\\julia\\stdlib\\v1.7\\LinearAlgebra\\src\\matmul.jl:1172\n",
      "  ...\n",
      "\n",
      "Stacktrace:\n",
      "  [1] Pn(n::Int64, lambda::Int64, mu::Int64, s::Int64)\n",
      "    @ Main c:\\Users\\rasmu\\OneDrive - Danmarks Tekniske Universitet\\Onedrive\\OneDrive - Danmarks Tekniske Universitet\\Decisions under uncertainty\\Functions\\Que.ipynb:18\n",
      "  [2] MMs(n::Int64, lambda::Int64, mu::Int64, s::Int64)\n",
      "    @ Main c:\\Users\\rasmu\\OneDrive - Danmarks Tekniske Universitet\\Onedrive\\OneDrive - Danmarks Tekniske Universitet\\Decisions under uncertainty\\Functions\\Que.ipynb:29\n",
      "  [3] top-level scope\n",
      "    @ c:\\Users\\rasmu\\OneDrive - Danmarks Tekniske Universitet\\Onedrive\\OneDrive - Danmarks Tekniske Universitet\\Decisions under uncertainty\\Functions\\Que.ipynb:1\n",
      "  [4] eval\n",
      "    @ .\\boot.jl:373 [inlined]\n",
      "  [5] include_string(mapexpr::typeof(REPL.softscope), mod::Module, code::String, filename::String)\n",
      "    @ Base .\\loading.jl:1196\n",
      "  [6] #invokelatest#2\n",
      "    @ .\\essentials.jl:716 [inlined]\n",
      "  [7] invokelatest\n",
      "    @ .\\essentials.jl:714 [inlined]\n",
      "  [8] (::VSCodeServer.var\"#164#165\"{VSCodeServer.NotebookRunCellArguments, String})()\n",
      "    @ VSCodeServer c:\\Users\\rasmu\\.vscode\\extensions\\julialang.language-julia-1.6.17\\scripts\\packages\\VSCodeServer\\src\\serve_notebook.jl:19\n",
      "  [9] withpath(f::VSCodeServer.var\"#164#165\"{VSCodeServer.NotebookRunCellArguments, String}, path::String)\n",
      "    @ VSCodeServer c:\\Users\\rasmu\\.vscode\\extensions\\julialang.language-julia-1.6.17\\scripts\\packages\\VSCodeServer\\src\\repl.jl:184\n",
      " [10] notebook_runcell_request(conn::VSCodeServer.JSONRPC.JSONRPCEndpoint{Base.PipeEndpoint, Base.PipeEndpoint}, params::VSCodeServer.NotebookRunCellArguments)\n",
      "    @ VSCodeServer c:\\Users\\rasmu\\.vscode\\extensions\\julialang.language-julia-1.6.17\\scripts\\packages\\VSCodeServer\\src\\serve_notebook.jl:13\n",
      " [11] dispatch_msg(x::VSCodeServer.JSONRPC.JSONRPCEndpoint{Base.PipeEndpoint, Base.PipeEndpoint}, dispatcher::VSCodeServer.JSONRPC.MsgDispatcher, msg::Dict{String, Any})\n",
      "    @ VSCodeServer.JSONRPC c:\\Users\\rasmu\\.vscode\\extensions\\julialang.language-julia-1.6.17\\scripts\\packages\\JSONRPC\\src\\typed.jl:67\n",
      " [12] serve_notebook(pipename::String, outputchannel_logger::Base.CoreLogging.SimpleLogger; crashreporting_pipename::String)\n",
      "    @ VSCodeServer c:\\Users\\rasmu\\.vscode\\extensions\\julialang.language-julia-1.6.17\\scripts\\packages\\VSCodeServer\\src\\serve_notebook.jl:136\n",
      " [13] top-level scope\n",
      "    @ c:\\Users\\rasmu\\.vscode\\extensions\\julialang.language-julia-1.6.17\\scripts\\notebook\\notebook.jl:32\n",
      " [14] include(mod::Module, _path::String)\n",
      "    @ Base .\\Base.jl:418\n",
      " [15] exec_options(opts::Base.JLOptions)\n",
      "    @ Base .\\client.jl:292\n",
      " [16] _start()\n",
      "    @ Base .\\client.jl:495"
     ]
    }
   ],
   "source": [
    "MMs(1,4,4,2)"
   ]
  },
  {
   "cell_type": "markdown",
   "metadata": {},
   "source": [
    "## Terms"
   ]
  },
  {
   "cell_type": "markdown",
   "metadata": {},
   "source": [
    "### Balking"
   ]
  },
  {
   "cell_type": "markdown",
   "metadata": {},
   "source": [
    "lambda_n: customer refusing to enter the system"
   ]
  },
  {
   "cell_type": "markdown",
   "metadata": {},
   "source": [
    "### Renege"
   ]
  },
  {
   "cell_type": "markdown",
   "metadata": {},
   "source": [
    "mu_n: customer enters the system, but leaves without being served"
   ]
  }
 ],
 "metadata": {
  "kernelspec": {
   "display_name": "Julia 1.7.2",
   "language": "julia",
   "name": "julia-1.7"
  },
  "language_info": {
   "file_extension": ".jl",
   "mimetype": "application/julia",
   "name": "julia",
   "version": "1.7.2"
  },
  "orig_nbformat": 4
 },
 "nbformat": 4,
 "nbformat_minor": 2
}
