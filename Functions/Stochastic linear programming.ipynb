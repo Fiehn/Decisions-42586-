{
 "cells": [
  {
   "cell_type": "markdown",
   "metadata": {},
   "source": [
    "# Initialization"
   ]
  },
  {
   "cell_type": "code",
   "execution_count": 15,
   "metadata": {},
   "outputs": [],
   "source": [
    "using LinearAlgebra\n",
    "using JuMP\n",
    "using GLPK\n",
    "using Distributions\n",
    "using Plots"
   ]
  },
  {
   "cell_type": "markdown",
   "metadata": {},
   "source": [
    "# Problem 1 - Week 10"
   ]
  },
  {
   "cell_type": "code",
   "execution_count": 30,
   "metadata": {},
   "outputs": [
    {
     "ename": "MethodError",
     "evalue": "MethodError: no method matching isless(::Int64, ::Vector{Int64})\nClosest candidates are:\n  isless(!Matched::AbstractVector, ::AbstractVector) at C:\\Users\\rasmu\\AppData\\Local\\Programs\\Julia-1.7.2\\share\\julia\\base\\abstractarray.jl:2532\n  isless(::Integer, !Matched::ForwardDiff.Dual{Ty}) where Ty at C:\\Users\\rasmu\\.julia\\packages\\ForwardDiff\\PBzup\\src\\dual.jl:145\n  isless(::Real, !Matched::AbstractFloat) at C:\\Users\\rasmu\\AppData\\Local\\Programs\\Julia-1.7.2\\share\\julia\\base\\operators.jl:185\n  ...",
     "output_type": "error",
     "traceback": [
      "MethodError: no method matching isless(::Int64, ::Vector{Int64})\n",
      "Closest candidates are:\n",
      "  isless(!Matched::AbstractVector, ::AbstractVector) at C:\\Users\\rasmu\\AppData\\Local\\Programs\\Julia-1.7.2\\share\\julia\\base\\abstractarray.jl:2532\n",
      "  isless(::Integer, !Matched::ForwardDiff.Dual{Ty}) where Ty at C:\\Users\\rasmu\\.julia\\packages\\ForwardDiff\\PBzup\\src\\dual.jl:145\n",
      "  isless(::Real, !Matched::AbstractFloat) at C:\\Users\\rasmu\\AppData\\Local\\Programs\\Julia-1.7.2\\share\\julia\\base\\operators.jl:185\n",
      "  ...\n",
      "\n",
      "Stacktrace:\n",
      "  [1] <(x::Int64, y::Vector{Int64})\n",
      "    @ Base .\\operators.jl:352\n",
      "  [2] <=(x::Int64, y::Vector{Int64})\n",
      "    @ Base .\\operators.jl:401\n",
      "  [3] >=(x::Vector{Int64}, y::Int64)\n",
      "    @ Base .\\operators.jl:425\n",
      "  [4] top-level scope\n",
      "    @ c:\\Users\\rasmu\\OneDrive - Danmarks Tekniske Universitet\\Onedrive\\OneDrive - Danmarks Tekniske Universitet\\Decisions under uncertainty\\Functions\\Stochastic linear programming.ipynb:27\n",
      "  [5] eval\n",
      "    @ .\\boot.jl:373 [inlined]\n",
      "  [6] include_string(mapexpr::typeof(REPL.softscope), mod::Module, code::String, filename::String)\n",
      "    @ Base .\\loading.jl:1196\n",
      "  [7] #invokelatest#2\n",
      "    @ .\\essentials.jl:716 [inlined]\n",
      "  [8] invokelatest\n",
      "    @ .\\essentials.jl:714 [inlined]\n",
      "  [9] (::VSCodeServer.var\"#164#165\"{VSCodeServer.NotebookRunCellArguments, String})()\n",
      "    @ VSCodeServer c:\\Users\\rasmu\\.vscode\\extensions\\julialang.language-julia-1.6.15\\scripts\\packages\\VSCodeServer\\src\\serve_notebook.jl:19\n",
      " [10] withpath(f::VSCodeServer.var\"#164#165\"{VSCodeServer.NotebookRunCellArguments, String}, path::String)\n",
      "    @ VSCodeServer c:\\Users\\rasmu\\.vscode\\extensions\\julialang.language-julia-1.6.15\\scripts\\packages\\VSCodeServer\\src\\repl.jl:184\n",
      " [11] notebook_runcell_request(conn::VSCodeServer.JSONRPC.JSONRPCEndpoint{Base.PipeEndpoint, Base.PipeEndpoint}, params::VSCodeServer.NotebookRunCellArguments)\n",
      "    @ VSCodeServer c:\\Users\\rasmu\\.vscode\\extensions\\julialang.language-julia-1.6.15\\scripts\\packages\\VSCodeServer\\src\\serve_notebook.jl:13\n",
      " [12] dispatch_msg(x::VSCodeServer.JSONRPC.JSONRPCEndpoint{Base.PipeEndpoint, Base.PipeEndpoint}, dispatcher::VSCodeServer.JSONRPC.MsgDispatcher, msg::Dict{String, Any})\n",
      "    @ VSCodeServer.JSONRPC c:\\Users\\rasmu\\.vscode\\extensions\\julialang.language-julia-1.6.15\\scripts\\packages\\JSONRPC\\src\\typed.jl:67\n",
      " [13] serve_notebook(pipename::String, outputchannel_logger::Base.CoreLogging.SimpleLogger; crashreporting_pipename::String)\n",
      "    @ VSCodeServer c:\\Users\\rasmu\\.vscode\\extensions\\julialang.language-julia-1.6.15\\scripts\\packages\\VSCodeServer\\src\\serve_notebook.jl:136\n",
      " [14] top-level scope\n",
      "    @ c:\\Users\\rasmu\\.vscode\\extensions\\julialang.language-julia-1.6.15\\scripts\\notebook\\notebook.jl:32\n",
      " [15] include(mod::Module, _path::String)\n",
      "    @ Base .\\Base.jl:418\n",
      " [16] exec_options(opts::Base.JLOptions)\n",
      "    @ Base .\\client.jl:292\n",
      " [17] _start()\n",
      "    @ Base .\\client.jl:495"
     ]
    }
   ],
   "source": [
    "###\n",
    "# x is duration parked\n",
    "# cp is 1 DKK/min\n",
    "# c+ is overtime at 3 DKK/min\n",
    "# between 50 and 70 with uniform distribution\n",
    "\n",
    "\n",
    "### Question 1\n",
    "# It is a newsvendor problem\n",
    "# SInce you have an uncertain amount of beers sold on a day\n",
    "# and a cost for ordering too little and a saving by ordering too much\n",
    "\n",
    "### Question 2\n",
    "# Underage is when you order too much time and the cost must be 1 DKK/min per amount ordered over\n",
    "# Overage cost is the 2 DKK/min because you ordered too little and pay the fee\n",
    "\n",
    "### Question 3\n",
    "# Time of the meeting is unceartain and is uniformly distributed\n",
    "\n",
    "### Question 4\n",
    "# Expected utility maximization slides 13 week 9\n",
    "# (p-c)*(omega-x)+(c-z)*(x-omega)\n",
    "# Pio = (p-c)\n",
    "# Piu = (c-z)\n",
    "\n",
    "xomega = [-20; 0; 20]\n",
    "y = 2*xomega*(xomega >= 0) + (-1)*xomega*(xomega < 0)\n",
    "\n",
    "p = plot(xomega,y)\n",
    "@show p\n",
    "# plots er umulige\n",
    "\n",
    "\n",
    "\n",
    "\n",
    "### Question 5\n",
    "# Use theorem (newsvendor problem) at slide 17 for week 9\n",
    "#x = 2/(2+1)\n",
    "#dist = Uniform(50,70)\n",
    "#x_start = quantile(dist,x)\n",
    "\n"
   ]
  },
  {
   "cell_type": "markdown",
   "metadata": {},
   "source": [
    "# Problem 2"
   ]
  },
  {
   "cell_type": "code",
   "execution_count": 20,
   "metadata": {},
   "outputs": [],
   "source": [
    "# Decision x is quantity of meat\n",
    "\n",
    "\n",
    "### Question 1"
   ]
  },
  {
   "cell_type": "code",
   "execution_count": null,
   "metadata": {},
   "outputs": [],
   "source": []
  }
 ],
 "metadata": {
  "kernelspec": {
   "display_name": "Julia 1.7.2",
   "language": "julia",
   "name": "julia-1.7"
  },
  "language_info": {
   "file_extension": ".jl",
   "mimetype": "application/julia",
   "name": "julia",
   "version": "1.7.2"
  },
  "orig_nbformat": 4
 },
 "nbformat": 4,
 "nbformat_minor": 2
}
