{
 "cells": [
  {
   "cell_type": "markdown",
   "metadata": {},
   "source": [
    "# News Vendor Problem"
   ]
  },
  {
   "cell_type": "code",
   "execution_count": 1,
   "metadata": {},
   "outputs": [],
   "source": [
    "using Distributions,Statistics"
   ]
  },
  {
   "cell_type": "code",
   "execution_count": 4,
   "metadata": {},
   "outputs": [
    {
     "name": "stdout",
     "output_type": "stream",
     "text": [
      "91.38148361730934\n"
     ]
    },
    {
     "data": {
      "text/plain": [
       "117.71288446460521"
      ]
     },
     "metadata": {},
     "output_type": "display_data"
    }
   ],
   "source": [
    "Overage = 1100\n",
    "Underage = 930\n",
    "Price = 1050\n",
    "\n",
    "omega = Uniform(8,28)\n",
    "\n",
    "pi_plus = abs(Overage-Price)\n",
    "pi_minus = abs(Underage-Price)\n",
    "\n",
    "### Expected Utility Management ###\n",
    "\n",
    "# For normal days\n",
    "omega = Normal(90,3)\n",
    "pi_o = 1200+900\n",
    "pi_u = 1000\n",
    "Ratio = pi_o/(pi_o+pi_u)\n",
    "println(quantile(omega,Ratio))\n",
    "\n",
    "# For holidays\n",
    "omega = Normal(115,6)\n",
    "pi_o = 2000+900\n",
    "pi_u = 100+1300\n",
    "Ratio = pi_o/(pi_o+pi_u)\n",
    "quantile(omega,Ratio)\n",
    "\n",
    "\n",
    "# CDF of uniform distribution\n"
   ]
  },
  {
   "cell_type": "code",
   "execution_count": null,
   "metadata": {},
   "outputs": [],
   "source": []
  }
 ],
 "metadata": {
  "kernelspec": {
   "display_name": "Julia 1.7.2",
   "language": "julia",
   "name": "julia-1.7"
  },
  "language_info": {
   "file_extension": ".jl",
   "mimetype": "application/julia",
   "name": "julia",
   "version": "1.7.2"
  },
  "orig_nbformat": 4
 },
 "nbformat": 4,
 "nbformat_minor": 2
}
