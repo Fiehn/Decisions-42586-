{
 "cells": [
  {
   "cell_type": "markdown",
   "metadata": {},
   "source": [
    "# Maximization strategies (week 1)"
   ]
  },
  {
   "cell_type": "markdown",
   "metadata": {},
   "source": [
    "Expected utility maximization: highes utility acounting for p, so table times p"
   ]
  },
  {
   "cell_type": "markdown",
   "metadata": {},
   "source": [
    "Maximax: Taking the highest overall utility, so the column with the highest total in a matrix."
   ]
  },
  {
   "cell_type": "markdown",
   "metadata": {},
   "source": [
    "Maximin: The highest of the lowest utility, so finding the lowest of each decision and then picking the highest of these"
   ]
  },
  {
   "cell_type": "markdown",
   "metadata": {},
   "source": [
    "Minimax regret: Taking the lowest regret, so setting up a regret table by taking the lost revenue if the worst outcome happens and chosing the smallest."
   ]
  },
  {
   "cell_type": "markdown",
   "metadata": {},
   "source": [
    "# Week 2"
   ]
  },
  {
   "cell_type": "markdown",
   "metadata": {},
   "source": [
    "SAA: Sample average approximation: Taking samples from our found distribution.."
   ]
  },
  {
   "cell_type": "markdown",
   "metadata": {},
   "source": [
    "Falacy of averages: Minimization of the expected cost over omega is not equivilent to the minimization of the cost over the expected omega"
   ]
  }
 ],
 "metadata": {
  "language_info": {
   "name": "python"
  },
  "orig_nbformat": 4
 },
 "nbformat": 4,
 "nbformat_minor": 2
}
