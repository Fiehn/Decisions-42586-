{
 "cells": [
  {
   "cell_type": "markdown",
   "metadata": {},
   "source": [
    "## Question 1:"
   ]
  },
  {
   "cell_type": "markdown",
   "metadata": {},
   "source": [
    "(A): Would be using Que theory, thus Markov"
   ]
  },
  {
   "cell_type": "markdown",
   "metadata": {},
   "source": [
    "(B): Can be described by a Markov process, first passage time on a markov process we can find the this time."
   ]
  },
  {
   "cell_type": "markdown",
   "metadata": {},
   "source": [
    "(C): Vehicle routing problem, therefore not MArkov\n",
    "Not a queue. They come back after delivery."
   ]
  },
  {
   "cell_type": "markdown",
   "metadata": {},
   "source": [
    "(D): Almost always asume exponential in machinery annd other things such as this. Markov"
   ]
  },
  {
   "cell_type": "markdown",
   "metadata": {},
   "source": [
    "## Question 2"
   ]
  },
  {
   "cell_type": "markdown",
   "metadata": {},
   "source": [
    "(A): Absorbing since the statement requires that you can leave state j"
   ]
  },
  {
   "cell_type": "markdown",
   "metadata": {},
   "source": [
    "(B): Could easily be possible, since there is no need for return to j"
   ]
  },
  {
   "cell_type": "markdown",
   "metadata": {},
   "source": [
    "(C): Could be possible, since they can easily move."
   ]
  },
  {
   "cell_type": "markdown",
   "metadata": {},
   "source": [
    "(D): also possible, same reasons"
   ]
  },
  {
   "cell_type": "markdown",
   "metadata": {},
   "source": [
    "## Question 3"
   ]
  },
  {
   "cell_type": "markdown",
   "metadata": {},
   "source": [
    "(A): no, aperiodic means that s+1"
   ]
  },
  {
   "cell_type": "markdown",
   "metadata": {},
   "source": [
    "(B): No absorbing state since every state can be exited"
   ]
  },
  {
   "cell_type": "markdown",
   "metadata": {},
   "source": [
    "(B): State 3,5,6 are not aperiodic, since they cannot appear in s+1"
   ]
  },
  {
   "cell_type": "markdown",
   "metadata": {},
   "source": [
    "(C): Transient means that it is possible to leave the state and never return."
   ]
  },
  {
   "cell_type": "markdown",
   "metadata": {},
   "source": [
    "(D): Continous has zero probability of staying in the same state."
   ]
  },
  {
   "cell_type": "markdown",
   "metadata": {},
   "source": [
    "## Question 4 (Program the birth death process)"
   ]
  },
  {
   "cell_type": "markdown",
   "metadata": {},
   "source": [
    "(A): "
   ]
  },
  {
   "cell_type": "markdown",
   "metadata": {},
   "source": [
    "## Question 5"
   ]
  },
  {
   "cell_type": "markdown",
   "metadata": {},
   "source": [
    "(A): As my initial intuintion said, lambda/mu << 1 means that the process would need to be infinite"
   ]
  },
  {
   "cell_type": "markdown",
   "metadata": {},
   "source": [
    "(B): Yes"
   ]
  },
  {
   "cell_type": "markdown",
   "metadata": {},
   "source": [
    "(C): balking j/4 is possible, why?"
   ]
  },
  {
   "cell_type": "markdown",
   "metadata": {},
   "source": [
    "(D): yes"
   ]
  },
  {
   "cell_type": "markdown",
   "metadata": {},
   "source": [
    "## Question 6"
   ]
  },
  {
   "cell_type": "markdown",
   "metadata": {},
   "source": [
    "(A): "
   ]
  },
  {
   "cell_type": "markdown",
   "metadata": {},
   "source": [
    "(B): Check slides for markov week 2"
   ]
  },
  {
   "cell_type": "markdown",
   "metadata": {},
   "source": [
    "# Open Questions"
   ]
  },
  {
   "cell_type": "markdown",
   "metadata": {},
   "source": [
    "## Question 10"
   ]
  },
  {
   "cell_type": "code",
   "execution_count": null,
   "metadata": {},
   "outputs": [],
   "source": [
    "using JuMP,GLPK\n",
    "\n",
    "model = Model()\n",
    "\n",
    "@variable(model,)"
   ]
  },
  {
   "cell_type": "markdown",
   "metadata": {},
   "source": [
    "## Question 12"
   ]
  },
  {
   "cell_type": "markdown",
   "metadata": {},
   "source": [
    "For a problem as above the different solutions are ordered by the cost where: EEV>=RP>=WS>=EV"
   ]
  },
  {
   "cell_type": "markdown",
   "metadata": {},
   "source": [
    "# Simulation 1"
   ]
  },
  {
   "cell_type": "markdown",
   "metadata": {},
   "source": [
    "## Question 14"
   ]
  },
  {
   "cell_type": "markdown",
   "metadata": {},
   "source": [
    "First calculate the costs, for the sold products, then add the profit (sales price) Thereby we have profits.\n",
    "\n",
    "Then going for confidence interval, using my function write down quickly what it does and run it, since I can download the data."
   ]
  },
  {
   "cell_type": "markdown",
   "metadata": {},
   "source": [
    "## Question 15"
   ]
  },
  {
   "cell_type": "markdown",
   "metadata": {},
   "source": [
    "Usign the required sample function.\n",
    "Explain from that"
   ]
  },
  {
   "cell_type": "markdown",
   "metadata": {},
   "source": [
    "## Question 16"
   ]
  },
  {
   "cell_type": "code",
   "execution_count": 2,
   "metadata": {},
   "outputs": [
    {
     "data": {
      "text/plain": [
       "1.289855072463768"
      ]
     },
     "metadata": {},
     "output_type": "display_data"
    }
   ],
   "source": [
    "a = 7+(22-17)*2+1+(34-23)*2+(39-34)+(45-39)*2+2+(51-47)*2+3+(4)*2+(69-58)\n",
    "a/(69)"
   ]
  },
  {
   "cell_type": "code",
   "execution_count": null,
   "metadata": {},
   "outputs": [],
   "source": []
  }
 ],
 "metadata": {
  "kernelspec": {
   "display_name": "Julia 1.7.2",
   "language": "julia",
   "name": "julia-1.7"
  },
  "language_info": {
   "file_extension": ".jl",
   "mimetype": "application/julia",
   "name": "julia",
   "version": "1.7.2"
  },
  "orig_nbformat": 4
 },
 "nbformat": 4,
 "nbformat_minor": 2
}
