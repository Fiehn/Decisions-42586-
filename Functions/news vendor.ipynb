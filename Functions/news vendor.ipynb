{
 "cells": [
  {
   "cell_type": "markdown",
   "metadata": {},
   "source": [
    "# News Vendor Problem"
   ]
  },
  {
   "cell_type": "code",
   "execution_count": 7,
   "metadata": {},
   "outputs": [],
   "source": [
    "using Distributions,Statistics"
   ]
  },
  {
   "cell_type": "code",
   "execution_count": 15,
   "metadata": {},
   "outputs": [
    {
     "data": {
      "text/plain": [
       "0.3"
      ]
     },
     "metadata": {},
     "output_type": "display_data"
    }
   ],
   "source": [
    "Overage = 1100\n",
    "Underage = 930\n",
    "Price = 1050\n",
    "\n",
    "omega = Uniform(8,28)\n",
    "\n",
    "pi_plus = abs(Overage-Price)\n",
    "pi_minus = abs(Underage-Price)\n",
    "\n",
    "### Expected Utility Management ###\n",
    "Ratio = pi_plus/(pi_plus+pi_minus)\n",
    "\n",
    "# CDF of uniform distribution\n",
    "quantile(omega,Ratio)"
   ]
  },
  {
   "cell_type": "code",
   "execution_count": null,
   "metadata": {},
   "outputs": [],
   "source": []
  }
 ],
 "metadata": {
  "kernelspec": {
   "display_name": "Julia 1.7.2",
   "language": "julia",
   "name": "julia-1.7"
  },
  "language_info": {
   "file_extension": ".jl",
   "mimetype": "application/julia",
   "name": "julia",
   "version": "1.7.2"
  },
  "orig_nbformat": 4
 },
 "nbformat": 4,
 "nbformat_minor": 2
}
