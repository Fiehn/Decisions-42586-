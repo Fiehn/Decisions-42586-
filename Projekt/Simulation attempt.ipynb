{
 "cells": [
  {
   "cell_type": "markdown",
   "metadata": {},
   "source": [
    "# The Real code"
   ]
  },
  {
   "cell_type": "code",
   "execution_count": 1,
   "metadata": {},
   "outputs": [],
   "source": [
    "using Random, Distributions, Plots, XLSX"
   ]
  },
  {
   "cell_type": "markdown",
   "metadata": {},
   "source": [
    "What needs to be done:\n",
    ". the simulation gives a shit ton of unfullfilled values, seems fucked!\n",
    ". Last simulation\n",
    "... Plots\n",
    "\n",
    "!! Rebalance !!\n",
    "!! Global??? !!\n"
   ]
  },
  {
   "cell_type": "markdown",
   "metadata": {},
   "source": [
    "Questions\n",
    ". Weird arrival at midnight\n",
    ". Why the large amount of unfullfilled values?\n",
    ". Should we keep values for every step at every run or just the final statistics at every run?\n"
   ]
  },
  {
   "cell_type": "code",
   "execution_count": 2,
   "metadata": {},
   "outputs": [
    {
     "data": {
      "text/plain": [
       "insert_and_sort! (generic function with 1 method)"
      ]
     },
     "metadata": {},
     "output_type": "display_data"
    }
   ],
   "source": [
    "### Initial functions to load lambda and mu from the ArrivalProfiles.xlsx\n",
    "\n",
    "# Change the type to Float64 from Int and String for the loaded vectors\n",
    "function type_change(v)\n",
    "    v_ny = Vector{Float64}()\n",
    "    for i in 1:length(v)\n",
    "        if typeof(v[i]) == String\n",
    "            push!(v_ny,parse(Float64,v[i]))\n",
    "        elseif typeof(v[i]) == Int64\n",
    "            push!(v_ny,float(v[i]))\n",
    "        else\n",
    "            push!(v_ny,v[i])\n",
    "        end\n",
    "    end\n",
    "    return v_ny\n",
    "end\n",
    "# Dsktop : \n",
    "# C:/Users/rasmu/Desktop/OneDrive/OneDrive - Danmarks Tekniske Universitet/Decisions under uncertainty/Projekt/ArrivalProfiles.xlsx\n",
    "## Laptop : \n",
    "# C:/Users/rasmu/OneDrive - Danmarks Tekniske Universitet/Onedrive/OneDrive - Danmarks Tekniske Universitet/Decisions under uncertainty/Projekt/ArrivalProfiles.xlsx\n",
    "\n",
    "function load_arri(path=\"C:/Users/rasmu/Desktop/OneDrive/OneDrive - Danmarks Tekniske Universitet/Decisions under uncertainty/Projekt/ArrivalProfiles.xlsx\")\n",
    "    xf = XLSX.readxlsx(path) # Loading\n",
    "\n",
    "    # Lambda is given as expected arrivals therefore inverse\n",
    "    lambda_port = 1 ./ type_change(xf[1][\"C2:Z2\"])\n",
    "    lambda_dtu = 1 ./ type_change(xf[1][\"C3:Z3\"])\n",
    "\n",
    "    # Travel time\n",
    "    mu_rammer_dtu = type_change(xf[1][\"C7:Z7\"])\n",
    "    mu_rammer_port = type_change(xf[1][\"C8:Z8\"])\n",
    "\n",
    "    return lambda_port, lambda_dtu, mu_rammer_dtu, mu_rammer_port\n",
    "end\n",
    "\n",
    "\n",
    "# Might not be just as fast as PriorityQueue but it is not that much behind\n",
    "# Inserts a value at the spot it fits\n",
    "function insert_and_sort!(vect::Vector, x)\n",
    "    (splice!(vect, searchsorted(vect,x), [x]); vect) \n",
    "end\n"
   ]
  },
  {
   "cell_type": "code",
   "execution_count": 3,
   "metadata": {},
   "outputs": [],
   "source": [
    "struct Environment # The environment including arrival rates and travel rates\n",
    "    lambda_dtu::Vector{Float64}  #arrival rate 1\n",
    "    mu_rammer_dtu::Vector{Float64} #service rate 1\n",
    "    lambda_port::Vector{Float64} # arrival rate 2\n",
    "    mu_rammer_port::Vector{Float64} #service rate 2\n",
    "    \n",
    "    # loading the vectors from excel\n",
    "    lambda_port, lambda_dtu, mu_rammer_dtu, mu_rammer_port = load_arri() # NEEDS the path to load the document from!\n",
    "    Environment() = new(lambda_port, lambda_dtu, mu_rammer_dtu, mu_rammer_port)\n",
    "end\n",
    "\n",
    "mutable struct Stats # Vector including [Station 1, Station 2]\n",
    "    n_cars::Vector{Int64} # Number of cars at the stations at any given time\n",
    "    un_fullfilled::Vector{Int64} # Amount of times a customer arrives to an empty station\n",
    "    fullfilled::Vector{Int64} # Amount of times a costumer arrives and gets a car\n",
    "    empty_time::Vector{Float64} # The time any given station has 0 cars\n",
    "    currently_empty::Vector{Bool} # Is the station empty\n",
    "end\n",
    "\n",
    "struct Balance\n",
    "    desired::Array{Tuple{Int64,Int64},1}\n",
    "    rebalance_times::Vector{Float64}\n",
    "end\n"
   ]
  },
  {
   "cell_type": "code",
   "execution_count": 4,
   "metadata": {},
   "outputs": [
    {
     "data": {
      "text/plain": [
       "rebalancing (generic function with 1 method)"
      ]
     },
     "metadata": {},
     "output_type": "display_data"
    }
   ],
   "source": [
    "\n",
    "function time_change(e::Array{Tuple{Float64,String},1},day::Int64)\n",
    "    # Switch day and reset index\n",
    "    if k == 24\n",
    "        global k = 0\n",
    "        global day += 24\n",
    "    end\n",
    "    # Insert the next time change\n",
    "    popfirst!(e)[1]\n",
    "    insert_and_sort!(e,(k+day,\"time_change\"))\n",
    "\n",
    "    # Change index for time\n",
    "    global k += 1\n",
    "\n",
    "end\n",
    "\n",
    "function arrival_student(station::Int64,e::Array{Tuple{Float64,String},1},env::Environment,stat::Stats)\n",
    "    \n",
    "    # Insert next arrival based on previous arrival\n",
    "    if station == 1\n",
    "        insert_and_sort!(e,(rand(Exponential(env.lambda_dtu[k]))+e[1][1],\"st1\"))\n",
    "    elseif station == 2\n",
    "        insert_and_sort!(e,(rand(Exponential(env.lambda_port[k]))+e[1][1],\"st2\"))\n",
    "    end\n",
    "\n",
    "    if stat.currently_empty[station] == true # Student arrives at empty station. That is one unsatisfied costumer :(\n",
    "        stat.un_fullfilled[station] += 1\n",
    "        popfirst!(e)\n",
    "        \n",
    "    else # Costumer leaves station\n",
    "        stat.n_cars[station] -= 1 # removing car from station\n",
    "        stat.fullfilled[station] += 1 # one fullfilled request\n",
    "        \n",
    "        # Insert travel time based on arrival station\n",
    "        if station == 1\n",
    "            insert_and_sort!(e,(rand(Exponential(env.mu_rammer_port[k]))+e[1][1],\"que_st2\")) \n",
    "        elseif station == 2\n",
    "            insert_and_sort!(e,(rand(Exponential(env.mu_rammer_dtu[k]))+e[1][1],\"que_st1\")) \n",
    "        end\n",
    "\n",
    "        if stat.n_cars[station] == 0 # station becomes empty\n",
    "            stat.empty_time[station] -= popfirst!(e)[1] # Empty station timer starts \n",
    "            stat.currently_empty[station] = true\n",
    "        else\n",
    "            popfirst!(e)\n",
    "        end\n",
    "    end \n",
    "\n",
    "end \n",
    "\n",
    "function arrival_vehicle(station::Int64,e::Array{Tuple{Float64,String},1},env::Environment,stat::Stats)\n",
    "\n",
    "    if stat.currently_empty[station] == true # Arriving at an empty station\n",
    "        stat.n_cars[station] += 1 # arrive\n",
    "        stat.empty_time[station] += popfirst!(e)[1] # End empty timer\n",
    "        stat.currently_empty[station] = false\n",
    "    else\n",
    "        stat.n_cars[station] += 1 # arrive\n",
    "        popfirst!(e)\n",
    "    end\n",
    "\n",
    "end\n",
    "\n",
    "\n",
    "function rebalancing(rebal::Balance,stat::Stats,env::Environment,e::Array{Tuple{Float64,String},1})\n",
    "    # NEEDS Documentation and a serious debugging\n",
    "\n",
    "    # This is slow, do it globally\n",
    "    travel_count_1 = 0\n",
    "    travel_count_2 = 0\n",
    "    for i in 1:length(e)\n",
    "       if e[i][2] == \"que_st1\"\n",
    "           travel_count_1 += 1\n",
    "       elseif e[i][2] == \"que_st2\"\n",
    "           travel_count_2 += 1\n",
    "       end\n",
    "    end\n",
    "\n",
    "    if travel_count_1 + stat.n_cars[1] >= rebal.desired[rebalance_action][1]\n",
    "        if stat.n_cars[1] <= (travel_count_1 + stat.n_cars[1])-rebal.desired[rebalance_action][1] # Hmmm\n",
    "            for i in 1:stat.n_cars[1]\n",
    "                insert_and_sort!(e,(rand(Exponential(env.mu_rammer_port[k]))+e[1][1],\"que_st2\"))\n",
    "                stat.n_cars[1] -= 1\n",
    "            end \n",
    "            stat.currently_empty[1] = true\n",
    "            stat.empty_time[1] -= e[1][1]\n",
    "        else\n",
    "            for i in 1:(travel_count_1 + stat.n_cars[1])-rebal.desired[rebalance_action][1]\n",
    "                insert_and_sort!(e,(rand(Exponential(env.mu_rammer_port[k]))+e[1][1],\"que_st2\"))\n",
    "                stat.n_cars[1] -= 1\n",
    "            end\n",
    "            \n",
    "        end\n",
    "\n",
    "    elseif travel_count_2 + stat.n_cars[2] > rebal.desired[rebalance_action][2]\n",
    "        if stat.n_cars[2] <= (travel_count_2 + stat.n_cars[2])-rebal.desired[rebalance_action][2] # Hmmm\n",
    "            for i in 1:stat.n_cars[2]\n",
    "                insert_and_sort!(e,(rand(Exponential(env.mu_rammer_dtu[k]))+e[1][1],\"que_st1\"))\n",
    "                stat.n_cars[2] -= 1\n",
    "            end \n",
    "            stat.currently_empty[2] = true\n",
    "            stat.empty_time[2] -= e[1][1]\n",
    "        else\n",
    "            for i in 1:(travel_count_2 + stat.n_cars[2])-rebal.desired[rebalance_action][2]\n",
    "                insert_and_sort!(e,(rand(Exponential(env.mu_rammer_dtu[k]))+e[1][1],\"que_st1\"))\n",
    "                stat.n_cars[2] -= 1\n",
    "            end\n",
    "        end\n",
    "    else\n",
    "        throw(ErrorException(\"Error in rebalance!\"))\n",
    "\n",
    "    end\n",
    "\n",
    "    # Adding the next reblance event one day later\n",
    "    insert_and_sort!(e,(24.0+popfirst!(e)[1],\"rebalance\"))\n",
    "\n",
    "\n",
    "    if rebalance_action == length(rebal.desired)\n",
    "        global rebalance_action = 1\n",
    "    else\n",
    "        global rebalance_action += 1\n",
    "    end\n",
    "\n",
    "end\n",
    "\n",
    "# HVAD FUUUUCK"
   ]
  },
  {
   "cell_type": "code",
   "execution_count": 5,
   "metadata": {},
   "outputs": [
    {
     "data": {
      "text/plain": [
       "sim (generic function with 1 method)"
      ]
     },
     "metadata": {},
     "output_type": "display_data"
    }
   ],
   "source": [
    "function sim(days_to_run::Int64,initial_n_cars::Vector{Int64}, rebal::Balance, env::Environment)\n",
    "\n",
    "    ###########\n",
    "    # Initial Misc\n",
    "    stat = Stats([initial_n_cars[1],initial_n_cars[2]],[0,0],[0,0],[0,0],[false,false])\n",
    "    e = Array{Tuple{Float64,String},1}()\n",
    "    runs = 0\n",
    "    \n",
    "    ###########\n",
    "    # arrival and travel rates\n",
    "    insert_and_sort!(e,(0.0,\"time_change\")) # THIS NEEDS TO BE FIXED!!!!!!!!\n",
    "    global k = 1\n",
    "    global day = 0\n",
    "    \n",
    "    ###########\n",
    "    # Arrivals\n",
    "    insert_and_sort!(e,(rand(Exponential(env.lambda_dtu[k])),\"st1\"))\n",
    "    insert_and_sort!(e,(rand(Exponential(env.lambda_port[k])),\"st2\"))\n",
    "    \n",
    "    ###########\n",
    "    # Rebalance\n",
    "    global rebalance_action = 1\n",
    "    for i in 1:length(rebal.rebalance_times)\n",
    "        insert_and_sort!(e,(rebal.rebalance_times[i],\"rebalance\"))\n",
    "    end\n",
    "\n",
    "\n",
    "    while e[1][1] <= days_to_run*24.0 && runs <= 100000\n",
    "        load_type = e[1][2]\n",
    "        if load_type == \"st1\"\n",
    "            arrival_student(1,e,env,stat)\n",
    "        elseif load_type == \"st2\"\n",
    "            arrival_student(2,e,env,stat)\n",
    "        elseif load_type == \"que_st1\"\n",
    "            arrival_vehicle(1,e,env,stat)\n",
    "        elseif load_type == \"que_st2\"\n",
    "            arrival_vehicle(2,e,env,stat)\n",
    "        elseif load_type == \"time_change\"\n",
    "            time_change(e,day)\n",
    "        elseif load_type == \"rebalance\"\n",
    "            rebalancing(rebal,stat,env,e)\n",
    "        else\n",
    "            throw(ErrorException(\"Issue in the event type!\"))\n",
    "        end\n",
    "        runs += 1 # Checks the amount of events\n",
    "    end\n",
    "    \n",
    "    # Make sure the empty timer stops at the end of the run\n",
    "    if stat.currently_empty[1] == true\n",
    "        stat.empty_time[1] += e[1][1]\n",
    "    elseif stat.currently_empty[2] == true\n",
    "        stat.empty_time[2] += e[1][1]\n",
    "    end\n",
    "    \n",
    "    return stat.n_cars,stat.un_fullfilled,stat.fullfilled,stat.empty_time,runs\n",
    "end"
   ]
  },
  {
   "cell_type": "markdown",
   "metadata": {},
   "source": [
    "### Testing"
   ]
  },
  {
   "cell_type": "code",
   "execution_count": 56,
   "metadata": {},
   "outputs": [
    {
     "data": {
      "text/plain": [
       "main (generic function with 1 method)"
      ]
     },
     "metadata": {},
     "output_type": "display_data"
    }
   ],
   "source": [
    "\n",
    "function main(initial_n_cars::Vector{Int64},days_to_run::Int64,n_of_runs::Int64,rebalance::Tuple{Vector{Tuple{Int64, Int64}}, Vector{Float64}})\n",
    "    env = Environment()\n",
    "    rebal = Balance(rebalance[1],rebalance[2])\n",
    "    overview = []\n",
    "    efficiancy = []\n",
    "\n",
    "    for i in 1:n_of_runs\n",
    "        a = sim(days_to_run,initial_n_cars,rebal,env)\n",
    "        overview = [overview;a]\n",
    "        # NEeds final stats\n",
    "    \n",
    "        efficiancy_fullfilled = [a[3][1]/(a[3][1]+a[2][1]), a[3][2]/(a[3][2]+a[2][2]) ]\n",
    "        efficiancy_emptytime = [a[4][1]/(days_to_run*24),a[4][2]/(days_to_run*24)]\n",
    "\n",
    "        # print(\"Efficiancy percentage for station 1 is \")\n",
    "        # printstyled(round(efficiancy_fullfilled[1]*100,digits=2),\"%\"; color=:blue)\n",
    "        # print(\" and \")\n",
    "        # printstyled(round(efficiancy_fullfilled[2]*100,digits=2),\"%\"; color=:blue)\n",
    "        # print(\" for station 2. Percentage of time spent empty for station 1 is \")\n",
    "        # printstyled(round(efficiancy_emptytime[1]*100,digits=2),\"%\"; color=:blue)\n",
    "        # print(\" and \")\n",
    "        # printstyled(round(efficiancy_emptytime[2]*100,digits=2),\"%\"; color=:blue)\n",
    "        # println(\" for station 2.\")\n",
    "\n",
    "        efficiancy = [efficiancy; [efficiancy_fullfilled]]\n",
    "    end\n",
    "    \n",
    "    return overview, efficiancy\n",
    "end"
   ]
  },
  {
   "cell_type": "code",
   "execution_count": 53,
   "metadata": {},
   "outputs": [
    {
     "name": "stdout",
     "output_type": "stream",
     "text": [
      "Efficiancy percentage for station 1 is \u001b[34m62.38%\u001b[39m and \u001b[34m97.23%\u001b[39m for station 2. Percentage of time spent empty for station 1 is \u001b[34m11.85%\u001b[39m and \u001b[34m2.7%\u001b[39m for station 2.\n",
      "Efficiancy percentage for station 1 is \u001b[34m71.05%\u001b[39m and \u001b[34m97.86%\u001b[39m for station 2. Percentage of time spent empty for station 1 is \u001b[34m7.93%\u001b[39m and \u001b[34m2.15%\u001b[39m for station 2.\n",
      "Efficiancy percentage for station 1 is \u001b[34m64.42%\u001b[39m and \u001b[34m98.11%\u001b[39m for station 2. Percentage of time spent empty for station 1 is \u001b[34m11.75%\u001b[39m and \u001b[34m1.82%\u001b[39m for station 2.\n",
      "Efficiancy percentage for station 1 is \u001b[34m65.49%\u001b[39m and \u001b[34m98.65%\u001b[39m for station 2. Percentage of time spent empty for station 1 is \u001b[34m10.46%\u001b[39m and \u001b[34m1.48%\u001b[39m for station 2.\n",
      "Efficiancy percentage for station 1 is \u001b[34m62.59%\u001b[39m and \u001b[34m96.49%\u001b[39m for station 2. Percentage of time spent empty for station 1 is \u001b[34m11.6%\u001b[39m and \u001b[34m3.23%\u001b[39m for station 2.\n",
      "Efficiancy percentage for station 1 is \u001b[34m62.27%\u001b[39m and \u001b[34m97.99%\u001b[39m for station 2. Percentage of time spent empty for station 1 is \u001b[34m12.74%\u001b[39m and \u001b[34m2.13%\u001b[39m for station 2.\n",
      "Efficiancy percentage for station 1 is \u001b[34m64.23%\u001b[39m and \u001b[34m97.52%\u001b[39m for station 2. Percentage of time spent empty for station 1 is \u001b[34m11.8%\u001b[39m and \u001b[34m2.43%\u001b[39m for station 2.\n",
      "Efficiancy percentage for station 1 is \u001b[34m60.42%\u001b[39m and \u001b[34m96.51%\u001b[39m for station 2. Percentage of time spent empty for station 1 is \u001b[34m14.26%\u001b[39m and \u001b[34m3.36%\u001b[39m for station 2.\n",
      "Efficiancy percentage for station 1 is \u001b[34m63.95%\u001b[39m and \u001b[34m96.74%\u001b[39m for station 2. Percentage of time spent empty for station 1 is \u001b[34m12.45%\u001b[39m and \u001b[34m2.93%\u001b[39m for station 2.\n",
      "Efficiancy percentage for station 1 is \u001b[34m62.74%\u001b[39m and \u001b[34m98.32%\u001b[39m for station 2. Percentage of time spent empty for station 1 is \u001b[34m11.28%\u001b[39m and \u001b[34m1.73%\u001b[39m for station 2.\n"
     ]
    },
    {
     "data": {
      "text/plain": [
       "(Any[([17, 40], [4011, 129], [6651, 4536], [284.3377463739157, 64.720659800872], 33444), ([14, 40], [2574, 97], [6316, 4434], [190.34280216847674, 51.5203781336304], 30623), ([10, 40], [3826, 84], [6928, 4351], [282.06037173781897, 43.582080639092055], 33207), ([24, 40], [3453, 62], [6552, 4519], [250.95517050076614, 35.52067523746837], 32242), ([44, 39], [3905, 164], [6533, 4505], [278.3331666865647, 77.59169796882998], 32734), ([7, 40], [4342, 93], [7167, 4531], [305.8797081554353, 51.21399554907521], 34654), ([64, 32], [3940, 114], [7076, 4484], [283.2873825670649, 58.23295023169021], 34036), ([10, 40], [4670, 161], [7130, 4447], [342.1768443614924, 80.70327767892468], 35024), ([70, 40], [3925, 151], [6964, 4477], [298.8317744092242, 70.36699881793811], 34005), ([69, 40], [3835, 77], [6458, 4496], [270.6043765698528, 41.40075619151503], 32549)], Any[[0.6238041643218908, 0.9723472668810289], [0.7104611923509562, 0.9785919223129552], [0.6442254045006509, 0.9810597519729425], [0.654872563718141, 0.9864658371534599], [0.6258861850929297, 0.9648747055043907], [0.6227300373620644, 0.9798875432525952], [0.6423384168482208, 0.9752066115702479], [0.6042372881355932, 0.9650607638888888], [0.6395444944439342, 0.9673725151253241], [0.627416690955018, 0.9831620380494205]])"
      ]
     },
     "metadata": {},
     "output_type": "display_data"
    }
   ],
   "source": [
    "########### User manual ############\n",
    "##### Inputs: main(1,2,3,4)\n",
    "# 1: [initial cars at station 1, initial cars at station 2] (Int,Int)\n",
    "# 2: days to run each simulation (Int)\n",
    "# 3: Amount simulations to run (Int)\n",
    "# 4: ( [(Desired amount at station 1 for first reblance, station 2 at first rebalance), (station 1 at second, station 2 at second), ..., (station 1 at n rebalance, station 2 at n)], [time of first rebalance, ..., time at n event] ) (Tuple(Int,Int),Float)\n",
    "\n",
    "\n",
    "# rebal = Balance([(60,60),(60,60)],[0.0,12.0])\n",
    "# env = Environment()\n",
    "\n",
    "# sim(20,[60,60],rebal,env)\n",
    "\n",
    "\n",
    "# main([50,50],100,20,([(90,10),(60,40)],[6.5,13.5]))\n",
    "main([100,20],100,10,([(80,40)],[0.0]))\n",
    "\n",
    "# Der er for mange unfullfilled for station 1\n",
    "# Empty time for station 2 er for høj relativt til station 1\n",
    "\n"
   ]
  },
  {
   "cell_type": "code",
   "execution_count": null,
   "metadata": {},
   "outputs": [],
   "source": [
    "# Tjekker start distribution, virker som om den er stortset irrelevant\n",
    "\n",
    "effic_st1 = []\n",
    "effic_st2 = []\n",
    "position = []\n",
    "for n in 60:60\n",
    "    for i in 1:10:(n-1)\n",
    "        _, effic = main([i,n-i],100,n, ([(100,20),(40,80)],[7.0,13.0]) )\n",
    "        total_effic = [effic[1][1],effic[1][2]]\n",
    "        for j in 2:n\n",
    "            total_effic = [effic[j][1]+total_effic[1],effic[j][2]+total_effic[2]]\n",
    "        end\n",
    "        \n",
    "        push!(effic_st1,total_effic[1]/n)\n",
    "        push!(effic_st2,total_effic[2]/n)\n",
    "        push!(position,[i,n-i,n])\n",
    "\n",
    "    end\n",
    "end\n",
    "\n",
    "println(findmax(effic_st1),\" for station1\")\n",
    "println(findmax(effic_st2),\" for station2\")\n",
    "println(position[findmax(effic_st1)[2]],\" for station1\")\n",
    "println(position[findmax(effic_st2)[2]],\" for station2\")\n"
   ]
  },
  {
   "cell_type": "code",
   "execution_count": 71,
   "metadata": {},
   "outputs": [
    {
     "name": "stdout",
     "output_type": "stream",
     "text": [
      "Efficiancy:\n",
      "station1 0.7388815796603638\n",
      "station2: 0.932562613583956\n",
      "position: [121, 39]\n"
     ]
    }
   ],
   "source": [
    "# Only rebalance amount\n",
    "effic_st1 = []\n",
    "effic_st2 = []\n",
    "position = []\n",
    "n = 80\n",
    "\n",
    "\n",
    "for j in 1:15:n*2\n",
    "    _, effic = main([n,n],100,30, ([(j,n*2-j)],[0.0]) )\n",
    "    total_effic = [effic[1][1],effic[1][2]]\n",
    "    for p in 2:30-1\n",
    "        total_effic = [effic[p][1]+total_effic[1],effic[p][2]+total_effic[2]]\n",
    "    end\n",
    "    \n",
    "    push!(effic_st1,total_effic[1]/30)\n",
    "    push!(effic_st2,total_effic[2]/30)\n",
    "    push!(position,[j,n*2-j])\n",
    "end\n",
    "\n",
    "total_effic = effic_st1 .+ effic_st2\n",
    "a = findmax(total_effic)[2]\n",
    "\n",
    "# println(findmax(effic_st1),\" for station1\")\n",
    "# println(findmax(effic_st2),\" for station2\")\n",
    "# println(position[findmax(effic_st1)[2]],\" for station1\")\n",
    "# println(position[findmax(effic_st2)[2]],\" for station2\")\n",
    "\n",
    "println(\"Efficiancy:\\nstation1 \",effic_st1[a],\"\\nstation2: \",effic_st2[a],\"\\nposition: \",position[a])\n",
    "\n"
   ]
  },
  {
   "cell_type": "code",
   "execution_count": 83,
   "metadata": {},
   "outputs": [
    {
     "name": "stdout",
     "output_type": "stream",
     "text": [
      "Efficiancy:\n",
      "station1 0.9503369226403363\n",
      "station2: 0.9663418480228486\n",
      "position_reb1: [141, 19]\n",
      "position_reb2: [101, 59]\n"
     ]
    }
   ],
   "source": [
    "# Only rebalance amount\n",
    "effic_st1 = []\n",
    "effic_st2 = []\n",
    "position_reb1 = []\n",
    "position_reb2 = []\n",
    "n = 80\n",
    "\n",
    "for i in 1:20:n*2\n",
    "    for j in 1:20:n*2\n",
    "        _, effic = main([n,n],100,30, ([(j,n*2-j),(i,n*2-i)],[7.0,13.0]) )\n",
    "        total_effic = [effic[1][1],effic[1][2]]\n",
    "        for p in 2:30-1\n",
    "            total_effic = [effic[p][1]+total_effic[1],effic[p][2]+total_effic[2]]\n",
    "        end\n",
    "        \n",
    "        push!(effic_st1,total_effic[1]/30)\n",
    "        push!(effic_st2,total_effic[2]/30)\n",
    "        push!(position_reb1,[j,n*2-j])\n",
    "        push!(position_reb2,[i,n*2-i])\n",
    "    end\n",
    "end\n",
    "\n",
    "total_effic = effic_st1 .+ effic_st2\n",
    "a = findmax(total_effic)[2]\n",
    "\n",
    "# println(findmax(effic_st1),\" for station1\")\n",
    "# println(findmax(effic_st2),\" for station2\")\n",
    "# println(position[findmax(effic_st1)[2]],\" for station1\")\n",
    "# println(position[findmax(effic_st2)[2]],\" for station2\")\n",
    "\n",
    "println(\"Efficiancy:\\nstation1 \",effic_st1[a],\"\\nstation2: \",effic_st2[a],\"\\nposition_reb1: \",position_reb1[a],\"\\nposition_reb2: \",position_reb2[a])\n"
   ]
  },
  {
   "cell_type": "code",
   "execution_count": 82,
   "metadata": {},
   "outputs": [
    {
     "name": "stdout",
     "output_type": "stream",
     "text": [
      "Efficiancy:\n",
      "station1 0.9435566330994689\n",
      "station2: 0.9662759568378154\n",
      "time 1: [7]\n",
      "time 2: [13]\n"
     ]
    }
   ],
   "source": [
    "effic_st1 = []\n",
    "effic_st2 = []\n",
    "time_reb1 = []\n",
    "time_reb2 = []\n",
    "n = 80\n",
    "\n",
    "for i in 1:24\n",
    "    for j in 1:24\n",
    "        _, effic = main([n,n],50,30, ([(141,19),(61,99)],[float(i),float(j)]) )\n",
    "        total_effic = [effic[1][1],effic[1][2]]\n",
    "        for p in 2:30-1\n",
    "            total_effic = [effic[p][1]+total_effic[1],effic[p][2]+total_effic[2]]\n",
    "        end\n",
    "        \n",
    "        push!(effic_st1,total_effic[1]/30)\n",
    "        push!(effic_st2,total_effic[2]/30)\n",
    "        push!(time_reb1,[i])\n",
    "        push!(time_reb2,[j])\n",
    "    end\n",
    "end\n",
    "\n",
    "total_effic = effic_st1 .+ effic_st2\n",
    "a = findmax(total_effic)[2]\n",
    "\n",
    "# println(findmax(effic_st1),\" for station1\")\n",
    "# println(findmax(effic_st2),\" for station2\")\n",
    "# println(position[findmax(effic_st1)[2]],\" for station1\")\n",
    "# println(position[findmax(effic_st2)[2]],\" for station2\")\n",
    "\n",
    "println(\"Efficiancy:\\nstation1 \",effic_st1[a],\"\\nstation2: \",effic_st2[a],\"\\ntime 1: \",time_reb1[a],\"\\ntime 2: \",time_reb2[a])"
   ]
  },
  {
   "cell_type": "markdown",
   "metadata": {},
   "source": [
    "## Redundant\n"
   ]
  },
  {
   "cell_type": "code",
   "execution_count": 165,
   "metadata": {},
   "outputs": [
    {
     "data": {
      "text/plain": [
       "sim_uden_rebalance (generic function with 1 method)"
      ]
     },
     "metadata": {},
     "output_type": "display_data"
    }
   ],
   "source": [
    "function sim_uden_rebalance(days_to_run::Int64,initial_n_cars::Vector{Int64}, env::Environment)\n",
    "\n",
    "    ###########\n",
    "    # Initial Misc\n",
    "    stat = Stats([initial_n_cars[1],initial_n_cars[2]],[0,0],[0,0],[0,0],[false,false])\n",
    "    e = Array{Tuple{Float64,String},1}()\n",
    "    runs = 0\n",
    "    \n",
    "    ###########\n",
    "    # arrival and travel rates\n",
    "    insert_and_sort!(e,(0.0,\"time_change\")) # THIS NEEDS TO BE FIXED!!!!!!!!\n",
    "    global k = 1\n",
    "    global day = 0\n",
    "    \n",
    "    ###########\n",
    "    # Arrivals\n",
    "    insert_and_sort!(e,(rand(Exponential(env.lambda_dtu[k])),\"st1\"))\n",
    "    insert_and_sort!(e,(rand(Exponential(env.lambda_port[k])),\"st2\"))\n",
    "\n",
    "\n",
    "    while e[1][1] <= days_to_run*24.0 && runs <= 100000\n",
    "        load_type = e[1][2]\n",
    "        if load_type == \"st1\"\n",
    "            arrival_student(1,e,env,stat)\n",
    "        elseif load_type == \"st2\"\n",
    "            arrival_student(2,e,env,stat)\n",
    "        elseif load_type == \"que_st1\"\n",
    "            arrival_vehicle(1,e,env,stat)\n",
    "        elseif load_type == \"que_st2\"\n",
    "            arrival_vehicle(2,e,env,stat)\n",
    "        elseif load_type == \"time_change\"\n",
    "            time_change(e,day)\n",
    "        else\n",
    "            throw(ErrorException(\"Issue in the event type!\"))\n",
    "        end\n",
    "        runs += 1 # Checks the amount of events\n",
    "    end\n",
    "    \n",
    "    # Make sure the empty timer stops at the end of the run\n",
    "    if stat.currently_empty[1] == true\n",
    "        stat.empty_time[1] += e[1][1]\n",
    "    elseif stat.currently_empty[2] == true\n",
    "        stat.empty_time[2] += e[1][1]\n",
    "    end\n",
    "    \n",
    "    return stat.n_cars,stat.un_fullfilled,stat.fullfilled,stat.empty_time,runs\n",
    "end"
   ]
  },
  {
   "cell_type": "code",
   "execution_count": 188,
   "metadata": {},
   "outputs": [
    {
     "data": {
      "text/plain": [
       "([2, 56], [1600, 136], [833, 807], [127.3369999523511, 68.93927664246212], 5495)"
      ]
     },
     "metadata": {},
     "output_type": "display_data"
    }
   ],
   "source": [
    "sim_uden_rebalance(20,[30,30],Environment())"
   ]
  },
  {
   "cell_type": "code",
   "execution_count": null,
   "metadata": {},
   "outputs": [],
   "source": [
    "\n",
    "    if stat.n_cars[1] >= rebal.desired[rebalance_action][2]\n",
    "        for i in 1:rebal.desired[rebalance_action][1]\n",
    "            insert_and_sort!(e,(rand(Exponential(env.mu_rammer_dtu[k]))+e[1][1],\"que_st1\")) \n",
    "            stat.n_cars[2] -= 1\n",
    "        end\n",
    "        \n",
    "        # Start empty timer\n",
    "        if stat.n_cars[2] == 0\n",
    "            stat.empty_time[2] -= e[1][1]\n",
    "            stat.currently_empty[2] = true\n",
    "        end\n",
    "\n",
    "    else\n",
    "        for i in 1:stat.n_cars[2]\n",
    "            insert_and_sort!(e,(rand(Exponential(env.mu_rammer_dtu[k]))+e[1][1],\"que_st1\"))\n",
    "            stat.n_cars[2] -= 1\n",
    "        end\n",
    "        if stat.currently_empty[2] == false\n",
    "            stat.empty_time[2] -= e[1][1]\n",
    "            stat.currently_empty[2] = true\n",
    "        end\n",
    "    end\n",
    "\n",
    "    # For station 1\n",
    "    if stat.n_cars[1] >= rebal.desired[rebalance_action][2]\n",
    "        for i in 1:rebal.desired[rebalance_action][2]\n",
    "            insert_and_sort!(e,(rand(Exponential(env.mu_rammer_port[k]))+e[1][1],\"que_st2\"))\n",
    "            stat.n_cars[1] -= 1\n",
    "        end\n",
    "        \n",
    "        # Start empty timer\n",
    "        if stat.n_cars[1] == 0\n",
    "            stat.empty_time[1] -= e[1][1]\n",
    "            stat.currently_empty[1] = true\n",
    "        end\n",
    "    else\n",
    "        for i in 1:stat.n_cars[1]\n",
    "            insert_and_sort!(e,(rand(Exponential(env.mu_rammer_port[k]))+e[1][1],\"que_st2\"))\n",
    "            stat.n_cars[1] -= 1\n",
    "        end\n",
    "        if stat.currently_empty[1] == false\n",
    "            stat.empty_time[1] -= e[1][1]\n",
    "            stat.currently_empty[1] = true\n",
    "        end\n",
    "    end \n",
    "\n",
    "    insert_and_sort!(e,(24.0+popfirst!(e)[1],\"rebalance\"))\n",
    "\n",
    "    # Virkelig grim måde at gøre det på \n",
    "    if rebalance_action == length(rebal.desired)\n",
    "        rebalance_action = 1\n",
    "    else\n",
    "        rebalance_action += 1\n",
    "    end"
   ]
  }
 ],
 "metadata": {
  "kernelspec": {
   "display_name": "Julia 1.7.2",
   "language": "julia",
   "name": "julia-1.7"
  },
  "language_info": {
   "file_extension": ".jl",
   "mimetype": "application/julia",
   "name": "julia",
   "version": "1.7.2"
  },
  "orig_nbformat": 4
 },
 "nbformat": 4,
 "nbformat_minor": 2
}
