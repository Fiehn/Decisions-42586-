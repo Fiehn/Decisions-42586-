{
 "cells": [
  {
   "cell_type": "markdown",
   "metadata": {},
   "source": [
    "# Queing Theory"
   ]
  },
  {
   "cell_type": "markdown",
   "metadata": {},
   "source": [
    "## Littles laws"
   ]
  },
  {
   "cell_type": "markdown",
   "metadata": {},
   "source": [
    "* L = expected number of costumers in the system\n",
    "* L_q = expected queue length\n",
    "* W = waiting time in system\n",
    "* W_q = waiting time in queue\n",
    "* lambda = constant arrival rate with mean 1/lambda\n",
    "* mu = service rate with mean 1/mu"
   ]
  },
  {
   "cell_type": "markdown",
   "metadata": {},
   "source": [
    "* L = lambda * W \n",
    "* L_q = lambda W_q\n",
    "* W = W_q + 1/mu"
   ]
  },
  {
   "cell_type": "markdown",
   "metadata": {},
   "source": [
    "### Birth and Death process"
   ]
  },
  {
   "cell_type": "markdown",
   "metadata": {},
   "source": [
    "Assumptions\n",
    "* Given N(t) = n the probability distribution of the remaining time until the next arrival is exponential with paramater lambda_n\n",
    "* Given N(t) = n the probability distribution of the remaining time until the next service completion is exponential with paramater mu_n\n",
    "* The random variables for remaining time until these are mutually independent. The next transition is either a single arrival or a single service completion"
   ]
  },
  {
   "cell_type": "markdown",
   "metadata": {},
   "source": [
    "### Stationary Behaviour"
   ]
  },
  {
   "cell_type": "markdown",
   "metadata": {},
   "source": [
    "Rate in = Rate out"
   ]
  },
  {
   "cell_type": "code",
   "execution_count": null,
   "metadata": {},
   "outputs": [],
   "source": [
    "# # # System dependent\n",
    "# # Pn = (lambda_n1*lambda_n2*lambda_n0)/(mu_n1*mu_n2*mu_n0)*P0\n",
    "# # L = sum(n*Pn, n = 0:infinity)\n",
    "# # Lq = sum((n-s)*Pn, n = s:infinity)\n",
    "# # W = L/mean(lambda)\n",
    "# # Wq = Lq/mean(lambda)\n",
    "\n",
    "# # # For constant with a single server\n",
    "# # P0 = 1-lambda/mu\n",
    "# # Pn = (lambda/mu)^n*P0\n",
    "# # L = lambda/(mu-lambda)\n",
    "# # W = 1/(mu-lambda)\n",
    "# # Wq = 1/(mu*(mu-lambda))\n",
    "# # Lq = lambda^2/(mu*(mu-lambda))"
   ]
  },
  {
   "cell_type": "code",
   "execution_count": 98,
   "metadata": {},
   "outputs": [
    {
     "data": {
      "text/plain": [
       "(Any[0.5714285714285714, 0.2857142857142857, 0.14285714285714285], 1.5714285714285714, 0.5714285714285714, 1.5714285714285714, 0.5714285714285714)"
      ]
     },
     "metadata": {},
     "output_type": "display_data"
    }
   ],
   "source": [
    "# Not fully tested, use with caution\n",
    "function Que_dependent(lambda::Vector{Float64}, mu::Vector{Float64}, s::Int64)\n",
    "    # # # System dependent\n",
    "    Pn = []\n",
    "    Po = 0\n",
    "    L = 0\n",
    "    Lq = 0\n",
    "\n",
    "    # Finding P0\n",
    "    for n in 1:length(lambda)\n",
    "        Po += prod(lambda[1:n])/prod(mu[2:n])\n",
    "    end\n",
    "    Po = 1/Po\n",
    "\n",
    "    # Finding Pn\n",
    "    for n in 1:length(lambda)\n",
    "        push!(Pn,prod(lambda[1:n])/prod(mu[2:n])*Po)\n",
    "    end\n",
    "\n",
    "    # Finding L\n",
    "    for n in 1:length(Pn)\n",
    "        L += n*Pn[n]\n",
    "    end\n",
    "\n",
    "    # Finding Lq\n",
    "    for n in s:length(Pn)\n",
    "        Lq += (n-s)*Pn[n]\n",
    "    end\n",
    "    \n",
    "    # Finding W\n",
    "    W = L/mean(lambda)\n",
    "\n",
    "    # Finding Wq\n",
    "    Wq = Lq/mean(lambda)\n",
    "\n",
    "    return Pn, L, Lq, W, Wq\n",
    "end\n",
    "Que_dependent(float([1,1,1]),float([0,2,2]),1)\n"
   ]
  },
  {
   "cell_type": "code",
   "execution_count": 114,
   "metadata": {},
   "outputs": [
    {
     "data": {
      "text/plain": [
       "(0.33333333333333337, 0.22222222222222224, 2.0, 0.2, 0.013333333333333334, 1.3333333333333333)"
      ]
     },
     "metadata": {},
     "output_type": "display_data"
    }
   ],
   "source": [
    "\n",
    "function Que_stationary(lambda, mu, n = 1)\n",
    "    P0 = 1-lambda/mu\n",
    "    Pn = (lambda/mu)^n*P0\n",
    "    L = lambda/(mu-lambda)\n",
    "    W = 1/(mu-lambda)\n",
    "    Wq = 1/(mu*(mu-lambda))\n",
    "    Lq = lambda^2/(mu*(mu-lambda))\n",
    "    return P0,Pn,L,W,Wq,Lq\n",
    "end\n",
    "\n",
    "Que_stationary(10,15,1)"
   ]
  },
  {
   "cell_type": "markdown",
   "metadata": {},
   "source": [
    "## M/M/s"
   ]
  },
  {
   "cell_type": "markdown",
   "metadata": {},
   "source": [
    "### Functions"
   ]
  },
  {
   "cell_type": "code",
   "execution_count": 17,
   "metadata": {},
   "outputs": [
    {
     "data": {
      "text/plain": [
       "(1.2367569924347888, 0.08092365910145545, 0.0891677716247144, 0.005834438291381071)"
      ]
     },
     "metadata": {},
     "output_type": "display_data"
    }
   ],
   "source": [
    "\n",
    "function P0(lambda,mu,s)\n",
    "    a = 0\n",
    "    for n in 0:s-1 \n",
    "        a += (((lambda/mu)^n)/factorial(n))\n",
    "    end\n",
    "    a += ((lambda/mu)^s)/factorial(s)*1/(1-lambda/(s*mu))\n",
    "    a = 1/a\n",
    "    return a\n",
    "end\n",
    "\n",
    "# Stationary probabilities\n",
    "function Que_stationary_MMs(lambda, mu, s)\n",
    "    rho = lambda/(s*mu) # er det rigtigt ? \n",
    "    Lq = P0(lambda,mu,s)*(lambda/mu)^s*rho/(factorial(s)*(1-rho)^2)\n",
    "    Wq = Lq/lambda\n",
    "    W = Wq+1/mu\n",
    "    # Stationary probabilities L for a M/M/s queue system by littles law\n",
    "    L = lambda*(W)\n",
    "    L = Lq+lambda/mu\n",
    "    return L,Lq,W,Wq\n",
    "end\n",
    "\n",
    "Que_stationary_MMs(13.87,1/(5/60),3)\n",
    "\n"
   ]
  },
  {
   "cell_type": "code",
   "execution_count": 16,
   "metadata": {},
   "outputs": [
    {
     "data": {
      "text/plain": [
       "(0.013546035536748737, 0.5121951219512195)"
      ]
     },
     "metadata": {},
     "output_type": "display_data"
    }
   ],
   "source": [
    "function Cn(n,lambda,mu,s)\n",
    "    if n <= s\n",
    "        Cn = ((lambda/mu)^n)/factorial(n)\n",
    "    else\n",
    "        Cn = ((lambda/mu)^n)/(s!*s^(n-s))\n",
    "    end\n",
    "end\n",
    "\n",
    "function P0(lambda,mu,s)\n",
    "    a = 0\n",
    "    for n in 0:s-1 \n",
    "        a += (((lambda/mu)^n)/factorial(n))\n",
    "    end\n",
    "    a += ((lambda/mu)^s)/factorial(s)*1/(1-lambda/(s*mu))\n",
    "    a = 1/a\n",
    "    return a\n",
    "end\n",
    "\n",
    "function Pn(n,lambda,mu,s)\n",
    "    if lambda <= s*mu\n",
    "        po = P0(lambda,mu,s)\n",
    "    end\n",
    "\n",
    "    if n <= s\n",
    "        pn = (lambda/mu)^n/factorial(n)*po\n",
    "    else\n",
    "        pn = (lambda/mu)^n/(factorial(s)*s^(n-s))\n",
    "    end\n",
    "    return pn\n",
    "end\n",
    "\n",
    "function MMs(n,lambda,mu,s)\n",
    "    pn = 0\n",
    "    cn = 0\n",
    "    p0 = 0\n",
    "    if lambda < s*mu\n",
    "        p0 = P0(lambda,mu,s)\n",
    "        pn = Pn(n,lambda,mu,s)\n",
    "    else\n",
    "        println(\"Might be wrong. Lambda is smaller than s*mu\")\n",
    "    end\n",
    "    return pn,p0\n",
    "end\n",
    "\n",
    "# Ignore the first output value\n",
    "# The second is Pn and the third is P0\n",
    "MMs(3.86,4,6,3)\n"
   ]
  },
  {
   "cell_type": "markdown",
   "metadata": {},
   "source": [
    "## Terms"
   ]
  },
  {
   "cell_type": "markdown",
   "metadata": {},
   "source": [
    "### Queu"
   ]
  },
  {
   "cell_type": "markdown",
   "metadata": {},
   "source": [
    "THere is an arrival process and a service process"
   ]
  },
  {
   "cell_type": "markdown",
   "metadata": {},
   "source": [
    "### Balking"
   ]
  },
  {
   "cell_type": "markdown",
   "metadata": {},
   "source": [
    "lambda_n: customer refusing to enter the system"
   ]
  },
  {
   "cell_type": "markdown",
   "metadata": {},
   "source": [
    "### Renege"
   ]
  },
  {
   "cell_type": "markdown",
   "metadata": {},
   "source": [
    "mu_n: customer enters the system, but leaves without being served"
   ]
  },
  {
   "cell_type": "markdown",
   "metadata": {},
   "source": [
    "## Distributions"
   ]
  },
  {
   "cell_type": "markdown",
   "metadata": {},
   "source": [
    "Poisson: lambda^k*exp(-lambda)/k!"
   ]
  },
  {
   "cell_type": "markdown",
   "metadata": {},
   "source": [
    "## Exercizes"
   ]
  },
  {
   "cell_type": "code",
   "execution_count": null,
   "metadata": {},
   "outputs": [],
   "source": [
    "# 17.4.1\n",
    "using Distributions\n",
    "using Statistics\n",
    "\n",
    "lambda = 2  # husk hvad den tager imod i julia\n",
    "mu = 2\n",
    "\n",
    "# a\n",
    "cdf(Exponential(lambda), 1) # (i)\n",
    "cdf(Exponential(lambda), 2)-cdf(Exponential(lambda), 1) # (ii)\n",
    "1-cdf(Exponential(lambda), 2) # (iii)\n",
    "\n",
    "# b\n",
    "cdf(Exponential(mu), 1)\n",
    "\n",
    "# c\n",
    "# Poisson uses 1/lambda as the parameter where exponential uses lambda\n",
    "pdf(Poisson(1/lambda), 0) # (i)\n",
    "pdf(Poisson(1/lambda), 1) # (ii)\n",
    "1-cdf(Poisson(1/lambda), 1) # (iii)\n",
    "\n",
    "# d\n",
    "\n",
    "# 17.4.7\n",
    "# For exponential distribution mean and std are the same\n",
    "# two exponential distributions summed up gives an exponential distribution\n",
    "# therefor since we have service time and two of them we can half the expected waiting time\n",
    "# 5 minuttes\n",
    "\n",
    "#17.5.2\n"
   ]
  }
 ],
 "metadata": {
  "kernelspec": {
   "display_name": "Julia 1.7.2",
   "language": "julia",
   "name": "julia-1.7"
  },
  "language_info": {
   "file_extension": ".jl",
   "mimetype": "application/julia",
   "name": "julia",
   "version": "1.7.2"
  },
  "orig_nbformat": 4
 },
 "nbformat": 4,
 "nbformat_minor": 2
}
