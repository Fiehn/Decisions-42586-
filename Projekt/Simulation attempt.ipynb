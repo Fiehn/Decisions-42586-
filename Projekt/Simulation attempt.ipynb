{
 "cells": [
  {
   "cell_type": "markdown",
   "metadata": {},
   "source": [
    "# The Real code"
   ]
  },
  {
   "cell_type": "code",
   "execution_count": 2,
   "metadata": {},
   "outputs": [],
   "source": [
    "using Random, Distributions, Plots"
   ]
  },
  {
   "cell_type": "markdown",
   "metadata": {},
   "source": [
    "What needs to be done:\n",
    ". Statistics along the way\n",
    ". Rebalancing ?\n",
    ". ArrivalProfiles\n",
    ". Last simulation\n",
    "... Plots\n",
    "... Time to run consecutively (does that have something to do with rebalancing?)\n",
    "... "
   ]
  },
  {
   "cell_type": "markdown",
   "metadata": {},
   "source": [
    "Questions for later:\n",
    ". a total number of runs (a single run has the length of the number of days per run) ??\n",
    ". Struct for e?\n",
    ". The runtime, and rebalancing time\n",
    "... Travel time, mister vi ikke biler?? Hvordan skal man gøre det\n",
    "... Pretty much just rebalancing!\n",
    ". what to do when travel time passes total time?"
   ]
  },
  {
   "cell_type": "code",
   "execution_count": 3,
   "metadata": {},
   "outputs": [
    {
     "data": {
      "text/plain": [
       "insert_and_sort! (generic function with 1 method)"
      ]
     },
     "metadata": {},
     "output_type": "display_data"
    }
   ],
   "source": [
    "# Using tuples instead of PriorityQueue, because they can have multiple identical keys and the queue cannot.\n",
    "# This is slightly slower but not by that much, not really a noticable difference in this case. \n",
    "# You have to get real up there in iterations before it really chugs behind.\n",
    "\n",
    "# mutable struct Events\n",
    "#     e::Array{Tuple{Float64,SubString},1}\n",
    "# end\n",
    "# Figure out if this can be a struct !!!\n",
    "\n",
    "struct Environment\n",
    "    hours::Float64\n",
    "    lambda::Float64  #arrival rate\n",
    "    mu::Float64 #service rate\n",
    "   \n",
    "   #Add arrival rate per hour for both stations. Add travel-time rate for both stations.\n",
    "    Environment() = new(\n",
    "    2, \n",
    "    (1/6), \n",
    "    (1/12)\n",
    "    )\n",
    "end\n",
    "\n",
    "mutable struct Stats\n",
    "    n_cars_st1::Int64\n",
    "    n_cars_st2::Int64\n",
    "    unfilled_st1::Int64\n",
    "    unfilled_st2::Int64\n",
    "    filled_st1::Int64\n",
    "    filled_st2::Int64\n",
    "    empty_st1::Float64\n",
    "    empty_st2::Float64\n",
    "end\n",
    "\n",
    "# Might not be just as fast as PriorityQueue but it is not that much behind\n",
    "function insert_and_sort!(vect::Vector, x)\n",
    "    (splice!(vect, searchsorted(vect,x), [x]); vect) \n",
    "end"
   ]
  },
  {
   "cell_type": "code",
   "execution_count": 19,
   "metadata": {},
   "outputs": [
    {
     "data": {
      "text/plain": [
       "arrivals_generator (generic function with 1 method)"
      ]
     },
     "metadata": {},
     "output_type": "display_data"
    }
   ],
   "source": [
    "function arrivals_generator(env::Environment)\n",
    "    e = Array{Tuple{Float64,String},1}()\n",
    "    # Arrivals at station 1\n",
    "    push!(e,(rand(Exponential(env.lambda)),\"st1\")) # First arrival\n",
    "    while last(e)[1] < env.hours\n",
    "       push!(e,(rand(Exponential(env.lambda))+last(e)[1],\"st1\"))\n",
    "    end\n",
    "    # Fix den sidste den er over 2\n",
    "\n",
    "    pop!(e)\n",
    "    last_st1 = last(e)[1] # Storing last time (for later use to time being empty)\n",
    "\n",
    "    # Arrivals at station 2 (repeat of station 1)\n",
    "    push!(e,(rand(Exponential(env.lambda)),\"st2\"))\n",
    "    while last(e)[1] < env.hours\n",
    "        push!(e,(rand(Exponential(env.lambda))+last(e)[1],\"st2\"))\n",
    "    end\n",
    "\n",
    "    pop!(e)\n",
    "    last_st2 = last(e)[1]\n",
    "\n",
    "    # Sorting the arrivals so first time is 1 and so on\n",
    "    sort!(e)\n",
    "\n",
    "    return e, last_st1, last_st2\n",
    "end"
   ]
  },
  {
   "cell_type": "code",
   "execution_count": 10,
   "metadata": {},
   "outputs": [
    {
     "data": {
      "text/plain": [
       "travel (generic function with 1 method)"
      ]
     },
     "metadata": {},
     "output_type": "display_data"
    }
   ],
   "source": [
    "# Do this:\n",
    "# stats.overview_usage = [stats.overview_usage; t state.queue_length state.server_busy]\n",
    "# Real nice, steal that shit!\n",
    "\n",
    "function arrival(station::String,e::Array{Tuple{Float64,String},1},env::Environment,stat::Stats)\n",
    "    # WHAT to do when travel time passes total time?? makes sense? ask teacher\n",
    "    if station == \"st1\"\n",
    "        # Student arrives at empty station. That is one unsatisfied costumer :(\n",
    "        if stat.n_cars_st1 == 0\n",
    "            stat.unfilled_st1 += 1\n",
    "            popfirst!(e)\n",
    "        else\n",
    "            stat.n_cars_st1 -= 1\n",
    "            stat.filled_st1 += 1\n",
    "            \n",
    "            insert_and_sort!(e,(rand(Exponential(env.mu))+e[1][1],\"que_st2\")) \n",
    "\n",
    "            if stat.n_cars_st1 == 0 # station becomes empty\n",
    "                stat.empty_st1 -= popfirst!(e)[1] # Empty station timer starts \n",
    "            else\n",
    "                popfirst!(e)\n",
    "            end\n",
    "        end\n",
    "        \n",
    "    elseif station == \"st2\"\n",
    "        if stat.n_cars_st2 == 0\n",
    "            stat.unfilled_st2 += 1\n",
    "            popfirst!(e)\n",
    "        else\n",
    "            stat.n_cars_st2 -= 1\n",
    "            stat.filled_st2 += 1\n",
    "            \n",
    "            insert_and_sort!(e,(rand(Exponential(env.mu))+e[1][1],\"que_st1\") )\n",
    "\n",
    "            if stat.n_cars_st2 == 0 # station becomes empty\n",
    "                stat.empty_st2 -= popfirst!(e)[1] # Empty station timer starts \n",
    "            else\n",
    "                popfirst!(e)\n",
    "            end\n",
    "\n",
    "        end\n",
    "\n",
    "    else\n",
    "        throw(ErrorException(\"Something went wrong in sim().\"))\n",
    "    end\n",
    "\n",
    "end \n",
    "\n",
    "function travel(station::String,e::Array{Tuple{Float64,String},1},env::Environment,stat::Stats)\n",
    "\n",
    "    if station == \"que_st1\" # If car arrives at st2\n",
    "        if stat.n_cars_st1 == 0 # Arriving to an empty station\n",
    "            stat.n_cars_st1 += 1\n",
    "            stat.empty_st1 += popfirst!(e)[1] # End empty timer\n",
    "        else\n",
    "            stat.n_cars_st1 += 1\n",
    "            popfirst!(e)    \n",
    "        end\n",
    "    elseif station == \"que_st2\" # If car arrives at st2\n",
    "        if stat.n_cars_st2 == 0 # Arriving to an empty station\n",
    "            stat.n_cars_st2 += 1 \n",
    "            stat.empty_st2 += popfirst!(e)[1] # End empty timer\n",
    "        else\n",
    "            stat.n_cars_st2 += 1\n",
    "            popfirst!(e)    \n",
    "        end\n",
    "    else \n",
    "        throw(ErrorException(\"Something went wrong in sim().\"))\n",
    "    end\n",
    "\n",
    "end\n"
   ]
  },
  {
   "cell_type": "code",
   "execution_count": 11,
   "metadata": {},
   "outputs": [
    {
     "data": {
      "text/plain": [
       "sim (generic function with 1 method)"
      ]
     },
     "metadata": {},
     "output_type": "display_data"
    }
   ],
   "source": [
    "function sim(env::Environment,stat::Stats)\n",
    "    e, last_st1, last_st2 = arrivals_generator(env)\n",
    "\n",
    "    # Missing statistics all the way through\n",
    "    while !isempty(e)\n",
    "        load_type = e[1][2]\n",
    "\n",
    "        if load_type == \"st1\" || load_type == \"st2\"\n",
    "            arrival(load_type,e,env,stat)\n",
    "        elseif load_type == \"que_st1\" || load_type == \"que_st2\"\n",
    "            travel(load_type,e,env,stat)\n",
    "        else\n",
    "            throw(ErrorException(\"Issue in the event type!\"))\n",
    "        end\n",
    "    end\n",
    "    \n",
    "    # Adding closing time if the station is still empty\n",
    "    if stat.n_cars_st1 == 0\n",
    "        stat.empty_st1 += last_st1\n",
    "    elseif stat.n_cars_st2 == 0\n",
    "        stat.empty_st2 += last_st2\n",
    "    end\n",
    "\n",
    "    return stat.n_cars_st1,stat.n_cars_st2,stat.unfilled_st1,stat.unfilled_st2,stat.filled_st1,stat.filled_st2,stat.empty_st1,stat.empty_st2\n",
    "end"
   ]
  },
  {
   "cell_type": "markdown",
   "metadata": {},
   "source": [
    "### Testing"
   ]
  },
  {
   "cell_type": "code",
   "execution_count": 16,
   "metadata": {},
   "outputs": [
    {
     "data": {
      "text/plain": [
       "(9, 1, 0, 1, 8, 12, 0.0, 0.5633268233408981)"
      ]
     },
     "metadata": {},
     "output_type": "display_data"
    }
   ],
   "source": [
    "env = Environment()\n",
    "stat = Stats(5,5,0,0,0,0,0,0)\n",
    "sim(env,stat)"
   ]
  },
  {
   "cell_type": "code",
   "execution_count": 47,
   "metadata": {},
   "outputs": [
    {
     "data": {
      "text/plain": [
       "\"st1\""
      ]
     },
     "metadata": {},
     "output_type": "display_data"
    }
   ],
   "source": [
    "env = Environment()\n",
    "e = Array{Tuple{Float64,String},1}()\n",
    "arrivals_generator(e,env)\n",
    "e[1][2]"
   ]
  },
  {
   "cell_type": "code",
   "execution_count": 6,
   "metadata": {},
   "outputs": [
    {
     "data": {
      "text/plain": [
       "4-element Vector{Tuple{Float64, String}}:\n",
       " (1.0, \"1\")\n",
       " (2.0, \"4\")\n",
       " (4.0, \"2\")\n",
       " (223.0, \"3\")"
      ]
     },
     "metadata": {},
     "output_type": "display_data"
    }
   ],
   "source": [
    "v = Array{Tuple{Float64,String},1}([(1,\"1\"),(4,\"2\"),(223,\"3\")])\n",
    "sort!(v)\n",
    "insert_and_sort!(v, (2,\"4\"))\n"
   ]
  },
  {
   "cell_type": "code",
   "execution_count": 24,
   "metadata": {},
   "outputs": [
    {
     "data": {
      "text/plain": [
       "([(0.050215679619025025, \"st1\"), (0.11753000795924158, \"st1\"), (0.12099254259190709, \"st2\"), (0.1238659694301058, \"st2\"), (0.31774564922106496, \"st2\"), (0.4551077722700152, \"st2\"), (0.5399029527630247, \"st2\"), (0.6441339101761747, \"st1\"), (0.6808171007791013, \"st1\"), (0.7350848205986377, \"st2\")  …  (0.9405867328751559, \"st1\"), (1.2570578495574223, \"st2\"), (1.2993468276099027, \"st1\"), (1.450768400523547, \"st2\"), (1.5511538832014327, \"st1\"), (1.6302673831512882, \"st1\"), (1.688188517923613, \"st2\"), (1.725905532273659, \"st1\"), (1.9349099694450653, \"st2\"), (1.9832097148576344, \"st2\")], 1.725905532273659, 1.9832097148576344)"
      ]
     },
     "metadata": {},
     "output_type": "display_data"
    }
   ],
   "source": [
    "env = Environment()\n",
    "arrivals_generator(env)"
   ]
  },
  {
   "cell_type": "code",
   "execution_count": null,
   "metadata": {},
   "outputs": [],
   "source": []
  }
 ],
 "metadata": {
  "kernelspec": {
   "display_name": "Julia 1.7.2",
   "language": "julia",
   "name": "julia-1.7"
  },
  "language_info": {
   "file_extension": ".jl",
   "mimetype": "application/julia",
   "name": "julia",
   "version": "1.7.2"
  },
  "orig_nbformat": 4
 },
 "nbformat": 4,
 "nbformat_minor": 2
}
