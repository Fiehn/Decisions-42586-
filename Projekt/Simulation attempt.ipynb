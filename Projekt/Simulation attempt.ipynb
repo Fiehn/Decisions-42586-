{
 "cells": [
  {
   "cell_type": "markdown",
   "metadata": {},
   "source": [
    "# The Real code"
   ]
  },
  {
   "cell_type": "code",
   "execution_count": 1,
   "metadata": {},
   "outputs": [],
   "source": [
    "using Random, Distributions, Plots, XLSX"
   ]
  },
  {
   "cell_type": "markdown",
   "metadata": {},
   "source": [
    "What needs to be done:\n",
    ". Statistics along the way\n",
    ". Rebalancing\n",
    "... There is a problem with the down time, and the simulation gives a shit ton of unfullfilled values, seems fucked!\n",
    ". Last simulation\n",
    "... Plots\n",
    "... Time to run consecutively (does that have something to do with rebalancing?)\n",
    "... "
   ]
  },
  {
   "cell_type": "markdown",
   "metadata": {},
   "source": [
    "Questions\n",
    ". Weird arrival at midnight\n",
    ". Can rebalance time be float?\n"
   ]
  },
  {
   "cell_type": "code",
   "execution_count": 146,
   "metadata": {},
   "outputs": [
    {
     "data": {
      "text/plain": [
       "insert_and_sort! (generic function with 1 method)"
      ]
     },
     "metadata": {},
     "output_type": "display_data"
    }
   ],
   "source": [
    "### Initial functions to load lambda and mu from the ArrivalProfiles.xlsx\n",
    "\n",
    "# Change the type to Float64 from Int and String for the loaded vectors\n",
    "function type_change(v)\n",
    "    v_ny = Vector{Float64}()\n",
    "    for i in 1:length(v)\n",
    "        if typeof(v[i]) == String\n",
    "            push!(v_ny,parse(Float64,v[i]))\n",
    "        elseif typeof(v[i]) == Int64\n",
    "            push!(v_ny,float(v[i]))\n",
    "        else\n",
    "            push!(v_ny,v[i])\n",
    "        end\n",
    "    end\n",
    "    return v_ny\n",
    "end\n",
    "\n",
    "\n",
    "function load_arri(path=\"C:/Users/rasmu/Desktop/OneDrive/OneDrive - Danmarks Tekniske Universitet/Decisions under uncertainty/Projekt/ArrivalProfiles.xlsx\")\n",
    "    xf = XLSX.readxlsx(path) # Loading\n",
    "\n",
    "    # Lambda is given as expected arrivals therefore inverse\n",
    "    lambda_port = 1 ./ type_change(xf[1][\"C2:AA2\"])\n",
    "    lambda_dtu = 1 ./ type_change(xf[1][\"C3:AA3\"])\n",
    "\n",
    "    # Travel time\n",
    "    mu_rammer_dtu = type_change(xf[1][\"C7:AA7\"])\n",
    "    mu_rammer_port = type_change(xf[1][\"C8:AA8\"])\n",
    "\n",
    "    return lambda_port, lambda_dtu, mu_rammer_dtu, mu_rammer_port\n",
    "end\n",
    "\n",
    "\n",
    "# Might not be just as fast as PriorityQueue but it is not that much behind\n",
    "# Inserts a value at the spot it fits\n",
    "function insert_and_sort!(vect::Vector, x)\n",
    "    (splice!(vect, searchsorted(vect,x), [x]); vect) \n",
    "end\n"
   ]
  },
  {
   "cell_type": "code",
   "execution_count": 153,
   "metadata": {},
   "outputs": [],
   "source": [
    "struct Environment # The environment including arrival rates and travel rates\n",
    "    lambda_dtu::Vector{Float64}  #arrival rate 1\n",
    "    mu_rammer_dtu::Vector{Float64} #service rate 1\n",
    "    lambda_port::Vector{Float64} # arrival rate 2\n",
    "    mu_rammer_port::Vector{Float64} #service rate 2\n",
    "    \n",
    "    # loading the vectors from excel\n",
    "    lambda_port, lambda_dtu, mu_rammer_dtu, mu_rammer_port = load_arri() # NEEDS the path to load the document from!\n",
    "    Environment() = new(lambda_port, lambda_dtu, mu_rammer_dtu, mu_rammer_port)\n",
    "end\n",
    "\n",
    "mutable struct Stats # Vector including [Station 1, Station 2]\n",
    "    n_cars::Vector{Int64} # Number of cars at the stations at any given time\n",
    "    un_fullfilled::Vector{Int64} # Amount of times a customer arrives to an empty station\n",
    "    fullfilled::Vector{Int64} # Amount of times a costumer arrives and gets a car\n",
    "    empty_time::Vector{Float64} # The time any given station has 0 cars\n",
    "end\n",
    "\n",
    "struct Balance\n",
    "    desired_n_st1::Int64\n",
    "    desired_n_st2::Int64\n",
    "    time_1::Float64\n",
    "    time_2::Float64\n",
    "end\n"
   ]
  },
  {
   "cell_type": "code",
   "execution_count": 154,
   "metadata": {},
   "outputs": [
    {
     "data": {
      "text/plain": [
       "rebalancing (generic function with 2 methods)"
      ]
     },
     "metadata": {},
     "output_type": "display_data"
    }
   ],
   "source": [
    "# Do this:\n",
    "# stats.overview_usage = [stats.overview_usage; t state.queue_length state.server_busy]\n",
    "# Real nice, steal that shit!\n",
    "\n",
    "function time_change(e::Array{Tuple{Float64,String},1},k::Int64,day::Int64) # problems\n",
    "    # Switch day and reset index\n",
    "    if k == 25\n",
    "        k = 0\n",
    "        day += 25\n",
    "    end\n",
    "    # Insert the next time change\n",
    "    popfirst!(e)[1]\n",
    "    insert_and_sort!(e,(k+day,\"time_change\"))\n",
    "\n",
    "    # Change index for time\n",
    "    k += 1\n",
    "    return k,day\n",
    "end\n",
    "\n",
    "function arrival(station::Int64,e::Array{Tuple{Float64,String},1},env::Environment,stat::Stats,k::Int64)\n",
    "    \n",
    "    # Insert next arrival based on previous arrival\n",
    "    if station == 1\n",
    "        insert_and_sort!(e,(rand(Exponential(env.lambda_dtu[k]))+e[1][1],\"st1\"))\n",
    "    elseif station == 2\n",
    "        insert_and_sort!(e,(rand(Exponential(env.lambda_dtu[k]))+e[1][1],\"st2\"))\n",
    "    end\n",
    "\n",
    "    if stat.n_cars[station] == 0 # Student arrives at empty station. That is one unsatisfied costumer :(\n",
    "        stat.un_fullfilled[station] += 1 ################################################################################################## THe problem is the timer!!! It will take minus every time but only plus once§!!!!!!!!!!!!!\n",
    "        popfirst!(e)\n",
    "    else # Costumer leaves station\n",
    "        stat.n_cars[station] -= 1 # removing car from station\n",
    "        stat.fullfilled[station] += 1 # one fullfilled request\n",
    "        \n",
    "        # Insert travel time based on arrival station\n",
    "        if station == 1\n",
    "            insert_and_sort!(e,(rand(Exponential(env.mu_rammer_port[k]))+e[1][1],\"que_st2\")) \n",
    "        elseif station == 2\n",
    "            insert_and_sort!(e,(rand(Exponential(env.mu_rammer_port[k]))+e[1][1],\"que_st1\")) \n",
    "        end\n",
    "\n",
    "        # Removing the occured event\n",
    "        if stat.n_cars[station] == 0 # station becomes empty\n",
    "            stat.empty_time[station] -= popfirst!(e)[1] # Empty station timer starts \n",
    "        else\n",
    "            popfirst!(e)\n",
    "        end\n",
    "    end \n",
    "\n",
    "end \n",
    "\n",
    "function travel(station::Int64,e::Array{Tuple{Float64,String},1},env::Environment,stat::Stats)\n",
    "\n",
    "    if stat.n_cars[station] == 0 # Arriving at an empty station\n",
    "        stat.n_cars[station] += 1 # arrive\n",
    "        stat.empty_time[station] += popfirst!(e)[1] # End empty timer\n",
    "    else\n",
    "        stat.n_cars[station] += 1 # arrive\n",
    "        popfirst!(e)\n",
    "    end\n",
    "\n",
    "end\n",
    "\n",
    "\n",
    "function rebalancing(rebal::Balance,stat::Stats,env::Environment,e::Array{Tuple{Float64,String},1},k::Int64)\n",
    "    # NEEDS Documentation and a serious debugging\n",
    "    if stat.n_cars[2] >= rebal.desired_n_st1\n",
    "        for i in 1:rebal.desired_n_st1\n",
    "            insert_and_sort!(e,(rand(Exponential(env.mu_rammer_dtu[k]))+e[1][1],\"que_st1\") ) \n",
    "            stat.n_cars[2] -= 1\n",
    "        end\n",
    "        \n",
    "        # Start empty timer\n",
    "        if stat.n_cars[2] == 0 \n",
    "            stat.empty_time[2] -= e[1][1]\n",
    "        end\n",
    "\n",
    "    else\n",
    "        for i in 1:stat.n_cars[2]\n",
    "            insert_and_sort!(e,(rand(Exponential(env.mu_rammer_dtu[k]))+e[1][1],\"que_st1\") )\n",
    "            stat.n_cars[2] -= 1\n",
    "        end\n",
    "        stat.empty_time[2] -= e[1][1]\n",
    "\n",
    "    end\n",
    "\n",
    "    # For station 1\n",
    "    if stat.n_cars[1] >= rebal.desired_n_st2\n",
    "        for i in 1:rebal.desired_n_st2\n",
    "            insert_and_sort!(e,(rand(Exponential(env.mu_rammer_port[k]))+e[1][1],\"que_st2\") )\n",
    "            stat.n_cars[1] -= 1\n",
    "        end\n",
    "        \n",
    "        # Start empty timer\n",
    "        if stat.n_cars[1] == 0 \n",
    "            stat.empty_time[1] -= e[1][1]\n",
    "        end\n",
    "    else\n",
    "        for i in 1:stat.n_cars[1]\n",
    "            insert_and_sort!(e,(rand(Exponential(env.mu_rammer_port[k]))+e[1][1],\"que_st2\") )\n",
    "            stat.n_cars[1] -= 1\n",
    "        end\n",
    "        stat.empty_time[1] -= e[1][1]\n",
    "    end \n",
    "\n",
    "    insert_and_sort!(e,(24.0+popfirst!(e)[1],\"rebalance\") )\n",
    "    \n",
    "end\n"
   ]
  },
  {
   "cell_type": "code",
   "execution_count": 155,
   "metadata": {},
   "outputs": [
    {
     "data": {
      "text/plain": [
       "sim (generic function with 4 methods)"
      ]
     },
     "metadata": {},
     "output_type": "display_data"
    }
   ],
   "source": [
    "function sim(days_to_run::Int64, rebal::Balance, env::Environment,stat::Stats)\n",
    "    # Remember to do something with rebalance!!!!!!!!!!!!\n",
    "    e = Array{Tuple{Float64,String},1}()\n",
    "    \n",
    "    runs = 0\n",
    "    k = 1\n",
    "    day = 0\n",
    "    insert_and_sort!(e,(rand(Exponential(env.lambda_dtu[k])),\"st1\")) # Insert first arrival\n",
    "    insert_and_sort!(e,(rand(Exponential(env.lambda_port[k])),\"st2\")) # Insert frist arrival\n",
    "    insert_and_sort!(e,(0.0,\"time_change\")) # THIS NEEDS TO BE FIXED!!!!!!!!\n",
    "\n",
    "    insert_and_sort!(e,(rebal.time_1,\"rebalance\"))\n",
    "    insert_and_sort!(e,(rebal.time_2,\"rebalance\"))\n",
    "\n",
    "    while e[1][1] <= days_to_run*24.0 && runs <= 10000\n",
    "        load_type = e[1][2]\n",
    "        if load_type == \"st1\"\n",
    "            arrival(1,e,env,stat,k)\n",
    "        elseif load_type == \"st2\"\n",
    "            arrival(2,e,env,stat,k)\n",
    "        elseif load_type == \"que_st1\"\n",
    "            travel(1,e,env,stat)\n",
    "        elseif load_type == \"que_st2\"\n",
    "            travel(2,e,env,stat)\n",
    "        elseif load_type == \"time_change\"\n",
    "            k,day = time_change(e,k,day)\n",
    "        elseif load_type == \"rebalance\"\n",
    "            rebalancing(rebal,stat,env,e,k)\n",
    "        else\n",
    "            throw(ErrorException(\"Issue in the event type!\"))\n",
    "        end\n",
    "        runs += 1 # Checks the amount of events\n",
    "    end\n",
    "    \n",
    "    # Make sure the empty timer stops at the end of the run\n",
    "    if stat.n_cars[1] == 0\n",
    "        stat.empty_time[1] += days_to_run*24.0\n",
    "    elseif stat.n_cars[2] == 0\n",
    "        stat.empty_time[2] += days_to_run*24.0\n",
    "    end\n",
    "    \n",
    "    return stat.n_cars,stat.un_fullfilled,stat.fullfilled,stat.empty_time,runs\n",
    "end"
   ]
  },
  {
   "cell_type": "markdown",
   "metadata": {},
   "source": [
    "### Testing"
   ]
  },
  {
   "cell_type": "code",
   "execution_count": 179,
   "metadata": {},
   "outputs": [
    {
     "data": {
      "text/plain": [
       "main (generic function with 2 methods)"
      ]
     },
     "metadata": {},
     "output_type": "display_data"
    }
   ],
   "source": [
    "\n",
    "function main(n_cars::Vector{Int64},days_to_run::Int64,n_of_runs::Int64,rebalance::Vector,path = \"C:/Users/rasmu/Desktop/OneDrive/OneDrive - Danmarks Tekniske Universitet/Decisions under uncertainty/Projekt/ArrivalProfiles.xlsx\")\n",
    "    # Rebalance is given in [desired_n_st1, desired_n_st2, time_1, time_2] for now int\n",
    "    env = Environment()\n",
    "    stat = Stats(n_cars,[0,0],[0,0],[0,0])\n",
    "    rebal = Balance(rebalance[1],rebalance[2],rebalance[3],rebalance[4])\n",
    "    \n",
    "    for i in 1:n_of_runs\n",
    "        stat = Stats(n_cars,[0,0],[0,0],[0,0])\n",
    "        sim(days_to_run,rebal,env,stat)\n",
    "        ### Store some shit\n",
    "    end\n",
    "\n",
    "end"
   ]
  },
  {
   "cell_type": "code",
   "execution_count": 180,
   "metadata": {},
   "outputs": [
    {
     "data": {
      "text/plain": [
       "([0, 40], [323, 221], [139, 99], [-76.77059249027133, -69.78552637443845], 1198)"
      ]
     },
     "metadata": {},
     "output_type": "display_data"
    }
   ],
   "source": [
    "env = Environment()\n",
    "stat = Stats([20,20],[0,0],[0,0],[0,0])\n",
    "sim(3,[20,20,12.2,24.2],env,stat)\n",
    "## Seems insane, something must be wrong"
   ]
  },
  {
   "cell_type": "code",
   "execution_count": null,
   "metadata": {},
   "outputs": [],
   "source": []
  }
 ],
 "metadata": {
  "kernelspec": {
   "display_name": "Julia 1.7.2",
   "language": "julia",
   "name": "julia-1.7"
  },
  "language_info": {
   "file_extension": ".jl",
   "mimetype": "application/julia",
   "name": "julia",
   "version": "1.7.2"
  },
  "orig_nbformat": 4
 },
 "nbformat": 4,
 "nbformat_minor": 2
}
