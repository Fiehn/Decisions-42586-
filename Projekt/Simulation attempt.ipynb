{
 "cells": [
  {
   "cell_type": "markdown",
   "metadata": {},
   "source": [
    "# The Real code"
   ]
  },
  {
   "cell_type": "code",
   "execution_count": 1,
   "metadata": {},
   "outputs": [],
   "source": [
    "using Random, Distributions, Plots, XLSX"
   ]
  },
  {
   "cell_type": "markdown",
   "metadata": {},
   "source": [
    "What needs to be done:\n",
    ". Statistics along the way\n",
    ". the simulation gives a shit ton of unfullfilled values, seems fucked!\n",
    ". Last simulation\n",
    "... Plots\n"
   ]
  },
  {
   "cell_type": "markdown",
   "metadata": {},
   "source": [
    "Questions\n",
    ". Weird arrival at midnight\n",
    ". Why the large amount of unfullfilled values?\n",
    ". Should we keep values for every step at every run or just the final statistics at every run?\n"
   ]
  },
  {
   "cell_type": "code",
   "execution_count": 2,
   "metadata": {},
   "outputs": [
    {
     "data": {
      "text/plain": [
       "insert_and_sort! (generic function with 1 method)"
      ]
     },
     "metadata": {},
     "output_type": "display_data"
    }
   ],
   "source": [
    "### Initial functions to load lambda and mu from the ArrivalProfiles.xlsx\n",
    "\n",
    "# Change the type to Float64 from Int and String for the loaded vectors\n",
    "function type_change(v)\n",
    "    v_ny = Vector{Float64}()\n",
    "    for i in 1:length(v)\n",
    "        if typeof(v[i]) == String\n",
    "            push!(v_ny,parse(Float64,v[i]))\n",
    "        elseif typeof(v[i]) == Int64\n",
    "            push!(v_ny,float(v[i]))\n",
    "        else\n",
    "            push!(v_ny,v[i])\n",
    "        end\n",
    "    end\n",
    "    return v_ny\n",
    "end\n",
    "\n",
    "\n",
    "function load_arri(path=\"C:/Users/rasmu/Desktop/OneDrive/OneDrive - Danmarks Tekniske Universitet/Decisions under uncertainty/Projekt/ArrivalProfiles.xlsx\")\n",
    "    xf = XLSX.readxlsx(path) # Loading\n",
    "\n",
    "    # Lambda is given as expected arrivals therefore inverse\n",
    "    lambda_port = 1 ./ type_change(xf[1][\"C2:AA2\"])\n",
    "    lambda_dtu = 1 ./ type_change(xf[1][\"C3:AA3\"])\n",
    "\n",
    "    # Travel time\n",
    "    mu_rammer_dtu = type_change(xf[1][\"C7:AA7\"])\n",
    "    mu_rammer_port = type_change(xf[1][\"C8:AA8\"])\n",
    "\n",
    "    return lambda_port, lambda_dtu, mu_rammer_dtu, mu_rammer_port\n",
    "end\n",
    "\n",
    "\n",
    "# Might not be just as fast as PriorityQueue but it is not that much behind\n",
    "# Inserts a value at the spot it fits\n",
    "function insert_and_sort!(vect::Vector, x)\n",
    "    (splice!(vect, searchsorted(vect,x), [x]); vect) \n",
    "end\n"
   ]
  },
  {
   "cell_type": "code",
   "execution_count": 3,
   "metadata": {},
   "outputs": [],
   "source": [
    "struct Environment # The environment including arrival rates and travel rates\n",
    "    lambda_dtu::Vector{Float64}  #arrival rate 1\n",
    "    mu_rammer_dtu::Vector{Float64} #service rate 1\n",
    "    lambda_port::Vector{Float64} # arrival rate 2\n",
    "    mu_rammer_port::Vector{Float64} #service rate 2\n",
    "    \n",
    "    # loading the vectors from excel\n",
    "    lambda_port, lambda_dtu, mu_rammer_dtu, mu_rammer_port = load_arri() # NEEDS the path to load the document from!\n",
    "    Environment() = new(lambda_port, lambda_dtu, mu_rammer_dtu, mu_rammer_port)\n",
    "end\n",
    "\n",
    "mutable struct Stats # Vector including [Station 1, Station 2]\n",
    "    n_cars::Vector{Int64} # Number of cars at the stations at any given time\n",
    "    un_fullfilled::Vector{Int64} # Amount of times a customer arrives to an empty station\n",
    "    fullfilled::Vector{Int64} # Amount of times a costumer arrives and gets a car\n",
    "    empty_time::Vector{Float64} # The time any given station has 0 cars\n",
    "    currently_empty::Vector{Bool} # Is the station empty\n",
    "end\n",
    "\n",
    "struct Balance\n",
    "    desired::Array{Tuple{Int64,Int64},1}\n",
    "    rebalance_times::Vector{Float64}\n",
    "end\n"
   ]
  },
  {
   "cell_type": "code",
   "execution_count": 4,
   "metadata": {},
   "outputs": [
    {
     "data": {
      "text/plain": [
       "rebalancing (generic function with 1 method)"
      ]
     },
     "metadata": {},
     "output_type": "display_data"
    }
   ],
   "source": [
    "\n",
    "function time_change(e::Array{Tuple{Float64,String},1},k::Int64,day::Int64) # problems\n",
    "    # Switch day and reset index\n",
    "    if k == 25\n",
    "        k = 0\n",
    "        day += 25\n",
    "    end\n",
    "    # Insert the next time change\n",
    "    popfirst!(e)[1]\n",
    "    insert_and_sort!(e,(k+day,\"time_change\"))\n",
    "\n",
    "    # Change index for time\n",
    "    k += 1\n",
    "    return k,day\n",
    "end\n",
    "\n",
    "function arrival_student(station::Int64,e::Array{Tuple{Float64,String},1},env::Environment,stat::Stats,k::Int64)\n",
    "    \n",
    "    # Insert next arrival based on previous arrival\n",
    "    if station == 1\n",
    "        insert_and_sort!(e,(rand(Exponential(env.lambda_dtu[k]))+e[1][1],\"st1\"))\n",
    "    elseif station == 2\n",
    "        insert_and_sort!(e,(rand(Exponential(env.lambda_dtu[k]))+e[1][1],\"st2\"))\n",
    "    end\n",
    "\n",
    "    if stat.currently_empty[station] == true # Student arrives at empty station. That is one unsatisfied costumer :(\n",
    "        stat.un_fullfilled[station] += 1\n",
    "        popfirst!(e)\n",
    "        \n",
    "    else # Costumer leaves station\n",
    "        stat.n_cars[station] -= 1 # removing car from station\n",
    "        stat.fullfilled[station] += 1 # one fullfilled request\n",
    "        \n",
    "        # Insert travel time based on arrival station\n",
    "        if station == 1\n",
    "            insert_and_sort!(e,(rand(Exponential(env.mu_rammer_port[k]))+e[1][1],\"que_st2\")) \n",
    "        elseif station == 2\n",
    "            insert_and_sort!(e,(rand(Exponential(env.mu_rammer_port[k]))+e[1][1],\"que_st1\")) \n",
    "        end\n",
    "\n",
    "        if stat.n_cars[station] == 0 # station becomes empty\n",
    "            stat.empty_time[station] -= popfirst!(e)[1] # Empty station timer starts \n",
    "            stat.currently_empty[station] = true\n",
    "        else\n",
    "            popfirst!(e)\n",
    "        end\n",
    "    end \n",
    "\n",
    "end \n",
    "\n",
    "function arrival_vehicle(station::Int64,e::Array{Tuple{Float64,String},1},env::Environment,stat::Stats)\n",
    "\n",
    "    if stat.currently_empty[station] == true # Arriving at an empty station\n",
    "        stat.n_cars[station] += 1 # arrive\n",
    "        stat.empty_time[station] += popfirst!(e)[1] # End empty timer\n",
    "        stat.currently_empty[station] = false\n",
    "    else\n",
    "        stat.n_cars[station] += 1 # arrive\n",
    "        popfirst!(e)\n",
    "    end\n",
    "\n",
    "end\n",
    "\n",
    "\n",
    "function rebalancing(rebal::Balance,stat::Stats,env::Environment,e::Array{Tuple{Float64,String},1},k::Int64,rebalance_action::Int64)\n",
    "    # NEEDS Documentation and a serious debugging\n",
    "    if stat.n_cars[2] >= rebal.desired[rebalance_action][1]\n",
    "        for i in 1:rebal.desired[rebalance_action][1]\n",
    "            insert_and_sort!(e,(rand(Exponential(env.mu_rammer_dtu[k]))+e[1][1],\"que_st1\")) \n",
    "            stat.n_cars[2] -= 1\n",
    "        end\n",
    "        \n",
    "        # Start empty timer\n",
    "        if stat.n_cars[2] == 0\n",
    "            stat.empty_time[2] -= e[1][1]\n",
    "            stat.currently_empty[2] = true\n",
    "        end\n",
    "\n",
    "    else\n",
    "        for i in 1:stat.n_cars[2]\n",
    "            insert_and_sort!(e,(rand(Exponential(env.mu_rammer_dtu[k]))+e[1][1],\"que_st1\"))\n",
    "            stat.n_cars[2] -= 1\n",
    "        end\n",
    "        if stat.currently_empty[2] == false\n",
    "            stat.empty_time[2] -= e[1][1]\n",
    "            stat.currently_empty[2] = true\n",
    "        end\n",
    "    end\n",
    "\n",
    "    # For station 1\n",
    "    if stat.n_cars[1] >= rebal.desired[rebalance_action][2]\n",
    "        for i in 1:rebal.desired[rebalance_action][2]\n",
    "            insert_and_sort!(e,(rand(Exponential(env.mu_rammer_port[k]))+e[1][1],\"que_st2\"))\n",
    "            stat.n_cars[1] -= 1\n",
    "        end\n",
    "        \n",
    "        # Start empty timer\n",
    "        if stat.n_cars[1] == 0\n",
    "            stat.empty_time[1] -= e[1][1]\n",
    "            stat.currently_empty[1] = true\n",
    "        end\n",
    "    else\n",
    "        for i in 1:stat.n_cars[1]\n",
    "            insert_and_sort!(e,(rand(Exponential(env.mu_rammer_port[k]))+e[1][1],\"que_st2\"))\n",
    "            stat.n_cars[1] -= 1\n",
    "        end\n",
    "        if stat.currently_empty[1] == false\n",
    "            stat.empty_time[1] -= e[1][1]\n",
    "            stat.currently_empty[1] = true\n",
    "        end\n",
    "    end \n",
    "\n",
    "    insert_and_sort!(e,(24.0+popfirst!(e)[1],\"rebalance\"))\n",
    "\n",
    "    # Virkelig grim måde at gøre det på \n",
    "    if rebalance_action == length(rebal.desired)\n",
    "        rebalance_action = 1\n",
    "    else\n",
    "        rebalance_action += 1\n",
    "    end\n",
    "    \n",
    "end\n",
    "\n"
   ]
  },
  {
   "cell_type": "code",
   "execution_count": 5,
   "metadata": {},
   "outputs": [
    {
     "data": {
      "text/plain": [
       "sim (generic function with 1 method)"
      ]
     },
     "metadata": {},
     "output_type": "display_data"
    }
   ],
   "source": [
    "function sim(days_to_run::Int64,initial_n_cars::Vector{Int64}, rebal::Balance, env::Environment)\n",
    "\n",
    "    ###########\n",
    "    # Initial Misc\n",
    "    stat = Stats([initial_n_cars[1],initial_n_cars[2]],[0,0],[0,0],[0,0],[false,false])\n",
    "    e = Array{Tuple{Float64,String},1}()\n",
    "    runs = 0\n",
    "    \n",
    "    ###########\n",
    "    # arrival and travel rates\n",
    "    insert_and_sort!(e,(0.0,\"time_change\")) # THIS NEEDS TO BE FIXED!!!!!!!!\n",
    "    k = 1\n",
    "    day = 0\n",
    "    \n",
    "    ###########\n",
    "    # Arrivals\n",
    "    insert_and_sort!(e,(rand(Exponential(env.lambda_dtu[k])),\"st1\"))\n",
    "    insert_and_sort!(e,(rand(Exponential(env.lambda_port[k])),\"st2\"))\n",
    "    \n",
    "    ###########\n",
    "    # Rebalance\n",
    "    rebalance_action = 1\n",
    "    for i in 1:length(rebal.rebalance_times)\n",
    "        insert_and_sort!(e,(rebal.rebalance_times[i],\"rebalance\"))\n",
    "    end\n",
    "\n",
    "\n",
    "    while e[1][1] <= days_to_run*24.0 && runs <= 100000\n",
    "        load_type = e[1][2]\n",
    "        if load_type == \"st1\"\n",
    "            arrival_student(1,e,env,stat,k)\n",
    "        elseif load_type == \"st2\"\n",
    "            arrival_student(2,e,env,stat,k)\n",
    "        elseif load_type == \"que_st1\"\n",
    "            arrival_vehicle(1,e,env,stat)\n",
    "        elseif load_type == \"que_st2\"\n",
    "            arrival_vehicle(2,e,env,stat)\n",
    "        elseif load_type == \"time_change\"\n",
    "            k,day = time_change(e,k,day)\n",
    "        elseif load_type == \"rebalance\"\n",
    "            rebalancing(rebal,stat,env,e,k,rebalance_action)\n",
    "        else\n",
    "            throw(ErrorException(\"Issue in the event type!\"))\n",
    "        end\n",
    "        runs += 1 # Checks the amount of events\n",
    "    end\n",
    "    \n",
    "    # Make sure the empty timer stops at the end of the run\n",
    "    if stat.currently_empty[1] == true\n",
    "        stat.empty_time[1] += e[1][1]\n",
    "    elseif stat.currently_empty[2] == true\n",
    "        stat.empty_time[2] += e[1][1]\n",
    "    end\n",
    "    \n",
    "    return stat.n_cars,stat.un_fullfilled,stat.fullfilled,stat.empty_time,runs\n",
    "end"
   ]
  },
  {
   "cell_type": "markdown",
   "metadata": {},
   "source": [
    "### Testing"
   ]
  },
  {
   "cell_type": "code",
   "execution_count": 6,
   "metadata": {},
   "outputs": [
    {
     "data": {
      "text/plain": [
       "main (generic function with 2 methods)"
      ]
     },
     "metadata": {},
     "output_type": "display_data"
    }
   ],
   "source": [
    "\n",
    "function main(initial_n_cars::Vector{Int64},days_to_run::Int64,n_of_runs::Int64,rebalance::Tuple{Vector{Tuple{Int64, Int64}}, Vector{Float64}},path = \"C:/Users/rasmu/Desktop/OneDrive/OneDrive - Danmarks Tekniske Universitet/Decisions under uncertainty/Projekt/ArrivalProfiles.xlsx\")\n",
    "    env = Environment()\n",
    "    rebal = Balance(rebalance[1],rebalance[2])\n",
    "    overview = []\n",
    "    efficiancy = []\n",
    "\n",
    "    for i in 1:n_of_runs\n",
    "        a = sim(days_to_run,initial_n_cars,rebal,env)\n",
    "        overview = [overview;a]\n",
    "        # NEeds final stats\n",
    "    \n",
    "        efficiancy_fullfilled = [a[3][1]/(a[3][1]+a[2][1]), a[3][2]/(a[3][2]+a[2][2]) ]\n",
    "        efficiancy_emptytime = [a[4][1]/(days_to_run*24),a[4][2]/(days_to_run*24)]\n",
    "\n",
    "        # print(\"Efficiancy percentage for station 1 is \")\n",
    "        # printstyled(round(efficiancy_fullfilled[1]*100,digits=2),\"%\"; color=:blue)\n",
    "        # print(\" and \")\n",
    "        # printstyled(round(efficiancy_fullfilled[2]*100,digits=2),\"%\"; color=:blue)\n",
    "        # print(\" for station 2. Percentage of time spent empty for station 1 is \")\n",
    "        # printstyled(round(efficiancy_emptytime[1]*100,digits=2),\"%\"; color=:blue)\n",
    "        # print(\" and \")\n",
    "        # printstyled(round(efficiancy_emptytime[2]*100,digits=2),\"%\"; color=:blue)\n",
    "        # println(\" for station 2.\")\n",
    "\n",
    "        efficiancy = [efficiancy; [efficiancy_fullfilled]]\n",
    "    end\n",
    "    \n",
    "    return overview, efficiancy\n",
    "end"
   ]
  },
  {
   "cell_type": "code",
   "execution_count": 14,
   "metadata": {},
   "outputs": [
    {
     "name": "stdout",
     "output_type": "stream",
     "text": [
      "Efficiancy percentage for station 1 is \u001b[34m81.99%\u001b[39m and \u001b[34m60.87%\u001b[39m for station 2. Percentage of time spent empty for station 1 is \u001b[34m5.9%\u001b[39m and \u001b[34m10.53%\u001b[39m for station 2.\n",
      "Efficiancy percentage for station 1 is \u001b[34m85.84%\u001b[39m and \u001b[34m55.28%\u001b[39m for station 2. Percentage of time spent empty for station 1 is \u001b[34m3.52%\u001b[39m and \u001b[34m14.34%\u001b[39m for station 2.\n",
      "Efficiancy percentage for station 1 is \u001b[34m86.08%\u001b[39m and \u001b[34m55.78%\u001b[39m for station 2. Percentage of time spent empty for station 1 is \u001b[34m3.78%\u001b[39m and \u001b[34m12.5%\u001b[39m for station 2.\n",
      "Efficiancy percentage for station 1 is \u001b[34m83.57%\u001b[39m and \u001b[34m61.42%\u001b[39m for station 2. Percentage of time spent empty for station 1 is \u001b[34m4.33%\u001b[39m and \u001b[34m11.59%\u001b[39m for station 2.\n",
      "Efficiancy percentage for station 1 is \u001b[34m88.19%\u001b[39m and \u001b[34m59.18%\u001b[39m for station 2. Percentage of time spent empty for station 1 is \u001b[34m2.54%\u001b[39m and \u001b[34m14.21%\u001b[39m for station 2.\n",
      "Efficiancy percentage for station 1 is \u001b[34m85.19%\u001b[39m and \u001b[34m56.99%\u001b[39m for station 2. Percentage of time spent empty for station 1 is \u001b[34m3.75%\u001b[39m and \u001b[34m13.11%\u001b[39m for station 2.\n",
      "Efficiancy percentage for station 1 is \u001b[34m80.07%\u001b[39m and \u001b[34m58.84%\u001b[39m for station 2. Percentage of time spent empty for station 1 is \u001b[34m5.85%\u001b[39m and \u001b[34m11.56%\u001b[39m for station 2.\n",
      "Efficiancy percentage for station 1 is \u001b[34m87.21%\u001b[39m and \u001b[34m58.13%\u001b[39m for station 2. Percentage of time spent empty for station 1 is \u001b[34m2.96%\u001b[39m and \u001b[34m12.35%\u001b[39m for station 2.\n",
      "Efficiancy percentage for station 1 is \u001b[34m85.92%\u001b[39m and \u001b[34m51.97%\u001b[39m for station 2. Percentage of time spent empty for station 1 is \u001b[34m3.83%\u001b[39m and \u001b[34m15.8%\u001b[39m for station 2.\n",
      "Efficiancy percentage for station 1 is \u001b[34m88.57%\u001b[39m and \u001b[34m63.57%\u001b[39m for station 2. Percentage of time spent empty for station 1 is \u001b[34m2.83%\u001b[39m and \u001b[34m12.72%\u001b[39m for station 2.\n",
      "Efficiancy percentage for station 1 is \u001b[34m82.31%\u001b[39m and \u001b[34m52.6%\u001b[39m for station 2. Percentage of time spent empty for station 1 is \u001b[34m4.39%\u001b[39m and \u001b[34m15.14%\u001b[39m for station 2.\n",
      "Efficiancy percentage for station 1 is \u001b[34m81.38%\u001b[39m and \u001b[34m59.65%\u001b[39m for station 2. Percentage of time spent empty for station 1 is \u001b[34m6.02%\u001b[39m and \u001b[34m10.64%\u001b[39m for station 2.\n",
      "Efficiancy percentage for station 1 is \u001b[34m83.44%\u001b[39m and \u001b[34m57.15%\u001b[39m for station 2. Percentage of time spent empty for station 1 is \u001b[34m4.62%\u001b[39m and \u001b[34m13.0%\u001b[39m for station 2.\n",
      "Efficiancy percentage for station 1 is \u001b[34m85.72%\u001b[39m and \u001b[34m55.31%\u001b[39m for station 2. Percentage of time spent empty for station 1 is \u001b[34m3.27%\u001b[39m and \u001b[34m12.03%\u001b[39m for station 2.\n",
      "Efficiancy percentage for station 1 is \u001b[34m86.63%\u001b[39m and \u001b[34m60.81%\u001b[39m for station 2. Percentage of time spent empty for station 1 is \u001b[34m4.14%\u001b[39m and \u001b[34m10.06%\u001b[39m for station 2.\n",
      "Efficiancy percentage for station 1 is \u001b[34m81.87%\u001b[39m and \u001b[34m53.02%\u001b[39m for station 2. Percentage of time spent empty for station 1 is \u001b[34m4.6%\u001b[39m and \u001b[34m14.32%\u001b[39m for station 2.\n",
      "Efficiancy percentage for station 1 is \u001b[34m85.05%\u001b[39m and \u001b[34m59.49%\u001b[39m for station 2. Percentage of time spent empty for station 1 is \u001b[34m3.0%\u001b[39m and \u001b[34m12.03%\u001b[39m for station 2.\n",
      "Efficiancy percentage for station 1 is \u001b[34m84.07%\u001b[39m and \u001b[34m49.73%\u001b[39m for station 2. Percentage of time spent empty for station 1 is \u001b[34m3.96%\u001b[39m and \u001b[34m18.7%\u001b[39m for station 2.\n",
      "Efficiancy percentage for station 1 is \u001b[34m89.18%\u001b[39m and \u001b[34m48.55%\u001b[39m for station 2. Percentage of time spent empty for station 1 is \u001b[34m2.31%\u001b[39m and \u001b[34m17.11%\u001b[39m for station 2.\n",
      "Efficiancy percentage for station 1 is \u001b[34m86.84%\u001b[39m and \u001b[34m59.57%\u001b[39m for station 2. Percentage of time spent empty for station 1 is \u001b[34m3.61%\u001b[39m and \u001b[34m14.57%\u001b[39m for station 2.\n"
     ]
    },
    {
     "data": {
      "text/plain": [
       "(Any[([119, 0], [2201, 3736], [10018, 5812], [141.5367453153267, 252.78903834551556], 51331), ([91, 25], [1436, 4912], [8706, 6073], [84.52343190196689, 344.25011031665554], 48349), ([36, 78], [1313, 4026], [8121, 5079], [90.80062803471174, 300.11549904143885], 44482), ([82, 35], [1631, 3736], [8296, 5948], [103.92877086836279, 278.0685396378526], 45992), ([111, 0], [1118, 4401], [8352, 6381], [61.023901160119294, 341.00956189101635], 46986), ([89, 30], [1503, 4142], [8645, 5489], [90.0825099056674, 314.7408909759388], 46853), ([113, 0], [2214, 3521], [8895, 5034], [140.33002370586405, 277.4468192332756], 46874), ([64, 49], [1285, 4112], [8760, 5710], [71.14316413554025, 296.4341579228476], 47218), ([64, 54], [1275, 5029], [7780, 5441], [91.80290779708093, 379.23584855130434], 44782), ([77, 36], [1100, 3724], [8522, 6499], [67.83100742221905, 305.3251579747316], 46950), ([90, 28], [1756, 4866], [8169, 5399], [105.45054084227922, 363.27583357023786], 46279), ([102, 15], [2074, 3461], [9064, 5116], [144.472679764016, 255.2481152884884], 47352), ([86, 30], [1719, 4130], [8659, 5508], [110.7868929515289, 311.9564777700489], 46899), ([68, 47], [1358, 3979], [8155, 4924], [78.44771639654027, 288.6848288281367], 44405), ([70, 40], [1514, 4362], [9814, 6767], [99.4656190690439, 241.33306675352196], 51766), ([97, 19], [1816, 4770], [8203, 5383], [110.3593674939707, 343.76716161529885], 46208), ([73, 47], [1519, 3983], [8644, 5850], [71.91374064563979, 288.6610055028623], 47154), ([60, 60], [1447, 5613], [7638, 5552], [95.07500969645525, 448.89735832642987], 45373), ([119, 0], [827, 5855], [6819, 5524], [55.505354206238735, 410.6761737701954], 42863), ([77, 30], [1315, 4509], [8681, 6643], [86.71319261493272, 349.7568747295495], 48521)], Any[[0.8198706931827482, 0.6087138667783829], [0.8584105699073161, 0.552844788347747], [0.8608225567097731, 0.557825370675453], [0.835700614485746, 0.6142090045435771], [0.8819429778247097, 0.5918196994991652], [0.8518919984233346, 0.5699304329768456], [0.800702133405347, 0.588427819988311], [0.8720756595321055, 0.5813479942985136], [0.8591938155715074, 0.5196752626552054], [0.8856786530866764, 0.6357233688741074], [0.8230730478589421, 0.5259620068192888], [0.813790626683426, 0.596478955345692], [0.8343611485835422, 0.5714878605519818], [0.8572479764532744, 0.553071998202853], [0.8663488700564972, 0.6080510378290952], [0.8187443856672323, 0.5301881217374175], [0.850536258978648, 0.5949354215397132], [0.8407264722069345, 0.4972682489923869], [0.8918388699973843, 0.48545566394234996], [0.8684473789515806, 0.5956779053084649]])"
      ]
     },
     "metadata": {},
     "output_type": "display_data"
    }
   ],
   "source": [
    "########### User manual ############\n",
    "##### Inputs: main(1,2,3,4)\n",
    "# 1: [initial cars at station 1, initial cars at station 2] (Int,Int)\n",
    "# 2: days to run each simulation (Int)\n",
    "# 3: Amount simulations to run (Int)\n",
    "# 4: ( [(Desired amount at station 1 for first reblance, station 2 at first rebalance), (station 1 at second, station 2 at second), ..., (station 1 at n rebalance, station 2 at n)], [time of first rebalance, ..., time at n event] ) (Tuple(Int,Int),Float)\n",
    "\n",
    "\n",
    "\n",
    "main([60,60],100,20,([(100,20),(30,90)],[2.0,13.0]))"
   ]
  },
  {
   "cell_type": "code",
   "execution_count": 9,
   "metadata": {},
   "outputs": [
    {
     "name": "stdout",
     "output_type": "stream",
     "text": [
      "(0.687261116199373, 26) for station1\n",
      "(0.5760346712843007, 39) for station2\n",
      "[26, 34, 60] for station1\n",
      "[39, 21, 60] for station2\n"
     ]
    }
   ],
   "source": [
    "# Tjekker start distribution, virker som om den er stortset irrelevant\n",
    "\n",
    "effic_st1 = []\n",
    "effic_st2 = []\n",
    "position = []\n",
    "for n in 60:60\n",
    "    for i in 1:(n-1)\n",
    "        _, effic = main([i,n-i],100,n, ([(100,20),(40,80)],[7.0,13.0]) )\n",
    "        total_effic = [effic[1][1],effic[1][2]]\n",
    "        for j in 2:n\n",
    "            total_effic = [effic[j][1]+total_effic[1],effic[j][2]+total_effic[2]]\n",
    "        end\n",
    "        \n",
    "        push!(effic_st1,total_effic[1]/n)\n",
    "        push!(effic_st2,total_effic[2]/n)\n",
    "        push!(position,[i,n-i,n])\n",
    "\n",
    "    end\n",
    "end\n",
    "\n",
    "println(findmax(effic_st1),\" for station1\")\n",
    "println(findmax(effic_st2),\" for station2\")\n",
    "println(position[findmax(effic_st1)[2]],\" for station1\")\n",
    "println(position[findmax(effic_st2)[2]],\" for station2\")\n"
   ]
  },
  {
   "cell_type": "code",
   "execution_count": 8,
   "metadata": {},
   "outputs": [
    {
     "name": "stdout",
     "output_type": "stream",
     "text": [
      "(0.9463146026522803, 78) for station1\n",
      "(0.9675967002458218, 4) for station2\n",
      "[[161, 19], [101, 79]] for station1\n",
      "[[1, 179], [61, 119]] for station2\n"
     ]
    }
   ],
   "source": [
    "\n",
    "effic_st1 = []\n",
    "effic_st2 = []\n",
    "position = []\n",
    "for n in 90:90\n",
    "    for i in 1:20:n*2\n",
    "        for j in 1:20:n*2\n",
    "            _, effic = main([n,n],100,n, ([(i,n*2-i),(j,n*2-j)],[7.0,13.0]) )\n",
    "            total_effic = [effic[1][1],effic[1][2]]\n",
    "            for p in 2:n-1\n",
    "                total_effic = [effic[p][1]+total_effic[1],effic[p][2]+total_effic[2]]\n",
    "            end\n",
    "            \n",
    "            push!(effic_st1,total_effic[1]/n)\n",
    "            push!(effic_st2,total_effic[2]/n)\n",
    "            push!(position,[[i,n*2-i],[j,n*2-j]])\n",
    "        end\n",
    "    end\n",
    "end\n",
    "\n",
    "println(findmax(effic_st1),\" for station1\")\n",
    "println(findmax(effic_st2),\" for station2\")\n",
    "println(position[findmax(effic_st1)[2]],\" for station1\")\n",
    "println(position[findmax(effic_st2)[2]],\" for station2\")\n"
   ]
  },
  {
   "cell_type": "code",
   "execution_count": 12,
   "metadata": {},
   "outputs": [
    {
     "data": {
      "text/plain": [
       "36-element Vector{Any}:\n",
       " 0.22061520491745754\n",
       " 0.21459199049414773\n",
       " 0.21922134138184335\n",
       " 0.2194600646789736\n",
       " 0.22352523167697702\n",
       " 0.21922787208378686\n",
       " 0.29066320348823843\n",
       " 0.29097117847790643\n",
       " 0.2908920540826493\n",
       " 0.2884305638016938\n",
       " ⋮\n",
       " 0.3959363332897391\n",
       " 0.39706269454261106\n",
       " 0.39973728084852855\n",
       " 0.4203153236034081\n",
       " 0.4183310782258446\n",
       " 0.4211362321132467\n",
       " 0.4216330892827385\n",
       " 0.4212648239171392\n",
       " 0.4178566291772772"
      ]
     },
     "metadata": {},
     "output_type": "display_data"
    }
   ],
   "source": [
    "effic_st1"
   ]
  },
  {
   "cell_type": "code",
   "execution_count": null,
   "metadata": {},
   "outputs": [],
   "source": []
  }
 ],
 "metadata": {
  "kernelspec": {
   "display_name": "Julia 1.7.2",
   "language": "julia",
   "name": "julia-1.7"
  },
  "language_info": {
   "file_extension": ".jl",
   "mimetype": "application/julia",
   "name": "julia",
   "version": "1.7.2"
  },
  "orig_nbformat": 4
 },
 "nbformat": 4,
 "nbformat_minor": 2
}
