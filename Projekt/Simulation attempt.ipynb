{
 "cells": [
  {
   "cell_type": "markdown",
   "metadata": {},
   "source": [
    "# The Real code"
   ]
  },
  {
   "cell_type": "code",
   "execution_count": 1,
   "metadata": {},
   "outputs": [],
   "source": [
    "using Random, Distributions, Plots, XLSX"
   ]
  },
  {
   "cell_type": "markdown",
   "metadata": {},
   "source": [
    "What needs to be done:\n",
    ". Statistics along the way\n",
    ". Rebalancing ?\n",
    ". ArrivalProfiles\n",
    ". Last simulation\n",
    "... Plots\n",
    "... Time to run consecutively (does that have something to do with rebalancing?)\n",
    "... "
   ]
  },
  {
   "cell_type": "markdown",
   "metadata": {},
   "source": [
    "Questions for later:\n",
    ". a total number of runs (a single run has the length of the number of days per run) ??\n",
    ". Struct for e?\n",
    ". The runtime, and rebalancing time\n",
    "... Travel time, mister vi ikke biler?? Hvordan skal man gøre det\n",
    "... Pretty much just rebalancing!\n",
    ". what to do when travel time passes total time?"
   ]
  },
  {
   "cell_type": "code",
   "execution_count": 2,
   "metadata": {},
   "outputs": [
    {
     "data": {
      "text/plain": [
       "load_arri (generic function with 2 methods)"
      ]
     },
     "metadata": {},
     "output_type": "display_data"
    }
   ],
   "source": [
    "### Initial function to load lambda and mu from the ArrivalProfiles.xlsx\n",
    "\n",
    "# Change the type to Float64 for the loaded vectors\n",
    "function type_change(v)\n",
    "    v_ny = Vector{Float64}()\n",
    "    for i in 1:length(v)\n",
    "        if typeof(v[i]) == String\n",
    "            push!(v_ny,parse(Float64,v[i]))\n",
    "        elseif typeof(v[i]) == Int64\n",
    "            push!(v_ny,float(v[i]))\n",
    "        else\n",
    "            push!(v_ny,v[i])\n",
    "        end\n",
    "    end\n",
    "    return v_ny\n",
    "end\n",
    "\n",
    "function load_arri(path=\"C:/Users/rasmu/Desktop/OneDrive/OneDrive - Danmarks Tekniske Universitet/Decisions under uncertainty/Projekt/ArrivalProfiles.xlsx\")\n",
    "    xf = XLSX.readxlsx(path)\n",
    "\n",
    "    lambda_port = 1 ./ type_change(xf[1][\"C2:AA2\"])\n",
    "    lambda_dtu = 1 ./ type_change(xf[1][\"C3:AA3\"])\n",
    "\n",
    "    mu_rammer_dtu = type_change(xf[1][\"C7:AA7\"])\n",
    "    mu_rammer_port = type_change(xf[1][\"C8:AA8\"])\n",
    "\n",
    "    return lambda_port, lambda_dtu, mu_rammer_dtu, mu_rammer_port\n",
    "end\n"
   ]
  },
  {
   "cell_type": "code",
   "execution_count": 3,
   "metadata": {},
   "outputs": [
    {
     "data": {
      "text/plain": [
       "insert_and_sort! (generic function with 1 method)"
      ]
     },
     "metadata": {},
     "output_type": "display_data"
    }
   ],
   "source": [
    "# Using tuples instead of PriorityQueue, because they can have multiple identical keys and the queue cannot.\n",
    "# This is slightly slower but not by that much, not really a noticable difference in this case. \n",
    "# You have to get real up there in iterations before it really chugs behind.\n",
    "\n",
    "# mutable struct Events\n",
    "#     e::Array{Tuple{Float64,SubString},1}\n",
    "# end\n",
    "# Figure out if this can be a struct !!!\n",
    "\n",
    "struct Environment # make struct with vectors instead\n",
    "    lambda_dtu::Vector{Float64}  #arrival rate\n",
    "    mu_rammer_dtu::Vector{Float64} #service rate\n",
    "    lambda_port::Vector{Float64}\n",
    "    mu_rammer_port::Vector{Float64}\n",
    "    \n",
    "    lambda_port, lambda_dtu, mu_rammer_dtu, mu_rammer_port = load_arri()\n",
    "    Environment() = new(lambda_port, lambda_dtu, mu_rammer_dtu, mu_rammer_port)\n",
    "end\n",
    "\n",
    "mutable struct Stats # Make tuples to simplify functions, you are a god damn genus baby boy\n",
    "    n_cars_st1::Int64\n",
    "    n_cars_st2::Int64\n",
    "    unfilled_st1::Int64\n",
    "    unfilled_st2::Int64\n",
    "    filled_st1::Int64\n",
    "    filled_st2::Int64\n",
    "    empty_st1::Float64\n",
    "    empty_st2::Float64\n",
    "end\n",
    "\n",
    "# Might not be just as fast as PriorityQueue but it is not that much behind\n",
    "function insert_and_sort!(vect::Vector, x)\n",
    "    (splice!(vect, searchsorted(vect,x), [x]); vect) \n",
    "end\n",
    "\n"
   ]
  },
  {
   "cell_type": "code",
   "execution_count": 4,
   "metadata": {},
   "outputs": [
    {
     "data": {
      "text/plain": [
       "rebalance (generic function with 1 method)"
      ]
     },
     "metadata": {},
     "output_type": "display_data"
    }
   ],
   "source": [
    "# Do this:\n",
    "# stats.overview_usage = [stats.overview_usage; t state.queue_length state.server_busy]\n",
    "# Real nice, steal that shit!\n",
    "\n",
    "function time_change(e::Array{Tuple{Float64,String},1},k::Int64,day::Int64)\n",
    "    if k == 25\n",
    "        k = 0\n",
    "        day += 25\n",
    "    end\n",
    "    popfirst!(e)[1]\n",
    "\n",
    "    insert_and_sort!(e,(k+day,\"time_change\"))\n",
    "    \n",
    "    k += 1\n",
    "    \n",
    "    return k,day\n",
    "end\n",
    "\n",
    "function arrival(station::String,e::Array{Tuple{Float64,String},1},env::Environment,stat::Stats,k::Int64)\n",
    "    # WHAT to do when travel time passes total time?? makes sense? ask teacher\n",
    "    \n",
    "    if station == \"st1\"\n",
    "        insert_and_sort!(e,(rand(Exponential(env.lambda_dtu[k]))+e[1][1],\"st1\"))\n",
    "        # Student arrives at empty station. That is one unsatisfied costumer :(\n",
    "        if stat.n_cars_st1 == 0\n",
    "            stat.unfilled_st1 += 1\n",
    "            popfirst!(e)\n",
    "        else\n",
    "            stat.n_cars_st1 -= 1\n",
    "            stat.filled_st1 += 1\n",
    "            \n",
    "            insert_and_sort!(e,(rand(Exponential(env.mu_rammer_port[k]))+e[1][1],\"que_st2\")) \n",
    "\n",
    "            if stat.n_cars_st1 == 0 # station becomes empty\n",
    "                stat.empty_st1 -= popfirst!(e)[1] # Empty station timer starts \n",
    "            else\n",
    "                popfirst!(e)\n",
    "            end\n",
    "        end\n",
    "\n",
    "    elseif station == \"st2\"\n",
    "        insert_and_sort!(e,(rand(Exponential(env.lambda_port[k]))+e[1][1],\"st2\"))\n",
    "        if stat.n_cars_st2 == 0\n",
    "            stat.unfilled_st2 += 1\n",
    "            popfirst!(e)\n",
    "        else\n",
    "            stat.n_cars_st2 -= 1\n",
    "            stat.filled_st2 += 1\n",
    "            \n",
    "            insert_and_sort!(e,(rand(Exponential(env.mu_rammer_dtu[k]))+e[1][1],\"que_st1\") )\n",
    "\n",
    "            if stat.n_cars_st2 == 0 # station becomes empty\n",
    "                stat.empty_st2 -= popfirst!(e)[1] # Empty station timer starts \n",
    "            else\n",
    "                popfirst!(e)\n",
    "            end\n",
    "\n",
    "        end\n",
    "\n",
    "    else\n",
    "        throw(ErrorException(\"Something went wrong in sim().\"))\n",
    "    end\n",
    "\n",
    "end \n",
    "\n",
    "function travel(station::String,e::Array{Tuple{Float64,String},1},env::Environment,stat::Stats)\n",
    "\n",
    "    if station == \"que_st1\" # If car arrives at st2\n",
    "        if stat.n_cars_st1 == 0 # Arriving to an empty station without \n",
    "            stat.n_cars_st1 += 1\n",
    "            stat.empty_st1 += popfirst!(e)[1] # End empty timer\n",
    "        else\n",
    "            stat.n_cars_st1 += 1\n",
    "            popfirst!(e)    \n",
    "        end\n",
    "    elseif station == \"que_st2\" # If car arrives at st2\n",
    "        if stat.n_cars_st2 == 0 # Arriving to an empty station\n",
    "            stat.n_cars_st2 += 1 \n",
    "            stat.empty_st2 += popfirst!(e)[1] # End empty timer\n",
    "        else\n",
    "            stat.n_cars_st2 += 1\n",
    "            popfirst!(e)    \n",
    "        end\n",
    "    else \n",
    "        throw(ErrorException(\"Something went wrong in sim().\"))\n",
    "    end\n",
    "\n",
    "end\n",
    "\n",
    "\n",
    "function rebalance(desired_n_st1::Int64,desired_n_st2::Int64,stat::Stats,env::Environment,e::Array{Tuple{Float64,String},1},k::Int64)\n",
    "\n",
    "    if stat.n_cars_st2 >= desired_n_st1\n",
    "        for i in 1:desired_n_st1\n",
    "            insert_and_sort!(e,(rand(Exponential(env.mu_rammer_dtu[k]))+e[1][1],\"que_st1\") ) \n",
    "            stat.n_cars_st2 -= 1\n",
    "        end\n",
    "        \n",
    "        # Start empty timer\n",
    "        if stat.n_cars_st2 == 0 \n",
    "            stat.empty_st2 -= e[1][1]\n",
    "        end\n",
    "\n",
    "    else\n",
    "        for i in 1:stat.n_cars_st2\n",
    "            insert_and_sort!(e,(rand(Exponential(env.mu_rammer_dtu[k]))+e[1][1],\"que_st1\") )\n",
    "            stat.n_cars_st2 -= 1\n",
    "        end\n",
    "        stat.empty_st2 -= e[1][1]\n",
    "\n",
    "    end\n",
    "\n",
    "    # For station 1\n",
    "    if stat.n_cars_st1 >= desired_n_st2\n",
    "        for i in 1:desired_n_st2\n",
    "            insert_and_sort!(e,(rand(Exponential(env.mu_rammer_port[k]))+e[1][1],\"que_st2\") )\n",
    "            stat.n_cars_st1 -= 1\n",
    "        end\n",
    "        \n",
    "        # Start empty timer\n",
    "        if stat.n_cars_st1 == 0 \n",
    "            stat.empty_st1 -= e[1][1]\n",
    "        end\n",
    "    else\n",
    "        for i in 1:stat.n_cars_st1\n",
    "            insert_and_sort!(e,(rand(Exponential(env.mu_rammer_port[k]))+e[1][1],\"que_st2\") )\n",
    "            stat.n_cars_st1 -= 1\n",
    "        end\n",
    "        stat.empty_st1 -= e[1][1]\n",
    "    end \n",
    "\n",
    "    popfirst!(e)\n",
    "end\n"
   ]
  },
  {
   "cell_type": "code",
   "execution_count": 41,
   "metadata": {},
   "outputs": [
    {
     "data": {
      "text/plain": [
       "sim (generic function with 1 method)"
      ]
     },
     "metadata": {},
     "output_type": "display_data"
    }
   ],
   "source": [
    "function sim(days_to_run::Float64, env::Environment,stat::Stats)\n",
    "    \n",
    "    e = Array{Tuple{Float64,String},1}()\n",
    "    \n",
    "    runs = 0\n",
    "    k = 1\n",
    "    day = 0\n",
    "    insert_and_sort!(e,(rand(Exponential(env.lambda_dtu[k])),\"st1\")) # Insert first arrival\n",
    "    insert_and_sort!(e,(rand(Exponential(env.lambda_port[k])),\"st2\")) # Insert frist arrival\n",
    "    insert_and_sort!(e,(0.0,\"time_change\")) # THIS NEEDS TO BE FIXED!!!!!!!!\n",
    "\n",
    "    while e[1][1] <= days_to_run*24 && runs <= 10000\n",
    "        load_type = e[1][2]\n",
    "        if load_type == \"st1\" || load_type == \"st2\"\n",
    "            arrival(load_type,e,env,stat,k)\n",
    "        elseif load_type == \"que_st1\" || load_type == \"que_st2\"\n",
    "            travel(load_type,e,env,stat)\n",
    "        elseif load_type == \"time_change\"\n",
    "            k,day = time_change(e,k,day)\n",
    "        elseif load_type == \"rebalance\"\n",
    "            rebalance(desired_n_st1,desired_n_st2,stat,env,e,k)\n",
    "        else\n",
    "            throw(ErrorException(\"Issue in the event type!\"))\n",
    "        end\n",
    "        runs += 1 # Checks the amount of events\n",
    "    end\n",
    "    \n",
    "    # Make sure the empty timer stops at the end of the run\n",
    "    if stat.n_cars_st1 == 0\n",
    "        stat.empty_st1 += days_to_run*24\n",
    "    elseif stat.n_cars_st2 == 0\n",
    "        stat.empty_st2 += days_to_run*24\n",
    "    end\n",
    "    \n",
    "    return stat.n_cars_st1,stat.n_cars_st2,stat.unfilled_st1,stat.unfilled_st2,stat.filled_st1,stat.filled_st2,stat.empty_st1,stat.empty_st2,runs\n",
    "end"
   ]
  },
  {
   "cell_type": "markdown",
   "metadata": {},
   "source": [
    "### Testing"
   ]
  },
  {
   "cell_type": "code",
   "execution_count": 65,
   "metadata": {},
   "outputs": [
    {
     "data": {
      "text/plain": [
       "(9, 29, 261, 0, 154, 145, 21.39743927733408, 0.0, 930)"
      ]
     },
     "metadata": {},
     "output_type": "display_data"
    }
   ],
   "source": [
    "env = Environment()\n",
    "stat = Stats(20,20,0,0,0,0,0,0)\n",
    "sim(3.0,env,stat)"
   ]
  },
  {
   "cell_type": "code",
   "execution_count": 399,
   "metadata": {},
   "outputs": [
    {
     "data": {
      "text/plain": [
       "0"
      ]
     },
     "metadata": {},
     "output_type": "display_data"
    }
   ],
   "source": []
  },
  {
   "cell_type": "code",
   "execution_count": 10,
   "metadata": {},
   "outputs": [
    {
     "data": {
      "text/plain": [
       "Environment([0.0, 1.0, 2.0, 3.0, 4.0, 5.0, 6.0, 7.0, 8.0, 9.0  …  15.0, 16.0, 17.0, 18.0, 19.0, 20.0, 21.0, 22.0, 23.0, 24.0], [0.1, 10.0, 10.0, 10.0, 10.0, 0.2, 0.1, 0.03333333333333333, 0.016666666666666666, 0.025  …  0.1, 0.1, 0.1, 0.2, 0.2, 10.0, 10.0, 10.0, 0.1, 0.1], [10.0, 10.0, 10.0, 10.0, 10.0, 10.0, 0.3333333333333333, 0.3333333333333333, 0.3333333333333333, 0.3333333333333333  …  0.02, 0.025, 0.025, 0.05, 0.05, 0.1, 0.1, 0.1, 0.2, 10.0], [0.5, 0.5, 0.5, 0.5, 0.5, 0.5, 0.55, 0.55, 0.55, 0.55  …  0.55, 0.6, 0.65, 0.6, 0.5, 0.5, 0.5, 0.5, 0.5, 0.5], [0.5, 0.5, 0.5, 0.5, 0.5, 0.5, 0.55, 0.6, 0.6, 0.55  …  0.55, 0.55, 0.55, 0.55, 0.5, 0.5, 0.5, 0.5, 0.5, 0.5])"
      ]
     },
     "metadata": {},
     "output_type": "display_data"
    }
   ],
   "source": [
    "# function arrivals_generator(env::Environment)\n",
    "#     e = Array{Tuple{Float64,String},1}()\n",
    "#     # Arrivals at station 1\n",
    "#     push!(e,(rand(Exponential(env.lambda)),\"st1\")) # First arrival\n",
    "#     while last(e)[1] < env.hours\n",
    "#        push!(e,(rand(Exponential(env.lambda))+last(e)[1],\"st1\"))\n",
    "#     end\n",
    "#     # Fix den sidste den er over 2\n",
    "\n",
    "#     pop!(e)\n",
    "#     last_st1 = last(e)[1] # Storing last time (for later use to time being empty)\n",
    "\n",
    "#     # Arrivals at station 2 (repeat of station 1)\n",
    "#     push!(e,(rand(Exponential(env.lambda)),\"st2\"))\n",
    "#     while last(e)[1] < env.hours\n",
    "#         push!(e,(rand(Exponential(env.lambda))+last(e)[1],\"st2\"))\n",
    "#     end\n",
    "\n",
    "#     pop!(e)\n",
    "#     last_st2 = last(e)[1]\n",
    "\n",
    "#     # Sorting the arrivals so first time is 1 and so on\n",
    "#     sort!(e)\n",
    "\n",
    "#     return e, last_st1, last_st2\n",
    "# end\n"
   ]
  }
 ],
 "metadata": {
  "kernelspec": {
   "display_name": "Julia 1.7.2",
   "language": "julia",
   "name": "julia-1.7"
  },
  "language_info": {
   "file_extension": ".jl",
   "mimetype": "application/julia",
   "name": "julia",
   "version": "1.7.2"
  },
  "orig_nbformat": 4
 },
 "nbformat": 4,
 "nbformat_minor": 2
}
