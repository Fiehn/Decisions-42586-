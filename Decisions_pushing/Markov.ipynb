{
 "cells": [
  {
   "cell_type": "markdown",
   "metadata": {},
   "source": [
    "# Initialization\n",
    "Select the Julia kernel"
   ]
  },
  {
   "cell_type": "markdown",
   "metadata": {},
   "source": [
    "#### Load"
   ]
  },
  {
   "cell_type": "code",
   "execution_count": 116,
   "metadata": {},
   "outputs": [
    {
     "name": "stderr",
     "output_type": "stream",
     "text": [
      "\u001b[32m\u001b[1m    Updating\u001b[22m\u001b[39m registry at `C:\\Users\\rasmu\\.julia\\registries\\General`\n",
      "\u001b[32m\u001b[1m    Updating\u001b[22m\u001b[39m git-repo `https://github.com/JuliaRegistries/General.git`\n",
      "\u001b[32m\u001b[1m   Resolving\u001b[22m\u001b[39m package versions...\n",
      "\u001b[32m\u001b[1m   Installed\u001b[22m\u001b[39m InlineStrings ────────── v1.1.2\n",
      "\u001b[32m\u001b[1m   Installed\u001b[22m\u001b[39m IntelOpenMP_jll ──────── v2018.0.3+2\n",
      "\u001b[32m\u001b[1m   Installed\u001b[22m\u001b[39m FFTW ─────────────────── v1.4.5\n",
      "\u001b[32m\u001b[1m   Installed\u001b[22m\u001b[39m Preferences ──────────── v1.2.4\n",
      "\u001b[32m\u001b[1m   Installed\u001b[22m\u001b[39m RecipesPipeline ──────── v0.5.1\n",
      "\u001b[32m\u001b[1m   Installed\u001b[22m\u001b[39m Polynomials ──────────── v2.0.25\n",
      "\u001b[32m\u001b[1m   Installed\u001b[22m\u001b[39m Static ───────────────── v0.5.5\n",
      "\u001b[32m\u001b[1m   Installed\u001b[22m\u001b[39m FiniteDiff ───────────── v2.10.1\n",
      "\u001b[32m\u001b[1m   Installed\u001b[22m\u001b[39m NLopt ────────────────── v0.6.4\n",
      "\u001b[32m\u001b[1m   Installed\u001b[22m\u001b[39m DSP ──────────────────── v0.7.4\n",
      "\u001b[32m\u001b[1m   Installed\u001b[22m\u001b[39m ArnoldiMethod ────────── v0.1.0\n",
      "\u001b[32m\u001b[1m   Installed\u001b[22m\u001b[39m QuantEcon ────────────── v0.16.3\n",
      "\u001b[32m\u001b[1m   Installed\u001b[22m\u001b[39m SpecialFunctions ─────── v1.8.3\n",
      "\u001b[32m\u001b[1m   Installed\u001b[22m\u001b[39m IfElse ───────────────── v0.1.1\n",
      "\u001b[32m\u001b[1m   Installed\u001b[22m\u001b[39m NLSolversBase ────────── v7.8.2\n",
      "\u001b[32m\u001b[1m   Installed\u001b[22m\u001b[39m ExprTools ────────────── v0.1.8\n",
      "\u001b[32m\u001b[1m   Installed\u001b[22m\u001b[39m MathProgBase ─────────── v0.7.8\n",
      "\u001b[32m\u001b[1m   Installed\u001b[22m\u001b[39m PositiveFactorizations ─ v0.2.4\n",
      "\u001b[32m\u001b[1m   Installed\u001b[22m\u001b[39m Inflate ──────────────── v0.1.2\n",
      "\u001b[32m\u001b[1m   Installed\u001b[22m\u001b[39m MKL_jll ──────────────── v2021.1.1+2\n",
      "\u001b[32m\u001b[1m   Installed\u001b[22m\u001b[39m Intervals ────────────── v1.5.0\n",
      "\u001b[32m\u001b[1m   Installed\u001b[22m\u001b[39m AbstractFFTs ─────────── v1.1.0\n",
      "\u001b[32m\u001b[1m   Installed\u001b[22m\u001b[39m TimeZones ────────────── v1.7.1\n",
      "\u001b[32m\u001b[1m   Installed\u001b[22m\u001b[39m FFTW_jll ─────────────── v3.3.10+0\n",
      "\u001b[32m\u001b[1m   Installed\u001b[22m\u001b[39m UnPack ───────────────── v1.0.2\n",
      "\u001b[32m\u001b[1m   Installed\u001b[22m\u001b[39m Wayland_protocols_jll ── v1.25.0+0\n",
      "\u001b[32m\u001b[1m   Installed\u001b[22m\u001b[39m SimpleTraits ─────────── v0.9.4\n",
      "\u001b[32m\u001b[1m   Installed\u001b[22m\u001b[39m LineSearches ─────────── v7.1.1\n",
      "\u001b[32m\u001b[1m   Installed\u001b[22m\u001b[39m ArrayInterface ───────── v4.0.3\n",
      "\u001b[32m\u001b[1m   Installed\u001b[22m\u001b[39m ChainRulesCore ───────── v1.13.0\n",
      "\u001b[32m\u001b[1m   Installed\u001b[22m\u001b[39m LightGraphs ──────────── v1.3.5\n",
      "\u001b[32m\u001b[1m   Installed\u001b[22m\u001b[39m NLopt_jll ────────────── v2.7.1+0\n",
      "\u001b[32m\u001b[1m   Installed\u001b[22m\u001b[39m Mocking ──────────────── v0.7.3\n",
      "\u001b[32m\u001b[1m   Installed\u001b[22m\u001b[39m Primes ───────────────── v0.5.1\n",
      "\u001b[32m\u001b[1m   Installed\u001b[22m\u001b[39m IniFile ──────────────── v0.5.1\n",
      "\u001b[32m\u001b[1m   Installed\u001b[22m\u001b[39m FillArrays ───────────── v0.12.8\n",
      "\u001b[32m\u001b[1m   Installed\u001b[22m\u001b[39m Parameters ───────────── v0.12.3\n",
      "\u001b[32m\u001b[1m   Installed\u001b[22m\u001b[39m Optim ────────────────── v1.6.1\n",
      "\u001b[32m\u001b[1m    Updating\u001b[22m\u001b[39m `C:\\Users\\rasmu\\.julia\\environments\\v1.7\\Project.toml`\n",
      " \u001b[90m [fcd29c91] \u001b[39m\u001b[92m+ QuantEcon v0.16.3\u001b[39m\n",
      "\u001b[32m\u001b[1m    Updating\u001b[22m\u001b[39m `C:\\Users\\rasmu\\.julia\\environments\\v1.7\\Manifest.toml`\n",
      " \u001b[90m [621f4979] \u001b[39m\u001b[92m+ AbstractFFTs v1.1.0\u001b[39m\n",
      " \u001b[90m [ec485272] \u001b[39m\u001b[92m+ ArnoldiMethod v0.1.0\u001b[39m\n",
      " \u001b[90m [4fba245c] \u001b[39m\u001b[92m+ ArrayInterface v4.0.3\u001b[39m\n",
      " \u001b[90m [d360d2e6] \u001b[39m\u001b[93m↑ ChainRulesCore v1.12.2 ⇒ v1.13.0\u001b[39m\n",
      " \u001b[90m [717857b8] \u001b[39m\u001b[92m+ DSP v0.7.4\u001b[39m\n",
      " \u001b[90m [e2ba6199] \u001b[39m\u001b[92m+ ExprTools v0.1.8\u001b[39m\n",
      " \u001b[90m [7a1cc6ca] \u001b[39m\u001b[92m+ FFTW v1.4.5\u001b[39m\n",
      " \u001b[90m [1a297f60] \u001b[39m\u001b[95m↓ FillArrays v0.13.0 ⇒ v0.12.8\u001b[39m\n",
      " \u001b[90m [6a86dc24] \u001b[39m\u001b[92m+ FiniteDiff v2.10.1\u001b[39m\n",
      " \u001b[90m [615f187c] \u001b[39m\u001b[92m+ IfElse v0.1.1\u001b[39m\n",
      " \u001b[90m [d25df0c9] \u001b[39m\u001b[92m+ Inflate v0.1.2\u001b[39m\n",
      " \u001b[90m [83e8ac13] \u001b[39m\u001b[93m↑ IniFile v0.5.0 ⇒ v0.5.1\u001b[39m\n",
      " \u001b[90m [842dd82b] \u001b[39m\u001b[92m+ InlineStrings v1.1.2\u001b[39m\n",
      " \u001b[90m [d8418881] \u001b[39m\u001b[92m+ Intervals v1.5.0\u001b[39m\n",
      " \u001b[90m [093fc24a] \u001b[39m\u001b[92m+ LightGraphs v1.3.5\u001b[39m\n",
      " \u001b[90m [d3d80556] \u001b[39m\u001b[92m+ LineSearches v7.1.1\u001b[39m\n",
      " \u001b[90m [fdba3010] \u001b[39m\u001b[92m+ MathProgBase v0.7.8\u001b[39m\n",
      " \u001b[90m [78c3b35d] \u001b[39m\u001b[92m+ Mocking v0.7.3\u001b[39m\n",
      " \u001b[90m [d41bc354] \u001b[39m\u001b[92m+ NLSolversBase v7.8.2\u001b[39m\n",
      " \u001b[90m [76087f3c] \u001b[39m\u001b[92m+ NLopt v0.6.4\u001b[39m\n",
      " \u001b[90m [429524aa] \u001b[39m\u001b[92m+ Optim v1.6.1\u001b[39m\n",
      " \u001b[90m [d96e819e] \u001b[39m\u001b[92m+ Parameters v0.12.3\u001b[39m\n",
      " \u001b[90m [f27b6e38] \u001b[39m\u001b[92m+ Polynomials v2.0.25\u001b[39m\n",
      " \u001b[90m [85a6dd25] \u001b[39m\u001b[92m+ PositiveFactorizations v0.2.4\u001b[39m\n",
      " \u001b[90m [21216c6a] \u001b[39m\u001b[93m↑ Preferences v1.2.3 ⇒ v1.2.4\u001b[39m\n",
      " \u001b[90m [27ebfcd6] \u001b[39m\u001b[92m+ Primes v0.5.1\u001b[39m\n",
      " \u001b[90m [fcd29c91] \u001b[39m\u001b[92m+ QuantEcon v0.16.3\u001b[39m\n",
      " \u001b[90m [01d81517] \u001b[39m\u001b[93m↑ RecipesPipeline v0.5.0 ⇒ v0.5.1\u001b[39m\n",
      " \u001b[90m [699a6c99] \u001b[39m\u001b[92m+ SimpleTraits v0.9.4\u001b[39m\n",
      " \u001b[90m [276daf66] \u001b[39m\u001b[95m↓ SpecialFunctions v2.1.3 ⇒ v1.8.3\u001b[39m\n",
      " \u001b[90m [aedffcd0] \u001b[39m\u001b[92m+ Static v0.5.5\u001b[39m\n",
      " \u001b[90m [f269a46b] \u001b[39m\u001b[92m+ TimeZones v1.7.1\u001b[39m\n",
      " \u001b[90m [3a884ed6] \u001b[39m\u001b[92m+ UnPack v1.0.2\u001b[39m\n",
      " \u001b[90m [f5851436] \u001b[39m\u001b[92m+ FFTW_jll v3.3.10+0\u001b[39m\n",
      " \u001b[90m [1d5cc7b8] \u001b[39m\u001b[92m+ IntelOpenMP_jll v2018.0.3+2\u001b[39m\n",
      " \u001b[90m [856f044c] \u001b[39m\u001b[92m+ MKL_jll v2021.1.1+2\u001b[39m\n",
      " \u001b[90m [079eb43e] \u001b[39m\u001b[92m+ NLopt_jll v2.7.1+0\u001b[39m\n",
      " \u001b[90m [2381bf8a] \u001b[39m\u001b[93m↑ Wayland_protocols_jll v1.23.0+0 ⇒ v1.25.0+0\u001b[39m\n",
      " \u001b[90m [4af54fe1] \u001b[39m\u001b[92m+ LazyArtifacts\u001b[39m\n",
      "\u001b[32m\u001b[1m    Building\u001b[22m\u001b[39m TimeZones → `C:\\Users\\rasmu\\.julia\\scratchspaces\\44cfe95a-1eb2-52ea-b672-e2afdf69b78f\\0f1017f68dc25f1a0cb99f4988f78fe4f2e7955f\\build.log`\n",
      "\u001b[32m\u001b[1mPrecompiling\u001b[22m\u001b[39m project...\n",
      "\u001b[32m  ✓ \u001b[39m\u001b[90mUnPack\u001b[39m\n",
      "\u001b[32m  ✓ \u001b[39m\u001b[90mPositiveFactorizations\u001b[39m\n",
      "\u001b[32m  ✓ \u001b[39m\u001b[90mIniFile\u001b[39m\n",
      "\u001b[33m  ✓ \u001b[39m\u001b[90mPreferences\u001b[39m\n",
      "\u001b[32m  ✓ \u001b[39m\u001b[90mIfElse\u001b[39m\n",
      "\u001b[32m  ✓ \u001b[39m\u001b[90mInflate\u001b[39m\n",
      "\u001b[32m  ✓ \u001b[39m\u001b[90mMathProgBase\u001b[39m\n",
      "\u001b[33m  ✓ \u001b[39m\u001b[90mFillArrays\u001b[39m\n",
      "\u001b[32m  ✓ \u001b[39m\u001b[90mPrimes\u001b[39m\n",
      "\u001b[33m  ✓ \u001b[39m\u001b[90mChainRulesCore\u001b[39m\n",
      "\u001b[32m  ✓ \u001b[39m\u001b[90mParameters\u001b[39m\n",
      "\u001b[33m  ✓ \u001b[39m\u001b[90mJLLWrappers\u001b[39m\n",
      "\u001b[32m  ✓ \u001b[39m\u001b[90mSimpleTraits\u001b[39m\n",
      "\u001b[32m  ✓ \u001b[39m\u001b[90mArnoldiMethod\u001b[39m\n",
      "\u001b[32m  ✓ \u001b[39m\u001b[90mStatic\u001b[39m\n",
      "\u001b[33m  ✓ \u001b[39m\u001b[90mChangesOfVariables\u001b[39m\n",
      "\u001b[32m  ✓ \u001b[39m\u001b[90mAbstractFFTs\u001b[39m\n",
      "\u001b[33m  ✓ \u001b[39m\u001b[90mOpenSSL_jll\u001b[39m\n",
      "\u001b[33m  ✓ \u001b[39m\u001b[90mGraphite2_jll\u001b[39m\n",
      "\u001b[32m  ✓ \u001b[39m\u001b[90mLibmount_jll\u001b[39m\n",
      "\u001b[32m  ✓ \u001b[39m\u001b[90mHTTP\u001b[39m\n",
      "\u001b[33m  ✓ \u001b[39m\u001b[90mBzip2_jll\u001b[39m\n",
      "\u001b[32m  ✓ \u001b[39m\u001b[90mIntervals\u001b[39m\n",
      "\u001b[32m  ✓ \u001b[39m\u001b[90mlibsodium_jll\u001b[39m\n",
      "\u001b[33m  ✓ \u001b[39m\u001b[90mRmath_jll\u001b[39m\n",
      "\u001b[32m  ✓ \u001b[39m\u001b[90mXorg_libXau_jll\u001b[39m\n",
      "\u001b[33m  ✓ \u001b[39m\u001b[90mRecipesPipeline\u001b[39m\n",
      "\u001b[33m  ✓ \u001b[39m\u001b[90mlibfdk_aac_jll\u001b[39m\n",
      "\u001b[33m  ✓ \u001b[39m\u001b[90mlibpng_jll\u001b[39m\n",
      "\u001b[32m  ✓ \u001b[39m\u001b[90mIntelOpenMP_jll\u001b[39m\n",
      "\u001b[32m  ✓ \u001b[39m\u001b[90mGLPK_jll\u001b[39m\n",
      "\u001b[33m  ✓ \u001b[39m\u001b[90mLAME_jll\u001b[39m\n",
      "\u001b[33m  ✓ \u001b[39m\u001b[90mPixman_jll\u001b[39m\n",
      "\u001b[33m  ✓ \u001b[39m\u001b[90mEarCut_jll\u001b[39m\n",
      "\u001b[33m  ✓ \u001b[39m\u001b[90mOgg_jll\u001b[39m\n",
      "\u001b[32m  ✓ \u001b[39m\u001b[90mJpegTurbo_jll\u001b[39m\n",
      "\u001b[32m  ✓ \u001b[39m\u001b[90mXorg_libXdmcp_jll\u001b[39m\n",
      "\u001b[32m  ✓ \u001b[39m\u001b[90mNLopt_jll\u001b[39m\n",
      "\u001b[33m  ✓ \u001b[39m\u001b[90mx265_jll\u001b[39m\n",
      "\u001b[33m  ✓ \u001b[39m\u001b[90mx264_jll\u001b[39m\n",
      "\u001b[32m  ✓ \u001b[39m\u001b[90mZstd_jll\u001b[39m\n",
      "\u001b[33m  ✓ \u001b[39m\u001b[90mExpat_jll\u001b[39m\n",
      "\u001b[33m  ✓ \u001b[39m\u001b[90mLZO_jll\u001b[39m\n",
      "\u001b[33m  ✓ \u001b[39m\u001b[90mOpus_jll\u001b[39m\n",
      "\u001b[32m  ✓ \u001b[39m\u001b[90mXorg_xtrans_jll\u001b[39m\n",
      "\u001b[33m  ✓ \u001b[39m\u001b[90mPCRE_jll\u001b[39m\n",
      "\u001b[33m  ✓ \u001b[39m\u001b[90mLibiconv_jll\u001b[39m\n",
      "\u001b[33m  ✓ \u001b[39m\u001b[90mLibffi_jll\u001b[39m\n",
      "\u001b[32m  ✓ \u001b[39m\u001b[90mWayland_protocols_jll\u001b[39m\n",
      "\u001b[32m  ✓ \u001b[39m\u001b[90mLibgpg_error_jll\u001b[39m\n",
      "\u001b[32m  ✓ \u001b[39m\u001b[90mFFTW_jll\u001b[39m\n",
      "\u001b[33m  ✓ \u001b[39m\u001b[90mOpenSpecFun_jll\u001b[39m\n",
      "\u001b[32m  ✓ \u001b[39m\u001b[90mXorg_libpthread_stubs_jll\u001b[39m\n",
      "\u001b[33m  ✓ \u001b[39m\u001b[90mLibuuid_jll\u001b[39m\n",
      "\u001b[33m  ✓ \u001b[39m\u001b[90mFriBidi_jll\u001b[39m\n",
      "\u001b[32m  ✓ \u001b[39m\u001b[90mCodecBzip2\u001b[39m\n",
      "\u001b[32m  ✓ \u001b[39m\u001b[90mArrayInterface\u001b[39m\n",
      "\u001b[33m  ✓ \u001b[39m\u001b[90mFreeType2_jll\u001b[39m\n",
      "\u001b[33m  ✓ \u001b[39m\u001b[90mRmath\u001b[39m\n",
      "\u001b[32m  ✓ \u001b[39m\u001b[90mZeroMQ_jll\u001b[39m\n",
      "\u001b[33m  ✓ \u001b[39m\u001b[90mLogExpFunctions\u001b[39m\n",
      "\u001b[32m  ✓ \u001b[39m\u001b[90mMKL_jll\u001b[39m\n",
      "\u001b[33m  ✓ \u001b[39m\u001b[90mlibvorbis_jll\u001b[39m\n",
      "\u001b[32m  ✓ \u001b[39m\u001b[90mLibtiff_jll\u001b[39m\n",
      "\u001b[33m  ✓ \u001b[39m\u001b[90mXML2_jll\u001b[39m\n",
      "\u001b[32m  ✓ \u001b[39m\u001b[90mLibgcrypt_jll\u001b[39m\n",
      "\u001b[33m  ✓ \u001b[39m\u001b[90mFontconfig_jll\u001b[39m\n",
      "\u001b[32m  ✓ \u001b[39m\u001b[90mPolynomials\u001b[39m\n",
      "\u001b[32m  ✓ \u001b[39m\u001b[90mFiniteDiff\u001b[39m\n",
      "\u001b[32m  ✓ \u001b[39m\u001b[90mZMQ\u001b[39m\n",
      "\u001b[32m  ✓ \u001b[39m\u001b[90mLightGraphs\u001b[39m\n",
      "\u001b[32m  ✓ \u001b[39m\u001b[90mWayland_jll\u001b[39m\n",
      "\u001b[33m  ✓ \u001b[39m\u001b[90mGettext_jll\u001b[39m\n",
      "\u001b[33m  ✓ \u001b[39m\u001b[90mStatsBase\u001b[39m\n",
      "\u001b[32m  ✓ \u001b[39m\u001b[90mXSLT_jll\u001b[39m\n",
      "\u001b[33m  ✓ \u001b[39m\u001b[90mGlib_jll\u001b[39m\n",
      "\u001b[32m  ✓ \u001b[39m\u001b[90mXorg_libxcb_jll\u001b[39m\n",
      "\u001b[32m  ✓ \u001b[39mIJulia\n",
      "\u001b[32m  ✓ \u001b[39m\u001b[90mXorg_libX11_jll\u001b[39m\n",
      "\u001b[32m  ✓ \u001b[39m\u001b[90mXorg_xcb_util_jll\u001b[39m\n",
      "\u001b[33m  ✓ \u001b[39m\u001b[90mGeometryBasics\u001b[39m\n",
      "\u001b[33m  ✓ \u001b[39m\u001b[90mSpecialFunctions\u001b[39m\n",
      "\u001b[32m  ✓ \u001b[39m\u001b[90mXorg_libXext_jll\u001b[39m\n",
      "\u001b[32m  ✓ \u001b[39m\u001b[90mXorg_libXfixes_jll\u001b[39m\n",
      "\u001b[32m  ✓ \u001b[39m\u001b[90mXorg_libXrender_jll\u001b[39m\n",
      "\u001b[32m  ✓ \u001b[39m\u001b[90mXorg_libxkbfile_jll\u001b[39m\n",
      "\u001b[32m  ✓ \u001b[39m\u001b[90mXorg_xcb_util_image_jll\u001b[39m\n",
      "\u001b[32m  ✓ \u001b[39m\u001b[90mXorg_xcb_util_wm_jll\u001b[39m\n",
      "\u001b[32m  ✓ \u001b[39m\u001b[90mXorg_xcb_util_renderutil_jll\u001b[39m\n",
      "\u001b[32m  ✓ \u001b[39m\u001b[90mXorg_xcb_util_keysyms_jll\u001b[39m\n",
      "\u001b[32m  ✓ \u001b[39m\u001b[90mDiffRules\u001b[39m\n",
      "\u001b[33m  ✓ \u001b[39m\u001b[90mDualNumbers\u001b[39m\n",
      "\u001b[32m  ✓ \u001b[39m\u001b[90mFFTW\u001b[39m\n",
      "\u001b[32m  ✓ \u001b[39m\u001b[90mLibglvnd_jll\u001b[39m\n",
      "\u001b[32m  ✓ \u001b[39m\u001b[90mXorg_libXinerama_jll\u001b[39m\n",
      "\u001b[32m  ✓ \u001b[39m\u001b[90mXorg_libXi_jll\u001b[39m\n",
      "\u001b[33m  ✓ \u001b[39m\u001b[90mCairo_jll\u001b[39m\n",
      "\u001b[32m  ✓ \u001b[39m\u001b[90mXorg_libXrandr_jll\u001b[39m\n",
      "\u001b[32m  ✓ \u001b[39m\u001b[90mXorg_libXcursor_jll\u001b[39m\n",
      "\u001b[32m  ✓ \u001b[39m\u001b[90mXorg_xkbcomp_jll\u001b[39m\n",
      "\u001b[33m  ✓ \u001b[39m\u001b[90mHypergeometricFunctions\u001b[39m"
     ]
    },
    {
     "name": "stderr",
     "output_type": "stream",
     "text": [
      "\n",
      "\u001b[33m  ✓ \u001b[39m\u001b[90mHarfBuzz_jll\u001b[39m\n",
      "\u001b[32m  ✓ \u001b[39m\u001b[90mGLFW_jll\u001b[39m\n",
      "\u001b[32m  ✓ \u001b[39m\u001b[90mXorg_xkeyboard_config_jll\u001b[39m\n",
      "\u001b[33m  ✓ \u001b[39m\u001b[90mlibass_jll\u001b[39m\n",
      "\u001b[32m  ✓ \u001b[39m\u001b[90mxkbcommon_jll\u001b[39m\n",
      "\u001b[33m  ✓ \u001b[39m\u001b[90mFFMPEG_jll\u001b[39m\n",
      "\u001b[33m  ✓ \u001b[39m\u001b[90mStatsFuns\u001b[39m\n",
      "\u001b[32m  ✓ \u001b[39m\u001b[90mQt5Base_jll\u001b[39m\n",
      "\u001b[33m  ✓ \u001b[39m\u001b[90mFFMPEG\u001b[39m\n",
      "\u001b[32m  ✓ \u001b[39m\u001b[90mForwardDiff\u001b[39m\n",
      "\u001b[32m  ✓ \u001b[39m\u001b[90mGR_jll\u001b[39m\n",
      "\u001b[32m  ✓ \u001b[39m\u001b[90mDSP\u001b[39m\n",
      "\u001b[32m  ✓ \u001b[39m\u001b[90mNLSolversBase\u001b[39m\n",
      "\u001b[33m  ✓ \u001b[39m\u001b[90mGR\u001b[39m\n",
      "\u001b[32m  ✓ \u001b[39m\u001b[90mLineSearches\u001b[39m\n",
      "\u001b[33m  ✓ \u001b[39mDistributions\n",
      "\u001b[32m  ✓ \u001b[39m\u001b[90mOptim\u001b[39m\n",
      "\u001b[32m  ✓ \u001b[39m\u001b[90mMathOptInterface\u001b[39m\n",
      "\u001b[32m  ✓ \u001b[39m\u001b[90mNLopt\u001b[39m\n",
      "\u001b[32m  ✓ \u001b[39mGLPK\n",
      "\u001b[33m  ✓ \u001b[39mPlots\n",
      "\u001b[32m  ✓ \u001b[39mJuMP\n",
      "\u001b[32m  ✓ \u001b[39mQuantEcon\n",
      "  124 dependencies successfully precompiled in 65 seconds (73 already precompiled)\n",
      "  \u001b[33m49\u001b[39m dependencies precompiled but different versions are currently loaded. Restart julia to access the new versions\n"
     ]
    }
   ],
   "source": [
    "using Pkg\n",
    "Pkg.add(\"QuantEcon\")"
   ]
  },
  {
   "cell_type": "markdown",
   "metadata": {},
   "source": [
    "#### Initialize"
   ]
  },
  {
   "cell_type": "code",
   "execution_count": 2,
   "metadata": {},
   "outputs": [],
   "source": [
    "using Statistics\n",
    "using Distributions\n",
    "using Plots\n",
    "using LinearAlgebra\n",
    "using QuantEcon # http://quantecon.github.io/QuantEcon.jl/latest/api/QuantEcon.html"
   ]
  },
  {
   "cell_type": "markdown",
   "metadata": {},
   "source": [
    "# Usefull functions"
   ]
  },
  {
   "cell_type": "markdown",
   "metadata": {},
   "source": [
    "## n-step probabilities"
   ]
  },
  {
   "cell_type": "code",
   "execution_count": 34,
   "metadata": {},
   "outputs": [
    {
     "data": {
      "text/plain": [
       "3×3 Matrix{Float64}:\n",
       " 0.515874  0.293803  0.190323\n",
       " 0.485464  0.293036  0.221501\n",
       " 0.39193   0.200269  0.4078"
      ]
     },
     "metadata": {},
     "output_type": "display_data"
    }
   ],
   "source": [
    "P = Matrix([0.75 0.2 0.05; 0.3 0.6 0.1; 0.15 0.05 0.8])\n",
    "# 5 steps:\n",
    "P^5"
   ]
  },
  {
   "cell_type": "markdown",
   "metadata": {},
   "source": [
    "## t-test"
   ]
  },
  {
   "cell_type": "code",
   "execution_count": null,
   "metadata": {},
   "outputs": [],
   "source": [
    "c = [1.85,1.92,1.95,1.7,2.1,2.5,2.2,2,2.08]\n",
    "\n",
    "function t_test(x; conf_level=0.95)\n",
    "    alpha = (1 - conf_level)\n",
    "    tstar = quantile(TDist(length(x)-1), 1 - alpha/2)\n",
    "    SE = std(x)/sqrt(length(x))\n",
    "\n",
    "    lo = Statistics.mean(x) + (-1 * tstar * SE)\n",
    "    hi = Statistics.mean(x) + 1 * tstar * SE\n",
    "    \"($lo, $hi)\"\n",
    "end\n",
    "\n",
    "t_test(c)"
   ]
  },
  {
   "cell_type": "markdown",
   "metadata": {},
   "source": [
    "# Irreducibility and Aperiodicity (just for double checking and using for later functions)"
   ]
  },
  {
   "cell_type": "code",
   "execution_count": 10,
   "metadata": {},
   "outputs": [
    {
     "data": {
      "text/plain": [
       "Discrete Markov Chain\n",
       "stochastic matrix of type Matrix{Int64}:\n",
       "[0 1 0; 0 0 1; 1 0 0]"
      ]
     },
     "metadata": {},
     "output_type": "display_data"
    }
   ],
   "source": [
    "P = [0 1 0; 0 0 1; 1 0 0]\n",
    "mc = MarkovChain(P)"
   ]
  },
  {
   "cell_type": "markdown",
   "metadata": {},
   "source": [
    "### Irreducibility"
   ]
  },
  {
   "cell_type": "code",
   "execution_count": 4,
   "metadata": {},
   "outputs": [
    {
     "name": "stdout",
     "output_type": "stream",
     "text": [
      "true"
     ]
    }
   ],
   "source": [
    "# QuantEcon\n",
    "print(is_irreducible(mc))\n",
    "\n",
    "# Mine\n",
    "\n"
   ]
  },
  {
   "cell_type": "markdown",
   "metadata": {},
   "source": [
    "### Comunicating classes"
   ]
  },
  {
   "cell_type": "code",
   "execution_count": 8,
   "metadata": {},
   "outputs": [
    {
     "data": {
      "text/plain": [
       "2-element Vector{Vector{Int64}}:\n",
       " [1]\n",
       " [2, 3]"
      ]
     },
     "metadata": {},
     "output_type": "display_data"
    }
   ],
   "source": [
    "# QuantEcon\n",
    "communication_classes(mc)\n",
    "# Mine\n"
   ]
  },
  {
   "cell_type": "markdown",
   "metadata": {},
   "source": [
    "### Recurrent Classes"
   ]
  },
  {
   "cell_type": "code",
   "execution_count": 14,
   "metadata": {},
   "outputs": [
    {
     "data": {
      "text/plain": [
       "1-element Vector{Vector{Int64}}:\n",
       " [1, 2, 3]"
      ]
     },
     "metadata": {},
     "output_type": "display_data"
    }
   ],
   "source": [
    "# QuantEcon\n",
    "recurrent_classes(mc)\n",
    "\n",
    "# Mine"
   ]
  },
  {
   "cell_type": "markdown",
   "metadata": {},
   "source": [
    "### Aperiodicity"
   ]
  },
  {
   "cell_type": "code",
   "execution_count": 11,
   "metadata": {},
   "outputs": [
    {
     "data": {
      "text/plain": [
       "3"
      ]
     },
     "metadata": {},
     "output_type": "display_data"
    }
   ],
   "source": [
    "# QuanEcon\n",
    "period(mc) # returns periods\n",
    "is_aperiodic(mc) # True/False\n",
    "\n",
    "# Mine\n",
    "\n"
   ]
  },
  {
   "cell_type": "markdown",
   "metadata": {},
   "source": [
    "# Steady State"
   ]
  },
  {
   "cell_type": "markdown",
   "metadata": {},
   "source": [
    "Steady state probability:\n",
    "The steady state is the long term probabilities as in Pi_j=limit(p_ij^n, n->infinity) where Pi_j > 0\n",
    "\n",
    "Requirements:\n",
    "Ergodic and irreducible\n",
    "\n",
    "Calculate:\n",
    "Pi_j=sum(Pi_i*p_ij,i=0..M)"
   ]
  },
  {
   "cell_type": "code",
   "execution_count": 31,
   "metadata": {},
   "outputs": [
    {
     "data": {
      "text/plain": [
       "1-element Vector{Vector{Float64}}:\n",
       " [0.47619047619047616, 0.2698412698412698, 0.253968253968254]"
      ]
     },
     "metadata": {},
     "output_type": "display_data"
    }
   ],
   "source": [
    "# Choose your matrix\n",
    "P = Matrix([0.75 0.2 0.05; 0.3 0.6 0.1; 0.15 0.05 0.8])\n",
    "\n",
    "# Mine\n",
    "function steady(P)\n",
    "    # Computing the left side of the equation\n",
    "    A=P'-Matrix(1.0I, length(P[1,:]), length(P[:,1]))\n",
    "\n",
    "    ones = repeat([1.0],length(P[1,:]))'\n",
    "    A = vcat(A,ones)\n",
    "    # The right side of the equation\n",
    "    b = vcat(repeat([0.0],length(A[1,:])),1.0)\n",
    "\n",
    "    #Probability to be in a certain state\n",
    "    Pi = A\\b\n",
    "end\n",
    "\n",
    "# QuanEcon\n",
    "mc = MarkovChain(P);\n",
    "stationary_distributions(mc)"
   ]
  },
  {
   "cell_type": "markdown",
   "metadata": {},
   "source": [
    "# Absorbing States"
   ]
  },
  {
   "cell_type": "markdown",
   "metadata": {},
   "source": [
    "Absorbing Probabilities are determined as: B = (I - Q)^-1 * R or P= [ [Q,R] [0,I] ]\n",
    "where Q is a t-by-t matrix, R is a nonzero t-by-r matrix, 0 is an r-by-t zero matrix, and I is the r-by-r identity matrix. Thus, Q describes the probability of transitioning from some transient state to another while R describes the probability of transitioning from some transient state to some absorbing state. Source: https://en.wikipedia.org/wiki/Absorbing_Markov_chain"
   ]
  },
  {
   "cell_type": "code",
   "execution_count": 8,
   "metadata": {},
   "outputs": [
    {
     "data": {
      "text/plain": [
       "4×4 Matrix{Float64}:\n",
       " 1.0  0.0  0.0  0.0\n",
       " 0.7  0.0  0.3  0.0\n",
       " 0.0  0.7  0.0  0.3\n",
       " 0.0  0.0  0.0  1.0"
      ]
     },
     "metadata": {},
     "output_type": "display_data"
    }
   ],
   "source": [
    "\n",
    "P = Matrix([1 0 0 0; 0.7 0 0.3 0; 0 0.7 0 0.3; 0 0 0 1])"
   ]
  },
  {
   "cell_type": "markdown",
   "metadata": {},
   "source": [
    "### Initialize Absorbing States"
   ]
  },
  {
   "cell_type": "markdown",
   "metadata": {},
   "source": [
    "The (i, j) entry of matrix N is the expected number of times the chain is in state j, given that the chain started in state i. N is obtained with Q"
   ]
  },
  {
   "cell_type": "code",
   "execution_count": 25,
   "metadata": {},
   "outputs": [
    {
     "data": {
      "text/plain": [
       "create_RQ (generic function with 1 method)"
      ]
     },
     "metadata": {},
     "output_type": "display_data"
    }
   ],
   "source": [
    "####\n",
    "# Creating the Fundamental matrix N = (I-Q)^-1\n",
    "# This can be used for practically this entire area of markov\n",
    "\n",
    "function num_trans(P)\n",
    "    t = []\n",
    "    r = []\n",
    "    a = 0\n",
    "    party = 1\n",
    "    # Loop through matrix\n",
    "    for k in 1:length(P[:,1])\n",
    "        a += 1\n",
    "\n",
    "        for c in 1:length(P[1,:])\n",
    "            if P[k,c] == 1\n",
    "                # If there is a prob of 1 to return to same state it absorbs and is not included.\n",
    "                append!(r,a)\n",
    "                party = 0\n",
    "                break\n",
    "            end\n",
    "        end\n",
    "        # Not decent code at all, but it works..\n",
    "        if party == 1\n",
    "            append!(t,a)\n",
    "        else\n",
    "            party = 1\n",
    "        end\n",
    "    end\n",
    "    return t, r\n",
    "end\n",
    "\n",
    "function create_RQ(P)\n",
    "    t,r = num_trans(P)\n",
    "\n",
    "    # Creating empty vector \n",
    "    Q = Vector{Float64}(undef,length(t))'\n",
    "    # Choosing all the transient states into a pseydo transient matrix by size t-t\n",
    "    for k in t\n",
    "        qRow = []\n",
    "        for c in t\n",
    "            append!(qRow,P[k,c])\n",
    "        end\n",
    "        Q = vcat(Q, qRow')\n",
    "    end\n",
    "\n",
    "    R = Vector{Float64}(undef,length(r))'\n",
    "    \n",
    "    if isempty(r)\n",
    "        # Doing the same but for absorbant states into t-r, a few changes in the way the matrices combine\n",
    "        return Q[2:length(t)+1,:], R\n",
    "    else\n",
    "        for k in t\n",
    "            rRow = []\n",
    "            for c in r\n",
    "                append!(rRow,P[k,c])\n",
    "            end\n",
    "            R = vcat(R, rRow')\n",
    "        end\n",
    "        R = R[2:length(t)+1,:]\n",
    "    end\n",
    "\n",
    "    return Q[2:length(t)+1,:], R\n",
    "end\n",
    "\n",
    "# # Constructing the full baby, not at all necesary haha\n",
    "# begin\n",
    "# Q,R = create_RQ(P)\n",
    "# hcat(zeros(2,3),Matrix(I,2,2))\n",
    "# hcat(Q,R)\n",
    "# vcat(hcat(Q,R),hcat(zeros(2,3),Matrix(I,2,2)))\n",
    "# end\n",
    "\n",
    "\n"
   ]
  },
  {
   "cell_type": "markdown",
   "metadata": {},
   "source": [
    "### Absorbing Probabilities"
   ]
  },
  {
   "cell_type": "markdown",
   "metadata": {},
   "source": [
    "Another property is the probability of being absorbed in the absorbing state j when starting from transient state i, which is the (i,j)-entry of the matrix B = N R\n",
    "\n",
    "They use the sum methode again with condition:\n",
    "\n",
    "f_kk = 1\n",
    "f_ik = 0 if state i is recurrent and i not equal k"
   ]
  },
  {
   "cell_type": "code",
   "execution_count": 26,
   "metadata": {},
   "outputs": [
    {
     "name": "stdout",
     "output_type": "stream",
     "text": [
      "Any[0.7 0.0; 0.0 0.3][1.2658227848101267 0.37974683544303794; 0.8860759493670884 1.2658227848101264]"
     ]
    },
    {
     "data": {
      "text/plain": [
       "2×2 Matrix{Any}:\n",
       " 0.886076  0.113924\n",
       " 0.620253  0.379747"
      ]
     },
     "metadata": {},
     "output_type": "display_data"
    }
   ],
   "source": [
    "Q,R = create_RQ(P)\n",
    "N = inv(Matrix(1.0I,length(Q[1,:]),length(Q[:,1])) .- Q)\n",
    "B = N*R"
   ]
  },
  {
   "cell_type": "markdown",
   "metadata": {},
   "source": [
    "### Expected number of steps before absorption"
   ]
  },
  {
   "cell_type": "code",
   "execution_count": 6,
   "metadata": {},
   "outputs": [
    {
     "data": {
      "text/plain": [
       "3-element Vector{Float64}:\n",
       " 3.2\n",
       " 3.2\n",
       " 2.4000000000000004"
      ]
     },
     "metadata": {},
     "output_type": "display_data"
    }
   ],
   "source": [
    "# Expected number of steps before being absorbed, done from the wiki article\n",
    "function ENS(P)\n",
    "    Q,R = create_RQ(P)\n",
    "    N = inv(1*Matrix(I,length(Q[1,:]),length(Q[:,1])) .- Q)\n",
    "    return N*ones(3)\n",
    "end\n",
    "ENS(P)\n"
   ]
  },
  {
   "cell_type": "code",
   "execution_count": 22,
   "metadata": {},
   "outputs": [
    {
     "ename": "UndefVarError",
     "evalue": "UndefVarError: ERT not defined",
     "output_type": "error",
     "traceback": [
      "UndefVarError: ERT not defined\n",
      "\n",
      "Stacktrace:\n",
      "  [1] top-level scope\n",
      "    @ c:\\Users\\rasmu\\Desktop\\OneDrive\\OneDrive - Danmarks Tekniske Universitet\\Decisions under uncertainty\\Decisions_pushing\\Markov.ipynb:1\n",
      "  [2] eval\n",
      "    @ .\\boot.jl:373 [inlined]\n",
      "  [3] include_string(mapexpr::typeof(REPL.softscope), mod::Module, code::String, filename::String)\n",
      "    @ Base .\\loading.jl:1196\n",
      "  [4] #invokelatest#2\n",
      "    @ .\\essentials.jl:716 [inlined]\n",
      "  [5] invokelatest\n",
      "    @ .\\essentials.jl:714 [inlined]\n",
      "  [6] (::VSCodeServer.var\"#150#151\"{VSCodeServer.NotebookRunCellArguments, String})()\n",
      "    @ VSCodeServer c:\\Users\\rasmu\\.vscode\\extensions\\julialang.language-julia-1.5.11\\scripts\\packages\\VSCodeServer\\src\\serve_notebook.jl:18\n",
      "  [7] withpath(f::VSCodeServer.var\"#150#151\"{VSCodeServer.NotebookRunCellArguments, String}, path::String)\n",
      "    @ VSCodeServer c:\\Users\\rasmu\\.vscode\\extensions\\julialang.language-julia-1.5.11\\scripts\\packages\\VSCodeServer\\src\\repl.jl:185\n",
      "  [8] notebook_runcell_request(conn::VSCodeServer.JSONRPC.JSONRPCEndpoint{Base.PipeEndpoint, Base.PipeEndpoint}, params::VSCodeServer.NotebookRunCellArguments)\n",
      "    @ VSCodeServer c:\\Users\\rasmu\\.vscode\\extensions\\julialang.language-julia-1.5.11\\scripts\\packages\\VSCodeServer\\src\\serve_notebook.jl:14\n",
      "  [9] dispatch_msg(x::VSCodeServer.JSONRPC.JSONRPCEndpoint{Base.PipeEndpoint, Base.PipeEndpoint}, dispatcher::VSCodeServer.JSONRPC.MsgDispatcher, msg::Dict{String, Any})\n",
      "    @ VSCodeServer.JSONRPC c:\\Users\\rasmu\\.vscode\\extensions\\julialang.language-julia-1.5.11\\scripts\\packages\\JSONRPC\\src\\typed.jl:67\n",
      " [10] serve_notebook(pipename::String; crashreporting_pipename::String)\n",
      "    @ VSCodeServer c:\\Users\\rasmu\\.vscode\\extensions\\julialang.language-julia-1.5.11\\scripts\\packages\\VSCodeServer\\src\\serve_notebook.jl:94\n",
      " [11] top-level scope\n",
      "    @ c:\\Users\\rasmu\\.vscode\\extensions\\julialang.language-julia-1.5.11\\scripts\\notebook\\notebook.jl:12\n",
      " [12] include(mod::Module, _path::String)\n",
      "    @ Base .\\Base.jl:418\n",
      " [13] exec_options(opts::Base.JLOptions)\n",
      "    @ Base .\\client.jl:292\n",
      " [14] _start()\n",
      "    @ Base .\\client.jl:495"
     ]
    }
   ],
   "source": [
    "ERT(P,1)\n",
    "Q,R = create_RQ(P)\n",
    "N = inv(1*Matrix(I,length(Q[1,:]),length(Q[:,1])) .- Q)"
   ]
  },
  {
   "cell_type": "markdown",
   "metadata": {},
   "source": [
    "### Transient Probabilities"
   ]
  },
  {
   "cell_type": "markdown",
   "metadata": {},
   "source": [
    "The probability of visiting transient state j when starting at a transient state i is the (i,j)-entry of the matrix H = (N-I)(Ndg)^-1"
   ]
  },
  {
   "cell_type": "code",
   "execution_count": 27,
   "metadata": {},
   "outputs": [
    {
     "data": {
      "text/plain": [
       "2×2 Matrix{Float64}:\n",
       " 0.21  0.3\n",
       " 0.7   0.21"
      ]
     },
     "metadata": {},
     "output_type": "display_data"
    }
   ],
   "source": [
    "function TP(P)\n",
    "    Q,R = create_RQ(P)\n",
    "    N = inv(Matrix(1.0I,length(Q[1,:]),length(Q[:,1])) .- Q)\n",
    "\n",
    "    H = (N-Matrix(1.0I,length(N[1,:]),length(N[:,1])))*inv(Diagonal(N))\n",
    "end\n",
    "\n",
    "TP(P)\n"
   ]
  },
  {
   "cell_type": "markdown",
   "metadata": {},
   "source": [
    "# First Passage Time"
   ]
  },
  {
   "cell_type": "markdown",
   "metadata": {},
   "source": [
    "#### Mean Number of Steps, Hitting Time or First Passage Time"
   ]
  },
  {
   "cell_type": "markdown",
   "metadata": {},
   "source": [
    "Ok. This does not follow the method in the book or lectures. It takes a linear algebra approach, actualy the same is acomplished but with matrices and not individual calculations.\n",
    "It follows this guide and proof, if you want to go deeper: https://stats.libretexts.org/Bookshelves/Probability_Theory/Book%3A_Introductory_Probability_(Grinstead_and_Snell)/11%3A_Markov_Chains/11.05%3A_Mean_First_Passage_Time_for_Ergodic_Chains\n",
    "Alright, it creates a fundamental matrix for the ergodic chain, much like the absorbing earlier, then it uses the steady probabilities and the difference between two points on the fundamental.\n",
    "What they do is just set it as three equations and solve them:\n",
    "\n",
    "mu_30 = 1 + p_10*mu_10 + p_20*mu_20 + p_30*mu_30\n",
    "\n",
    "mu_20 = 1 + p_10*mu_10 + p_20*mu_20 + p_30*mu_30\n",
    "\n",
    "mu_10 = 1 + p_10*mu_10 + p_20*mu_20 + p_30*mu_30\n",
    "\n",
    "Then solve.\n",
    "The below methode will generelize better and give a matrix for all possible steps. "
   ]
  },
  {
   "cell_type": "code",
   "execution_count": 32,
   "metadata": {},
   "outputs": [
    {
     "data": {
      "text/plain": [
       "MeanNumSteps (generic function with 1 method)"
      ]
     },
     "metadata": {},
     "output_type": "display_data"
    }
   ],
   "source": [
    "\n",
    "function MeanNumSteps(P)\n",
    "    l = length(P[1,:])\n",
    "\n",
    "    # Creates a matrix with the steady states, terrible code but it works\n",
    "    W = repeat(vcat(steady(P)',steady(P)'),Int(round(l/2)))\n",
    "    if isodd(l)\n",
    "        W = W[1:l,:]\n",
    "    end\n",
    "\n",
    "    # Fundamental Matrix\n",
    "    Z = inv(Matrix(1.0I,l,l) - P + W)\n",
    "\n",
    "    # vector of steady states to use for the transition\n",
    "    w = steady(P)\n",
    "\n",
    "    # Empty vector, have not found a way to concenate without a starting row of same size\n",
    "    M = Vector{Float64}(undef,l)'\n",
    "    # The magic happens here!\n",
    "    # It creates \n",
    "    for k in 1:l\n",
    "        mRow = []\n",
    "        for c in 1:l\n",
    "            a = (Z[k,k] - Z[c,k])/w[k]\n",
    "            append!(mRow,a)\n",
    "        end\n",
    "        M = vcat(M, mRow')\n",
    "    end\n",
    "    return M[2:l+1,:]' + Matrix(1.0I,l,l)\n",
    "end"
   ]
  },
  {
   "cell_type": "code",
   "execution_count": 33,
   "metadata": {},
   "outputs": [
    {
     "data": {
      "text/plain": [
       "4×4 Matrix{Float64}:\n",
       " 1.0  4.0  4.0  5.33333\n",
       " 3.2  1.0  4.0  5.33333\n",
       " 2.4  4.0  1.0  6.66667\n",
       " 3.2  4.0  4.0  1.0"
      ]
     },
     "metadata": {},
     "output_type": "display_data"
    }
   ],
   "source": [
    "P = Matrix([0.25 0.25 0.25 0.25; 0.25 0.25 0.25 0.25; 0.5 0.25 0.25 0; 0.25 0.25 0.25 0.25])\n",
    "MeanNumSteps(P)"
   ]
  },
  {
   "cell_type": "markdown",
   "metadata": {},
   "source": [
    "#### Expected Recurence Time"
   ]
  },
  {
   "cell_type": "markdown",
   "metadata": {},
   "source": [
    "The steps it takes to return to the original state.\n",
    "Not a usefull function in itself but helpfull to remember how to do it."
   ]
  },
  {
   "cell_type": "code",
   "execution_count": 30,
   "metadata": {},
   "outputs": [
    {
     "data": {
      "text/plain": [
       "ERT (generic function with 1 method)"
      ]
     },
     "metadata": {},
     "output_type": "display_data"
    }
   ],
   "source": [
    "\n",
    "function ERT(P,i)\n",
    "    # takes transition matrix and state\n",
    "    Pi = steady(P)\n",
    "    1/Pi[i]\n",
    "end"
   ]
  },
  {
   "cell_type": "code",
   "execution_count": 6,
   "metadata": {},
   "outputs": [
    {
     "data": {
      "text/plain": [
       "3×3 Matrix{Int64}:\n",
       " 1  2  3\n",
       " 1  2  3\n",
       " 1  2  3"
      ]
     },
     "metadata": {},
     "output_type": "display_data"
    }
   ],
   "source": [
    "# Create a matrix, kinda sucks to do...\n",
    "\n",
    "P = [[1,1,1] [2,2,2] [3,3,3]]"
   ]
  },
  {
   "cell_type": "markdown",
   "metadata": {},
   "source": [
    "Ergodicity:\n",
    "ergodicity expresses the idea that a point of a moving system, either a dynamical system or a stochastic process, will eventually visit all parts of the space that the system moves in. Pi= Pi*p, Pi_i >0\n",
    "\n"
   ]
  },
  {
   "cell_type": "markdown",
   "metadata": {},
   "source": [
    "# Week 4 Task 5"
   ]
  },
  {
   "cell_type": "code",
   "execution_count": null,
   "metadata": {},
   "outputs": [],
   "source": [
    "# Eh lav det på papir"
   ]
  }
 ],
 "metadata": {
  "kernelspec": {
   "display_name": "Julia 1.7.2",
   "language": "julia",
   "name": "julia-1.7"
  },
  "language_info": {
   "file_extension": ".jl",
   "mimetype": "application/julia",
   "name": "julia",
   "version": "1.7.2"
  },
  "orig_nbformat": 4
 },
 "nbformat": 4,
 "nbformat_minor": 2
}
