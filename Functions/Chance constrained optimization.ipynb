{
 "cells": [
  {
   "cell_type": "markdown",
   "metadata": {},
   "source": [
    "# Week last"
   ]
  },
  {
   "cell_type": "markdown",
   "metadata": {},
   "source": [
    "## Problem 1"
   ]
  },
  {
   "cell_type": "code",
   "execution_count": 3,
   "metadata": {},
   "outputs": [],
   "source": [
    "using GLPK,JuMP"
   ]
  },
  {
   "cell_type": "code",
   "execution_count": 16,
   "metadata": {},
   "outputs": [
    {
     "name": "stdout",
     "output_type": "stream",
     "text": [
      "1800.0\n",
      "200.0\n",
      "800.0\n",
      "0.0\n"
     ]
    }
   ],
   "source": [
    "D = 1000\n",
    "epsilon = 0.01\n",
    "\n",
    "c = [1,2,4]\n",
    "omega = 1\n",
    "\n",
    "model = Model()\n",
    "set_optimizer(model,GLPK.Optimizer)\n",
    "\n",
    "@variable(model, x1)\n",
    "@variable(model, x2)\n",
    "@variable(model, x3)\n",
    "\n",
    "@constraint(model, x1 >= 0)\n",
    "@constraint(model, x2 >= 0)\n",
    "@constraint(model, x3 >= 0)\n",
    "@constraint(model, x1 <= 200)\n",
    "@constraint(model, x2 - 3*x3 >= 0)\n",
    "@constraint(model, x1 + x2*omega + x3 >= D)\n",
    "\n",
    "@objective(model, Min, c[1]*x1 + c[2]*x2 + c[3]*x3)\n",
    "\n",
    "optimize!(model)\n",
    "println(objective_value(model))\n",
    "println(value.(x1))\n",
    "println(value.(x2))\n",
    "println(value.(x3))\n"
   ]
  },
  {
   "cell_type": "code",
   "execution_count": 31,
   "metadata": {},
   "outputs": [
    {
     "data": {
      "text/plain": [
       "4-element Vector{Float64}:\n",
       " 3836.363636363636\n",
       "  200.0\n",
       " 1090.9090909090908\n",
       "  363.63636363636357"
      ]
     },
     "metadata": {},
     "output_type": "display_data"
    },
    {
     "data": {
      "text/plain": [
       "4-element Vector{Float64}:\n",
       " 2485.714285714286\n",
       "  200.0\n",
       " 1142.8571428571431\n",
       "   -7.579122514774402e-14"
      ]
     },
     "metadata": {},
     "output_type": "display_data"
    },
    {
     "data": {
      "text/plain": [
       "4-element Vector{Float64}:\n",
       " 1884.2105263157894\n",
       "  200.0\n",
       "  842.1052631578948\n",
       "   -3.789561257387201e-14"
      ]
     },
     "metadata": {},
     "output_type": "display_data"
    }
   ],
   "source": [
    "D = 1000\n",
    "epsilon = 0.01\n",
    "\n",
    "c = [1,2,4]\n",
    "\n",
    "F_minus_omega = [0.4,0.7,0.95]\n",
    "\n",
    "objective = []\n",
    "x1_vect = []\n",
    "x2_vect = []\n",
    "x3_vect = []\n",
    "\n",
    "for i in 1:length(F_minus_omega)\n",
    "    model = Model()\n",
    "    set_optimizer(model,GLPK.Optimizer)\n",
    "\n",
    "    @variable(model, x1)\n",
    "    @variable(model, x2)\n",
    "    @variable(model, x3)\n",
    "\n",
    "    @constraint(model, x1 >= 0)\n",
    "    @constraint(model, x2 >= 0)\n",
    "    @constraint(model, x3 >= 0)\n",
    "    @constraint(model, x1 <= 200)\n",
    "    @constraint(model, x2 - 3*x3 >= 0)\n",
    "    @constraint(model, (x1+x2*F_minus_omega[i] + x3) >= D)\n",
    "\n",
    "    @objective(model, Min, c[1]*x1 + c[2]*x2 + c[3]*x3)\n",
    "\n",
    "    optimize!(model)\n",
    "\n",
    "    push!(objective,objective_value(model))\n",
    "    push!(x1_vect,value.(x1))\n",
    "    push!(x2_vect,value.(x2))\n",
    "    push!(x3_vect,value.(x3))\n",
    "end\n",
    "\n",
    "display([objective[1],x1_vect[1],x2_vect[1],x3_vect[1]])\n",
    "display([objective[2],x1_vect[2],x2_vect[2],x3_vect[2]])\n",
    "display([objective[3],x1_vect[3],x2_vect[3],x3_vect[3]])"
   ]
  },
  {
   "cell_type": "code",
   "execution_count": 32,
   "metadata": {},
   "outputs": [
    {
     "data": {
      "text/plain": [
       "4-element Vector{Float64}:\n",
       " 4000.0\n",
       "  200.0\n",
       " 1500.0\n",
       "  200.0"
      ]
     },
     "metadata": {},
     "output_type": "display_data"
    },
    {
     "data": {
      "text/plain": [
       "4-element Vector{Float64}:\n",
       " 2485.714285714286\n",
       "  200.0\n",
       " 1142.857142857143\n",
       "    0.0"
      ]
     },
     "metadata": {},
     "output_type": "display_data"
    },
    {
     "data": {
      "text/plain": [
       "4-element Vector{Float64}:\n",
       " 1884.2105263157891\n",
       "  200.0\n",
       "  842.1052631578947\n",
       "   -3.789561257387201e-14"
      ]
     },
     "metadata": {},
     "output_type": "display_data"
    }
   ],
   "source": [
    "D = 1000\n",
    "c = [1,2,4]\n",
    "\n",
    "F_minus_omega = [0.4,0.7,0.95]\n",
    "\n",
    "objective = []\n",
    "x1_vect = []\n",
    "x2_vect = []\n",
    "x3_vect = []\n",
    "\n",
    "for i in 1:length(F_minus_omega)\n",
    "    model = Model()\n",
    "    set_optimizer(model,GLPK.Optimizer)\n",
    "\n",
    "    @variable(model, x1)\n",
    "    @variable(model, x2)\n",
    "    @variable(model, x3)\n",
    "\n",
    "    @constraint(model, x1 >= 0)\n",
    "    @constraint(model, x2 >= 0)\n",
    "    @constraint(model, x3 >= 0)\n",
    "    @constraint(model, x1 <= 200)\n",
    "    @constraint(model, x2*F_minus_omega[i] - 3*x3 >= 0)\n",
    "    @constraint(model, (x1+x2*F_minus_omega[i] + x3) >= D)\n",
    "\n",
    "    @objective(model, Min, c[1]*x1 + c[2]*x2 + c[3]*x3)\n",
    "\n",
    "    optimize!(model)\n",
    "\n",
    "    push!(objective,objective_value(model))\n",
    "    push!(x1_vect,value.(x1))\n",
    "    push!(x2_vect,value.(x2))\n",
    "    push!(x3_vect,value.(x3))\n",
    "end\n",
    "\n",
    "display([objective[1],x1_vect[1],x2_vect[1],x3_vect[1]])\n",
    "display([objective[2],x1_vect[2],x2_vect[2],x3_vect[2]])\n",
    "display([objective[3],x1_vect[3],x2_vect[3],x3_vect[3]])"
   ]
  },
  {
   "cell_type": "markdown",
   "metadata": {},
   "source": [
    "## Problem 2"
   ]
  },
  {
   "cell_type": "code",
   "execution_count": null,
   "metadata": {},
   "outputs": [],
   "source": [
    "using Distributions\n",
    "omega1 = 1.04\n",
    "omega2 = normal(1.1,0.04)\n",
    "money = 10000\n",
    "epsilon = 0.01\n",
    "\n",
    "model = Model()\n",
    "set_optimizer(model,GLPK.Optimizer)\n",
    "\n",
    "@variable(model, x1)\n",
    "@variable(model, x2)\n",
    "\n",
    "@constraint(model, x1 >= 0)\n",
    "@constraint(model, x2 >= 0)\n",
    "@constraint(model, x1+x2 = 1)\n",
    "\n",
    "@objective(model, Min, -(x1*omega1 + x2*omega2)*money)\n",
    "\n",
    "\n"
   ]
  }
 ],
 "metadata": {
  "kernelspec": {
   "display_name": "Julia 1.7.2",
   "language": "julia",
   "name": "julia-1.7"
  },
  "language_info": {
   "file_extension": ".jl",
   "mimetype": "application/julia",
   "name": "julia",
   "version": "1.7.2"
  },
  "orig_nbformat": 4
 },
 "nbformat": 4,
 "nbformat_minor": 2
}
