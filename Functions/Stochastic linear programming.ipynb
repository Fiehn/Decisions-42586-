{
 "cells": [
  {
   "cell_type": "markdown",
   "metadata": {},
   "source": [
    "# Initialization"
   ]
  },
  {
   "cell_type": "code",
   "execution_count": 15,
   "metadata": {},
   "outputs": [],
   "source": [
    "using LinearAlgebra\n",
    "using JuMP\n",
    "using GLPK\n",
    "using Distributions\n",
    "using Plots"
   ]
  },
  {
   "cell_type": "markdown",
   "metadata": {},
   "source": [
    "# Problem 1 - Week 10"
   ]
  },
  {
   "cell_type": "code",
   "execution_count": 30,
   "metadata": {},
   "outputs": [
    {
     "ename": "MethodError",
     "evalue": "MethodError: no method matching isless(::Int64, ::Vector{Int64})\nClosest candidates are:\n  isless(!Matched::AbstractVector, ::AbstractVector) at C:\\Users\\rasmu\\AppData\\Local\\Programs\\Julia-1.7.2\\share\\julia\\base\\abstractarray.jl:2532\n  isless(::Integer, !Matched::ForwardDiff.Dual{Ty}) where Ty at C:\\Users\\rasmu\\.julia\\packages\\ForwardDiff\\PBzup\\src\\dual.jl:145\n  isless(::Real, !Matched::AbstractFloat) at C:\\Users\\rasmu\\AppData\\Local\\Programs\\Julia-1.7.2\\share\\julia\\base\\operators.jl:185\n  ...",
     "output_type": "error",
     "traceback": [
      "MethodError: no method matching isless(::Int64, ::Vector{Int64})\n",
      "Closest candidates are:\n",
      "  isless(!Matched::AbstractVector, ::AbstractVector) at C:\\Users\\rasmu\\AppData\\Local\\Programs\\Julia-1.7.2\\share\\julia\\base\\abstractarray.jl:2532\n",
      "  isless(::Integer, !Matched::ForwardDiff.Dual{Ty}) where Ty at C:\\Users\\rasmu\\.julia\\packages\\ForwardDiff\\PBzup\\src\\dual.jl:145\n",
      "  isless(::Real, !Matched::AbstractFloat) at C:\\Users\\rasmu\\AppData\\Local\\Programs\\Julia-1.7.2\\share\\julia\\base\\operators.jl:185\n",
      "  ...\n",
      "\n",
      "Stacktrace:\n",
      "  [1] <(x::Int64, y::Vector{Int64})\n",
      "    @ Base .\\operators.jl:352\n",
      "  [2] <=(x::Int64, y::Vector{Int64})\n",
      "    @ Base .\\operators.jl:401\n",
      "  [3] >=(x::Vector{Int64}, y::Int64)\n",
      "    @ Base .\\operators.jl:425\n",
      "  [4] top-level scope\n",
      "    @ c:\\Users\\rasmu\\OneDrive - Danmarks Tekniske Universitet\\Onedrive\\OneDrive - Danmarks Tekniske Universitet\\Decisions under uncertainty\\Functions\\Stochastic linear programming.ipynb:27\n",
      "  [5] eval\n",
      "    @ .\\boot.jl:373 [inlined]\n",
      "  [6] include_string(mapexpr::typeof(REPL.softscope), mod::Module, code::String, filename::String)\n",
      "    @ Base .\\loading.jl:1196\n",
      "  [7] #invokelatest#2\n",
      "    @ .\\essentials.jl:716 [inlined]\n",
      "  [8] invokelatest\n",
      "    @ .\\essentials.jl:714 [inlined]\n",
      "  [9] (::VSCodeServer.var\"#164#165\"{VSCodeServer.NotebookRunCellArguments, String})()\n",
      "    @ VSCodeServer c:\\Users\\rasmu\\.vscode\\extensions\\julialang.language-julia-1.6.15\\scripts\\packages\\VSCodeServer\\src\\serve_notebook.jl:19\n",
      " [10] withpath(f::VSCodeServer.var\"#164#165\"{VSCodeServer.NotebookRunCellArguments, String}, path::String)\n",
      "    @ VSCodeServer c:\\Users\\rasmu\\.vscode\\extensions\\julialang.language-julia-1.6.15\\scripts\\packages\\VSCodeServer\\src\\repl.jl:184\n",
      " [11] notebook_runcell_request(conn::VSCodeServer.JSONRPC.JSONRPCEndpoint{Base.PipeEndpoint, Base.PipeEndpoint}, params::VSCodeServer.NotebookRunCellArguments)\n",
      "    @ VSCodeServer c:\\Users\\rasmu\\.vscode\\extensions\\julialang.language-julia-1.6.15\\scripts\\packages\\VSCodeServer\\src\\serve_notebook.jl:13\n",
      " [12] dispatch_msg(x::VSCodeServer.JSONRPC.JSONRPCEndpoint{Base.PipeEndpoint, Base.PipeEndpoint}, dispatcher::VSCodeServer.JSONRPC.MsgDispatcher, msg::Dict{String, Any})\n",
      "    @ VSCodeServer.JSONRPC c:\\Users\\rasmu\\.vscode\\extensions\\julialang.language-julia-1.6.15\\scripts\\packages\\JSONRPC\\src\\typed.jl:67\n",
      " [13] serve_notebook(pipename::String, outputchannel_logger::Base.CoreLogging.SimpleLogger; crashreporting_pipename::String)\n",
      "    @ VSCodeServer c:\\Users\\rasmu\\.vscode\\extensions\\julialang.language-julia-1.6.15\\scripts\\packages\\VSCodeServer\\src\\serve_notebook.jl:136\n",
      " [14] top-level scope\n",
      "    @ c:\\Users\\rasmu\\.vscode\\extensions\\julialang.language-julia-1.6.15\\scripts\\notebook\\notebook.jl:32\n",
      " [15] include(mod::Module, _path::String)\n",
      "    @ Base .\\Base.jl:418\n",
      " [16] exec_options(opts::Base.JLOptions)\n",
      "    @ Base .\\client.jl:292\n",
      " [17] _start()\n",
      "    @ Base .\\client.jl:495"
     ]
    }
   ],
   "source": [
    "###\n",
    "# x is duration parked\n",
    "# cp is 1 DKK/min\n",
    "# c+ is overtime at 3 DKK/min\n",
    "# between 50 and 70 with uniform distribution\n",
    "\n",
    "\n",
    "### Question 1\n",
    "# It is a newsvendor problem\n",
    "# SInce you have an uncertain amount of beers sold on a day\n",
    "# and a cost for ordering too little and a saving by ordering too much\n",
    "\n",
    "### Question 2\n",
    "# Underage is when you order too much time and the cost must be 1 DKK/min per amount ordered over\n",
    "# Overage cost is the 2 DKK/min because you ordered too little and pay the fee\n",
    "\n",
    "### Question 3\n",
    "# Time of the meeting is unceartain and is uniformly distributed\n",
    "\n",
    "### Question 4\n",
    "# Expected utility maximization slides 13 week 9\n",
    "# (p-c)*(omega-x)+(c-z)*(x-omega)\n",
    "# Pio = (p-c)\n",
    "# Piu = (c-z)\n",
    "\n",
    "xomega = [-20; 0; 20]\n",
    "y = 2*xomega*(xomega >= 0) + (-1)*xomega*(xomega < 0)\n",
    "\n",
    "p = plot(xomega,y)\n",
    "@show p\n",
    "# plots er umulige\n",
    "\n",
    "\n",
    "\n",
    "\n",
    "### Question 5\n",
    "# Use theorem (newsvendor problem) at slide 17 for week 9\n",
    "#x = 2/(2+1)\n",
    "#dist = Uniform(50,70)\n",
    "#x_start = quantile(dist,x)\n",
    "\n"
   ]
  },
  {
   "cell_type": "markdown",
   "metadata": {},
   "source": [
    "# Week 11"
   ]
  },
  {
   "cell_type": "code",
   "execution_count": 4,
   "metadata": {},
   "outputs": [],
   "source": [
    "#Import necessary Julia packages\n",
    "using LinearAlgebra, JuMP, GLPK, Distributions, Random\n"
   ]
  },
  {
   "cell_type": "code",
   "execution_count": null,
   "metadata": {},
   "outputs": [],
   "source": [
    "### Question 1\n",
    "c1 = 200\n",
    "c2 = 300\n",
    "c3 = 40\n",
    "\n",
    "n1 = 1\n",
    "n2 = 1\n",
    "n3 = 4\n",
    "\n",
    "n_tot = 10\n",
    "\n",
    "matrix = [[c1 c2 c3]; [10 300 0]; [250 550 5]]"
   ]
  },
  {
   "cell_type": "code",
   "execution_count": 17,
   "metadata": {},
   "outputs": [
    {
     "data": {
      "text/plain": [
       "8-element Vector{Any}:\n",
       " 10.0\n",
       " 35.0\n",
       " 40.0\n",
       "   [30.0, 35.0, 40.0, 60.0, 90.0]\n",
       "   [5.0, 10.0, 15.0, 35.0, 65.0]\n",
       "   [0.0, 0.0, 0.0, 0.0, 0.0]\n",
       "   [0.0, 0.0, 0.0, 0.0, 0.0]\n",
       "   [120.0, 140.0, 160.0, 240.0, 360.0]"
      ]
     },
     "metadata": {},
     "output_type": "display_data"
    },
    {
     "data": {
      "text/plain": [
       "23430.0"
      ]
     },
     "metadata": {},
     "output_type": "display_data"
    }
   ],
   "source": [
    "## Question 1 and 2\n",
    "ns = 5\n",
    "pk = 1/5\n",
    "omega = [40,45,50,70,100]\n",
    "xv = []\n",
    "ov = []\n",
    "\n",
    "\n",
    "#Declare model and optimizer\n",
    "rpmodel = Model()\n",
    "set_optimizer(rpmodel, GLPK.Optimizer)\n",
    "\n",
    "#Define variables\n",
    "@variable(rpmodel, x1)\n",
    "@variable(rpmodel, x2)\n",
    "@variable(rpmodel, x3)\n",
    "@variable(rpmodel, y1[1:5])\n",
    "@variable(rpmodel, y2[1:5])\n",
    "@variable(rpmodel, y3[1:5])\n",
    "@variable(rpmodel, y4[1:5])\n",
    "@variable(rpmodel, y5[1:5])\n",
    "\n",
    "#Define Constraints\n",
    "@constraint(rpmodel, x1 >= 10)\n",
    "@constraint(rpmodel, x2 >= 10)\n",
    "@constraint(rpmodel, x3 >= 40)\n",
    "@constraint(rpmodel, [i=1:5], y2[i] >= 5)\n",
    "@constraint(rpmodel, [i=1:5], y3[i]-y4[i] == 0)\n",
    "\n",
    "@constraint(rpmodel,[i=1:5], x1+y1[i]+y3[i] == omega[i])\n",
    "@constraint(rpmodel,[i=1:5], x2+y2[i]+y4[i] == omega[i])\n",
    "@constraint(rpmodel,[i=1:5], x3+y5[i] == omega[i]*4)\n",
    "\n",
    "\n",
    "@constraint(rpmodel,[i=1:5],  y1[i] >= 0)\n",
    "@constraint(rpmodel,[i=1:5],  y2[i] >= 0)\n",
    "@constraint(rpmodel,[i=1:5],  y3[i] >= 0)\n",
    "@constraint(rpmodel,[i=1:5],  y4[i] >= 0)\n",
    "@constraint(rpmodel,[i=1:5],  y5[i] >= 0)\n",
    "@constraint(rpmodel, x1 >= 0)\n",
    "@constraint(rpmodel, x2 >= 0)\n",
    "@constraint(rpmodel, x3 >= 0)\n",
    "\n",
    "#Define Objective\n",
    "@objective(rpmodel, Min, x1*c1+x2*c2+x3*c3 + sum( ( 1/5* (10*y1[i]+300*y2[i]+250*y3[i]+550*y4[i]+5*y5[i]) ) for i in 1:5))\n",
    "#Run the opimization\n",
    "#Extract solutions\n",
    "\n",
    "#Run the opimization\n",
    "optimize!(rpmodel)\n",
    "\n",
    "val = [value.(x1),value.(x2),value.(x3),value.(y1),value.(y2),value.(y3),value.(y4),value.(y5)]\n",
    "ov = objective_value(rpmodel)\n",
    "\n",
    "display(val)\n",
    "display(ov)\n"
   ]
  },
  {
   "cell_type": "code",
   "execution_count": 32,
   "metadata": {},
   "outputs": [
    {
     "data": {
      "text/plain": [
       "8-element Vector{Float64}:\n",
       "  10.0\n",
       "  56.0\n",
       "  40.0\n",
       "  51.0\n",
       "   5.0\n",
       "   0.0\n",
       "   0.0\n",
       " 204.0"
      ]
     },
     "metadata": {},
     "output_type": "display_data"
    },
    {
     "data": {
      "text/plain": [
       "23430.0"
      ]
     },
     "metadata": {},
     "output_type": "display_data"
    }
   ],
   "source": [
    "### Question 3\n",
    "ns = 5\n",
    "pk = 1/5\n",
    "omega = [40,45,50,70,100]\n",
    "xv = []\n",
    "ov = []\n",
    "\n",
    "for i in 1:ns\n",
    "    #Declare model and optimizer\n",
    "    wsmodel = Model()\n",
    "    set_optimizer(wsmodel, GLPK.Optimizer)\n",
    "\n",
    "    #Define variables\n",
    "    @variable(wsmodel, x1)\n",
    "    @variable(wsmodel, x2)\n",
    "    @variable(wsmodel, x3)\n",
    "    @variable(wsmodel, y1)\n",
    "    @variable(wsmodel, y2)\n",
    "    @variable(wsmodel, y3)\n",
    "    @variable(wsmodel, y4)\n",
    "    @variable(wsmodel, y5)\n",
    "\n",
    "    #Define Constraints\n",
    "    @constraint(wsmodel, x1 >= 10)\n",
    "    @constraint(wsmodel, x2 >= 10)\n",
    "    @constraint(wsmodel, x3 >= 40)\n",
    "    @constraint(wsmodel, y2 >= 5)\n",
    "    @constraint(wsmodel, y3-y4 == 0)\n",
    "\n",
    "    @constraint(wsmodel, x1+y1+y3 == omega[i])\n",
    "    @constraint(wsmodel, x2+y2+y4 == omega[i])\n",
    "    @constraint(wsmodel, x3+y5 == omega[i]*4)\n",
    "\n",
    "\n",
    "    @constraint(wsmodel, y1 >= 0)\n",
    "    @constraint(wsmodel, y2 >= 0)\n",
    "    @constraint(wsmodel, y3 >= 0)\n",
    "    @constraint(wsmodel, y4 >= 0)\n",
    "    @constraint(wsmodel, y5 >= 0)\n",
    "    @constraint(wsmodel, x1 >= 0)\n",
    "    @constraint(wsmodel, x2 >= 0)\n",
    "    @constraint(wsmodel, x3 >= 0)\n",
    "\n",
    "    #Define Objective\n",
    "    @objective(wsmodel, Min, x1*c1+x2*c2+x3*c3 + (10*y1+300*y2+250*y3+550*y4+5*y5) )\n",
    "    #Run the opimization\n",
    "    #Extract solutions\n",
    "\n",
    "    #Run the opimization\n",
    "    optimize!(wsmodel)\n",
    "\n",
    "    push!(xv,[value.(x1),value.(x2),value.(x3),value.(y1),value.(y2),value.(y3),value.(y4),value.(y5)])\n",
    "    push!(ov,objective_value(wsmodel))\n",
    "end\n",
    "display(mean(xv))\n",
    "display(mean(ov))\n"
   ]
  },
  {
   "cell_type": "code",
   "execution_count": 33,
   "metadata": {},
   "outputs": [
    {
     "data": {
      "text/plain": [
       "8-element Vector{Float64}:\n",
       "  10.0\n",
       "  56.0\n",
       "  40.0\n",
       "  51.0\n",
       "   5.0\n",
       "   0.0\n",
       "   0.0\n",
       " 204.0"
      ]
     },
     "metadata": {},
     "output_type": "display_data"
    },
    {
     "name": "stdout",
     "output_type": "stream",
     "text": [
      "23430.0\n"
     ]
    }
   ],
   "source": [
    "omega = [40,45,50,70,100]\n",
    "\n",
    "evmodel = Model()\n",
    "set_optimizer(evmodel, GLPK.Optimizer)\n",
    "\n",
    "#Define variables\n",
    "@variable(evmodel, x1)\n",
    "@variable(evmodel, x2)\n",
    "@variable(evmodel, x3)\n",
    "@variable(evmodel, y1)\n",
    "@variable(evmodel, y2)\n",
    "@variable(evmodel, y3)\n",
    "@variable(evmodel, y4)\n",
    "@variable(evmodel, y5)\n",
    "\n",
    "#Define Constraints\n",
    "@constraint(evmodel, x1 >= 10)\n",
    "@constraint(evmodel, x2 >= 10)\n",
    "@constraint(evmodel, x3 >= 40)\n",
    "@constraint(evmodel, y2 >= 5)\n",
    "@constraint(evmodel, y3-y4 == 0)\n",
    "\n",
    "@constraint(evmodel, x1+y1+y3 == mean(omega))\n",
    "@constraint(evmodel, x2+y2+y4 == mean(omega))\n",
    "@constraint(evmodel, x3+y5 == mean(omega)*4)\n",
    "\n",
    "\n",
    "@constraint(evmodel, y1 >= 0)\n",
    "@constraint(evmodel, y2 >= 0)\n",
    "@constraint(evmodel, y3 >= 0)\n",
    "@constraint(evmodel, y4 >= 0)\n",
    "@constraint(evmodel, y5 >= 0)\n",
    "@constraint(evmodel, x1 >= 0)\n",
    "@constraint(evmodel, x2 >= 0)\n",
    "@constraint(evmodel, x3 >= 0)\n",
    "\n",
    "#Define Objective\n",
    "@objective(evmodel, Min, x1*c1+x2*c2+x3*c3 + (10*y1+300*y2+250*y3+550*y4+5*y5) )\n",
    "#Run the opimization\n",
    "#Extract solutions\n",
    "\n",
    "#Run the opimization\n",
    "optimize!(evmodel)\n",
    "\n",
    "val = [value.(x1),value.(x2),value.(x3),value.(y1),value.(y2),value.(y3),value.(y4),value.(y5)]\n",
    "ov = objective_value(evmodel)\n",
    "\n",
    "display(val)\n",
    "println(ov)"
   ]
  },
  {
   "cell_type": "code",
   "execution_count": null,
   "metadata": {},
   "outputs": [],
   "source": []
  }
 ],
 "metadata": {
  "kernelspec": {
   "display_name": "Julia 1.7.2",
   "language": "julia",
   "name": "julia-1.7"
  },
  "language_info": {
   "file_extension": ".jl",
   "mimetype": "application/julia",
   "name": "julia",
   "version": "1.7.2"
  },
  "orig_nbformat": 4
 },
 "nbformat": 4,
 "nbformat_minor": 2
}
