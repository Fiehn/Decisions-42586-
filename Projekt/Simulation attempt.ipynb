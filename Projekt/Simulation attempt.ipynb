{
 "cells": [
  {
   "cell_type": "code",
   "execution_count": 1,
   "metadata": {},
   "outputs": [],
   "source": [
    "using Random, Distributions"
   ]
  },
  {
   "cell_type": "code",
   "execution_count": 7,
   "metadata": {},
   "outputs": [
    {
     "data": {
      "text/plain": [
       "moving (generic function with 1 method)"
      ]
     },
     "metadata": {},
     "output_type": "display_data"
    }
   ],
   "source": [
    "struct Environment\n",
    "    hours::Float64\n",
    "    arrival_D_st1::Exponential\n",
    "    arrival_D_st2::Exponential\n",
    "    travel_time_st1st2_D::Exponential\n",
    "    travel_time_st2st1_D::Exponential\n",
    "\n",
    "    \n",
    "    Environment() = new(420.0, \n",
    "    Exponential(10),\n",
    "    Exponential(10),\n",
    "    Exponential(10),\n",
    "    Exponential(10))\n",
    "end\n",
    "\n",
    "mutable struct State\n",
    "    station1_vehs::Int32\n",
    "    station2_vehs::Int32\n",
    "end\n",
    "\n",
    "# mutable struct Vect\n",
    "#     time_st1::Float64\n",
    "#     time_st2::Float64\n",
    "#     travel_from_st1::Float64\n",
    "#     travel_from_st2::Float64\n",
    "\n",
    "#     Vect() = new(Vector(),Vector(),Vector())\n",
    "# end\n",
    "\n",
    "function moving(env::Environment, state::State)\n",
    "    time_st1 = Vector{Float64}()\n",
    "    time_st2 = Vector{Float64}()\n",
    "    time_from_st1 = Vector{Float64}()\n",
    "    time_from_st2 = Vector{Float64}()\n",
    "\n",
    "    append!(time_st1,rand(arrival_D_st1))\n",
    "    append!(time_st2,rand(arrival_D_st2))\n",
    "\n",
    "    max(time_from_st1,time_from_st2)\n",
    "\n",
    "end\n"
   ]
  },
  {
   "cell_type": "code",
   "execution_count": 110,
   "metadata": {},
   "outputs": [
    {
     "name": "stdout",
     "output_type": "stream",
     "text": [
      "aj\n",
      "na\n",
      "lon\n",
      "la\n",
      "aj\n",
      "lon\n",
      "aj\n",
      "aj\n",
      "la\n",
      "lon\n",
      "[71.62357998333988, 63.093335020066434, 33.313651003967, 9.832390594385078][64.9515268496291, 100.0, 37.834199381928, 100.0, 18.21233596117552, 100.0]\n"
     ]
    }
   ],
   "source": [
    "time_st1 = Vector{Float64}()\n",
    "time_st2 = Vector{Float64}()\n",
    "time_from_st1 = Vector{Float64}()\n",
    "time_from_st2 = Vector{Float64}()\n",
    "n_st1_vect = Vector{Int64}()\n",
    "n_st2_vect = Vector{Int64}()\n",
    "\n",
    "draw_st1 = rand(Exponential(10))\n",
    "draw_st2 = rand(Exponential(10))\n",
    "\n",
    "\n",
    "\n",
    "n_st1 = 5\n",
    "n_st2 = 5\n",
    "n_total = n_st1 + n_st2\n",
    "n_travel = 0\n",
    "travel_f_1 = 100 #problem - Interrem ingen rejser. ingen er op vej nogen steder hen\n",
    "travel_f_2 = 100\n",
    "shit_1 = 0 #Nogen som ankommer og går uden at blive serviceret. \n",
    "shit_2 = 0\n",
    "\n",
    "push!(time_st1,draw_st1) #Smider de første værdier ind i vektoren. \n",
    "push!(time_st2,draw_st2)\n",
    "push!(time_from_st1,travel_f_1)\n",
    "push!(time_from_st2,travel_f_2)\n",
    "push!(n_st1_vect,n_st1)\n",
    "push!(n_st2_vect,n_st2)\n",
    "\n",
    "\n",
    "# antager at hvis der ikke er en bil løber folk væk igen og der gåe en ny tid før studerende ankommer\n",
    "\n",
    "\n",
    "for i in 1:10 #placeholder for whileloop. \n",
    "    # Crude as shit!\n",
    "    if last(time_st1) < last(time_st2) && last(time_st1) < last(time_from_st1) && last(time_st1) < last(time_from_st2)\n",
    "        \n",
    "        if n_st1 >= 1 && n_st1 <= n_travel+n_st1+n_st2 \n",
    "            n_st1 -= 1\n",
    "            push!(n_st1_vect,n_st1)\n",
    "            travel_f_1 = rand(Exponential(10))\n",
    "            n_travel +=1\n",
    "            push!(time_from_st1,travel_f_1+last(time_st1))\n",
    "        \n",
    "        else\n",
    "            shit_1 += 1\n",
    "        end\n",
    "\n",
    "        draw_st1 = rand(Exponential(10))\n",
    "        push!(time_st1,last(time_st1)+draw_st1)\n",
    "\n",
    "    elseif last(time_st2) < last(time_st1) && last(time_st2) < last(time_from_st1) && last(time_st2) < last(time_from_st2)\n",
    "        \n",
    "        if n_st2 >= 1 && n_st2 <= n_travel+n_st1+n_st2\n",
    "            n_st2 -= 1\n",
    "            push!(n_st2_vect,n_st2)\n",
    "            travel_f_2 = rand(Exponential(10))\n",
    "            n_travel += 1\n",
    "            push!(time_from_st2,travel_f_2+last(time_st2))\n",
    "            \n",
    "        else\n",
    "            shit_2 += 1\n",
    "        end\n",
    "\n",
    "        draw_st2 = rand(Exponential(10))\n",
    "        push!(time_st2,last(time_st2)+draw_st2)\n",
    "\n",
    "    elseif last(time_st1) > last(time_from_st1) && last(time_st2) > last(time_from_st1) && last(time_from_st1) < last(time_from_st2) && n_travel+n_st1+n_st2 == n_total\n",
    "        n_st2 += 1\n",
    "        push!(n_st2_vect,n_st2+last(n_st2_vect))\n",
    "        n_travel -= 1\n",
    "        \n",
    "        push!(time_from_st1,100)\n",
    "\n",
    "    elseif last(time_st1) > last(time_from_st2) && last(time_st2) > last(time_from_st2) && last(time_from_st1) > last(time_from_st2) && n_travel+n_st1+n_st2 == n_total\n",
    "        n_st1 += 1\n",
    "        push!(n_st1_vect,n_st1+last(n_st1_vect))\n",
    "        n_travel -= 1\n",
    "        \n",
    "        push!(time_from_st2,100)\n",
    "    else\n",
    "        println('Something Wrong.')\n",
    "    end\n",
    "end\n",
    "\n",
    "\n",
    "println(time_st1,time_from_st1)\n"
   ]
  },
  {
   "cell_type": "code",
   "execution_count": 7,
   "metadata": {},
   "outputs": [],
   "source": [
    "using Random, Distributions, Plots"
   ]
  },
  {
   "cell_type": "code",
   "execution_count": null,
   "metadata": {},
   "outputs": [],
   "source": [
    "struct Event\n",
    "    type::Symbol\n",
    "    time::Float64\n",
    "end\n",
    "\n",
    "struct Environment\n",
    "    hours::Float64\n",
    "    lambda::Float64  #arrival rate\n",
    "    mu::Float64 #service rate\n",
    "   \n",
    "   #Add arrival rate per hour for both stations. Add travel-time rate for both stations.\n",
    "    Environment() = new(\n",
    "    2, \n",
    "    (1/6), \n",
    "    (1/12)\n",
    "    )\n",
    "end\n",
    "\n",
    "mutable struct power\n",
    "    n_cars"
   ]
  },
  {
   "cell_type": "code",
   "execution_count": 111,
   "metadata": {},
   "outputs": [
    {
     "name": "stdout",
     "output_type": "stream",
     "text": [
      "[3, 4, 5, 6, 5][3, 2, 3, 4, 5, 4, 5]\n"
     ]
    }
   ],
   "source": [
    "\n",
    "function arrival_generator(env::Environment,event::Event)\n",
    "    arrivals = Array{Tuple{String,Float64},1}() # Skal gøres til Struct somehow\n",
    "    while t <= env.hours\n",
    "\n",
    "\n",
    "\n",
    "\n",
    "\n",
    "end"
   ]
  },
  {
   "cell_type": "code",
   "execution_count": 47,
   "metadata": {},
   "outputs": [
    {
     "data": {
      "text/plain": [
       "1"
      ]
     },
     "metadata": {},
     "output_type": "display_data"
    }
   ],
   "source": []
  },
  {
   "cell_type": "code",
   "execution_count": 78,
   "metadata": {},
   "outputs": [
    {
     "data": {
      "text/plain": [
       "3-element Vector{Tuple{String, Float64}}:\n",
       " (\"3\", 1.0)\n",
       " (\"2\", 2.0)\n",
       " (\"12\", 5.0)"
      ]
     },
     "metadata": {},
     "output_type": "display_data"
    }
   ],
   "source": [
    "arrivals = Array{Tuple{String,Float64},1}([(\"12\",5),(\"2\",2)])\n",
    "push!(arrivals,(\"3\",1))\n",
    "arrivals = sort(arrivals,rev=true)"
   ]
  },
  {
   "cell_type": "code",
   "execution_count": 80,
   "metadata": {},
   "outputs": [
    {
     "data": {
      "text/plain": [
       "5.0"
      ]
     },
     "metadata": {},
     "output_type": "display_data"
    }
   ],
   "source": [
    "last(arrivals)[2]"
   ]
  },
  {
   "cell_type": "code",
   "execution_count": 81,
   "metadata": {},
   "outputs": [
    {
     "data": {
      "text/plain": [
       "3-element Vector{Tuple{String, Float64}}:\n",
       " (\"12\", 5.0)\n",
       " (\"2\", 2.0)\n",
       " (\"3\", 1.0)"
      ]
     },
     "metadata": {},
     "output_type": "display_data"
    }
   ],
   "source": [
    "arrivals = Array{Tuple{String,Float64},1}([(\"12\",5),(\"2\",2)])\n",
    "push!(arrivals,(\"3\",1))"
   ]
  },
  {
   "cell_type": "code",
   "execution_count": 82,
   "metadata": {},
   "outputs": [
    {
     "ename": "ErrorException",
     "evalue": "invalid redefinition of constant Event",
     "output_type": "error",
     "traceback": [
      "invalid redefinition of constant Event\n",
      "\n",
      "Stacktrace:\n",
      "  [1] top-level scope\n",
      "    @ c:\\Users\\rasmu\\Desktop\\OneDrive\\OneDrive - Danmarks Tekniske Universitet\\Decisions under uncertainty\\Projekt\\Simulation attempt.ipynb:1\n",
      "  [2] eval\n",
      "    @ .\\boot.jl:373 [inlined]\n",
      "  [3] include_string(mapexpr::typeof(REPL.softscope), mod::Module, code::String, filename::String)\n",
      "    @ Base .\\loading.jl:1196\n",
      "  [4] #invokelatest#2\n",
      "    @ .\\essentials.jl:716 [inlined]\n",
      "  [5] invokelatest\n",
      "    @ .\\essentials.jl:714 [inlined]\n",
      "  [6] (::VSCodeServer.var\"#159#160\"{VSCodeServer.NotebookRunCellArguments, String})()\n",
      "    @ VSCodeServer c:\\Users\\rasmu\\.vscode\\extensions\\julialang.language-julia-1.6.11\\scripts\\packages\\VSCodeServer\\src\\serve_notebook.jl:19\n",
      "  [7] withpath(f::VSCodeServer.var\"#159#160\"{VSCodeServer.NotebookRunCellArguments, String}, path::String)\n",
      "    @ VSCodeServer c:\\Users\\rasmu\\.vscode\\extensions\\julialang.language-julia-1.6.11\\scripts\\packages\\VSCodeServer\\src\\repl.jl:184\n",
      "  [8] notebook_runcell_request(conn::VSCodeServer.JSONRPC.JSONRPCEndpoint{Base.PipeEndpoint, Base.PipeEndpoint}, params::VSCodeServer.NotebookRunCellArguments)\n",
      "    @ VSCodeServer c:\\Users\\rasmu\\.vscode\\extensions\\julialang.language-julia-1.6.11\\scripts\\packages\\VSCodeServer\\src\\serve_notebook.jl:13\n",
      "  [9] dispatch_msg(x::VSCodeServer.JSONRPC.JSONRPCEndpoint{Base.PipeEndpoint, Base.PipeEndpoint}, dispatcher::VSCodeServer.JSONRPC.MsgDispatcher, msg::Dict{String, Any})\n",
      "    @ VSCodeServer.JSONRPC c:\\Users\\rasmu\\.vscode\\extensions\\julialang.language-julia-1.6.11\\scripts\\packages\\JSONRPC\\src\\typed.jl:67\n",
      " [10] serve_notebook(pipename::String, outputchannel_logger::Base.CoreLogging.SimpleLogger; crashreporting_pipename::String)\n",
      "    @ VSCodeServer c:\\Users\\rasmu\\.vscode\\extensions\\julialang.language-julia-1.6.11\\scripts\\packages\\VSCodeServer\\src\\serve_notebook.jl:136\n",
      " [11] top-level scope\n",
      "    @ c:\\Users\\rasmu\\.vscode\\extensions\\julialang.language-julia-1.6.11\\scripts\\notebook\\notebook.jl:22\n",
      " [12] include(mod::Module, _path::String)\n",
      "    @ Base .\\Base.jl:418\n",
      " [13] exec_options(opts::Base.JLOptions)\n",
      "    @ Base .\\client.jl:292\n",
      " [14] _start()\n",
      "    @ Base .\\client.jl:495"
     ]
    }
   ],
   "source": [
    "struct Event\n",
    "    type::String\n",
    "    time::Float64\n",
    "end\n",
    "\n",
    "function(events::Array{Tuple{Event},1})\n",
    "    push!(events,(\"3\",1))\n",
    "    print(e.time)\n",
    "end\n"
   ]
  },
  {
   "cell_type": "code",
   "execution_count": null,
   "metadata": {},
   "outputs": [],
   "source": []
  }
 ],
 "metadata": {
  "kernelspec": {
   "display_name": "Julia 1.7.2",
   "language": "julia",
   "name": "julia-1.7"
  },
  "language_info": {
   "file_extension": ".jl",
   "mimetype": "application/julia",
   "name": "julia",
   "version": "1.7.2"
  },
  "orig_nbformat": 4
 },
 "nbformat": 4,
 "nbformat_minor": 2
}
