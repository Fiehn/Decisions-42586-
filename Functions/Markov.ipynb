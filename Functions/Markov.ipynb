{
 "cells": [
  {
   "cell_type": "markdown",
   "metadata": {},
   "source": [
    "# Initialization\n",
    "Select the Julia kernel"
   ]
  },
  {
   "cell_type": "markdown",
   "metadata": {},
   "source": [
    "#### Initialize"
   ]
  },
  {
   "cell_type": "code",
   "execution_count": 4,
   "metadata": {},
   "outputs": [],
   "source": [
    "using Statistics\n",
    "using Distributions\n",
    "using LinearAlgebra\n",
    "using QuantEcon # http://quantecon.github.io/QuantEcon.jl/latest/api/QuantEcon.html"
   ]
  },
  {
   "cell_type": "markdown",
   "metadata": {},
   "source": [
    "# Usefull functions"
   ]
  },
  {
   "cell_type": "markdown",
   "metadata": {},
   "source": [
    "## n-step probabilities"
   ]
  },
  {
   "cell_type": "code",
   "execution_count": 34,
   "metadata": {},
   "outputs": [
    {
     "data": {
      "text/plain": [
       "3×3 Matrix{Float64}:\n",
       " 0.515874  0.293803  0.190323\n",
       " 0.485464  0.293036  0.221501\n",
       " 0.39193   0.200269  0.4078"
      ]
     },
     "metadata": {},
     "output_type": "display_data"
    }
   ],
   "source": [
    "P = Matrix([0.75 0.2 0.05; 0.3 0.6 0.1; 0.15 0.05 0.8])\n",
    "# 5 steps:\n",
    "P^5"
   ]
  },
  {
   "cell_type": "markdown",
   "metadata": {},
   "source": [
    "## t-test"
   ]
  },
  {
   "cell_type": "code",
   "execution_count": null,
   "metadata": {},
   "outputs": [],
   "source": [
    "c = [1.85,1.92,1.95,1.7,2.1,2.5,2.2,2,2.08]\n",
    "\n",
    "function t_test(x; conf_level=0.95)\n",
    "    alpha = (1 - conf_level)\n",
    "    tstar = quantile(TDist(length(x)-1), 1 - alpha/2)\n",
    "    SE = std(x)/sqrt(length(x))\n",
    "\n",
    "    lo = Statistics.mean(x) + (-1 * tstar * SE)\n",
    "    hi = Statistics.mean(x) + 1 * tstar * SE\n",
    "    \"($lo, $hi)\"\n",
    "end\n",
    "\n",
    "\n",
    "t_test(c)"
   ]
  },
  {
   "cell_type": "markdown",
   "metadata": {},
   "source": [
    "# Classification of states"
   ]
  },
  {
   "cell_type": "code",
   "execution_count": 10,
   "metadata": {},
   "outputs": [
    {
     "data": {
      "text/plain": [
       "Discrete Markov Chain\n",
       "stochastic matrix of type Matrix{Int64}:\n",
       "[0 1 0; 0 0 1; 1 0 0]"
      ]
     },
     "metadata": {},
     "output_type": "display_data"
    }
   ],
   "source": [
    "P = [0 1 0; 0 0 1; 1 0 0]\n",
    "mc = MarkovChain(P)"
   ]
  },
  {
   "cell_type": "markdown",
   "metadata": {},
   "source": [
    "### Class"
   ]
  },
  {
   "cell_type": "markdown",
   "metadata": {},
   "source": [
    "A collection of states that communicates together."
   ]
  },
  {
   "cell_type": "markdown",
   "metadata": {},
   "source": [
    "### Transient state"
   ]
  },
  {
   "cell_type": "markdown",
   "metadata": {},
   "source": [
    "Upon entering this state, the process might never return to this state. Thus a state i is transient when\n",
    "there exists a state j that is accessible from i, but not\n",
    "vice versa, that is, i is not accessible from j."
   ]
  },
  {
   "cell_type": "markdown",
   "metadata": {},
   "source": [
    "### Recurrent state"
   ]
  },
  {
   "cell_type": "markdown",
   "metadata": {},
   "source": [
    "Upon entering this state, the process definetely will return to this state. A state is recurrent when it is not\n",
    "transient. A recurrent state will be visited an infinite number of times."
   ]
  },
  {
   "cell_type": "markdown",
   "metadata": {},
   "source": [
    "### Absorbing state"
   ]
  },
  {
   "cell_type": "markdown",
   "metadata": {},
   "source": [
    "Upon entering this state, the process will never leave this state. A state is an absorbing state if and only if pii = 1. Absorbing states are a specific type of recurrent states."
   ]
  },
  {
   "cell_type": "markdown",
   "metadata": {},
   "source": [
    "### Irreducibility"
   ]
  },
  {
   "cell_type": "code",
   "execution_count": 4,
   "metadata": {},
   "outputs": [
    {
     "name": "stdout",
     "output_type": "stream",
     "text": [
      "true"
     ]
    }
   ],
   "source": [
    "# QuantEcon\n",
    "print(is_irreducible(mc))"
   ]
  },
  {
   "cell_type": "markdown",
   "metadata": {},
   "source": [
    "A Markov chain is irreducible when it containts only one class."
   ]
  },
  {
   "cell_type": "markdown",
   "metadata": {},
   "source": [
    "### Comunicating classes"
   ]
  },
  {
   "cell_type": "code",
   "execution_count": 8,
   "metadata": {},
   "outputs": [
    {
     "data": {
      "text/plain": [
       "2-element Vector{Vector{Int64}}:\n",
       " [1]\n",
       " [2, 3]"
      ]
     },
     "metadata": {},
     "output_type": "display_data"
    }
   ],
   "source": [
    "# QuantEcon\n",
    "communication_classes(mc)"
   ]
  },
  {
   "cell_type": "markdown",
   "metadata": {},
   "source": [
    "wo states i and j are said to communicate when i is accessible from j and j is accessible from i.\n",
    "\n",
    "* Any state communicates with itself\n",
    "*  If state i communicates with j, then state j communicates with i.\n",
    "* If state i communicates with j, and state j communicates with k, then state i communicates with k"
   ]
  },
  {
   "cell_type": "markdown",
   "metadata": {},
   "source": [
    "### Recurrent Classes"
   ]
  },
  {
   "cell_type": "code",
   "execution_count": 14,
   "metadata": {},
   "outputs": [
    {
     "data": {
      "text/plain": [
       "1-element Vector{Vector{Int64}}:\n",
       " [1, 2, 3]"
      ]
     },
     "metadata": {},
     "output_type": "display_data"
    }
   ],
   "source": [
    "# QuantEcon\n",
    "recurrent_classes(mc)"
   ]
  },
  {
   "cell_type": "markdown",
   "metadata": {},
   "source": [
    "Upon entering this state, the process definetely will return to this state. A state is recurrent when it is not\n",
    "transient. A recurrent state will be visited an infinite number of times."
   ]
  },
  {
   "cell_type": "markdown",
   "metadata": {},
   "source": [
    "### Aperiodicity"
   ]
  },
  {
   "cell_type": "code",
   "execution_count": 11,
   "metadata": {},
   "outputs": [
    {
     "data": {
      "text/plain": [
       "3"
      ]
     },
     "metadata": {},
     "output_type": "display_data"
    }
   ],
   "source": [
    "# QuanEcon\n",
    "period(mc) # returns periods\n",
    "is_aperiodic(mc) # True/False"
   ]
  },
  {
   "cell_type": "markdown",
   "metadata": {},
   "source": [
    "Has a period of 1. That is any process that has two consecutive integers s, s+1 such that it can be in this state at times s and s + 1."
   ]
  },
  {
   "cell_type": "markdown",
   "metadata": {},
   "source": [
    "### Ergodic state"
   ]
  },
  {
   "cell_type": "markdown",
   "metadata": {},
   "source": [
    "Recurrent states that are aperiodic in a finite state Markov chain."
   ]
  },
  {
   "cell_type": "markdown",
   "metadata": {},
   "source": [
    "# Steady State"
   ]
  },
  {
   "cell_type": "markdown",
   "metadata": {},
   "source": [
    "Steady state probability:\n",
    "The steady state is the long term probabilities as in Pi_j=limit(p_ij^n, n->infinity) where Pi_j > 0\n",
    "\n",
    "Requirements:\n",
    "Ergodic and irreducible (A Markov chain is ergodic if and only if it has at most one recurrent class and is aperiodic.)\n",
    "\n",
    "Calculate:\n",
    "Pi_j=sum(Pi_i*p_ij,i=0..M)"
   ]
  },
  {
   "cell_type": "code",
   "execution_count": 12,
   "metadata": {},
   "outputs": [
    {
     "data": {
      "text/plain": [
       "1-element Vector{Vector{Float64}}:\n",
       " [0.47619047619047616, 0.2698412698412698, 0.253968253968254]"
      ]
     },
     "metadata": {},
     "output_type": "display_data"
    }
   ],
   "source": [
    "# Choose your matrix\n",
    "P = Matrix([0.75 0.2 0.05; 0.3 0.6 0.1; 0.15 0.05 0.8])\n",
    "\n",
    "# Mine\n",
    "function steady(P)\n",
    "    mc = MarkovChain(P)\n",
    "    if is_irreducible(mc) == false # also check for ergotic\n",
    "        throw(ErrorException(\"Is not Irreducible\"))\n",
    "    elseif length(recurrent_classes(mc)) > 1 || is_aperiodic(mc) == false\n",
    "        throw(ErrorException(\"Is not Ergodic\"))\n",
    "    end\n",
    "    \n",
    "    # Computing the left side of the equation\n",
    "    A=P'-Matrix(1.0I, length(P[1,:]), length(P[:,1]))\n",
    "\n",
    "    ones = repeat([1.0],length(P[1,:]))'\n",
    "    A = vcat(A,ones)\n",
    "    # The right side of the equation\n",
    "    b = vcat(repeat([0.0],length(A[1,:])),1.0)\n",
    "\n",
    "    #Probability to be in a certain state\n",
    "    Pi = A\\b\n",
    "end\n",
    "\n",
    "# QuanEcon\n",
    "mc = MarkovChain(P);\n",
    "stationary_distributions(mc)"
   ]
  },
  {
   "cell_type": "markdown",
   "metadata": {},
   "source": [
    "# Absorbing States"
   ]
  },
  {
   "cell_type": "markdown",
   "metadata": {},
   "source": [
    "Absorbing Probabilities are determined as: B = (I - Q)^-1 * R or P= [ [Q,R] [0,I] ]\n",
    "where Q is a t-by-t matrix, R is a nonzero t-by-r matrix, 0 is an r-by-t zero matrix, and I is the r-by-r identity matrix. Thus, Q describes the probability of transitioning from some transient state to another while R describes the probability of transitioning from some transient state to some absorbing state. Source: https://en.wikipedia.org/wiki/Absorbing_Markov_chain"
   ]
  },
  {
   "cell_type": "code",
   "execution_count": 8,
   "metadata": {},
   "outputs": [
    {
     "data": {
      "text/plain": [
       "4×4 Matrix{Float64}:\n",
       " 1.0  0.0  0.0  0.0\n",
       " 0.7  0.0  0.3  0.0\n",
       " 0.0  0.7  0.0  0.3\n",
       " 0.0  0.0  0.0  1.0"
      ]
     },
     "metadata": {},
     "output_type": "display_data"
    }
   ],
   "source": [
    "\n",
    "P = Matrix([1 0 0 0; 0.7 0 0.3 0; 0 0.7 0 0.3; 0 0 0 1])"
   ]
  },
  {
   "cell_type": "markdown",
   "metadata": {},
   "source": [
    "### Initialize Absorbing States"
   ]
  },
  {
   "cell_type": "markdown",
   "metadata": {},
   "source": [
    "The (i, j) entry of matrix N is the expected number of times the chain is in state j, given that the chain started in state i. N is obtained with Q"
   ]
  },
  {
   "cell_type": "code",
   "execution_count": 25,
   "metadata": {},
   "outputs": [
    {
     "data": {
      "text/plain": [
       "create_RQ (generic function with 1 method)"
      ]
     },
     "metadata": {},
     "output_type": "display_data"
    }
   ],
   "source": [
    "####\n",
    "# Creating the Fundamental matrix N = (I-Q)^-1\n",
    "# This can be used for practically this entire area of markov\n",
    "\n",
    "function num_trans(P)\n",
    "    t = []\n",
    "    r = []\n",
    "    a = 0\n",
    "    party = 1\n",
    "    # Loop through matrix\n",
    "    for k in 1:length(P[:,1])\n",
    "        a += 1\n",
    "\n",
    "        for c in 1:length(P[1,:])\n",
    "            if P[k,c] == 1\n",
    "                # If there is a prob of 1 to return to same state it absorbs and is not included.\n",
    "                append!(r,a)\n",
    "                party = 0\n",
    "                break\n",
    "            end\n",
    "        end\n",
    "        # Not decent code at all, but it works..\n",
    "        if party == 1\n",
    "            append!(t,a)\n",
    "        else\n",
    "            party = 1\n",
    "        end\n",
    "    end\n",
    "    return t, r\n",
    "end\n",
    "\n",
    "function create_RQ(P)\n",
    "    t,r = num_trans(P)\n",
    "\n",
    "    # Creating empty vector \n",
    "    Q = Vector{Float64}(undef,length(t))'\n",
    "    # Choosing all the transient states into a pseydo transient matrix by size t-t\n",
    "    for k in t\n",
    "        qRow = []\n",
    "        for c in t\n",
    "            append!(qRow,P[k,c])\n",
    "        end\n",
    "        Q = vcat(Q, qRow')\n",
    "    end\n",
    "\n",
    "    R = Vector{Float64}(undef,length(r))'\n",
    "    \n",
    "    if isempty(r)\n",
    "        # Doing the same but for absorbant states into t-r, a few changes in the way the matrices combine\n",
    "        return Q[2:length(t)+1,:], R\n",
    "    else\n",
    "        for k in t\n",
    "            rRow = []\n",
    "            for c in r\n",
    "                append!(rRow,P[k,c])\n",
    "            end\n",
    "            R = vcat(R, rRow')\n",
    "        end\n",
    "        R = R[2:length(t)+1,:]\n",
    "    end\n",
    "\n",
    "    return Q[2:length(t)+1,:], R\n",
    "end\n",
    "\n",
    "# # Constructing the full baby, not at all necesary haha\n",
    "# begin\n",
    "# Q,R = create_RQ(P)\n",
    "# hcat(zeros(2,3),Matrix(I,2,2))\n",
    "# hcat(Q,R)\n",
    "# vcat(hcat(Q,R),hcat(zeros(2,3),Matrix(I,2,2)))\n",
    "# end\n",
    "\n",
    "\n"
   ]
  },
  {
   "cell_type": "markdown",
   "metadata": {},
   "source": [
    "### Absorbing Probabilities"
   ]
  },
  {
   "cell_type": "markdown",
   "metadata": {},
   "source": [
    "Another property is the probability of being absorbed in the absorbing state j when starting from transient state i, which is the (i,j)-entry of the matrix B = N R\n",
    "\n",
    "They use the sum methode again with condition:\n",
    "\n",
    "f_kk = 1\n",
    "f_ik = 0 if state i is recurrent and i not equal k"
   ]
  },
  {
   "cell_type": "code",
   "execution_count": 26,
   "metadata": {},
   "outputs": [
    {
     "name": "stdout",
     "output_type": "stream",
     "text": [
      "Any[0.7 0.0; 0.0 0.3][1.2658227848101267 0.37974683544303794; 0.8860759493670884 1.2658227848101264]"
     ]
    },
    {
     "data": {
      "text/plain": [
       "2×2 Matrix{Any}:\n",
       " 0.886076  0.113924\n",
       " 0.620253  0.379747"
      ]
     },
     "metadata": {},
     "output_type": "display_data"
    }
   ],
   "source": [
    "Q,R = create_RQ(P)\n",
    "N = inv(Matrix(1.0I,length(Q[1,:]),length(Q[:,1])) .- Q)\n",
    "B = N*R"
   ]
  },
  {
   "cell_type": "markdown",
   "metadata": {},
   "source": [
    "### Expected number of steps before absorption"
   ]
  },
  {
   "cell_type": "code",
   "execution_count": 6,
   "metadata": {},
   "outputs": [
    {
     "data": {
      "text/plain": [
       "3-element Vector{Float64}:\n",
       " 3.2\n",
       " 3.2\n",
       " 2.4000000000000004"
      ]
     },
     "metadata": {},
     "output_type": "display_data"
    }
   ],
   "source": [
    "# Expected number of steps before being absorbed, done from the wiki article\n",
    "function ENS(P)\n",
    "    Q,R = create_RQ(P)\n",
    "    N = inv(1*Matrix(I,length(Q[1,:]),length(Q[:,1])) .- Q)\n",
    "    return N*ones(3)\n",
    "end\n",
    "ENS(P)\n"
   ]
  },
  {
   "cell_type": "markdown",
   "metadata": {},
   "source": [
    "### Transient Probabilities"
   ]
  },
  {
   "cell_type": "markdown",
   "metadata": {},
   "source": [
    "The probability of visiting transient state j when starting at a transient state i is the (i,j)-entry of the matrix H = (N-I)(Ndg)^-1"
   ]
  },
  {
   "cell_type": "code",
   "execution_count": 27,
   "metadata": {},
   "outputs": [
    {
     "data": {
      "text/plain": [
       "2×2 Matrix{Float64}:\n",
       " 0.21  0.3\n",
       " 0.7   0.21"
      ]
     },
     "metadata": {},
     "output_type": "display_data"
    }
   ],
   "source": [
    "function TP(P)\n",
    "    Q,R = create_RQ(P)\n",
    "    N = inv(Matrix(1.0I,length(Q[1,:]),length(Q[:,1])) .- Q)\n",
    "\n",
    "    H = (N-Matrix(1.0I,length(N[1,:]),length(N[:,1])))*inv(Diagonal(N))\n",
    "end\n",
    "\n",
    "TP(P)\n"
   ]
  },
  {
   "cell_type": "markdown",
   "metadata": {},
   "source": [
    "# First Passage Time"
   ]
  },
  {
   "cell_type": "markdown",
   "metadata": {},
   "source": [
    "#### Mean Number of Steps, Hitting Time or First Passage Time"
   ]
  },
  {
   "cell_type": "markdown",
   "metadata": {},
   "source": [
    "Ok. This does not follow the method in the book or lectures. It takes a linear algebra approach, actualy the same is acomplished but with matrices and not individual calculations.\n",
    "It follows this guide and proof, if you want to go deeper: https://stats.libretexts.org/Bookshelves/Probability_Theory/Book%3A_Introductory_Probability_(Grinstead_and_Snell)/11%3A_Markov_Chains/11.05%3A_Mean_First_Passage_Time_for_Ergodic_Chains\n",
    "Alright, it creates a fundamental matrix for the ergodic chain, much like the absorbing earlier, then it uses the steady probabilities and the difference between two points on the fundamental.\n",
    "What they do is just set it as three equations and solve them:\n",
    "\n",
    "mu_30 = 1 + p_10*mu_10 + p_20*mu_20 + p_30*mu_30\n",
    "\n",
    "mu_20 = 1 + p_10*mu_10 + p_20*mu_20 + p_30*mu_30\n",
    "\n",
    "mu_10 = 1 + p_10*mu_10 + p_20*mu_20 + p_30*mu_30\n",
    "\n",
    "Then solve.\n",
    "The below methode will generelize better and give a matrix for all possible steps. "
   ]
  },
  {
   "cell_type": "code",
   "execution_count": 13,
   "metadata": {},
   "outputs": [
    {
     "data": {
      "text/plain": [
       "MeanNumSteps (generic function with 1 method)"
      ]
     },
     "metadata": {},
     "output_type": "display_data"
    }
   ],
   "source": [
    "# Initialize steady function\n",
    "\n",
    "function MeanNumSteps(P)\n",
    "    l = length(P[1,:])\n",
    "\n",
    "    # Creates a matrix with the steady states, terrible code but it works\n",
    "    W = repeat(vcat(steady(P)',steady(P)'),Int(round(l/2)))\n",
    "    if isodd(l)\n",
    "        W = W[1:l,:]\n",
    "    end\n",
    "\n",
    "    # Fundamental Matrix\n",
    "    Z = inv(Matrix(1.0I,l,l) - P + W)\n",
    "\n",
    "    # vector of steady states to use for the transition\n",
    "    w = steady(P)\n",
    "\n",
    "    # Empty vector, have not found a way to concenate without a starting row of same size\n",
    "    M = Vector{Float64}(undef,l)'\n",
    "    # The magic happens here!\n",
    "    # It creates \n",
    "    for k in 1:l\n",
    "        mRow = []\n",
    "        for c in 1:l\n",
    "            a = (Z[k,k] - Z[c,k])/w[k]\n",
    "            append!(mRow,a)\n",
    "        end\n",
    "        M = vcat(M, mRow')\n",
    "    end\n",
    "    return M[2:l+1,:]' + Matrix(1.0I,l,l)\n",
    "end"
   ]
  },
  {
   "cell_type": "code",
   "execution_count": 14,
   "metadata": {},
   "outputs": [
    {
     "data": {
      "text/plain": [
       "4×4 Matrix{Float64}:\n",
       " 1.0  4.0  4.0  5.33333\n",
       " 3.2  1.0  4.0  5.33333\n",
       " 2.4  4.0  1.0  6.66667\n",
       " 3.2  4.0  4.0  1.0"
      ]
     },
     "metadata": {},
     "output_type": "display_data"
    }
   ],
   "source": [
    "P = Matrix([0.25 0.25 0.25 0.25; 0.25 0.25 0.25 0.25; 0.5 0.25 0.25 0; 0.25 0.25 0.25 0.25])\n",
    "MeanNumSteps(P)"
   ]
  },
  {
   "cell_type": "markdown",
   "metadata": {},
   "source": [
    "#### Expected Recurence Time"
   ]
  },
  {
   "cell_type": "markdown",
   "metadata": {},
   "source": [
    "The steps it takes to return to the original state.\n",
    "Not a usefull function in itself but helpfull to remember how to do it."
   ]
  },
  {
   "cell_type": "code",
   "execution_count": 30,
   "metadata": {},
   "outputs": [
    {
     "data": {
      "text/plain": [
       "ERT (generic function with 1 method)"
      ]
     },
     "metadata": {},
     "output_type": "display_data"
    }
   ],
   "source": [
    "\n",
    "function ERT(P,i)\n",
    "    # takes transition matrix and state\n",
    "    Pi = steady(P)\n",
    "    1/Pi[i]\n",
    "end"
   ]
  },
  {
   "cell_type": "markdown",
   "metadata": {},
   "source": [
    "Ergodicity:\n",
    "ergodicity expresses the idea that a point of a moving system, either a dynamical system or a stochastic process, will eventually visit all parts of the space that the system moves in. Pi= Pi*p, Pi_i >0\n",
    "\n"
   ]
  },
  {
   "cell_type": "markdown",
   "metadata": {},
   "source": [
    "## n step probability"
   ]
  },
  {
   "cell_type": "markdown",
   "metadata": {},
   "source": [
    "Probability of moving from i to j in n steps."
   ]
  },
  {
   "cell_type": "code",
   "execution_count": 2,
   "metadata": {},
   "outputs": [
    {
     "data": {
      "text/plain": [
       "nStepProp (generic function with 1 method)"
      ]
     },
     "metadata": {},
     "output_type": "display_data"
    }
   ],
   "source": [
    "\n",
    "\n",
    "function nStepProp(P,i,j,n)\n",
    "    # Takes transition matrix: P\n",
    "    # i: start state\n",
    "    # j: end state\n",
    "    # n: steps\n",
    "    n=n-1\n",
    "\n",
    "    # Creating the vectors for the used probabilities\n",
    "    # Since k cannot equal j \n",
    "    p = []\n",
    "    f = []\n",
    "    for k in 1:length(P[1,:])\n",
    "        if k != j\n",
    "            append!(p,P[i,k])\n",
    "            append!(f,P[k,j])\n",
    "        end\n",
    "    end\n",
    "\n",
    "    for _ in 1:n\n",
    "        #Running the iterative function\n",
    "        f = p.*f\n",
    "    end\n",
    "    #Final Probability\n",
    "    prop = sum(f)\n",
    "    return prop\n",
    "end"
   ]
  },
  {
   "cell_type": "code",
   "execution_count": 3,
   "metadata": {},
   "outputs": [
    {
     "data": {
      "text/plain": [
       "0.4"
      ]
     },
     "metadata": {},
     "output_type": "display_data"
    }
   ],
   "source": [
    "P = [0 1 0 0; 0.6 0 0.4 0; 0 0.6 0 0.4; 0 0 1 0]\n",
    "nStepProp(P,1,3,3)"
   ]
  },
  {
   "cell_type": "code",
   "execution_count": null,
   "metadata": {},
   "outputs": [],
   "source": []
  }
 ],
 "metadata": {
  "kernelspec": {
   "display_name": "Julia 1.7.2",
   "language": "julia",
   "name": "julia-1.7"
  },
  "language_info": {
   "file_extension": ".jl",
   "mimetype": "application/julia",
   "name": "julia",
   "version": "1.7.2"
  },
  "orig_nbformat": 4
 },
 "nbformat": 4,
 "nbformat_minor": 2
}
