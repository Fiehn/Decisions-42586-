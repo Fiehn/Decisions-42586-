{
 "cells": [
  {
   "cell_type": "code",
   "execution_count": 1,
   "metadata": {},
   "outputs": [],
   "source": [
    "using LinearAlgebra\n",
    "using QuantEcon # http://quantecon.github.io/QuantEcon.jl/latest/api/QuantEcon.html"
   ]
  },
  {
   "cell_type": "markdown",
   "metadata": {},
   "source": [
    "## Task 2.1.7"
   ]
  },
  {
   "cell_type": "code",
   "execution_count": 2,
   "metadata": {},
   "outputs": [
    {
     "data": {
      "text/plain": [
       "steady (generic function with 1 method)"
      ]
     },
     "metadata": {},
     "output_type": "display_data"
    }
   ],
   "source": [
    "\n",
    "function steady(P)\n",
    "    # Computing the left side of the equation\n",
    "    A=P'-Matrix(1.0I, length(P[1,:]), length(P[:,1]))\n",
    "\n",
    "    ones = repeat([1.0],length(P[1,:]))'\n",
    "    A = vcat(A,ones)\n",
    "    # The right side of the equation\n",
    "    b = vcat(repeat([0.0],length(A[1,:])),1.0)\n",
    "\n",
    "    #Probability to be in a certain state\n",
    "    Pi = A\\b\n",
    "end\n",
    "\n",
    "# # QuanEcon\n",
    "# mc = MarkovChain(P);\n",
    "# stationary_distributions(mc)"
   ]
  },
  {
   "cell_type": "code",
   "execution_count": 13,
   "metadata": {},
   "outputs": [
    {
     "data": {
      "text/plain": [
       "SimFleet (generic function with 3 methods)"
      ]
     },
     "metadata": {},
     "output_type": "display_data"
    }
   ],
   "source": [
    "\n",
    "function fleetsize(n)\n",
    "    n += 1\n",
    "    P = zeros(Float64,(n,n))\n",
    "    ## Initialize first and last\n",
    "    # Initialize first probabilities\n",
    "    pv = 0.5*(1-1/(n-1))+0.1\n",
    "    pc = 0.6*(1-pv)\n",
    "    P[1,1] = 1-pv\n",
    "    P[1,2] = pv\n",
    "\n",
    "    P[n,n-1] = 0.6*(1-0) # The probability of vehicle return (pv) is zero\n",
    "    P[n,n] = 1-0.6\n",
    "\n",
    "    for i in 2:n-1 # Loop ignores first and last row.\n",
    "        # Probabilities\n",
    "        pv = 0.5*(1-1/(n-i))+0.1\n",
    "        pc = 0.6*(1-pv)\n",
    "\n",
    "        P[i,i-1] = pc\n",
    "        P[i,i] = 1-(pc+pv)\n",
    "        P[i,i+1] = pv\n",
    "\n",
    "    end\n",
    "    return P \n",
    "end\n",
    "\n",
    "#The assumption in the function is that there is a possibility that nothing happens? also how do i deal with the -1 , and the last one\n",
    "# Also 1,1 must be the thing that needs to be tuned? ooor is it (pc for)\n",
    "\n",
    "# fleetsize(10)^30\n",
    "\n",
    "# steady(fleetsize(10))\n",
    "\n",
    "# fleetsize(2)\n",
    "\n",
    "\n",
    "function SimFleet(service_level = 0.95, max_iterations=20)\n",
    "    service = 1\n",
    "    n = 4\n",
    "    while service >= 1-service_level && n != max_iterations\n",
    "        P = fleetsize(n)\n",
    "        s = steady(P)\n",
    "        service = s[1]\n",
    "\n",
    "        n += 1\n",
    "        \n",
    "    end\n",
    "    return 1-service[1], n\n",
    "end\n"
   ]
  },
  {
   "cell_type": "code",
   "execution_count": 37,
   "metadata": {},
   "outputs": [
    {
     "data": {
      "text/plain": [
       "8×8 Matrix{Float64}:\n",
       " 0.471429  0.528571  0.0       0.0   0.0       0.0       0.0   0.0\n",
       " 0.29      0.193333  0.516667  0.0   0.0       0.0       0.0   0.0\n",
       " 0.0       0.3       0.2       0.5   0.0       0.0       0.0   0.0\n",
       " 0.0       0.0       0.315     0.21  0.475     0.0       0.0   0.0\n",
       " 0.0       0.0       0.0       0.34  0.226667  0.433333  0.0   0.0\n",
       " 0.0       0.0       0.0       0.0   0.39      0.26      0.35  0.0\n",
       " 0.0       0.0       0.0       0.0   0.0       0.54      0.36  0.1\n",
       " 0.0       0.0       0.0       0.0   0.0       0.0       0.6   0.4"
      ]
     },
     "metadata": {},
     "output_type": "display_data"
    },
    {
     "name": "stdout",
     "output_type": "stream",
     "text": [
      "A service level of \u001b[34m96.82%\u001b[39m is achieved with \u001b[34m8\u001b[39m cars."
     ]
    }
   ],
   "source": [
    "output = SimFleet()\n",
    "\n",
    "display(fleetsize(output[2]-1))\n",
    "print(\"A service level of \")\n",
    "printstyled(round(output[1]*100,digits=2),\"%\"; color=:blue)\n",
    "print(\" is achieved with \")\n",
    "printstyled(output[2];color=:blue)\n",
    "print(\" cars.\")\n"
   ]
  }
 ],
 "metadata": {
  "kernelspec": {
   "display_name": "Julia 1.7.2",
   "language": "julia",
   "name": "julia-1.7"
  },
  "language_info": {
   "file_extension": ".jl",
   "mimetype": "application/julia",
   "name": "julia",
   "version": "1.7.2"
  },
  "orig_nbformat": 4
 },
 "nbformat": 4,
 "nbformat_minor": 2
}
