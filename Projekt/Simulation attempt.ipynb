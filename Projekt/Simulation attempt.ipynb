{
 "cells": [
  {
   "cell_type": "markdown",
   "metadata": {},
   "source": [
    "# The Real code"
   ]
  },
  {
   "cell_type": "code",
   "execution_count": 6,
   "metadata": {},
   "outputs": [],
   "source": [
    "using Random, Distributions, Plots"
   ]
  },
  {
   "cell_type": "markdown",
   "metadata": {},
   "source": [
    "What needs to be done:\n",
    ". Statistics along the way\n",
    ". Rebalancing ?\n",
    ". ArrivalProfiles\n",
    ". Last simulation\n",
    "... Plots\n",
    "... Time to run consecutively (does that have something to do with rebalancing?)\n",
    "... "
   ]
  },
  {
   "cell_type": "markdown",
   "metadata": {},
   "source": [
    "Questions for later:\n",
    ". a total number of runs (a single run has the length of the number of days per run) ??\n",
    ". Struct for e?\n",
    ". The runtime, and rebalancing time\n",
    "... Pretty much just rebalancing!\n",
    ". what to do when travel time passes total time?"
   ]
  },
  {
   "cell_type": "code",
   "execution_count": 42,
   "metadata": {},
   "outputs": [
    {
     "data": {
      "text/plain": [
       "insert_and_sort! (generic function with 1 method)"
      ]
     },
     "metadata": {},
     "output_type": "display_data"
    }
   ],
   "source": [
    "# Using tuples instead of PriorityQueue, because they can have multiple identical keys and the queue cannot.\n",
    "# This is slightly slower but not by that much, not really a noticable difference in this case. \n",
    "# You have to get real up there in iterations before it really chugs behind.\n",
    "\n",
    "# mutable struct Events\n",
    "#     e::Array{Tuple{Float64,SubString},1}\n",
    "# end\n",
    "# Figure out if this can be a struct !!!\n",
    "\n",
    "struct Environment\n",
    "    hours::Float64\n",
    "    lambda::Float64  #arrival rate\n",
    "    mu::Float64 #service rate\n",
    "   \n",
    "   #Add arrival rate per hour for both stations. Add travel-time rate for both stations.\n",
    "    Environment() = new(\n",
    "    2, \n",
    "    (1/6), \n",
    "    (1/12)\n",
    "    )\n",
    "end\n",
    "\n",
    "mutable struct Stats\n",
    "    n_cars_st1::Int64\n",
    "    n_cars_st2::Int64\n",
    "    unfilled_st1::Int64\n",
    "    unfilled_st2::Int64\n",
    "  \n",
    "end\n",
    "\n",
    "# Might not be just as fast as PriorityQueue but it is not that much behind\n",
    "function insert_and_sort!(vect::Vector, x)\n",
    "    (splice!(vect, searchsorted(vect,x), [x]); vect) \n",
    "end"
   ]
  },
  {
   "cell_type": "code",
   "execution_count": 43,
   "metadata": {},
   "outputs": [
    {
     "data": {
      "text/plain": [
       "arrivals_generator (generic function with 3 methods)"
      ]
     },
     "metadata": {},
     "output_type": "display_data"
    }
   ],
   "source": [
    "function arrivals_generator(e::Array{Tuple{Float64,String},1},env::Environment)\n",
    "\n",
    "    # Arrivals at station 1\n",
    "    push!(e,(rand(Exponential(env.lambda)),\"st1\")) # First arrival\n",
    "    while last(e)[1] <= env.hours\n",
    "       push!(e,(rand(Exponential(env.lambda))+last(e)[1],\"st1\"))\n",
    "    end\n",
    "\n",
    "    # Arrivals at station 2 (repeat of station 1)\n",
    "    push!(e,(rand(Exponential(env.lambda)),\"st2\"))\n",
    "    while last(e)[1] <= env.hours\n",
    "        push!(e,(rand(Exponential(env.lambda))+last(e)[1],\"st2\"))\n",
    "    end\n",
    "\n",
    "\n",
    "    # Sorting the arrivals so first time is 1 and so on\n",
    "    sort!(e)\n",
    "\n",
    "    return e\n",
    "end"
   ]
  },
  {
   "cell_type": "code",
   "execution_count": 59,
   "metadata": {},
   "outputs": [
    {
     "data": {
      "text/plain": [
       "travel (generic function with 3 methods)"
      ]
     },
     "metadata": {},
     "output_type": "display_data"
    }
   ],
   "source": [
    "# Do this:\n",
    "# stats.overview_usage = [stats.overview_usage; t state.queue_length state.server_busy]\n",
    "# Real nice, steal that shit!\n",
    "\n",
    "function arrival(station::String,e::Array{Tuple{Float64,String},1},env::Environment,stat::Stats)\n",
    "    # WHAT to do when travel time passes total time?? makes sense? ask teacher\n",
    "    if station == \"st1\"\n",
    "        # Student arrives at empty station. That is one unsatisfied costumer :(\n",
    "        if stat.n_cars_st1 == 0\n",
    "            stat.unfilled_st1 += 1\n",
    "            popfirst!(e)\n",
    "        else\n",
    "            stat.n_cars_st1 -= 1\n",
    "        \n",
    "            insert_and_sort!(e,(rand(Exponential(env.mu))+e[1][1],\"que_st2\") )\n",
    "            popfirst!(e)\n",
    "        end\n",
    "        \n",
    "    elseif station == \"st2\"\n",
    "        if stat.n_cars_st2 == 0\n",
    "            stat.unfilled_st2 += 1\n",
    "            popfirst!(e)\n",
    "        else\n",
    "            stat.n_cars_st2 -= 1\n",
    "            \n",
    "            insert_and_sort!(e,(rand(Exponential(env.mu))+e[1][1],\"que_st1\") )\n",
    "            popfirst!(e)\n",
    "        end\n",
    "\n",
    "    else\n",
    "        throw(ErrorException(\"Something went wrong in sim().\"))\n",
    "    end\n",
    "\n",
    "end \n",
    "\n",
    "function travel(station::String,e::Array{Tuple{Float64,String},1},env::Environment,stat::Stats)\n",
    "\n",
    "    if station == \"que_st1\"\n",
    "        stat.n_cars_st1 += 1\n",
    "        popfirst!(e)\n",
    "    elseif station == \"que_st2\"\n",
    "        stat.n_cars_st2 += 1\n",
    "        popfirst!(e)\n",
    "    else \n",
    "        throw(ErrorException(\"Something went wrong in sim().\"))\n",
    "    end\n",
    "\n",
    "end\n"
   ]
  },
  {
   "cell_type": "code",
   "execution_count": 66,
   "metadata": {},
   "outputs": [
    {
     "data": {
      "text/plain": [
       "sim (generic function with 2 methods)"
      ]
     },
     "metadata": {},
     "output_type": "display_data"
    }
   ],
   "source": [
    "function sim(env::Environment,stat::Stats)\n",
    "    e = Array{Tuple{Float64,String},1}()\n",
    "    arrivals_generator(e,env)\n",
    "    \n",
    "    # Missing statistics all the way through\n",
    "    while !isempty(e)\n",
    "        load_type = e[1][2]\n",
    "\n",
    "        if load_type == \"st1\" || load_type == \"st2\"\n",
    "            arrival(load_type,e,env,stat)\n",
    "        elseif load_type == \"que_st1\" || load_type == \"que_st2\"\n",
    "            travel(load_type,e,env,stat)\n",
    "        else\n",
    "            throw(ErrorException(\"Issue in the event type!\"))\n",
    "        end\n",
    "    end\n",
    "    return stat.n_cars_st1,stat.n_cars_st2,stat.unfilled_st1,stat.unfilled_st2\n",
    "end"
   ]
  },
  {
   "cell_type": "markdown",
   "metadata": {},
   "source": [
    "### Testing"
   ]
  },
  {
   "cell_type": "code",
   "execution_count": 132,
   "metadata": {},
   "outputs": [
    {
     "data": {
      "text/plain": [
       "(2, 8, 3, 0)"
      ]
     },
     "metadata": {},
     "output_type": "display_data"
    }
   ],
   "source": [
    "env = Environment()\n",
    "stat = Stats(5,5,0,0)\n",
    "sim(env,stat)"
   ]
  },
  {
   "cell_type": "code",
   "execution_count": 47,
   "metadata": {},
   "outputs": [
    {
     "data": {
      "text/plain": [
       "\"st1\""
      ]
     },
     "metadata": {},
     "output_type": "display_data"
    }
   ],
   "source": [
    "env = Environment()\n",
    "e = Array{Tuple{Float64,String},1}()\n",
    "arrivals_generator(e,env)\n",
    "e[1][2]"
   ]
  },
  {
   "cell_type": "code",
   "execution_count": 4,
   "metadata": {},
   "outputs": [
    {
     "data": {
      "text/plain": [
       "5-element Vector{Tuple{Float64, String}}:\n",
       " (1.0, \"1\")\n",
       " (2.0, \"4\")\n",
       " (4.0, \"2\")\n",
       " (123.0, \"5\")\n",
       " (223.0, \"3\")"
      ]
     },
     "metadata": {},
     "output_type": "display_data"
    }
   ],
   "source": [
    "v = Array{Tuple{Float64,String},1}([(1,\"1\"),(4,\"2\"),(223,\"3\")])\n",
    "sort!(v)\n",
    "insert_and_sort!(v, (2,\"4\"))\n",
    "v"
   ]
  },
  {
   "cell_type": "code",
   "execution_count": null,
   "metadata": {},
   "outputs": [],
   "source": []
  },
  {
   "cell_type": "code",
   "execution_count": null,
   "metadata": {},
   "outputs": [],
   "source": []
  }
 ],
 "metadata": {
  "kernelspec": {
   "display_name": "Julia 1.7.2",
   "language": "julia",
   "name": "julia-1.7"
  },
  "language_info": {
   "file_extension": ".jl",
   "mimetype": "application/julia",
   "name": "julia",
   "version": "1.7.2"
  },
  "orig_nbformat": 4
 },
 "nbformat": 4,
 "nbformat_minor": 2
}
