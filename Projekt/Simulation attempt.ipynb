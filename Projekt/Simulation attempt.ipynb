{
 "cells": [
  {
   "cell_type": "code",
   "execution_count": 1,
   "metadata": {},
   "outputs": [],
   "source": [
    "using Random, Distributions"
   ]
  },
  {
   "cell_type": "code",
   "execution_count": 7,
   "metadata": {},
   "outputs": [
    {
     "data": {
      "text/plain": [
       "moving (generic function with 1 method)"
      ]
     },
     "metadata": {},
     "output_type": "display_data"
    }
   ],
   "source": [
    "struct Environment\n",
    "    hours::Float64\n",
    "    arrival_D_st1::Exponential\n",
    "    arrival_D_st2::Exponential\n",
    "    travel_time_st1st2_D::Exponential\n",
    "    travel_time_st2st1_D::Exponential\n",
    "\n",
    "    \n",
    "    Environment() = new(420.0, \n",
    "    Exponential(10),\n",
    "    Exponential(10),\n",
    "    Exponential(10),\n",
    "    Exponential(10))\n",
    "end\n",
    "\n",
    "mutable struct State\n",
    "    station1_vehs::Int32\n",
    "    station2_vehs::Int32\n",
    "end\n",
    "\n",
    "# mutable struct Vect\n",
    "#     time_st1::Float64\n",
    "#     time_st2::Float64\n",
    "#     travel_from_st1::Float64\n",
    "#     travel_from_st2::Float64\n",
    "\n",
    "#     Vect() = new(Vector(),Vector(),Vector())\n",
    "# end\n",
    "\n",
    "function moving(env::Environment, state::State)\n",
    "    time_st1 = Vector{Float64}()\n",
    "    time_st2 = Vector{Float64}()\n",
    "    time_from_st1 = Vector{Float64}()\n",
    "    time_from_st2 = Vector{Float64}()\n",
    "\n",
    "    append!(time_st1,rand(arrival_D_st1))\n",
    "    append!(time_st2,rand(arrival_D_st2))\n",
    "\n",
    "    max(time_from_st1,time_from_st2)\n",
    "\n",
    "end\n"
   ]
  },
  {
   "cell_type": "code",
   "execution_count": 110,
   "metadata": {},
   "outputs": [
    {
     "name": "stdout",
     "output_type": "stream",
     "text": [
      "aj\n",
      "na\n",
      "lon\n",
      "la\n",
      "aj\n",
      "lon\n",
      "aj\n",
      "aj\n",
      "la\n",
      "lon\n",
      "[71.62357998333988, 63.093335020066434, 33.313651003967, 9.832390594385078][64.9515268496291, 100.0, 37.834199381928, 100.0, 18.21233596117552, 100.0]\n"
     ]
    }
   ],
   "source": [
    "time_st1 = Vector{Float64}()\n",
    "time_st2 = Vector{Float64}()\n",
    "time_from_st1 = Vector{Float64}()\n",
    "time_from_st2 = Vector{Float64}()\n",
    "n_st1_vect = Vector{Int64}()\n",
    "n_st2_vect = Vector{Int64}()\n",
    "\n",
    "draw_st1 = rand(Exponential(10))\n",
    "draw_st2 = rand(Exponential(10))\n",
    "\n",
    "\n",
    "\n",
    "n_st1 = 5\n",
    "n_st2 = 5\n",
    "n_total = 10\n",
    "n_travel = 0\n",
    "travel_f_1 = 100\n",
    "travel_f_2 = 100\n",
    "shit_1 = 0\n",
    "shit_2 = 0\n",
    "\n",
    "push!(time_st1,draw_st1)\n",
    "push!(time_st2,draw_st2)\n",
    "push!(time_from_st1,travel_f_1)\n",
    "push!(time_from_st2,travel_f_2)\n",
    "push!(n_st1_vect,n_st1)\n",
    "push!(n_st2_vect,n_st2)\n",
    "\n",
    "\n",
    "# antager at hvis der ikke er en bil løber folk væk igen og der gåe en ny tid før studerende ankommer\n",
    "\n",
    "## Absolute garbage!\n",
    "\n",
    "\n",
    "for i in 1:10\n",
    "    # Crude as shit!\n",
    "    if time_st1[1] < time_st2[1] && time_st1[1] < time_from_st1[1] && time_st1[1] < time_from_st2[1] # Mangler at folk står i kø\n",
    "        println(\"lon\")\n",
    "        if n_st1 >= 1 && n_st1 < n_travel+n_st1+n_st2 \n",
    "            n_st1 -= 1\n",
    "            pushfirst!(n_st1_vect,n_st1)\n",
    "            travel_f_1 = rand(Exponential(10))\n",
    "            n_travel +=1\n",
    "            pushfirst!(time_from_st1,travel_f_1+time_st1[1])\n",
    "        elseif n_st1 == n_travel+n_st1+n_st2\n",
    "            \n",
    "        else\n",
    "            shit_1 += 1\n",
    "        end\n",
    "\n",
    "        draw_st1 = rand(Exponential(10))\n",
    "        pushfirst!(time_st1,time_st1[1]+draw_st1)\n",
    "\n",
    "    elseif time_st2[1] < time_st1[1] && time_st2[1] < time_from_st1[1] && time_st2[1] < time_from_st2[1]\n",
    "        println(\"aj\")\n",
    "        if n_st2 >= 1 && n_st2 < n_travel+n_st1+n_st2\n",
    "            n_st2 -= 1\n",
    "            pushfirst!(n_st2_vect,n_st2)\n",
    "            travel_f_2 = rand(Exponential(10))\n",
    "            n_travel += 1\n",
    "            pushfirst!(time_from_st2,travel_f_2+time_st2[1])\n",
    "            \n",
    "        elseif n_st2 == n_travel+n_st1+n_st2\n",
    "            \n",
    "        else\n",
    "            shit_2 += 1\n",
    "        end\n",
    "\n",
    "        draw_st2 = rand(Exponential(10))\n",
    "        pushfirst!(time_st2,time_st2[1]+draw_st2)\n",
    "\n",
    "    elseif time_st1[1] > time_from_st1[1] && time_st2[1] > time_from_st1[1] && time_from_st1[1] < time_from_st2[1] && n_travel+n_st1+n_st2 == n_total\n",
    "        n_st2 += 1\n",
    "        pushfirst!(n_st2_vect,n_st2)\n",
    "        n_travel -= 1\n",
    "        println(\"la\")\n",
    "        pushfirst!(time_from_st1,100)\n",
    "\n",
    "    elseif time_st1[1] > time_from_st2[1] && time_st2[1] > time_from_st2[1] && time_from_st1[1] > time_from_st2[1] && n_travel+n_st1+n_st2 == n_total\n",
    "        n_st1 += 1\n",
    "        pushfirst!(n_st1_vect,n_st1)\n",
    "        n_travel -= 1\n",
    "        println(\"na\")\n",
    "        pushfirst!(time_from_st2,100)\n",
    "    else\n",
    "        println(\"huh\")\n",
    "    end\n",
    "end\n",
    "\n",
    "\n",
    "println(time_st1,time_from_st1)\n"
   ]
  },
  {
   "cell_type": "code",
   "execution_count": 111,
   "metadata": {},
   "outputs": [
    {
     "name": "stdout",
     "output_type": "stream",
     "text": [
      "[3, 4, 5, 6, 5][3, 2, 3, 4, 5, 4, 5]\n"
     ]
    }
   ],
   "source": [
    "println(n_st1_vect,n_st2_vect)"
   ]
  },
  {
   "cell_type": "code",
   "execution_count": null,
   "metadata": {},
   "outputs": [],
   "source": []
  }
 ],
 "metadata": {
  "kernelspec": {
   "display_name": "Julia 1.7.2",
   "language": "julia",
   "name": "julia-1.7"
  },
  "language_info": {
   "file_extension": ".jl",
   "mimetype": "application/julia",
   "name": "julia",
   "version": "1.7.2"
  },
  "orig_nbformat": 4
 },
 "nbformat": 4,
 "nbformat_minor": 2
}
