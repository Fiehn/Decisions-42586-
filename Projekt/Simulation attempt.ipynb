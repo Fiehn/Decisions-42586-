{
 "cells": [
  {
   "cell_type": "markdown",
   "metadata": {},
   "source": [
    "# The Real code"
   ]
  },
  {
   "cell_type": "code",
   "execution_count": 2,
   "metadata": {},
   "outputs": [],
   "source": [
    "using Random, Distributions, Plots, XLSX"
   ]
  },
  {
   "cell_type": "markdown",
   "metadata": {},
   "source": [
    "What needs to be done:\n",
    ". Statistics along the way\n",
    ". the simulation gives a shit ton of unfullfilled values, seems fucked!\n",
    ". Last simulation\n",
    "... Plots\n"
   ]
  },
  {
   "cell_type": "markdown",
   "metadata": {},
   "source": [
    "Questions\n",
    ". Weird arrival at midnight\n",
    ". Why the large amount of unfullfilled values?\n",
    ". Should we keep values for every step at every run or just the final statistics at every run?\n"
   ]
  },
  {
   "cell_type": "code",
   "execution_count": 3,
   "metadata": {},
   "outputs": [
    {
     "data": {
      "text/plain": [
       "insert_and_sort! (generic function with 1 method)"
      ]
     },
     "metadata": {},
     "output_type": "display_data"
    }
   ],
   "source": [
    "### Initial functions to load lambda and mu from the ArrivalProfiles.xlsx\n",
    "\n",
    "# Change the type to Float64 from Int and String for the loaded vectors\n",
    "function type_change(v)\n",
    "    v_ny = Vector{Float64}()\n",
    "    for i in 1:length(v)\n",
    "        if typeof(v[i]) == String\n",
    "            push!(v_ny,parse(Float64,v[i]))\n",
    "        elseif typeof(v[i]) == Int64\n",
    "            push!(v_ny,float(v[i]))\n",
    "        else\n",
    "            push!(v_ny,v[i])\n",
    "        end\n",
    "    end\n",
    "    return v_ny\n",
    "end\n",
    "\n",
    "\n",
    "function load_arri(path=\"C:/Users/rasmu/Desktop/OneDrive/OneDrive - Danmarks Tekniske Universitet/Decisions under uncertainty/Projekt/ArrivalProfiles.xlsx\")\n",
    "    xf = XLSX.readxlsx(path) # Loading\n",
    "\n",
    "    # Lambda is given as expected arrivals therefore inverse\n",
    "    lambda_port = 1 ./ type_change(xf[1][\"C2:AA2\"])\n",
    "    lambda_dtu = 1 ./ type_change(xf[1][\"C3:AA3\"])\n",
    "\n",
    "    # Travel time\n",
    "    mu_rammer_dtu = type_change(xf[1][\"C7:AA7\"])\n",
    "    mu_rammer_port = type_change(xf[1][\"C8:AA8\"])\n",
    "\n",
    "    return lambda_port, lambda_dtu, mu_rammer_dtu, mu_rammer_port\n",
    "end\n",
    "\n",
    "\n",
    "# Might not be just as fast as PriorityQueue but it is not that much behind\n",
    "# Inserts a value at the spot it fits\n",
    "function insert_and_sort!(vect::Vector, x)\n",
    "    (splice!(vect, searchsorted(vect,x), [x]); vect) \n",
    "end\n"
   ]
  },
  {
   "cell_type": "code",
   "execution_count": 4,
   "metadata": {},
   "outputs": [],
   "source": [
    "struct Environment # The environment including arrival rates and travel rates\n",
    "    lambda_dtu::Vector{Float64}  #arrival rate 1\n",
    "    mu_rammer_dtu::Vector{Float64} #service rate 1\n",
    "    lambda_port::Vector{Float64} # arrival rate 2\n",
    "    mu_rammer_port::Vector{Float64} #service rate 2\n",
    "    \n",
    "    # loading the vectors from excel\n",
    "    lambda_port, lambda_dtu, mu_rammer_dtu, mu_rammer_port = load_arri() # NEEDS the path to load the document from!\n",
    "    Environment() = new(lambda_port, lambda_dtu, mu_rammer_dtu, mu_rammer_port)\n",
    "end\n",
    "\n",
    "mutable struct Stats # Vector including [Station 1, Station 2]\n",
    "    n_cars::Vector{Int64} # Number of cars at the stations at any given time\n",
    "    un_fullfilled::Vector{Int64} # Amount of times a customer arrives to an empty station\n",
    "    fullfilled::Vector{Int64} # Amount of times a costumer arrives and gets a car\n",
    "    empty_time::Vector{Float64} # The time any given station has 0 cars\n",
    "    currently_empty::Vector{Bool} # Is the station empty\n",
    "end\n",
    "\n",
    "struct Balance\n",
    "    desired_n_st1::Int64\n",
    "    desired_n_st2::Int64\n",
    "    time_1::Float64\n",
    "    time_2::Float64\n",
    "end\n"
   ]
  },
  {
   "cell_type": "code",
   "execution_count": 5,
   "metadata": {},
   "outputs": [
    {
     "data": {
      "text/plain": [
       "rebalancing (generic function with 1 method)"
      ]
     },
     "metadata": {},
     "output_type": "display_data"
    }
   ],
   "source": [
    "# Do this:\n",
    "# stats.overview_usage = [stats.overview_usage; t state.queue_length state.server_busy]\n",
    "# Real nice, steal that shit!\n",
    "\n",
    "function time_change(e::Array{Tuple{Float64,String},1},k::Int64,day::Int64) # problems\n",
    "    # Switch day and reset index\n",
    "    if k == 25\n",
    "        k = 0\n",
    "        day += 25\n",
    "    end\n",
    "    # Insert the next time change\n",
    "    popfirst!(e)[1]\n",
    "    insert_and_sort!(e,(k+day,\"time_change\"))\n",
    "\n",
    "    # Change index for time\n",
    "    k += 1\n",
    "    return k,day\n",
    "end\n",
    "\n",
    "function arrival(station::Int64,e::Array{Tuple{Float64,String},1},env::Environment,stat::Stats,k::Int64)\n",
    "    \n",
    "    # Insert next arrival based on previous arrival\n",
    "    if station == 1\n",
    "        insert_and_sort!(e,(rand(Exponential(env.lambda_dtu[k]))+e[1][1],\"st1\"))\n",
    "    elseif station == 2\n",
    "        insert_and_sort!(e,(rand(Exponential(env.lambda_dtu[k]))+e[1][1],\"st2\"))\n",
    "    end\n",
    "\n",
    "    if stat.n_cars[station] == 0 && stat.currently_empty[station] == false || stat.currently_empty[station] == true # Student arrives at empty station. That is one unsatisfied costumer :(\n",
    "        stat.un_fullfilled[station] += 1\n",
    "        popfirst!(e)\n",
    "        stat.currently_empty[station] = true\n",
    "        \n",
    "    else # Costumer leaves station\n",
    "        stat.n_cars[station] -= 1 # removing car from station\n",
    "        stat.fullfilled[station] += 1 # one fullfilled request\n",
    "        \n",
    "        # Insert travel time based on arrival station\n",
    "        if station == 1\n",
    "            insert_and_sort!(e,(rand(Exponential(env.mu_rammer_port[k]))+e[1][1],\"que_st2\")) \n",
    "        elseif station == 2\n",
    "            insert_and_sort!(e,(rand(Exponential(env.mu_rammer_port[k]))+e[1][1],\"que_st1\")) \n",
    "        end\n",
    "\n",
    "        # Removing the occured event\n",
    "        if stat.n_cars[station] == 0 # station becomes empty\n",
    "            stat.empty_time[station] -= popfirst!(e)[1] # Empty station timer starts \n",
    "            stat.currently_empty[station] = true\n",
    "        else\n",
    "            popfirst!(e)\n",
    "        end\n",
    "    end \n",
    "\n",
    "end \n",
    "\n",
    "function travel(station::Int64,e::Array{Tuple{Float64,String},1},env::Environment,stat::Stats)\n",
    "\n",
    "    if stat.currently_empty[station] == true # Arriving at an empty station\n",
    "        stat.n_cars[station] += 1 # arrive\n",
    "        stat.empty_time[station] += popfirst!(e)[1] # End empty timer\n",
    "        stat.currently_empty[station] = false\n",
    "    else\n",
    "        stat.n_cars[station] += 1 # arrive\n",
    "        popfirst!(e)\n",
    "    end\n",
    "\n",
    "end\n",
    "\n",
    "\n",
    "function rebalancing(rebal::Balance,stat::Stats,env::Environment,e::Array{Tuple{Float64,String},1},k::Int64)\n",
    "    # NEEDS Documentation and a serious debugging\n",
    "    if stat.n_cars[2] >= rebal.desired_n_st1\n",
    "        for i in 1:rebal.desired_n_st1\n",
    "            insert_and_sort!(e,(rand(Exponential(env.mu_rammer_dtu[k]))+e[1][1],\"que_st1\") ) \n",
    "            stat.n_cars[2] -= 1\n",
    "        end\n",
    "        \n",
    "        # Start empty timer\n",
    "        if stat.n_cars[2] == 0 && stat.currently_empty[2] == false\n",
    "            stat.empty_time[2] -= e[1][1]\n",
    "            stat.currently_empty[2] = true\n",
    "        end\n",
    "\n",
    "    else\n",
    "        for i in 1:stat.n_cars[2]\n",
    "            insert_and_sort!(e,(rand(Exponential(env.mu_rammer_dtu[k]))+e[1][1],\"que_st1\") )\n",
    "            stat.n_cars[2] -= 1\n",
    "        end\n",
    "        if stat.currently_empty[2] == false\n",
    "            stat.empty_time[2] -= e[1][1]\n",
    "            stat.currently_empty[2] = true\n",
    "        end\n",
    "\n",
    "    end\n",
    "\n",
    "    # For station 1\n",
    "    if stat.n_cars[1] >= rebal.desired_n_st2\n",
    "        for i in 1:rebal.desired_n_st2\n",
    "            insert_and_sort!(e,(rand(Exponential(env.mu_rammer_port[k]))+e[1][1],\"que_st2\") )\n",
    "            stat.n_cars[1] -= 1\n",
    "        end\n",
    "        \n",
    "        # Start empty timer\n",
    "        if stat.n_cars[1] == 0 && stat.currently_empty[1] == false\n",
    "            stat.empty_time[1] -= e[1][1]\n",
    "            stat.currently_empty[1] = true\n",
    "        end\n",
    "    else\n",
    "        for i in 1:stat.n_cars[1]\n",
    "            insert_and_sort!(e,(rand(Exponential(env.mu_rammer_port[k]))+e[1][1],\"que_st2\") )\n",
    "            stat.n_cars[1] -= 1\n",
    "        end\n",
    "        if stat.currently_empty[1] == false\n",
    "            stat.empty_time[1] -= e[1][1]\n",
    "            stat.currently_empty[1] = true\n",
    "        end\n",
    "        \n",
    "    end \n",
    "\n",
    "    insert_and_sort!(e,(24.0+popfirst!(e)[1],\"rebalance\") )\n",
    "    \n",
    "end\n"
   ]
  },
  {
   "cell_type": "code",
   "execution_count": 11,
   "metadata": {},
   "outputs": [
    {
     "data": {
      "text/plain": [
       "sim (generic function with 1 method)"
      ]
     },
     "metadata": {},
     "output_type": "display_data"
    }
   ],
   "source": [
    "function sim(days_to_run::Int64,initial_n_cars::Vector{Int64}, rebal::Balance, env::Environment)\n",
    "\n",
    "    stat = Stats([initial_n_cars[1],initial_n_cars[2]],[0,0],[0,0],[0,0],[false,false])\n",
    "\n",
    "    e = Array{Tuple{Float64,String},1}()\n",
    "    \n",
    "    runs = 0\n",
    "    k = 1\n",
    "    day = 0\n",
    "    insert_and_sort!(e,(rand(Exponential(env.lambda_dtu[k])),\"st1\")) # Insert first arrival\n",
    "    insert_and_sort!(e,(rand(Exponential(env.lambda_port[k])),\"st2\")) # Insert frist arrival\n",
    "    insert_and_sort!(e,(0.0,\"time_change\")) # THIS NEEDS TO BE FIXED!!!!!!!!\n",
    "\n",
    "    insert_and_sort!(e,(rebal.time_1,\"rebalance\"))\n",
    "    insert_and_sort!(e,(rebal.time_2,\"rebalance\"))\n",
    "\n",
    "    while e[1][1] <= days_to_run*24.0 && runs <= 100000\n",
    "        load_type = e[1][2]\n",
    "        if load_type == \"st1\"\n",
    "            arrival(1,e,env,stat,k)\n",
    "        elseif load_type == \"st2\"\n",
    "            arrival(2,e,env,stat,k)\n",
    "        elseif load_type == \"que_st1\"\n",
    "            travel(1,e,env,stat)\n",
    "        elseif load_type == \"que_st2\"\n",
    "            travel(2,e,env,stat)\n",
    "        elseif load_type == \"time_change\"\n",
    "            k,day = time_change(e,k,day)\n",
    "        elseif load_type == \"rebalance\"\n",
    "            rebalancing(rebal,stat,env,e,k)\n",
    "        else\n",
    "            throw(ErrorException(\"Issue in the event type!\"))\n",
    "        end\n",
    "        runs += 1 # Checks the amount of events\n",
    "    end\n",
    "    \n",
    "    # Make sure the empty timer stops at the end of the run\n",
    "    if stat.n_cars[1] == 0\n",
    "        stat.empty_time[1] += days_to_run*24.0\n",
    "    elseif stat.n_cars[2] == 0\n",
    "        stat.empty_time[2] += days_to_run*24.0\n",
    "    end\n",
    "    \n",
    "    return stat.n_cars,stat.un_fullfilled,stat.fullfilled,stat.empty_time,runs\n",
    "end"
   ]
  },
  {
   "cell_type": "markdown",
   "metadata": {},
   "source": [
    "### Testing"
   ]
  },
  {
   "cell_type": "code",
   "execution_count": 7,
   "metadata": {},
   "outputs": [
    {
     "data": {
      "text/plain": [
       "main (generic function with 2 methods)"
      ]
     },
     "metadata": {},
     "output_type": "display_data"
    }
   ],
   "source": [
    "\n",
    "function main(initial_n_cars::Vector{Int64},days_to_run::Int64,n_of_runs::Int64,rebalance::Tuple{Int64, Int64, Float64, Float64},path = \"C:/Users/rasmu/Desktop/OneDrive/OneDrive - Danmarks Tekniske Universitet/Decisions under uncertainty/Projekt/ArrivalProfiles.xlsx\")\n",
    "    # Rebalance is given in [desired_n_st1, desired_n_st2, time_1, time_2] for now int\n",
    "    env = Environment()\n",
    "    rebal = Balance(rebalance[1],rebalance[2],rebalance[3],rebalance[4])\n",
    "    overview = []\n",
    "\n",
    "    for i in 1:n_of_runs\n",
    "        overview = [overview;sim(days_to_run,initial_n_cars,rebal,env)]\n",
    "        # NEeds final stats\n",
    "\n",
    "    end\n",
    "    \n",
    "    return overview\n",
    "end"
   ]
  },
  {
   "cell_type": "code",
   "execution_count": 14,
   "metadata": {},
   "outputs": [
    {
     "data": {
      "text/plain": [
       "20-element Vector{Any}:\n",
       " ([94, 1], [3154, 3332], [5923, 6842], [169.71944889524457, 213.65028534071826], 48775)\n",
       " ([57, 38], [2354, 3444], [7041, 7783], [125.09610228509428, 201.127405316372], 52157)\n",
       " ([74, 17], [2187, 3234], [8451, 9057], [122.00058224038003, 181.5864712204857], 57227)\n",
       " ([41, 47], [2786, 3403], [7656, 7891], [155.7341198998265, 192.3169968874936], 53860)\n",
       " ([16, 80], [2373, 2214], [6187, 6589], [147.43972700881795, 164.34249487297984], 47025)\n",
       " ([31, 66], [2730, 3290], [6599, 7322], [142.3169692735014, 207.72587002689306], 50338)\n",
       " ([23, 76], [3509, 2294], [8071, 7372], [188.58404981231934, 131.11587046695468], 53731)\n",
       " ([77, 19], [2967, 3058], [6867, 7857], [152.83733681548074, 200.71912122232334], 52116)\n",
       " ([11, 84], [3171, 3531], [6685, 7922], [153.68104551735132, 226.92182868309192], 52340)\n",
       " ([27, 70], [3033, 2686], [7254, 7606], [172.34438938003132, 144.37569109855622], 52104)\n",
       " ([48, 50], [3173, 3100], [6397, 6564], [190.44371762547507, 173.77041925324602], 48828)\n",
       " ([48, 36], [2643, 3053], [6878, 7486], [166.05691016324272, 183.94983540502835], 51106)\n",
       " ([56, 43], [3302, 1832], [8095, 7677], [196.81435683678637, 100.50127054080576], 53710)\n",
       " ([43, 51], [3411, 2742], [7608, 6905], [204.54401699265054, 155.60577982128416], 51533)\n",
       " ([45, 45], [2453, 2888], [7870, 8081], [138.37577152070617, 144.89178105724704], 54188)\n",
       " ([95, 0], [2997, 3062], [6658, 7787], [145.96222973907516, 193.06405637299395], 51683)\n",
       " ([24, 74], [2601, 2663], [6903, 7507], [133.78854510972542, 168.27367856446972], 51078)\n",
       " ([11, 86], [3544, 1900], [7833, 7217], [190.0917335541726, 121.07731031574986], 52395)\n",
       " ([91, 7], [1750, 3616], [6414, 8131], [106.88611348121094, 222.43767629291096], 50958)\n",
       " ([74, 12], [2580, 3230], [6624, 7195], [154.05493713514807, 196.39705284830006], 50199)"
      ]
     },
     "metadata": {},
     "output_type": "display_data"
    }
   ],
   "source": [
    "main([50,50],100,20,(50,50,12.2,24.2)) "
   ]
  },
  {
   "cell_type": "code",
   "execution_count": null,
   "metadata": {},
   "outputs": [],
   "source": []
  }
 ],
 "metadata": {
  "kernelspec": {
   "display_name": "Julia 1.7.2",
   "language": "julia",
   "name": "julia-1.7"
  },
  "language_info": {
   "file_extension": ".jl",
   "mimetype": "application/julia",
   "name": "julia",
   "version": "1.7.2"
  },
  "orig_nbformat": 4
 },
 "nbformat": 4,
 "nbformat_minor": 2
}
