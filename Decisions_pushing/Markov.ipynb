{
 "cells": [
  {
   "cell_type": "markdown",
   "metadata": {},
   "source": [
    "# Initialization\n",
    "Select the Julia kernel"
   ]
  },
  {
   "cell_type": "markdown",
   "metadata": {},
   "source": [
    "#### Initialize"
   ]
  },
  {
   "cell_type": "code",
   "execution_count": 2,
   "metadata": {},
   "outputs": [],
   "source": [
    "using Statistics\n",
    "using Distributions\n",
    "using Plots\n",
    "using LinearAlgebra\n",
    "using QuantEcon # http://quantecon.github.io/QuantEcon.jl/latest/api/QuantEcon.html"
   ]
  },
  {
   "cell_type": "markdown",
   "metadata": {},
   "source": [
    "# Usefull functions"
   ]
  },
  {
   "cell_type": "markdown",
   "metadata": {},
   "source": [
    "## n-step probabilities"
   ]
  },
  {
   "cell_type": "code",
   "execution_count": 34,
   "metadata": {},
   "outputs": [
    {
     "data": {
      "text/plain": [
       "3×3 Matrix{Float64}:\n",
       " 0.515874  0.293803  0.190323\n",
       " 0.485464  0.293036  0.221501\n",
       " 0.39193   0.200269  0.4078"
      ]
     },
     "metadata": {},
     "output_type": "display_data"
    }
   ],
   "source": [
    "P = Matrix([0.75 0.2 0.05; 0.3 0.6 0.1; 0.15 0.05 0.8])\n",
    "# 5 steps:\n",
    "P^5"
   ]
  },
  {
   "cell_type": "markdown",
   "metadata": {},
   "source": [
    "## t-test"
   ]
  },
  {
   "cell_type": "code",
   "execution_count": null,
   "metadata": {},
   "outputs": [],
   "source": [
    "c = [1.85,1.92,1.95,1.7,2.1,2.5,2.2,2,2.08]\n",
    "\n",
    "function t_test(x; conf_level=0.95)\n",
    "    alpha = (1 - conf_level)\n",
    "    tstar = quantile(TDist(length(x)-1), 1 - alpha/2)\n",
    "    SE = std(x)/sqrt(length(x))\n",
    "\n",
    "    lo = Statistics.mean(x) + (-1 * tstar * SE)\n",
    "    hi = Statistics.mean(x) + 1 * tstar * SE\n",
    "    \"($lo, $hi)\"\n",
    "end\n",
    "\n",
    "\n",
    "t_test(c)"
   ]
  },
  {
   "cell_type": "markdown",
   "metadata": {},
   "source": [
    "# Irreducibility and Aperiodicity (just for double checking and using for later functions)"
   ]
  },
  {
   "cell_type": "code",
   "execution_count": 10,
   "metadata": {},
   "outputs": [
    {
     "data": {
      "text/plain": [
       "Discrete Markov Chain\n",
       "stochastic matrix of type Matrix{Int64}:\n",
       "[0 1 0; 0 0 1; 1 0 0]"
      ]
     },
     "metadata": {},
     "output_type": "display_data"
    }
   ],
   "source": [
    "P = [0 1 0; 0 0 1; 1 0 0]\n",
    "mc = MarkovChain(P)"
   ]
  },
  {
   "cell_type": "markdown",
   "metadata": {},
   "source": [
    "### Irreducibility"
   ]
  },
  {
   "cell_type": "code",
   "execution_count": 4,
   "metadata": {},
   "outputs": [
    {
     "name": "stdout",
     "output_type": "stream",
     "text": [
      "true"
     ]
    }
   ],
   "source": [
    "# QuantEcon\n",
    "print(is_irreducible(mc))\n",
    "\n",
    "# Mine\n",
    "\n"
   ]
  },
  {
   "cell_type": "markdown",
   "metadata": {},
   "source": [
    "### Comunicating classes"
   ]
  },
  {
   "cell_type": "code",
   "execution_count": 8,
   "metadata": {},
   "outputs": [
    {
     "data": {
      "text/plain": [
       "2-element Vector{Vector{Int64}}:\n",
       " [1]\n",
       " [2, 3]"
      ]
     },
     "metadata": {},
     "output_type": "display_data"
    }
   ],
   "source": [
    "# QuantEcon\n",
    "communication_classes(mc)\n",
    "# Mine\n"
   ]
  },
  {
   "cell_type": "markdown",
   "metadata": {},
   "source": [
    "### Recurrent Classes"
   ]
  },
  {
   "cell_type": "code",
   "execution_count": 14,
   "metadata": {},
   "outputs": [
    {
     "data": {
      "text/plain": [
       "1-element Vector{Vector{Int64}}:\n",
       " [1, 2, 3]"
      ]
     },
     "metadata": {},
     "output_type": "display_data"
    }
   ],
   "source": [
    "# QuantEcon\n",
    "recurrent_classes(mc)\n",
    "\n",
    "# Mine"
   ]
  },
  {
   "cell_type": "markdown",
   "metadata": {},
   "source": [
    "### Aperiodicity"
   ]
  },
  {
   "cell_type": "code",
   "execution_count": 11,
   "metadata": {},
   "outputs": [
    {
     "data": {
      "text/plain": [
       "3"
      ]
     },
     "metadata": {},
     "output_type": "display_data"
    }
   ],
   "source": [
    "# QuanEcon\n",
    "period(mc) # returns periods\n",
    "is_aperiodic(mc) # True/False\n",
    "\n",
    "# Mine\n",
    "\n"
   ]
  },
  {
   "cell_type": "markdown",
   "metadata": {},
   "source": [
    "# Steady State"
   ]
  },
  {
   "cell_type": "markdown",
   "metadata": {},
   "source": [
    "Steady state probability:\n",
    "The steady state is the long term probabilities as in Pi_j=limit(p_ij^n, n->infinity) where Pi_j > 0\n",
    "\n",
    "Requirements:\n",
    "Ergodic and irreducible\n",
    "\n",
    "Calculate:\n",
    "Pi_j=sum(Pi_i*p_ij,i=0..M)"
   ]
  },
  {
   "cell_type": "code",
   "execution_count": 31,
   "metadata": {},
   "outputs": [
    {
     "data": {
      "text/plain": [
       "1-element Vector{Vector{Float64}}:\n",
       " [0.47619047619047616, 0.2698412698412698, 0.253968253968254]"
      ]
     },
     "metadata": {},
     "output_type": "display_data"
    }
   ],
   "source": [
    "# Choose your matrix\n",
    "P = Matrix([0.75 0.2 0.05; 0.3 0.6 0.1; 0.15 0.05 0.8])\n",
    "\n",
    "# Mine\n",
    "function steady(P)\n",
    "    # Computing the left side of the equation\n",
    "    A=P'-Matrix(1.0I, length(P[1,:]), length(P[:,1]))\n",
    "\n",
    "    ones = repeat([1.0],length(P[1,:]))'\n",
    "    A = vcat(A,ones)\n",
    "    # The right side of the equation\n",
    "    b = vcat(repeat([0.0],length(A[1,:])),1.0)\n",
    "\n",
    "    #Probability to be in a certain state\n",
    "    Pi = A\\b\n",
    "end\n",
    "\n",
    "# QuanEcon\n",
    "mc = MarkovChain(P);\n",
    "stationary_distributions(mc)"
   ]
  },
  {
   "cell_type": "markdown",
   "metadata": {},
   "source": [
    "# Absorbing States"
   ]
  },
  {
   "cell_type": "markdown",
   "metadata": {},
   "source": [
    "Absorbing Probabilities are determined as: B = (I - Q)^-1 * R or P= [ [Q,R] [0,I] ]\n",
    "where Q is a t-by-t matrix, R is a nonzero t-by-r matrix, 0 is an r-by-t zero matrix, and I is the r-by-r identity matrix. Thus, Q describes the probability of transitioning from some transient state to another while R describes the probability of transitioning from some transient state to some absorbing state. Source: https://en.wikipedia.org/wiki/Absorbing_Markov_chain"
   ]
  },
  {
   "cell_type": "code",
   "execution_count": 8,
   "metadata": {},
   "outputs": [
    {
     "data": {
      "text/plain": [
       "4×4 Matrix{Float64}:\n",
       " 1.0  0.0  0.0  0.0\n",
       " 0.7  0.0  0.3  0.0\n",
       " 0.0  0.7  0.0  0.3\n",
       " 0.0  0.0  0.0  1.0"
      ]
     },
     "metadata": {},
     "output_type": "display_data"
    }
   ],
   "source": [
    "\n",
    "P = Matrix([1 0 0 0; 0.7 0 0.3 0; 0 0.7 0 0.3; 0 0 0 1])"
   ]
  },
  {
   "cell_type": "markdown",
   "metadata": {},
   "source": [
    "### Initialize Absorbing States"
   ]
  },
  {
   "cell_type": "markdown",
   "metadata": {},
   "source": [
    "The (i, j) entry of matrix N is the expected number of times the chain is in state j, given that the chain started in state i. N is obtained with Q"
   ]
  },
  {
   "cell_type": "code",
   "execution_count": 25,
   "metadata": {},
   "outputs": [
    {
     "data": {
      "text/plain": [
       "create_RQ (generic function with 1 method)"
      ]
     },
     "metadata": {},
     "output_type": "display_data"
    }
   ],
   "source": [
    "####\n",
    "# Creating the Fundamental matrix N = (I-Q)^-1\n",
    "# This can be used for practically this entire area of markov\n",
    "\n",
    "function num_trans(P)\n",
    "    t = []\n",
    "    r = []\n",
    "    a = 0\n",
    "    party = 1\n",
    "    # Loop through matrix\n",
    "    for k in 1:length(P[:,1])\n",
    "        a += 1\n",
    "\n",
    "        for c in 1:length(P[1,:])\n",
    "            if P[k,c] == 1\n",
    "                # If there is a prob of 1 to return to same state it absorbs and is not included.\n",
    "                append!(r,a)\n",
    "                party = 0\n",
    "                break\n",
    "            end\n",
    "        end\n",
    "        # Not decent code at all, but it works..\n",
    "        if party == 1\n",
    "            append!(t,a)\n",
    "        else\n",
    "            party = 1\n",
    "        end\n",
    "    end\n",
    "    return t, r\n",
    "end\n",
    "\n",
    "function create_RQ(P)\n",
    "    t,r = num_trans(P)\n",
    "\n",
    "    # Creating empty vector \n",
    "    Q = Vector{Float64}(undef,length(t))'\n",
    "    # Choosing all the transient states into a pseydo transient matrix by size t-t\n",
    "    for k in t\n",
    "        qRow = []\n",
    "        for c in t\n",
    "            append!(qRow,P[k,c])\n",
    "        end\n",
    "        Q = vcat(Q, qRow')\n",
    "    end\n",
    "\n",
    "    R = Vector{Float64}(undef,length(r))'\n",
    "    \n",
    "    if isempty(r)\n",
    "        # Doing the same but for absorbant states into t-r, a few changes in the way the matrices combine\n",
    "        return Q[2:length(t)+1,:], R\n",
    "    else\n",
    "        for k in t\n",
    "            rRow = []\n",
    "            for c in r\n",
    "                append!(rRow,P[k,c])\n",
    "            end\n",
    "            R = vcat(R, rRow')\n",
    "        end\n",
    "        R = R[2:length(t)+1,:]\n",
    "    end\n",
    "\n",
    "    return Q[2:length(t)+1,:], R\n",
    "end\n",
    "\n",
    "# # Constructing the full baby, not at all necesary haha\n",
    "# begin\n",
    "# Q,R = create_RQ(P)\n",
    "# hcat(zeros(2,3),Matrix(I,2,2))\n",
    "# hcat(Q,R)\n",
    "# vcat(hcat(Q,R),hcat(zeros(2,3),Matrix(I,2,2)))\n",
    "# end\n",
    "\n",
    "\n"
   ]
  },
  {
   "cell_type": "markdown",
   "metadata": {},
   "source": [
    "### Absorbing Probabilities"
   ]
  },
  {
   "cell_type": "markdown",
   "metadata": {},
   "source": [
    "Another property is the probability of being absorbed in the absorbing state j when starting from transient state i, which is the (i,j)-entry of the matrix B = N R\n",
    "\n",
    "They use the sum methode again with condition:\n",
    "\n",
    "f_kk = 1\n",
    "f_ik = 0 if state i is recurrent and i not equal k"
   ]
  },
  {
   "cell_type": "code",
   "execution_count": 26,
   "metadata": {},
   "outputs": [
    {
     "name": "stdout",
     "output_type": "stream",
     "text": [
      "Any[0.7 0.0; 0.0 0.3][1.2658227848101267 0.37974683544303794; 0.8860759493670884 1.2658227848101264]"
     ]
    },
    {
     "data": {
      "text/plain": [
       "2×2 Matrix{Any}:\n",
       " 0.886076  0.113924\n",
       " 0.620253  0.379747"
      ]
     },
     "metadata": {},
     "output_type": "display_data"
    }
   ],
   "source": [
    "Q,R = create_RQ(P)\n",
    "N = inv(Matrix(1.0I,length(Q[1,:]),length(Q[:,1])) .- Q)\n",
    "B = N*R"
   ]
  },
  {
   "cell_type": "markdown",
   "metadata": {},
   "source": [
    "### Expected number of steps before absorption"
   ]
  },
  {
   "cell_type": "code",
   "execution_count": 6,
   "metadata": {},
   "outputs": [
    {
     "data": {
      "text/plain": [
       "3-element Vector{Float64}:\n",
       " 3.2\n",
       " 3.2\n",
       " 2.4000000000000004"
      ]
     },
     "metadata": {},
     "output_type": "display_data"
    }
   ],
   "source": [
    "# Expected number of steps before being absorbed, done from the wiki article\n",
    "function ENS(P)\n",
    "    Q,R = create_RQ(P)\n",
    "    N = inv(1*Matrix(I,length(Q[1,:]),length(Q[:,1])) .- Q)\n",
    "    return N*ones(3)\n",
    "end\n",
    "ENS(P)\n"
   ]
  },
  {
   "cell_type": "code",
   "execution_count": 22,
   "metadata": {},
   "outputs": [
    {
     "ename": "UndefVarError",
     "evalue": "UndefVarError: ERT not defined",
     "output_type": "error",
     "traceback": [
      "UndefVarError: ERT not defined\n",
      "\n",
      "Stacktrace:\n",
      "  [1] top-level scope\n",
      "    @ c:\\Users\\rasmu\\Desktop\\OneDrive\\OneDrive - Danmarks Tekniske Universitet\\Decisions under uncertainty\\Decisions_pushing\\Markov.ipynb:1\n",
      "  [2] eval\n",
      "    @ .\\boot.jl:373 [inlined]\n",
      "  [3] include_string(mapexpr::typeof(REPL.softscope), mod::Module, code::String, filename::String)\n",
      "    @ Base .\\loading.jl:1196\n",
      "  [4] #invokelatest#2\n",
      "    @ .\\essentials.jl:716 [inlined]\n",
      "  [5] invokelatest\n",
      "    @ .\\essentials.jl:714 [inlined]\n",
      "  [6] (::VSCodeServer.var\"#150#151\"{VSCodeServer.NotebookRunCellArguments, String})()\n",
      "    @ VSCodeServer c:\\Users\\rasmu\\.vscode\\extensions\\julialang.language-julia-1.5.11\\scripts\\packages\\VSCodeServer\\src\\serve_notebook.jl:18\n",
      "  [7] withpath(f::VSCodeServer.var\"#150#151\"{VSCodeServer.NotebookRunCellArguments, String}, path::String)\n",
      "    @ VSCodeServer c:\\Users\\rasmu\\.vscode\\extensions\\julialang.language-julia-1.5.11\\scripts\\packages\\VSCodeServer\\src\\repl.jl:185\n",
      "  [8] notebook_runcell_request(conn::VSCodeServer.JSONRPC.JSONRPCEndpoint{Base.PipeEndpoint, Base.PipeEndpoint}, params::VSCodeServer.NotebookRunCellArguments)\n",
      "    @ VSCodeServer c:\\Users\\rasmu\\.vscode\\extensions\\julialang.language-julia-1.5.11\\scripts\\packages\\VSCodeServer\\src\\serve_notebook.jl:14\n",
      "  [9] dispatch_msg(x::VSCodeServer.JSONRPC.JSONRPCEndpoint{Base.PipeEndpoint, Base.PipeEndpoint}, dispatcher::VSCodeServer.JSONRPC.MsgDispatcher, msg::Dict{String, Any})\n",
      "    @ VSCodeServer.JSONRPC c:\\Users\\rasmu\\.vscode\\extensions\\julialang.language-julia-1.5.11\\scripts\\packages\\JSONRPC\\src\\typed.jl:67\n",
      " [10] serve_notebook(pipename::String; crashreporting_pipename::String)\n",
      "    @ VSCodeServer c:\\Users\\rasmu\\.vscode\\extensions\\julialang.language-julia-1.5.11\\scripts\\packages\\VSCodeServer\\src\\serve_notebook.jl:94\n",
      " [11] top-level scope\n",
      "    @ c:\\Users\\rasmu\\.vscode\\extensions\\julialang.language-julia-1.5.11\\scripts\\notebook\\notebook.jl:12\n",
      " [12] include(mod::Module, _path::String)\n",
      "    @ Base .\\Base.jl:418\n",
      " [13] exec_options(opts::Base.JLOptions)\n",
      "    @ Base .\\client.jl:292\n",
      " [14] _start()\n",
      "    @ Base .\\client.jl:495"
     ]
    }
   ],
   "source": [
    "ERT(P,1)\n",
    "Q,R = create_RQ(P)\n",
    "N = inv(1*Matrix(I,length(Q[1,:]),length(Q[:,1])) .- Q)"
   ]
  },
  {
   "cell_type": "markdown",
   "metadata": {},
   "source": [
    "### Transient Probabilities"
   ]
  },
  {
   "cell_type": "markdown",
   "metadata": {},
   "source": [
    "The probability of visiting transient state j when starting at a transient state i is the (i,j)-entry of the matrix H = (N-I)(Ndg)^-1"
   ]
  },
  {
   "cell_type": "code",
   "execution_count": 27,
   "metadata": {},
   "outputs": [
    {
     "data": {
      "text/plain": [
       "2×2 Matrix{Float64}:\n",
       " 0.21  0.3\n",
       " 0.7   0.21"
      ]
     },
     "metadata": {},
     "output_type": "display_data"
    }
   ],
   "source": [
    "function TP(P)\n",
    "    Q,R = create_RQ(P)\n",
    "    N = inv(Matrix(1.0I,length(Q[1,:]),length(Q[:,1])) .- Q)\n",
    "\n",
    "    H = (N-Matrix(1.0I,length(N[1,:]),length(N[:,1])))*inv(Diagonal(N))\n",
    "end\n",
    "\n",
    "TP(P)\n"
   ]
  },
  {
   "cell_type": "markdown",
   "metadata": {},
   "source": [
    "# First Passage Time"
   ]
  },
  {
   "cell_type": "markdown",
   "metadata": {},
   "source": [
    "#### Mean Number of Steps, Hitting Time or First Passage Time"
   ]
  },
  {
   "cell_type": "markdown",
   "metadata": {},
   "source": [
    "Ok. This does not follow the method in the book or lectures. It takes a linear algebra approach, actualy the same is acomplished but with matrices and not individual calculations.\n",
    "It follows this guide and proof, if you want to go deeper: https://stats.libretexts.org/Bookshelves/Probability_Theory/Book%3A_Introductory_Probability_(Grinstead_and_Snell)/11%3A_Markov_Chains/11.05%3A_Mean_First_Passage_Time_for_Ergodic_Chains\n",
    "Alright, it creates a fundamental matrix for the ergodic chain, much like the absorbing earlier, then it uses the steady probabilities and the difference between two points on the fundamental.\n",
    "What they do is just set it as three equations and solve them:\n",
    "\n",
    "mu_30 = 1 + p_10*mu_10 + p_20*mu_20 + p_30*mu_30\n",
    "\n",
    "mu_20 = 1 + p_10*mu_10 + p_20*mu_20 + p_30*mu_30\n",
    "\n",
    "mu_10 = 1 + p_10*mu_10 + p_20*mu_20 + p_30*mu_30\n",
    "\n",
    "Then solve.\n",
    "The below methode will generelize better and give a matrix for all possible steps. "
   ]
  },
  {
   "cell_type": "code",
   "execution_count": 32,
   "metadata": {},
   "outputs": [
    {
     "data": {
      "text/plain": [
       "MeanNumSteps (generic function with 1 method)"
      ]
     },
     "metadata": {},
     "output_type": "display_data"
    }
   ],
   "source": [
    "\n",
    "function MeanNumSteps(P)\n",
    "    l = length(P[1,:])\n",
    "\n",
    "    # Creates a matrix with the steady states, terrible code but it works\n",
    "    W = repeat(vcat(steady(P)',steady(P)'),Int(round(l/2)))\n",
    "    if isodd(l)\n",
    "        W = W[1:l,:]\n",
    "    end\n",
    "\n",
    "    # Fundamental Matrix\n",
    "    Z = inv(Matrix(1.0I,l,l) - P + W)\n",
    "\n",
    "    # vector of steady states to use for the transition\n",
    "    w = steady(P)\n",
    "\n",
    "    # Empty vector, have not found a way to concenate without a starting row of same size\n",
    "    M = Vector{Float64}(undef,l)'\n",
    "    # The magic happens here!\n",
    "    # It creates \n",
    "    for k in 1:l\n",
    "        mRow = []\n",
    "        for c in 1:l\n",
    "            a = (Z[k,k] - Z[c,k])/w[k]\n",
    "            append!(mRow,a)\n",
    "        end\n",
    "        M = vcat(M, mRow')\n",
    "    end\n",
    "    return M[2:l+1,:]' + Matrix(1.0I,l,l)\n",
    "end"
   ]
  },
  {
   "cell_type": "code",
   "execution_count": 33,
   "metadata": {},
   "outputs": [
    {
     "data": {
      "text/plain": [
       "4×4 Matrix{Float64}:\n",
       " 1.0  4.0  4.0  5.33333\n",
       " 3.2  1.0  4.0  5.33333\n",
       " 2.4  4.0  1.0  6.66667\n",
       " 3.2  4.0  4.0  1.0"
      ]
     },
     "metadata": {},
     "output_type": "display_data"
    }
   ],
   "source": [
    "P = Matrix([0.25 0.25 0.25 0.25; 0.25 0.25 0.25 0.25; 0.5 0.25 0.25 0; 0.25 0.25 0.25 0.25])\n",
    "MeanNumSteps(P)"
   ]
  },
  {
   "cell_type": "markdown",
   "metadata": {},
   "source": [
    "#### Expected Recurence Time"
   ]
  },
  {
   "cell_type": "markdown",
   "metadata": {},
   "source": [
    "The steps it takes to return to the original state.\n",
    "Not a usefull function in itself but helpfull to remember how to do it."
   ]
  },
  {
   "cell_type": "code",
   "execution_count": 30,
   "metadata": {},
   "outputs": [
    {
     "data": {
      "text/plain": [
       "ERT (generic function with 1 method)"
      ]
     },
     "metadata": {},
     "output_type": "display_data"
    }
   ],
   "source": [
    "\n",
    "function ERT(P,i)\n",
    "    # takes transition matrix and state\n",
    "    Pi = steady(P)\n",
    "    1/Pi[i]\n",
    "end"
   ]
  },
  {
   "cell_type": "code",
   "execution_count": 6,
   "metadata": {},
   "outputs": [
    {
     "data": {
      "text/plain": [
       "3×3 Matrix{Int64}:\n",
       " 1  2  3\n",
       " 1  2  3\n",
       " 1  2  3"
      ]
     },
     "metadata": {},
     "output_type": "display_data"
    }
   ],
   "source": [
    "# Create a matrix, kinda sucks to do...\n",
    "\n",
    "P = [[1,1,1] [2,2,2] [3,3,3]]"
   ]
  },
  {
   "cell_type": "markdown",
   "metadata": {},
   "source": [
    "Ergodicity:\n",
    "ergodicity expresses the idea that a point of a moving system, either a dynamical system or a stochastic process, will eventually visit all parts of the space that the system moves in. Pi= Pi*p, Pi_i >0\n",
    "\n"
   ]
  },
  {
   "cell_type": "markdown",
   "metadata": {},
   "source": [
    "# Week 4 Task 5"
   ]
  },
  {
   "cell_type": "code",
   "execution_count": null,
   "metadata": {},
   "outputs": [],
   "source": [
    "# Eh lav det på papir"
   ]
  }
 ],
 "metadata": {
  "kernelspec": {
   "display_name": "Julia 1.7.2",
   "language": "julia",
   "name": "julia-1.7"
  },
  "language_info": {
   "file_extension": ".jl",
   "mimetype": "application/julia",
   "name": "julia",
   "version": "1.7.2"
  },
  "orig_nbformat": 4
 },
 "nbformat": 4,
 "nbformat_minor": 2
}
