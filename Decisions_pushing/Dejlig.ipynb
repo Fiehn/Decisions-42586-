{
 "cells": [
  {
   "cell_type": "markdown",
   "metadata": {},
   "source": [
    "# Initialization\n",
    "Select the Julia kernel"
   ]
  },
  {
   "cell_type": "code",
   "execution_count": 16,
   "metadata": {},
   "outputs": [],
   "source": [
    "using Pkg\n",
    "using Statistics\n",
    "using Distributions\n",
    "using Plots\n",
    "using LinearAlgebra"
   ]
  },
  {
   "cell_type": "markdown",
   "metadata": {},
   "source": [
    "# Usefull functions"
   ]
  },
  {
   "cell_type": "markdown",
   "metadata": {},
   "source": [
    "## t-test"
   ]
  },
  {
   "cell_type": "code",
   "execution_count": null,
   "metadata": {},
   "outputs": [],
   "source": [
    "c = [1.85,1.92,1.95,1.7,2.1,2.5,2.2,2,2.08]\n",
    "\n",
    "function t_test(x; conf_level=0.95)\n",
    "    alpha = (1 - conf_level)\n",
    "    tstar = quantile(TDist(length(x)-1), 1 - alpha/2)\n",
    "    SE = std(x)/sqrt(length(x))\n",
    "\n",
    "    lo = Statistics.mean(x) + (-1 * tstar * SE)\n",
    "    hi = Statistics.mean(x) + 1 * tstar * SE\n",
    "    \"($lo, $hi)\"\n",
    "end\n",
    "\n",
    "t_test(c)"
   ]
  },
  {
   "cell_type": "markdown",
   "metadata": {},
   "source": [
    "## Steady State"
   ]
  },
  {
   "cell_type": "markdown",
   "metadata": {},
   "source": [
    "Steady state probability:\n",
    "The steady state is the long term probabilities as in Pi_j=limit(p_ij^n, n->infinity) where Pi_j > 0\n",
    "\n",
    "Requirements:\n",
    "Ergodic and irreducible\n",
    "\n",
    "Calculate:\n",
    "Pi_j=sum(Pi_i*p_ij,i=0..M)"
   ]
  },
  {
   "cell_type": "code",
   "execution_count": 62,
   "metadata": {},
   "outputs": [
    {
     "name": "stdout",
     "output_type": "stream",
     "text": [
      "[-0.25 0.3 0.15; 0.2 -0.4 0.05; 0.05 0.1 -0.19999999999999996; 1.0 1.0 1.0]"
     ]
    },
    {
     "data": {
      "text/plain": [
       "3-element Vector{Float64}:\n",
       " 0.47619047619047616\n",
       " 0.2698412698412698\n",
       " 0.25396825396825407"
      ]
     },
     "metadata": {},
     "output_type": "display_data"
    }
   ],
   "source": [
    "# Choose your matrix\n",
    "P = Matrix([0.75 0.2 0.05; 0.3 0.6 0.1; 0.15 0.05 0.8])\n",
    "function steady(P)\n",
    "    # Computing the left side of the equation\n",
    "    A=P'-Matrix(1.0I, length(P[1,:]), length(P[:,1]))\n",
    "\n",
    "    ones = repeat([1.0],length(P[1,:]))'\n",
    "    A = vcat(A,ones)\n",
    "    # The right side of the equation\n",
    "    b = vcat(repeat([0.0],length(A[1,:])),1.0)\n",
    "\n",
    "    #Probability to be in a certain state\n",
    "    Pi = A\\b\n",
    "end\n"
   ]
  },
  {
   "cell_type": "markdown",
   "metadata": {},
   "source": [
    "# Matrix, Just example who cares cunt"
   ]
  },
  {
   "cell_type": "code",
   "execution_count": 12,
   "metadata": {},
   "outputs": [
    {
     "data": {
      "text/plain": [
       "3×3 Matrix{Int64}:\n",
       " 1  2  3\n",
       " 1  2  3\n",
       " 1  2  3"
      ]
     },
     "metadata": {},
     "output_type": "display_data"
    }
   ],
   "source": [
    "# Create a matrix, kinda sucks to do...\n",
    "\n",
    "P = [[1,1,1] [2,2,2] [3,3,3]]"
   ]
  },
  {
   "cell_type": "markdown",
   "metadata": {},
   "source": [
    "# Terms"
   ]
  },
  {
   "cell_type": "markdown",
   "metadata": {},
   "source": [
    "Ergodicity:\n",
    "ergodicity expresses the idea that a point of a moving system, either a dynamical system or a stochastic process, will eventually visit all parts of the space that the system moves in. Pi= Pi*p, Pi_i >0\n",
    "\n"
   ]
  }
 ],
 "metadata": {
  "kernelspec": {
   "display_name": "Julia 1.7.2",
   "language": "julia",
   "name": "julia-1.7"
  },
  "language_info": {
   "file_extension": ".jl",
   "mimetype": "application/julia",
   "name": "julia",
   "version": "1.7.2"
  },
  "orig_nbformat": 4
 },
 "nbformat": 4,
 "nbformat_minor": 2
}
