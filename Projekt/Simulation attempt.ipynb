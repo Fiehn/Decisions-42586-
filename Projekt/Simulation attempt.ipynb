{
 "cells": [
  {
   "cell_type": "markdown",
   "metadata": {},
   "source": [
    "# Redundant"
   ]
  },
  {
   "cell_type": "code",
   "execution_count": 1,
   "metadata": {},
   "outputs": [],
   "source": [
    "using Random, Distributions"
   ]
  },
  {
   "cell_type": "code",
   "execution_count": 110,
   "metadata": {},
   "outputs": [
    {
     "name": "stdout",
     "output_type": "stream",
     "text": [
      "aj\n",
      "na\n",
      "lon\n",
      "la\n",
      "aj\n",
      "lon\n",
      "aj\n",
      "aj\n",
      "la\n",
      "lon\n",
      "[71.62357998333988, 63.093335020066434, 33.313651003967, 9.832390594385078][64.9515268496291, 100.0, 37.834199381928, 100.0, 18.21233596117552, 100.0]\n"
     ]
    }
   ],
   "source": [
    "########################### Redundant!!!!!!\n",
    "# time_st1 = Vector{Float64}()\n",
    "# time_st2 = Vector{Float64}()\n",
    "# time_from_st1 = Vector{Float64}()\n",
    "# time_from_st2 = Vector{Float64}()\n",
    "# n_st1_vect = Vector{Int64}()\n",
    "# n_st2_vect = Vector{Int64}()\n",
    "\n",
    "# draw_st1 = rand(Exponential(10))\n",
    "# draw_st2 = rand(Exponential(10))\n",
    "\n",
    "\n",
    "\n",
    "# n_st1 = 5\n",
    "# n_st2 = 5\n",
    "# n_total = n_st1 + n_st2\n",
    "# n_travel = 0\n",
    "# travel_f_1 = 100 #problem - Interrem ingen rejser. ingen er op vej nogen steder hen\n",
    "# travel_f_2 = 100\n",
    "# shit_1 = 0 #Nogen som ankommer og går uden at blive serviceret. \n",
    "# shit_2 = 0\n",
    "\n",
    "# push!(time_st1,draw_st1) #Smider de første værdier ind i vektoren. \n",
    "# push!(time_st2,draw_st2)\n",
    "# push!(time_from_st1,travel_f_1)\n",
    "# push!(time_from_st2,travel_f_2)\n",
    "# push!(n_st1_vect,n_st1)\n",
    "# push!(n_st2_vect,n_st2)\n",
    "\n",
    "\n",
    "# # antager at hvis der ikke er en bil løber folk væk igen og der gåe en ny tid før studerende ankommer\n",
    "\n",
    "\n",
    "# for i in 1:10 #placeholder for whileloop. \n",
    "#     # Crude as shit!\n",
    "#     if last(time_st1) < last(time_st2) && last(time_st1) < last(time_from_st1) && last(time_st1) < last(time_from_st2)\n",
    "        \n",
    "#         if n_st1 >= 1 && n_st1 <= n_travel+n_st1+n_st2 \n",
    "#             n_st1 -= 1\n",
    "#             push!(n_st1_vect,n_st1)\n",
    "#             travel_f_1 = rand(Exponential(10))\n",
    "#             n_travel +=1\n",
    "#             push!(time_from_st1,travel_f_1+last(time_st1))\n",
    "        \n",
    "#         else\n",
    "#             shit_1 += 1\n",
    "#         end\n",
    "\n",
    "#         draw_st1 = rand(Exponential(10))\n",
    "#         push!(time_st1,last(time_st1)+draw_st1)\n",
    "\n",
    "#     elseif last(time_st2) < last(time_st1) && last(time_st2) < last(time_from_st1) && last(time_st2) < last(time_from_st2)\n",
    "        \n",
    "#         if n_st2 >= 1 && n_st2 <= n_travel+n_st1+n_st2\n",
    "#             n_st2 -= 1\n",
    "#             push!(n_st2_vect,n_st2)\n",
    "#             travel_f_2 = rand(Exponential(10))\n",
    "#             n_travel += 1\n",
    "#             push!(time_from_st2,travel_f_2+last(time_st2))\n",
    "            \n",
    "#         else\n",
    "#             shit_2 += 1\n",
    "#         end\n",
    "\n",
    "#         draw_st2 = rand(Exponential(10))\n",
    "#         push!(time_st2,last(time_st2)+draw_st2)\n",
    "\n",
    "#     elseif last(time_st1) > last(time_from_st1) && last(time_st2) > last(time_from_st1) && last(time_from_st1) < last(time_from_st2) && n_travel+n_st1+n_st2 == n_total\n",
    "#         n_st2 += 1\n",
    "#         push!(n_st2_vect,n_st2+last(n_st2_vect))\n",
    "#         n_travel -= 1\n",
    "        \n",
    "#         push!(time_from_st1,100)\n",
    "\n",
    "#     elseif last(time_st1) > last(time_from_st2) && last(time_st2) > last(time_from_st2) && last(time_from_st1) > last(time_from_st2) && n_travel+n_st1+n_st2 == n_total\n",
    "#         n_st1 += 1\n",
    "#         push!(n_st1_vect,n_st1+last(n_st1_vect))\n",
    "#         n_travel -= 1\n",
    "        \n",
    "#         push!(time_from_st2,100)\n",
    "#     else\n",
    "#         println('Something Wrong.')\n",
    "#     end\n",
    "# end\n",
    "\n",
    "\n",
    "# println(time_st1,time_from_st1)\n"
   ]
  },
  {
   "cell_type": "markdown",
   "metadata": {},
   "source": [
    "# The Real code"
   ]
  },
  {
   "cell_type": "code",
   "execution_count": 1,
   "metadata": {},
   "outputs": [],
   "source": [
    "using Random, Distributions, Plots"
   ]
  },
  {
   "cell_type": "code",
   "execution_count": 2,
   "metadata": {},
   "outputs": [],
   "source": [
    "struct event\n",
    "    type::Symbol\n",
    "    time::Float64\n",
    "end\n",
    "\n",
    "struct Environment\n",
    "    hours::Float64\n",
    "    lambda::Float64  #arrival rate\n",
    "    mu::Float64 #service rate\n",
    "   \n",
    "   #Add arrival rate per hour for both stations. Add travel-time rate for both stations.\n",
    "    Environment() = new(\n",
    "    2, \n",
    "    (1/6), \n",
    "    (1/12)\n",
    "    )\n",
    "end\n",
    "\n",
    "mutable struct Stats\n",
    "    n_cars_st1::Int64\n",
    "    n_cars_st2::Int64\n",
    "\n",
    "\n",
    "end"
   ]
  },
  {
   "cell_type": "code",
   "execution_count": 23,
   "metadata": {},
   "outputs": [
    {
     "data": {
      "text/plain": [
       "arrivals_generator (generic function with 1 method)"
      ]
     },
     "metadata": {},
     "output_type": "display_data"
    }
   ],
   "source": [
    "function arrivals_generator(env::Environment)\n",
    "    \n",
    "    e1 = Array{Tuple{Float64,SubString},1}() # Skal gøres til Struct somehow\n",
    "    e2 = Array{Tuple{Float64,String},1}()\n",
    "\n",
    "    # Arrivals at station 1\n",
    "    push!(e1,(rand(Exponential(env.lambda)),\"st1\")) # First arrival\n",
    "    while last(e1)[1] <= env.hours\n",
    "       push!(e1,(rand(Exponential(env.lambda))+last(e1)[1],\"st1\"))\n",
    "    end\n",
    "\n",
    "    # Arrivals at station 2\n",
    "    push!(e2,(rand(Exponential(env.lambda)),\"st2\")) # First arrival\n",
    "    while last(e2)[1] <= env.hours\n",
    "        push!(e2,(rand(Exponential(env.lambda))+last(e2)[1],\"st2\"))\n",
    "    end\n",
    "\n",
    "    e_full = vcat(e1,e2)\n",
    "\n",
    "    e_full = sort(e_full)\n",
    "\n",
    "    return e_full\n",
    "end"
   ]
  },
  {
   "cell_type": "markdown",
   "metadata": {},
   "source": [
    "### Testing"
   ]
  },
  {
   "cell_type": "code",
   "execution_count": 24,
   "metadata": {},
   "outputs": [
    {
     "name": "stdout",
     "output_type": "stream",
     "text": [
      "Tuple{Float64, AbstractString}[(0.01051311426005628, \"st2\"), (0.1232319170595611, \"st2\"), (0.1806255913812856, \"st1\"), (0.21212964103451434, \"st2\"), (0.23598856378156707, \"st1\"), (0.5366457756579405, \"st1\"), (0.6321119653452022, \"st1\"), (0.7353806718227605, \"st2\"), (0.8136757508390272, \"st2\"), (0.8536225614300956, \"st1\"), (0.8571086695800745, \"st2\"), (0.9678017063603945, \"st1\"), (1.1172369083604514, \"st1\"), (1.3595662061799245, \"st1\"), (1.470020751159561, \"st1\"), (1.4750829410495898, \"st1\"), (1.62062749290631, \"st2\"), (1.6623023403518369, \"st1\"), (1.6732923676310743, \"st2\"), (1.72569709706746, \"st1\"), (1.7983094232612986, \"st1\"), (1.8302438550883329, \"st1\"), (1.9040680698826784, \"st2\"), (1.937383730844835, \"st2\"), (1.9815845552003175, \"st1\"), (1.991560549489483, \"st2\"), (2.229656783625571, \"st1\"), (2.454330117136649, \"st2\")]"
     ]
    }
   ],
   "source": [
    "env = Environment()\n",
    "print(sort(arrivals_generator(env)))"
   ]
  },
  {
   "cell_type": "code",
   "execution_count": 78,
   "metadata": {},
   "outputs": [
    {
     "data": {
      "text/plain": [
       "3-element Vector{Tuple{String, Float64}}:\n",
       " (\"3\", 1.0)\n",
       " (\"2\", 2.0)\n",
       " (\"12\", 5.0)"
      ]
     },
     "metadata": {},
     "output_type": "display_data"
    }
   ],
   "source": [
    "arrivals = Array{Tuple{String,Float64},1}([(\"12\",5),(\"2\",2)])\n",
    "push!(arrivals,(\"3\",1))\n",
    "arrivals = sort(arrivals,rev=true)"
   ]
  },
  {
   "cell_type": "code",
   "execution_count": 112,
   "metadata": {},
   "outputs": [
    {
     "data": {
      "text/plain": [
       "j (generic function with 1 method)"
      ]
     },
     "metadata": {},
     "output_type": "display_data"
    }
   ],
   "source": []
  },
  {
   "cell_type": "code",
   "execution_count": 122,
   "metadata": {},
   "outputs": [
    {
     "data": {
      "text/plain": [
       "3-element Vector{Tuple{String, Float64}}:\n",
       " (\"12\", 5.0)\n",
       " (\"2\", 2.0)\n",
       " (\"st2\", 0.08351942976228066)"
      ]
     },
     "metadata": {},
     "output_type": "display_data"
    }
   ],
   "source": [
    "e2 = Array{Tuple{String,Float64},1}([(\"12\",5),(\"2\",2)])\n",
    "push!(e2,(\"st2\", rand(Exponential(1/6))))"
   ]
  },
  {
   "cell_type": "code",
   "execution_count": null,
   "metadata": {},
   "outputs": [],
   "source": []
  }
 ],
 "metadata": {
  "kernelspec": {
   "display_name": "Julia 1.7.2",
   "language": "julia",
   "name": "julia-1.7"
  },
  "language_info": {
   "file_extension": ".jl",
   "mimetype": "application/julia",
   "name": "julia",
   "version": "1.7.2"
  },
  "orig_nbformat": 4
 },
 "nbformat": 4,
 "nbformat_minor": 2
}
