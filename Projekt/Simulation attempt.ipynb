{
 "cells": [
  {
   "cell_type": "markdown",
   "metadata": {},
   "source": [
    "# The Real code"
   ]
  },
  {
   "cell_type": "code",
   "execution_count": 1,
   "metadata": {},
   "outputs": [],
   "source": [
    "using Random, Distributions, Plots, XLSX"
   ]
  },
  {
   "cell_type": "markdown",
   "metadata": {},
   "source": [
    "What needs to be done:\n",
    ". Statistics along the way\n",
    ". the simulation gives a shit ton of unfullfilled values, seems fucked!\n",
    ". Last simulation\n",
    "... Plots\n"
   ]
  },
  {
   "cell_type": "markdown",
   "metadata": {},
   "source": [
    "Questions\n",
    ". Weird arrival at midnight\n",
    ". Why the large amount of unfullfilled values?\n",
    ". Should we keep values for every step at every run or just the final statistics at every run?\n"
   ]
  },
  {
   "cell_type": "code",
   "execution_count": 2,
   "metadata": {},
   "outputs": [
    {
     "data": {
      "text/plain": [
       "insert_and_sort! (generic function with 1 method)"
      ]
     },
     "metadata": {},
     "output_type": "display_data"
    }
   ],
   "source": [
    "### Initial functions to load lambda and mu from the ArrivalProfiles.xlsx\n",
    "\n",
    "# Change the type to Float64 from Int and String for the loaded vectors\n",
    "function type_change(v)\n",
    "    v_ny = Vector{Float64}()\n",
    "    for i in 1:length(v)\n",
    "        if typeof(v[i]) == String\n",
    "            push!(v_ny,parse(Float64,v[i]))\n",
    "        elseif typeof(v[i]) == Int64\n",
    "            push!(v_ny,float(v[i]))\n",
    "        else\n",
    "            push!(v_ny,v[i])\n",
    "        end\n",
    "    end\n",
    "    return v_ny\n",
    "end\n",
    "\n",
    "\n",
    "function load_arri(path=\"C:/Users/rasmu/Desktop/OneDrive/OneDrive - Danmarks Tekniske Universitet/Decisions under uncertainty/Projekt/ArrivalProfiles.xlsx\")\n",
    "    xf = XLSX.readxlsx(path) # Loading\n",
    "\n",
    "    # Lambda is given as expected arrivals therefore inverse\n",
    "    lambda_port = 1 ./ type_change(xf[1][\"C2:AA2\"])\n",
    "    lambda_dtu = 1 ./ type_change(xf[1][\"C3:AA3\"])\n",
    "\n",
    "    # Travel time\n",
    "    mu_rammer_dtu = type_change(xf[1][\"C7:AA7\"])\n",
    "    mu_rammer_port = type_change(xf[1][\"C8:AA8\"])\n",
    "\n",
    "    return lambda_port, lambda_dtu, mu_rammer_dtu, mu_rammer_port\n",
    "end\n",
    "\n",
    "\n",
    "# Might not be just as fast as PriorityQueue but it is not that much behind\n",
    "# Inserts a value at the spot it fits\n",
    "function insert_and_sort!(vect::Vector, x)\n",
    "    (splice!(vect, searchsorted(vect,x), [x]); vect) \n",
    "end\n"
   ]
  },
  {
   "cell_type": "code",
   "execution_count": 3,
   "metadata": {},
   "outputs": [],
   "source": [
    "struct Environment # The environment including arrival rates and travel rates\n",
    "    lambda_dtu::Vector{Float64}  #arrival rate 1\n",
    "    mu_rammer_dtu::Vector{Float64} #service rate 1\n",
    "    lambda_port::Vector{Float64} # arrival rate 2\n",
    "    mu_rammer_port::Vector{Float64} #service rate 2\n",
    "    \n",
    "    # loading the vectors from excel\n",
    "    lambda_port, lambda_dtu, mu_rammer_dtu, mu_rammer_port = load_arri() # NEEDS the path to load the document from!\n",
    "    Environment() = new(lambda_port, lambda_dtu, mu_rammer_dtu, mu_rammer_port)\n",
    "end\n",
    "\n",
    "mutable struct Stats # Vector including [Station 1, Station 2]\n",
    "    n_cars::Vector{Int64} # Number of cars at the stations at any given time\n",
    "    un_fullfilled::Vector{Int64} # Amount of times a customer arrives to an empty station\n",
    "    fullfilled::Vector{Int64} # Amount of times a costumer arrives and gets a car\n",
    "    empty_time::Vector{Float64} # The time any given station has 0 cars\n",
    "    currently_empty::Vector{Bool} # Is the station empty\n",
    "end\n",
    "\n",
    "struct Balance\n",
    "    desired_n_st1::Int64\n",
    "    desired_n_st2::Int64\n",
    "    rebalance_times::Vector{Float64}\n",
    "end\n"
   ]
  },
  {
   "cell_type": "code",
   "execution_count": 21,
   "metadata": {},
   "outputs": [
    {
     "data": {
      "text/plain": [
       "rebalancing (generic function with 1 method)"
      ]
     },
     "metadata": {},
     "output_type": "display_data"
    }
   ],
   "source": [
    "\n",
    "function time_change(e::Array{Tuple{Float64,String},1},k::Int64,day::Int64) # problems\n",
    "    # Switch day and reset index\n",
    "    if k == 25\n",
    "        k = 0\n",
    "        day += 25\n",
    "    end\n",
    "    # Insert the next time change\n",
    "    popfirst!(e)[1]\n",
    "    insert_and_sort!(e,(k+day,\"time_change\"))\n",
    "\n",
    "    # Change index for time\n",
    "    k += 1\n",
    "    return k,day\n",
    "end\n",
    "\n",
    "function arrival_student(station::Int64,e::Array{Tuple{Float64,String},1},env::Environment,stat::Stats,k::Int64)\n",
    "    \n",
    "    # Insert next arrival based on previous arrival\n",
    "    if station == 1\n",
    "        insert_and_sort!(e,(rand(Exponential(env.lambda_dtu[k]))+e[1][1],\"st1\"))\n",
    "    elseif station == 2\n",
    "        insert_and_sort!(e,(rand(Exponential(env.lambda_dtu[k]))+e[1][1],\"st2\"))\n",
    "    end\n",
    "\n",
    "    if stat.currently_empty[station] == true # Student arrives at empty station. That is one unsatisfied costumer :(\n",
    "        stat.un_fullfilled[station] += 1\n",
    "        popfirst!(e)\n",
    "        \n",
    "    else # Costumer leaves station\n",
    "        stat.n_cars[station] -= 1 # removing car from station\n",
    "        stat.fullfilled[station] += 1 # one fullfilled request\n",
    "        \n",
    "        # Insert travel time based on arrival station\n",
    "        if station == 1\n",
    "            insert_and_sort!(e,(rand(Exponential(env.mu_rammer_port[k]))+e[1][1],\"que_st2\")) \n",
    "        elseif station == 2\n",
    "            insert_and_sort!(e,(rand(Exponential(env.mu_rammer_port[k]))+e[1][1],\"que_st1\")) \n",
    "        end\n",
    "\n",
    "        if stat.n_cars[station] == 0 # station becomes empty\n",
    "            stat.empty_time[station] -= popfirst!(e)[1] # Empty station timer starts \n",
    "            stat.currently_empty[station] = true\n",
    "        else\n",
    "            popfirst!(e)\n",
    "        end\n",
    "    end \n",
    "\n",
    "end \n",
    "\n",
    "function arrival_vehicle(station::Int64,e::Array{Tuple{Float64,String},1},env::Environment,stat::Stats)\n",
    "\n",
    "    if stat.currently_empty[station] == true # Arriving at an empty station\n",
    "        stat.n_cars[station] += 1 # arrive\n",
    "        stat.empty_time[station] += popfirst!(e)[1] # End empty timer\n",
    "        stat.currently_empty[station] = false\n",
    "    else\n",
    "        stat.n_cars[station] += 1 # arrive\n",
    "        popfirst!(e)\n",
    "    end\n",
    "\n",
    "end\n",
    "\n",
    "\n",
    "function rebalancing(rebal::Balance,stat::Stats,env::Environment,e::Array{Tuple{Float64,String},1},k::Int64)\n",
    "    # NEEDS Documentation and a serious debugging\n",
    "    if stat.n_cars[2] >= rebal.desired_n_st1\n",
    "        for i in 1:rebal.desired_n_st1\n",
    "            insert_and_sort!(e,(rand(Exponential(env.mu_rammer_dtu[k]))+e[1][1],\"que_st1\")) \n",
    "            stat.n_cars[2] -= 1\n",
    "        end\n",
    "        \n",
    "        # Start empty timer\n",
    "        if stat.n_cars[2] == 0\n",
    "            stat.empty_time[2] -= e[1][1]\n",
    "            stat.currently_empty[2] = true\n",
    "        end\n",
    "\n",
    "    else\n",
    "        for i in 1:stat.n_cars[2]\n",
    "            insert_and_sort!(e,(rand(Exponential(env.mu_rammer_dtu[k]))+e[1][1],\"que_st1\"))\n",
    "            stat.n_cars[2] -= 1\n",
    "        end\n",
    "        if stat.currently_empty[2] == false\n",
    "            stat.empty_time[2] -= e[1][1]\n",
    "            stat.currently_empty[2] = true\n",
    "        end\n",
    "    end\n",
    "\n",
    "    # For station 1\n",
    "    if stat.n_cars[1] >= rebal.desired_n_st2\n",
    "        for i in 1:rebal.desired_n_st2\n",
    "            insert_and_sort!(e,(rand(Exponential(env.mu_rammer_port[k]))+e[1][1],\"que_st2\"))\n",
    "            stat.n_cars[1] -= 1\n",
    "        end\n",
    "        \n",
    "        # Start empty timer\n",
    "        if stat.n_cars[1] == 0\n",
    "            stat.empty_time[1] -= e[1][1]\n",
    "            stat.currently_empty[1] = true\n",
    "        end\n",
    "    else\n",
    "        for i in 1:stat.n_cars[1]\n",
    "            insert_and_sort!(e,(rand(Exponential(env.mu_rammer_port[k]))+e[1][1],\"que_st2\"))\n",
    "            stat.n_cars[1] -= 1\n",
    "        end\n",
    "        if stat.currently_empty[1] == false\n",
    "            stat.empty_time[1] -= e[1][1]\n",
    "            stat.currently_empty[1] = true\n",
    "        end\n",
    "    end \n",
    "\n",
    "    insert_and_sort!(e,(24.0+popfirst!(e)[1],\"rebalance\"))\n",
    "    \n",
    "end\n",
    "\n"
   ]
  },
  {
   "cell_type": "code",
   "execution_count": 39,
   "metadata": {},
   "outputs": [
    {
     "data": {
      "text/plain": [
       "sim (generic function with 1 method)"
      ]
     },
     "metadata": {},
     "output_type": "display_data"
    }
   ],
   "source": [
    "function sim(days_to_run::Int64,initial_n_cars::Vector{Int64}, rebal::Balance, env::Environment)\n",
    "\n",
    "    stat = Stats([initial_n_cars[1],initial_n_cars[2]],[0,0],[0,0],[0,0],[false,false])\n",
    "\n",
    "    e = Array{Tuple{Float64,String},1}()\n",
    "    \n",
    "    runs = 0\n",
    "    k = 1\n",
    "    day = 0\n",
    "    insert_and_sort!(e,(rand(Exponential(env.lambda_dtu[k])),\"st1\")) # Insert first arrival\n",
    "    insert_and_sort!(e,(rand(Exponential(env.lambda_port[k])),\"st2\")) # Insert frist arrival\n",
    "    insert_and_sort!(e,(0.0,\"time_change\")) # THIS NEEDS TO BE FIXED!!!!!!!!\n",
    "\n",
    "    for i in 1:length(rebal.rebalance_times)\n",
    "        insert_and_sort!(e,(rebal.rebalance_times[i],\"rebalance\"))\n",
    "    end\n",
    "\n",
    "\n",
    "    while e[1][1] <= days_to_run*24.0 && runs <= 100000\n",
    "        load_type = e[1][2]\n",
    "        if load_type == \"st1\"\n",
    "            arrival_student(1,e,env,stat,k)\n",
    "        elseif load_type == \"st2\"\n",
    "            arrival_student(2,e,env,stat,k)\n",
    "        elseif load_type == \"que_st1\"\n",
    "            arrival_vehicle(1,e,env,stat)\n",
    "        elseif load_type == \"que_st2\"\n",
    "            arrival_vehicle(2,e,env,stat)\n",
    "        elseif load_type == \"time_change\"\n",
    "            k,day = time_change(e,k,day)\n",
    "        elseif load_type == \"rebalance\"\n",
    "            rebalancing(rebal,stat,env,e,k)\n",
    "        else\n",
    "            throw(ErrorException(\"Issue in the event type!\"))\n",
    "        end\n",
    "        runs += 1 # Checks the amount of events\n",
    "    end\n",
    "    \n",
    "    # Make sure the empty timer stops at the end of the run\n",
    "    print(stat.currently_empty,stat.n_cars)\n",
    "    if stat.currently_empty[1] == true\n",
    "        stat.empty_time[1] += e[1][1]\n",
    "    elseif stat.currently_empty[2] == true\n",
    "        stat.empty_time[2] += e[1][1]\n",
    "    end\n",
    "    \n",
    "    return stat.n_cars,stat.un_fullfilled,stat.fullfilled,stat.empty_time,runs\n",
    "end"
   ]
  },
  {
   "cell_type": "markdown",
   "metadata": {},
   "source": [
    "### Testing"
   ]
  },
  {
   "cell_type": "code",
   "execution_count": 40,
   "metadata": {},
   "outputs": [
    {
     "data": {
      "text/plain": [
       "main (generic function with 2 methods)"
      ]
     },
     "metadata": {},
     "output_type": "display_data"
    }
   ],
   "source": [
    "\n",
    "function main(initial_n_cars::Vector{Int64},days_to_run::Int64,n_of_runs::Int64,rebalance::Tuple{Int64, Int64, Vector{Float64}},path = \"C:/Users/rasmu/Desktop/OneDrive/OneDrive - Danmarks Tekniske Universitet/Decisions under uncertainty/Projekt/ArrivalProfiles.xlsx\")\n",
    "    # Rebalance is given in [desired_n_st1, desired_n_st2, time_1, time_2] for now int\n",
    "    env = Environment()\n",
    "    rebal = Balance(rebalance[1],rebalance[2],rebalance[3])\n",
    "    overview = []\n",
    "    efficiancy = []\n",
    "\n",
    "    for i in 1:n_of_runs\n",
    "        a = sim(days_to_run,initial_n_cars,rebal,env)\n",
    "        overview = [overview;a]\n",
    "        # NEeds final stats\n",
    "    \n",
    "        efficiancy_fullfilled = [a[3][1]/(a[3][1]+a[2][1]), a[3][2]/(a[3][2]+a[2][2]) ]\n",
    "        efficiancy_emptytime = [a[4][1]/(days_to_run*24),a[4][2]/(days_to_run*24)]\n",
    "\n",
    "        print(\"Efficiancy percentage for station 1 is \")\n",
    "        printstyled(round(efficiancy_fullfilled[1]*100,digits=2),\"%\"; color=:blue)\n",
    "        print(\" and \")\n",
    "        printstyled(round(efficiancy_fullfilled[2]*100,digits=2),\"%\"; color=:blue)\n",
    "        print(\" for station 2. Percentage of time spent empty for station 1 is \")\n",
    "        printstyled(round(efficiancy_emptytime[1]*100,digits=2),\"%\"; color=:blue)\n",
    "        print(\" and \")\n",
    "        printstyled(round(efficiancy_emptytime[2]*100,digits=2),\"%\"; color=:blue)\n",
    "        println(\" for station 2.\")\n",
    "\n",
    "        efficiancy = [efficiancy; [efficiancy_fullfilled]]\n",
    "    end\n",
    "    \n",
    "    return overview, efficiancy\n",
    "end"
   ]
  },
  {
   "cell_type": "code",
   "execution_count": 56,
   "metadata": {},
   "outputs": [
    {
     "name": "stdout",
     "output_type": "stream",
     "text": [
      "Bool[0, 0][80, 19]Efficiancy percentage for station 1 is \u001b[34m76.91%\u001b[39m and \u001b[34m49.73%\u001b[39m for station 2. Percentage of time spent empty for station 1 is \u001b[34m6.92%\u001b[39m and \u001b[34m17.66%\u001b[39m for station 2.\n",
      "Bool[0, 1][90, 0]Efficiancy percentage for station 1 is \u001b[34m73.24%\u001b[39m and \u001b[34m51.52%\u001b[39m for station 2. Percentage of time spent empty for station 1 is \u001b[34m7.66%\u001b[39m and \u001b[34m16.6%\u001b[39m for station 2.\n",
      "Bool[0, 0][36, 58]Efficiancy percentage for station 1 is \u001b[34m79.57%\u001b[39m and \u001b[34m70.39%\u001b[39m for station 2. Percentage of time spent empty for station 1 is \u001b[34m5.88%\u001b[39m and \u001b[34m9.84%\u001b[39m for station 2.\n",
      "Bool[0, 1][100, 0]Efficiancy percentage for station 1 is \u001b[34m76.37%\u001b[39m and \u001b[34m67.13%\u001b[39m for station 2. Percentage of time spent empty for station 1 is \u001b[34m7.3%\u001b[39m and \u001b[34m13.25%\u001b[39m for station 2.\n",
      "Bool[0, 0][90, 1]Efficiancy percentage for station 1 is \u001b[34m76.2%\u001b[39m and \u001b[34m62.4%\u001b[39m for station 2. Percentage of time spent empty for station 1 is \u001b[34m7.26%\u001b[39m and \u001b[34m13.58%\u001b[39m for station 2.\n",
      "Bool[0, 0][15, 77]Efficiancy percentage for station 1 is \u001b[34m79.43%\u001b[39m and \u001b[34m58.43%\u001b[39m for station 2. Percentage of time spent empty for station 1 is \u001b[34m6.21%\u001b[39m and \u001b[34m17.04%\u001b[39m for station 2.\n",
      "Bool[0, 0][67, 28]Efficiancy percentage for station 1 is \u001b[34m78.99%\u001b[39m and \u001b[34m65.78%\u001b[39m for station 2. Percentage of time spent empty for station 1 is \u001b[34m7.17%\u001b[39m and \u001b[34m10.17%\u001b[39m for station 2.\n",
      "Bool[0, 1][83, 0]Efficiancy percentage for station 1 is \u001b[34m73.65%\u001b[39m and \u001b[34m60.32%\u001b[39m for station 2. Percentage of time spent empty for station 1 is \u001b[34m10.45%\u001b[39m and \u001b[34m14.26%\u001b[39m for station 2.\n",
      "Bool[0, 0][81, 9]Efficiancy percentage for station 1 is \u001b[34m74.71%\u001b[39m and \u001b[34m59.54%\u001b[39m for station 2. Percentage of time spent empty for station 1 is \u001b[34m8.86%\u001b[39m and \u001b[34m13.8%\u001b[39m for station 2.\n",
      "Bool[0, 1][100, 0]Efficiancy percentage for station 1 is \u001b[34m76.44%\u001b[39m and \u001b[34m52.5%\u001b[39m for station 2. Percentage of time spent empty for station 1 is \u001b[34m6.4%\u001b[39m and \u001b[34m16.66%\u001b[39m for station 2.\n",
      "Bool[0, 0][47, 45]Efficiancy percentage for station 1 is \u001b[34m68.61%\u001b[39m and \u001b[34m66.45%\u001b[39m for station 2. Percentage of time spent empty for station 1 is \u001b[34m12.18%\u001b[39m and \u001b[34m9.58%\u001b[39m for station 2.\n",
      "Bool[0, 1][90, 0]Efficiancy percentage for station 1 is \u001b[34m75.1%\u001b[39m and \u001b[34m58.55%\u001b[39m for station 2. Percentage of time spent empty for station 1 is \u001b[34m7.64%\u001b[39m and \u001b[34m13.54%\u001b[39m for station 2.\n",
      "Bool[0, 0][52, 30]Efficiancy percentage for station 1 is \u001b[34m75.41%\u001b[39m and \u001b[34m52.11%\u001b[39m for station 2. Percentage of time spent empty for station 1 is \u001b[34m5.87%\u001b[39m and \u001b[34m18.8%\u001b[39m for station 2.\n",
      "Bool[0, 0][50, 48]Efficiancy percentage for station 1 is \u001b[34m80.37%\u001b[39m and \u001b[34m58.58%\u001b[39m for station 2. Percentage of time spent empty for station 1 is \u001b[34m6.18%\u001b[39m and \u001b[34m12.03%\u001b[39m for station 2.\n",
      "Bool[1, 0][0, 100]Efficiancy percentage for station 1 is \u001b[34m80.58%\u001b[39m and \u001b[34m51.36%\u001b[39m for station 2. Percentage of time spent empty for station 1 is \u001b[34m5.83%\u001b[39m and \u001b[34m18.51%\u001b[39m for station 2.\n",
      "Bool[0, 0][77, 15]Efficiancy percentage for station 1 is \u001b[34m80.59%\u001b[39m and \u001b[34m63.05%\u001b[39m for station 2. Percentage of time spent empty for station 1 is \u001b[34m4.46%\u001b[39m and \u001b[34m10.5%\u001b[39m for station 2.\n",
      "Bool[0, 0][69, 27]Efficiancy percentage for station 1 is \u001b[34m76.29%\u001b[39m and \u001b[34m63.05%\u001b[39m for station 2. Percentage of time spent empty for station 1 is \u001b[34m7.95%\u001b[39m and \u001b[34m13.44%\u001b[39m for station 2.\n",
      "Bool[0, 0][44, 40]Efficiancy percentage for station 1 is \u001b[34m84.63%\u001b[39m and \u001b[34m60.01%\u001b[39m for station 2. Percentage of time spent empty for station 1 is \u001b[34m3.67%\u001b[39m and \u001b[34m14.32%\u001b[39m for station 2.\n",
      "Bool[0, 0][52, 37]Efficiancy percentage for station 1 is \u001b[34m77.99%\u001b[39m and \u001b[34m58.2%\u001b[39m for station 2. Percentage of time spent empty for station 1 is \u001b[34m5.98%\u001b[39m and \u001b[34m18.23%\u001b[39m for station 2.\n",
      "Bool[0, 0][99, 1]Efficiancy percentage for station 1 is \u001b[34m76.97%\u001b[39m and \u001b[34m57.98%\u001b[39m for station 2. Percentage of time spent empty for station 1 is \u001b[34m7.93%\u001b[39m and \u001b[34m13.23%\u001b[39m for station 2.\n"
     ]
    },
    {
     "data": {
      "text/plain": [
       "(Any[([80, 19], [2248, 5256], [7487, 5199], [166.13252981504093, 423.86921977171437], 40749), ([90, 0], [2471, 4839], [6763, 5142], [183.74569971770188, 398.33041178581357], 38634), ([36, 58], [2313, 2769], [9006, 6582], [141.00231666216496, 236.14288328764178], 44383), ([100, 0], [2686, 3027], [8681, 6181], [175.31870466036344, 318.0386383981372], 43626), ([90, 1], [2460, 3492], [7875, 5795], [174.34741685906647, 325.8138712389882], 41247), ([15, 77], [2027, 4491], [7825, 6313], [149.1159823339658, 408.84363430491], 42098), ([67, 28], [2313, 3259], [8696, 6266], [172.11754602823385, 243.98527428628358], 43588), ([83, 0], [3196, 4076], [8932, 6195], [250.71755574637382, 342.14258534425653], 45609), ([81, 9], [2726, 3953], [8051, 5818], [212.66999106715048, 331.3012687830278], 42225), ([100, 0], [2328, 4912], [7554, 5430], [153.6272092315321, 399.890315868008], 41025), ([47, 45], [4205, 2900], [9192, 5745], [292.2651518204748, 229.8676603613835], 45538), ([90, 0], [2374, 3762], [7161, 5315], [183.37511905462088, 325.0760879588647], 38709), ([52, 30], [2263, 5142], [6940, 5596], [140.96970425995505, 451.23728690949406], 39608), ([50, 48], [1881, 3838], [7699, 5428], [148.38130106666358, 288.7449108391097], 40009), ([0, 100], [1641, 5280], [6807, 5575], [139.87013131858703, 444.14195212704317], 38804), ([77, 15], [1899, 3481], [7887, 5941], [106.99109156309623, 252.0394171460689], 40816), ([69, 27], [2733, 3691], [8795, 6298], [190.90463563513822, 322.5939707378111], 44659), ([44, 40], [1403, 4081], [7727, 6123], [88.17610034072732, 343.6300500567356], 40737), ([52, 37], [2288, 4536], [8105, 6316], [143.53605819238646, 437.55207963421094], 43238), ([99, 1], [2443, 4163], [8165, 5745], [190.3194169526614, 317.4371535353689], 42490)], Any[[0.769080636877247, 0.49727403156384503], [0.7324019926359108, 0.5151788397956116], [0.7956533262655712, 0.7038819377606673], [0.7637019442245095, 0.6712641181581234], [0.7619738751814223, 0.6239905243889308], [0.7942549736094194, 0.5843206219918549], [0.7898991734035788, 0.6578477690288714], [0.7364775725593667, 0.6031545127056762], [0.7470539111069872, 0.5954354723160372], [0.7644201578627808, 0.5250435118932508], [0.6861237590505337, 0.664545980335454], [0.751022548505506, 0.5855458852043627], [0.754101923285885, 0.5211398770720804], [0.8036534446764092, 0.5857975393913231], [0.8057528409090909, 0.5135882081989867], [0.8059472716125077, 0.630545531734239], [0.7629250520471894, 0.630493542897187], [0.8463307776560789, 0.6000588004704037], [0.7798518233426345, 0.5820125322521195], [0.7697021116138764, 0.5798344771901494]])"
      ]
     },
     "metadata": {},
     "output_type": "display_data"
    }
   ],
   "source": [
    "main([80,20],100,20,(80,20,[4.0]))"
   ]
  },
  {
   "cell_type": "code",
   "execution_count": 45,
   "metadata": {},
   "outputs": [
    {
     "name": "stdout",
     "output_type": "stream",
     "text": [
      "Bool[0, 1][10, 0]Efficiancy percentage for station 1 is \u001b[34m30.48%\u001b[39m and \u001b[34m35.48%\u001b[39m for station 2. Percentage of time spent empty for station 1 is \u001b[34m31.33%\u001b[39m and \u001b[34m23.6%\u001b[39m for station 2.\n",
      "Bool[0, 0][2, 1]Efficiancy percentage for station 1 is \u001b[34m29.23%\u001b[39m and \u001b[34m27.74%\u001b[39m for station 2. Percentage of time spent empty for station 1 is \u001b[34m28.88%\u001b[39m and \u001b[34m24.88%\u001b[39m for station 2.\n",
      "Bool[1, 0][0, 8]Efficiancy percentage for station 1 is \u001b[34m29.68%\u001b[39m and \u001b[34m28.62%\u001b[39m for station 2. Percentage of time spent empty for station 1 is \u001b[34m21.58%\u001b[39m and \u001b[34m28.89%\u001b[39m for station 2.\n",
      "Bool[0, 1][10, 0]Efficiancy percentage for station 1 is \u001b[34m29.8%\u001b[39m and \u001b[34m25.98%\u001b[39m for station 2. Percentage of time spent empty for station 1 is \u001b[34m25.86%\u001b[39m and \u001b[34m30.28%\u001b[39m for station 2.\n",
      "Bool[0, 0][1, 9]Efficiancy percentage for station 1 is \u001b[34m28.66%\u001b[39m and \u001b[34m32.13%\u001b[39m for station 2. Percentage of time spent empty for station 1 is \u001b[34m27.18%\u001b[39m and \u001b[34m26.03%\u001b[39m for station 2.\n",
      "Bool[1, 0][0, 9]Efficiancy percentage for station 1 is \u001b[34m27.51%\u001b[39m and \u001b[34m32.82%\u001b[39m for station 2. Percentage of time spent empty for station 1 is \u001b[34m30.26%\u001b[39m and \u001b[34m24.31%\u001b[39m for station 2.\n",
      "Bool[0, 0][4, 5]Efficiancy percentage for station 1 is \u001b[34m29.12%\u001b[39m and \u001b[34m27.53%\u001b[39m for station 2. Percentage of time spent empty for station 1 is \u001b[34m24.28%\u001b[39m and \u001b[34m29.86%\u001b[39m for station 2.\n",
      "Bool[0, 1][10, 0]Efficiancy percentage for station 1 is \u001b[34m31.96%\u001b[39m and \u001b[34m30.7%\u001b[39m for station 2. Percentage of time spent empty for station 1 is \u001b[34m27.51%\u001b[39m and \u001b[34m26.42%\u001b[39m for station 2.\n",
      "Bool[0, 1][8, 0]Efficiancy percentage for station 1 is \u001b[34m26.75%\u001b[39m and \u001b[34m29.48%\u001b[39m for station 2. Percentage of time spent empty for station 1 is \u001b[34m27.7%\u001b[39m and \u001b[34m25.94%\u001b[39m for station 2.\n",
      "Bool[1, 0][0, 10]Efficiancy percentage for station 1 is \u001b[34m30.9%\u001b[39m and \u001b[34m26.6%\u001b[39m for station 2. Percentage of time spent empty for station 1 is \u001b[34m25.87%\u001b[39m and \u001b[34m29.06%\u001b[39m for station 2.\n",
      "Bool[1, 0][0, 8]Efficiancy percentage for station 1 is \u001b[34m26.88%\u001b[39m and \u001b[34m32.7%\u001b[39m for station 2. Percentage of time spent empty for station 1 is \u001b[34m28.98%\u001b[39m and \u001b[34m22.62%\u001b[39m for station 2.\n",
      "Bool[0, 0][2, 1]Efficiancy percentage for station 1 is \u001b[34m28.19%\u001b[39m and \u001b[34m27.13%\u001b[39m for station 2. Percentage of time spent empty for station 1 is \u001b[34m26.61%\u001b[39m and \u001b[34m24.56%\u001b[39m for station 2.\n",
      "Bool[0, 1][9, 0]Efficiancy percentage for station 1 is \u001b[34m28.11%\u001b[39m and \u001b[34m30.12%\u001b[39m for station 2. Percentage of time spent empty for station 1 is \u001b[34m31.41%\u001b[39m and \u001b[34m22.63%\u001b[39m for station 2.\n",
      "Bool[0, 1][8, 0]Efficiancy percentage for station 1 is \u001b[34m31.77%\u001b[39m and \u001b[34m31.21%\u001b[39m for station 2. Percentage of time spent empty for station 1 is \u001b[34m27.86%\u001b[39m and \u001b[34m28.67%\u001b[39m for station 2.\n",
      "Bool[0, 1][9, 0]Efficiancy percentage for station 1 is \u001b[34m30.19%\u001b[39m and \u001b[34m33.32%\u001b[39m for station 2. Percentage of time spent empty for station 1 is \u001b[34m29.46%\u001b[39m and \u001b[34m24.79%\u001b[39m for station 2.\n",
      "Bool[0, 1][10, 0]Efficiancy percentage for station 1 is \u001b[34m30.17%\u001b[39m and \u001b[34m29.14%\u001b[39m for station 2. Percentage of time spent empty for station 1 is \u001b[34m25.67%\u001b[39m and \u001b[34m29.54%\u001b[39m for station 2.\n",
      "Bool[0, 1][10, 0]Efficiancy percentage for station 1 is \u001b[34m30.98%\u001b[39m and \u001b[34m30.06%\u001b[39m for station 2. Percentage of time spent empty for station 1 is \u001b[34m24.9%\u001b[39m and \u001b[34m28.05%\u001b[39m for station 2.\n",
      "Bool[0, 0][6, 4]Efficiancy percentage for station 1 is \u001b[34m29.13%\u001b[39m and \u001b[34m27.2%\u001b[39m for station 2. Percentage of time spent empty for station 1 is \u001b[34m24.49%\u001b[39m and \u001b[34m27.76%\u001b[39m for station 2.\n",
      "Bool[0, 0][3, 1]Efficiancy percentage for station 1 is \u001b[34m26.4%\u001b[39m and \u001b[34m26.13%\u001b[39m for station 2. Percentage of time spent empty for station 1 is \u001b[34m25.38%\u001b[39m and \u001b[34m25.86%\u001b[39m for station 2.\n",
      "Bool[0, 1][9, 0]Efficiancy percentage for station 1 is \u001b[34m28.07%\u001b[39m and \u001b[34m30.18%\u001b[39m for station 2. Percentage of time spent empty for station 1 is \u001b[34m28.79%\u001b[39m and \u001b[34m22.91%\u001b[39m for station 2.\n",
      "Bool[0, 0][1, 8]Efficiancy percentage for station 1 is \u001b[34m34.08%\u001b[39m and \u001b[34m32.78%\u001b[39m for station 2. Percentage of time spent empty for station 1 is \u001b[34m28.72%\u001b[39m and \u001b[34m24.08%\u001b[39m for station 2.\n",
      "Bool[0, 0][7, 3]Efficiancy percentage for station 1 is \u001b[34m27.4%\u001b[39m and \u001b[34m26.82%\u001b[39m for station 2. Percentage of time spent empty for station 1 is \u001b[34m23.83%\u001b[39m and \u001b[34m27.48%\u001b[39m for station 2.\n",
      "Bool[0, 0][3, 7]Efficiancy percentage for station 1 is \u001b[34m27.89%\u001b[39m and \u001b[34m31.73%\u001b[39m for station 2. Percentage of time spent empty for station 1 is \u001b[34m28.68%\u001b[39m and \u001b[34m25.27%\u001b[39m for station 2.\n",
      "Bool[0, 0][4, 6]Efficiancy percentage for station 1 is \u001b[34m26.34%\u001b[39m and \u001b[34m30.19%\u001b[39m for station 2. Percentage of time spent empty for station 1 is \u001b[34m29.78%\u001b[39m and \u001b[34m20.03%\u001b[39m for station 2.\n",
      "Bool[1, 0][0, 10]Efficiancy percentage for station 1 is \u001b[34m31.78%\u001b[39m and \u001b[34m28.04%\u001b[39m for station 2. Percentage of time spent empty for station 1 is \u001b[34m25.44%\u001b[39m and \u001b[34m26.89%\u001b[39m for station 2.\n",
      "Bool[1, 0][0, 10]Efficiancy percentage for station 1 is \u001b[34m33.88%\u001b[39m and \u001b[34m30.13%\u001b[39m for station 2. Percentage of time spent empty for station 1 is \u001b[34m20.49%\u001b[39m and \u001b[34m31.6%\u001b[39m for station 2.\n",
      "Bool[1, 0][0, 10]Efficiancy percentage for station 1 is \u001b[34m28.7%\u001b[39m and \u001b[34m25.54%\u001b[39m for station 2. Percentage of time spent empty for station 1 is \u001b[34m28.34%\u001b[39m and \u001b[34m27.94%\u001b[39m for station 2.\n",
      "Bool[0, 0][3, 7]Efficiancy percentage for station 1 is \u001b[34m29.73%\u001b[39m and \u001b[34m33.85%\u001b[39m for station 2. Percentage of time spent empty for station 1 is \u001b[34m28.19%\u001b[39m and \u001b[34m28.08%\u001b[39m for station 2.\n",
      "Bool[1, 0][0, 8]Efficiancy percentage for station 1 is \u001b[34m31.44%\u001b[39m and \u001b[34m28.83%\u001b[39m for station 2. Percentage of time spent empty for station 1 is \u001b[34m26.06%\u001b[39m and \u001b[34m27.38%\u001b[39m for station 2.\n",
      "Bool[1, 0][0, 10]Efficiancy percentage for station 1 is \u001b[34m29.36%\u001b[39m and \u001b[34m33.05%\u001b[39m for station 2. Percentage of time spent empty for station 1 is \u001b[34m26.58%\u001b[39m and \u001b[34m27.6%\u001b[39m for station 2.\n",
      "Bool[0, 0][6, 4]Efficiancy percentage for station 1 is \u001b[34m34.41%\u001b[39m and \u001b[34m26.29%\u001b[39m for station 2. Percentage of time spent empty for station 1 is \u001b[34m23.6%\u001b[39m and \u001b[34m29.02%\u001b[39m for station 2.\n",
      "Bool[1, 0][0, 7]Efficiancy percentage for station 1 is \u001b[34m30.23%\u001b[39m and \u001b[34m26.25%\u001b[39m for station 2. Percentage of time spent empty for station 1 is \u001b[34m27.43%\u001b[39m and \u001b[34m27.4%\u001b[39m for station 2.\n",
      "Bool[0, 0][5, 4]Efficiancy percentage for station 1 is \u001b[34m28.88%\u001b[39m and \u001b[34m29.5%\u001b[39m for station 2. Percentage of time spent empty for station 1 is \u001b[34m24.18%\u001b[39m and \u001b[34m23.86%\u001b[39m for station 2.\n",
      "Bool[1, 0][0, 8]Efficiancy percentage for station 1 is \u001b[34m30.15%\u001b[39m and \u001b[34m26.49%\u001b[39m for station 2. Percentage of time spent empty for station 1 is \u001b[34m25.91%\u001b[39m and \u001b[34m26.69%\u001b[39m for station 2.\n",
      "Bool[0, 0][6, 4]Efficiancy percentage for station 1 is \u001b[34m29.77%\u001b[39m and \u001b[34m26.21%\u001b[39m for station 2. Percentage of time spent empty for station 1 is \u001b[34m24.43%\u001b[39m and \u001b[34m28.8%\u001b[39m for station 2.\n",
      "Bool[0, 0][7, 2]Efficiancy percentage for station 1 is \u001b[34m31.29%\u001b[39m and \u001b[34m29.35%\u001b[39m for station 2. Percentage of time spent empty for station 1 is \u001b[34m26.05%\u001b[39m and \u001b[34m25.94%\u001b[39m for station 2.\n",
      "Bool[1, 0][0, 8]Efficiancy percentage for station 1 is \u001b[34m33.99%\u001b[39m and \u001b[34m30.51%\u001b[39m for station 2. Percentage of time spent empty for station 1 is \u001b[34m23.06%\u001b[39m and \u001b[34m29.99%\u001b[39m for station 2.\n",
      "Bool[0, 0][7, 1]Efficiancy percentage for station 1 is \u001b[34m29.5%\u001b[39m and \u001b[34m33.21%\u001b[39m for station 2. Percentage of time spent empty for station 1 is \u001b[34m23.67%\u001b[39m and \u001b[34m29.02%\u001b[39m for station 2.\n",
      "Bool[1, 0][0, 10]Efficiancy percentage for station 1 is \u001b[34m30.16%\u001b[39m and \u001b[34m26.89%\u001b[39m for station 2. Percentage of time spent empty for station 1 is \u001b[34m24.73%\u001b[39m and \u001b[34m30.27%\u001b[39m for station 2.\n",
      "Bool[0, 0][8, 1]Efficiancy percentage for station 1 is \u001b[34m31.73%\u001b[39m and \u001b[34m28.65%\u001b[39m for station 2. Percentage of time spent empty for station 1 is \u001b[34m25.12%\u001b[39m and \u001b[34m25.24%\u001b[39m for station 2.\n",
      "Bool[0, 0][1, 7]Efficiancy percentage for station 1 is \u001b[34m27.59%\u001b[39m and \u001b[34m26.41%\u001b[39m for station 2. Percentage of time spent empty for station 1 is \u001b[34m25.51%\u001b[39m and \u001b[34m26.81%\u001b[39m for station 2.\n",
      "Bool[0, 0][7, 3]Efficiancy percentage for station 1 is \u001b[34m37.42%\u001b[39m and \u001b[34m30.63%\u001b[39m for station 2. Percentage of time spent empty for station 1 is \u001b[34m23.2%\u001b[39m and \u001b[34m25.56%\u001b[39m for station 2.\n",
      "Bool[0, 0][5, 5]Efficiancy percentage for station 1 is \u001b[34m25.54%\u001b[39m and \u001b[34m33.12%\u001b[39m for station 2. Percentage of time spent empty for station 1 is \u001b[34m31.49%\u001b[39m and \u001b[34m21.8%\u001b[39m for station 2.\n",
      "Bool[1, 0][0, 10]Efficiancy percentage for station 1 is \u001b[34m32.25%\u001b[39m and \u001b[34m25.42%\u001b[39m for station 2. Percentage of time spent empty for station 1 is \u001b[34m26.15%\u001b[39m and \u001b[34m28.25%\u001b[39m for station 2.\n",
      "Bool[1, 0][0, 8]Efficiancy percentage for station 1 is \u001b[34m28.77%\u001b[39m and \u001b[34m28.73%\u001b[39m for station 2. Percentage of time spent empty for station 1 is \u001b[34m26.76%\u001b[39m and \u001b[34m30.68%\u001b[39m for station 2.\n",
      "Bool[1, 0][0, 10]Efficiancy percentage for station 1 is \u001b[34m27.94%\u001b[39m and \u001b[34m31.86%\u001b[39m for station 2. Percentage of time spent empty for station 1 is \u001b[34m27.41%\u001b[39m and \u001b[34m23.17%\u001b[39m for station 2.\n",
      "Bool[0, 1][9, 0]Efficiancy percentage for station 1 is \u001b[34m30.64%\u001b[39m and \u001b[34m26.76%\u001b[39m for station 2. Percentage of time spent empty for station 1 is \u001b[34m25.77%\u001b[39m and \u001b[34m26.29%\u001b[39m for station 2.\n",
      "Bool[0, 0][6, 4]Efficiancy percentage for station 1 is \u001b[34m30.28%\u001b[39m and \u001b[34m29.44%\u001b[39m for station 2. Percentage of time spent empty for station 1 is \u001b[34m29.94%\u001b[39m and \u001b[34m23.95%\u001b[39m for station 2.\n",
      "Bool[1, 0][0, 9]Efficiancy percentage for station 1 is \u001b[34m31.72%\u001b[39m and \u001b[34m34.26%\u001b[39m for station 2. Percentage of time spent empty for station 1 is \u001b[34m26.68%\u001b[39m and \u001b[34m25.2%\u001b[39m for station 2.\n",
      "Bool[1, "
     ]
    },
    {
     "data": {
      "text/plain": [
       "9-element Vector{Any}:\n",
       " (0.29410689035858173, 0.297099973714128, [1, 9, 10])\n",
       " (0.28989483046097914, 0.29719974905894825, [2, 8, 10])\n",
       " (0.30059879726653416, 0.3009807016645129, [3, 7, 10])\n",
       " (0.3101118515242055, 0.2833625086971167, [4, 6, 10])\n",
       " (0.30092347938118624, 0.2967755965637794, [5, 5, 10])\n",
       " (0.2987711238933245, 0.3095876122895072, [6, 4, 10])\n",
       " (0.3117719774677475, 0.29921571453683066, [7, 3, 10])\n",
       " (0.2963123471514238, 0.305804739997873, [8, 2, 10])\n",
       " (0.303517658683894, 0.31548533716116695, [9, 1, 10])"
      ]
     },
     "metadata": {},
     "output_type": "display_data"
    },
    {
     "name": "stdout",
     "output_type": "stream",
     "text": [
      "0][0, 9]Efficiancy percentage for station 1 is \u001b[34m28.78%\u001b[39m and \u001b[34m30.16%\u001b[39m for station 2. Percentage of time spent empty for station 1 is \u001b[34m29.6%\u001b[39m and \u001b[34m24.11%\u001b[39m for station 2.\n",
      "Bool[0, 1][10, 0]Efficiancy percentage for station 1 is \u001b[34m28.04%\u001b[39m and \u001b[34m29.03%\u001b[39m for station 2. Percentage of time spent empty for station 1 is \u001b[34m26.18%\u001b[39m and \u001b[34m27.31%\u001b[39m for station 2.\n",
      "Bool[0, 1][10, 0]Efficiancy percentage for station 1 is \u001b[34m30.19%\u001b[39m and \u001b[34m27.63%\u001b[39m for station 2. Percentage of time spent empty for station 1 is \u001b[34m24.66%\u001b[39m and \u001b[34m31.06%\u001b[39m for station 2.\n",
      "Bool[0, 0][4, 3]Efficiancy percentage for station 1 is \u001b[34m30.57%\u001b[39m and \u001b[34m30.31%\u001b[39m for station 2. Percentage of time spent empty for station 1 is \u001b[34m24.97%\u001b[39m and \u001b[34m25.86%\u001b[39m for station 2.\n",
      "Bool[1, 0][0, 8]Efficiancy percentage for station 1 is \u001b[34m34.06%\u001b[39m and \u001b[34m28.74%\u001b[39m for station 2. Percentage of time spent empty for station 1 is \u001b[34m23.35%\u001b[39m and \u001b[34m26.64%\u001b[39m for station 2.\n",
      "Bool[0, 0][2, 7]Efficiancy percentage for station 1 is \u001b[34m31.51%\u001b[39m and \u001b[34m32.58%\u001b[39m for station 2. Percentage of time spent empty for station 1 is \u001b[34m23.5%\u001b[39m and \u001b[34m24.0%\u001b[39m for station 2.\n",
      "Bool[0, 1][9, 0]Efficiancy percentage for station 1 is \u001b[34m28.61%\u001b[39m and \u001b[34m28.08%\u001b[39m for station 2. Percentage of time spent empty for station 1 is \u001b[34m27.43%\u001b[39m and \u001b[34m24.92%\u001b[39m for station 2.\n",
      "Bool[0, 1][10, 0]Efficiancy percentage for station 1 is \u001b[34m27.08%\u001b[39m and \u001b[34m35.01%\u001b[39m for station 2. Percentage of time spent empty for station 1 is \u001b[34m33.59%\u001b[39m and \u001b[34m20.35%\u001b[39m for station 2.\n",
      "Bool[1, 0][0, 9]Efficiancy percentage for station 1 is \u001b[34m32.85%\u001b[39m and \u001b[34m31.93%\u001b[39m for station 2. Percentage of time spent empty for station 1 is \u001b[34m24.02%\u001b[39m and \u001b[34m28.32%\u001b[39m for station 2.\n",
      "Bool[0, 0][5, 4]Efficiancy percentage for station 1 is \u001b[34m29.19%\u001b[39m and \u001b[34m35.75%\u001b[39m for station 2. Percentage of time spent empty for station 1 is \u001b[34m31.06%\u001b[39m and \u001b[34m22.42%\u001b[39m for station 2.\n",
      "Bool[0, 0][8, 2]Efficiancy percentage for station 1 is \u001b[34m26.66%\u001b[39m and \u001b[34m30.54%\u001b[39m for station 2. Percentage of time spent empty for station 1 is \u001b[34m32.55%\u001b[39m and \u001b[34m24.22%\u001b[39m for station 2.\n",
      "Bool[1, 0][0, 6]Efficiancy percentage for station 1 is \u001b[34m29.82%\u001b[39m and \u001b[34m28.83%\u001b[39m for station 2. Percentage of time spent empty for station 1 is \u001b[34m27.29%\u001b[39m and \u001b[34m28.22%\u001b[39m for station 2.\n",
      "Bool[0, 1][10, 0]Efficiancy percentage for station 1 is \u001b[34m33.35%\u001b[39m and \u001b[34m33.4%\u001b[39m for station 2. Percentage of time spent empty for station 1 is \u001b[34m23.69%\u001b[39m and \u001b[34m23.06%\u001b[39m for station 2.\n",
      "Bool[0, 0][8, 2]Efficiancy percentage for station 1 is \u001b[34m33.55%\u001b[39m and \u001b[34m32.75%\u001b[39m for station 2. Percentage of time spent empty for station 1 is \u001b[34m23.3%\u001b[39m and \u001b[34m28.79%\u001b[39m for station 2.\n",
      "Bool[0, 0][1, 9]Efficiancy percentage for station 1 is \u001b[34m32.34%\u001b[39m and \u001b[34m29.75%\u001b[39m for station 2. Percentage of time spent empty for station 1 is \u001b[34m26.84%\u001b[39m and \u001b[34m27.01%\u001b[39m for station 2.\n",
      "Bool[0, 1][8, 0]Efficiancy percentage for station 1 is \u001b[34m31.69%\u001b[39m and \u001b[34m27.69%\u001b[39m for station 2. Percentage of time spent empty for station 1 is \u001b[34m26.48%\u001b[39m and \u001b[34m27.03%\u001b[39m for station 2.\n",
      "Bool[0, 1][7, 0]Efficiancy percentage for station 1 is \u001b[34m30.22%\u001b[39m and \u001b[34m29.91%\u001b[39m for station 2. Percentage of time spent empty for station 1 is \u001b[34m26.13%\u001b[39m and \u001b[34m27.14%\u001b[39m for station 2.\n",
      "Bool[0, 1][9, 0]Efficiancy percentage for station 1 is \u001b[34m28.53%\u001b[39m and \u001b[34m32.79%\u001b[39m for station 2. Percentage of time spent empty for station 1 is \u001b[34m29.2%\u001b[39m and \u001b[34m22.54%\u001b[39m for station 2.\n",
      "Bool[0, 0][9, 1]Efficiancy percentage for station 1 is \u001b[34m32.05%\u001b[39m and \u001b[34m23.94%\u001b[39m for station 2. Percentage of time spent empty for station 1 is \u001b[34m22.59%\u001b[39m and \u001b[34m34.99%\u001b[39m for station 2.\n",
      "Bool[0, 1][10, 0]Efficiancy percentage for station 1 is \u001b[34m30.15%\u001b[39m and \u001b[34m26.93%\u001b[39m for station 2. Percentage of time spent empty for station 1 is \u001b[34m26.27%\u001b[39m and \u001b[34m29.83%\u001b[39m for station 2.\n",
      "Bool[0, 0][1, 8]Efficiancy percentage for station 1 is \u001b[34m30.07%\u001b[39m and \u001b[34m33.23%\u001b[39m for station 2. Percentage of time spent empty for station 1 is \u001b[34m27.25%\u001b[39m and \u001b[34m22.51%\u001b[39m for station 2.\n",
      "Bool[0, 1][10, 0]Efficiancy percentage for station 1 is \u001b[34m23.11%\u001b[39m and \u001b[34m32.96%\u001b[39m for station 2. Percentage of time spent empty for station 1 is \u001b[34m30.42%\u001b[39m and \u001b[34m20.24%\u001b[39m for station 2.\n",
      "Bool[0, 0][8, 2]Efficiancy percentage for station 1 is \u001b[34m34.58%\u001b[39m and \u001b[34m28.5%\u001b[39m for station 2. Percentage of time spent empty for station 1 is \u001b[34m23.45%\u001b[39m and \u001b[34m27.43%\u001b[39m for station 2.\n",
      "Bool[0, 0][1, 9]Efficiancy percentage for station 1 is \u001b[34m35.68%\u001b[39m and \u001b[34m28.93%\u001b[39m for station 2. Percentage of time spent empty for station 1 is \u001b[34m22.69%\u001b[39m and \u001b[34m30.48%\u001b[39m for station 2.\n",
      "Bool[0, 0][8, 1]Efficiancy percentage for station 1 is \u001b[34m27.86%\u001b[39m and \u001b[34m27.84%\u001b[39m for station 2. Percentage of time spent empty for station 1 is \u001b[34m24.52%\u001b[39m and \u001b[34m27.78%\u001b[39m for station 2.\n",
      "Bool[0, 0][8, 2]Efficiancy percentage for station 1 is \u001b[34m25.97%\u001b[39m and \u001b[34m29.31%\u001b[39m for station 2. Percentage of time spent empty for station 1 is \u001b[34m30.32%\u001b[39m and \u001b[34m23.59%\u001b[39m for station 2.\n",
      "Bool[0, 0][4, 6]Efficiancy percentage for station 1 is \u001b[34m29.25%\u001b[39m and \u001b[34m29.32%\u001b[39m for station 2. Percentage of time spent empty for station 1 is \u001b[34m29.67%\u001b[39m and \u001b[34m24.79%\u001b[39m for station 2.\n",
      "Bool[0, 0][4, 3]Efficiancy percentage for station 1 is \u001b[34m29.03%\u001b[39m and \u001b[34m30.07%\u001b[39m for station 2. Percentage of time spent empty for station 1 is \u001b[34m26.5%\u001b[39m and \u001b[34m27.0%\u001b[39m for station 2.\n",
      "Bool[1, 0][0, 9]Efficiancy percentage for station 1 is \u001b[34m29.2%\u001b[39m and \u001b[34m32.14%\u001b[39m for station 2. Percentage of time spent empty for station 1 is \u001b[34m28.11%\u001b[39m and \u001b[34m26.57%\u001b[39m for station 2.\n",
      "Bool[0, 1][9, 0]Efficiancy percentage for station 1 is \u001b[34m27.97%\u001b[39m and \u001b[34m34.13%\u001b[39m for station 2. Percentage of time spent empty for station 1 is \u001b[34m27.13%\u001b[39m and \u001b[34m26.0%\u001b[39m for station 2.\n",
      "Bool[0, 1][5, 0]Efficiancy percentage for station 1 is \u001b[34m33.67%\u001b[39m and \u001b[34m32.62%\u001b[39m for station 2. Percentage of time spent empty for station 1 is \u001b[34m23.38%\u001b[39m and \u001b[34m25.96%\u001b[39m for station 2.\n",
      "Bool[0, 1][10, 0]Efficiancy percentage for station 1 is \u001b[34m25.9%\u001b[39m and \u001b[34m28.43%\u001b[39m for station 2. Percentage of time spent empty for station 1 is \u001b[34m30.39%\u001b[39m and \u001b[34m27.99%\u001b[39m for station 2.\n",
      "Bool[1, 0][0, 10]Efficiancy percentage for station 1 is \u001b[34m28.07%\u001b[39m and \u001b[34m35.41%\u001b[39m for station 2. Percentage of time spent empty for station 1 is \u001b[34m30.52%\u001b[39m and \u001b[34m20.8%\u001b[39m for station 2.\n",
      "Bool[1, 0][0, 9]Efficiancy percentage for station 1 is \u001b[34m28.16%\u001b[39m and \u001b[34m29.29%\u001b[39m for station 2. Percentage of time spent empty for station 1 is \u001b[34m29.61%\u001b[39m and \u001b[34m25.73%\u001b[39m for station 2.\n",
      "Bool[0, 0][4, 2]Efficiancy percentage for station 1 is \u001b[34m31.8%\u001b[39m and \u001b[34m32.25%\u001b[39m for station 2. Percentage of time spent empty for station 1 is \u001b[34m24.23%\u001b[39m and \u001b[34m26.38%\u001b[39m for station 2.\n",
      "Bool[1, 0][0, 10]Efficiancy percentage for station 1 is \u001b[34m30.47%\u001b[39m and \u001b[34m28.55%\u001b[39m for station 2. Percentage of time spent empty for station 1 is \u001b[34m25.77%\u001b[39m and \u001b[34m32.33%\u001b[39m for station 2.\n",
      "Bool[0, 1][10, 0]Efficiancy percentage for station 1 is \u001b[34m29.91%\u001b[39m and \u001b[34m33.14%\u001b[39m for station 2. Percentage of time spent empty for station 1 is \u001b[34m27.83%\u001b[39m and \u001b[34m20.38%\u001b[39m for station 2.\n",
      "Bool[0, 0][5, 5]Efficiancy percentage for station 1 is \u001b[34m33.36%\u001b[39m and \u001b[34m32.51%\u001b[39m for station 2. Percentage of time spent empty for station 1 is \u001b[34m25.06%\u001b[39m and \u001b[34m26.47%\u001b[39m for station 2.\n",
      "Bool[0, 1][10, 0]Efficiancy percentage for station 1 is \u001b[34m33.16%\u001b[39m and \u001b[34m32.6%\u001b[39m for station 2. Percentage of time spent empty for station 1 is \u001b[34m27.52%\u001b[39m and \u001b[34m24.42%\u001b[39m for station 2.\n",
      "Bool[0, 0][3, 3]Efficiancy percentage for station 1 is \u001b[34m30.28%\u001b[39m and \u001b[34m31.53%\u001b[39m for station 2. Percentage of time spent empty for station 1 is \u001b[34m24.84%\u001b[39m and \u001b[34m26.08%\u001b[39m for station 2.\n",
      "Bool[0, 0][6, 4]Efficiancy percentage for station 1 is \u001b[34m32.41%\u001b[39m and \u001b[34m31.78%\u001b[39m for station 2. Percentage of time spent empty for station 1 is \u001b[34m25.18%\u001b[39m and \u001b[34m25.23%\u001b[39m for station 2.\n"
     ]
    }
   ],
   "source": [
    "average_effic = []\n",
    "for n in 10:10\n",
    "    for i in 1:(n-1)\n",
    "        _, effic = main([i,n-i],100,n,(n,n,[2.1]))\n",
    "        total_effic = [effic[1][1],effic[1][2]]\n",
    "        for j in 2:n\n",
    "            total_effic = [effic[j][1]+total_effic[1],effic[j][2]+total_effic[2]]\n",
    "        end\n",
    "        \n",
    "        average_effic = [average_effic; (total_effic[1]/n,total_effic[2]/n,[i,n-i,n])]\n",
    "\n",
    "    end\n",
    "end\n",
    "\n",
    "display(average_effic)\n"
   ]
  },
  {
   "cell_type": "code",
   "execution_count": 26,
   "metadata": {},
   "outputs": [
    {
     "data": {
      "text/plain": [
       "20-element Vector{Any}:\n",
       " [0.4484238567411573, 0.49320023148148145]\n",
       " [0.4030700013232764, 0.35443037974683544]\n",
       " [0.4108507705801278, 0.3815837937384899]\n",
       " [0.440361372237822, 0.31684196857550967]\n",
       " [0.5653730488328799, 0.40492137449039023]\n",
       " [0.3447701958776085, 0.42779258541313303]\n",
       " [0.515014803327224, 0.43676003465203583]\n",
       " [0.5889882788402221, 0.527561661976494]\n",
       " [0.5954261270154656, 0.48217206411514557]\n",
       " [0.4267535692116698, 0.543594177835423]\n",
       " [0.4672154017857143, 0.4640101024273888]\n",
       " [0.5275334866729806, 0.3698039760878632]\n",
       " [0.4029126213592233, 0.47454951992634486]\n",
       " [0.3860471005317802, 0.41908914728682173]\n",
       " [0.5269509251810137, 0.5926792578973759]\n",
       " [0.5196155871511322, 0.3875319511502414]\n",
       " [0.5180063820088132, 0.3829623944742901]\n",
       " [0.4198291555804509, 0.4586476868327402]\n",
       " [0.438944918541505, 0.5181695827725438]\n",
       " [0.3830881302671047, 0.5162262084075038]"
      ]
     },
     "metadata": {},
     "output_type": "display_data"
    }
   ],
   "source": [
    "_, effic = main([50,50],100,20,(50,50,[24.0]))\n",
    "display(effic)\n"
   ]
  },
  {
   "cell_type": "code",
   "execution_count": 8,
   "metadata": {},
   "outputs": [],
   "source": []
  },
  {
   "cell_type": "code",
   "execution_count": null,
   "metadata": {},
   "outputs": [],
   "source": []
  }
 ],
 "metadata": {
  "kernelspec": {
   "display_name": "Julia 1.7.2",
   "language": "julia",
   "name": "julia-1.7"
  },
  "language_info": {
   "file_extension": ".jl",
   "mimetype": "application/julia",
   "name": "julia",
   "version": "1.7.2"
  },
  "orig_nbformat": 4
 },
 "nbformat": 4,
 "nbformat_minor": 2
}
