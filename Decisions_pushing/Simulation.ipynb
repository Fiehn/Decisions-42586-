{
 "cells": [
  {
   "cell_type": "markdown",
   "metadata": {},
   "source": [
    "# Initialization"
   ]
  },
  {
   "cell_type": "code",
   "execution_count": 1,
   "metadata": {},
   "outputs": [],
   "source": [
    "using Statistics\n",
    "using Distributions\n",
    "using LinearAlgebra\n"
   ]
  },
  {
   "cell_type": "markdown",
   "metadata": {},
   "source": [
    "# Confidence, basically bare lidt hygge matstat i Julia"
   ]
  },
  {
   "cell_type": "code",
   "execution_count": null,
   "metadata": {},
   "outputs": [],
   "source": [
    "# Confidence interval for the sample mean\n",
    "\n",
    "function ConfSample(sample_mean,sample_std,n,alpha=0.95,max_n = 30)\n",
    "    conf = []\n",
    "    alpha = 1-alpha\n",
    "    if n > max_n\n",
    "        # Using Gaussian approximation\n",
    "        append!(conf,sample_mean + quantile(Normal(),alpha/2)*sample_std/sqrt(n))\n",
    "        append!(conf,sample_mean - quantile(Normal(),alpha/2)*sample_std/sqrt(n))\n",
    "    else\n",
    "        # Using t distribution\n",
    "        append!(conf, sample_mean + quantile(TDist(n-1), alpha/2)*sample_std/sqrt(n))\n",
    "        append!(conf, sample_mean - quantile(TDist(n-1), alpha/2)*sample_std/sqrt(n))\n",
    "    end\n",
    "    return conf\n",
    "end\n",
    "\n",
    "function RequiredSample(sample_std,w,alpha=0.95)\n",
    "    # takes sample std, maximum accepted width of conf interval and alpha\n",
    "    # Spews out minimum number of required samples.\n",
    "    n = ((1/w)*sample_std*quantile(Normal(),alpha/2))^2\n",
    "\n",
    "    return n\n",
    "end\n"
   ]
  },
  {
   "cell_type": "code",
   "execution_count": null,
   "metadata": {},
   "outputs": [],
   "source": []
  }
 ],
 "metadata": {
  "kernelspec": {
   "display_name": "Julia 1.7.2",
   "language": "julia",
   "name": "julia-1.7"
  },
  "language_info": {
   "file_extension": ".jl",
   "mimetype": "application/julia",
   "name": "julia",
   "version": "1.7.2"
  },
  "orig_nbformat": 4
 },
 "nbformat": 4,
 "nbformat_minor": 2
}
