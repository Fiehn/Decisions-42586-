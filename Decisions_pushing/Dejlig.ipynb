{
 "cells": [
  {
   "cell_type": "markdown",
   "metadata": {},
   "source": [
    "# Initialization\n",
    "Select the Julia kernel"
   ]
  },
  {
   "cell_type": "code",
   "execution_count": 16,
   "metadata": {},
   "outputs": [],
   "source": [
    "using Pkg\n",
    "using Statistics\n",
    "using Distributions\n",
    "using Plots\n",
    "using LinearAlgebra"
   ]
  },
  {
   "cell_type": "markdown",
   "metadata": {},
   "source": [
    "# Usefull functions"
   ]
  },
  {
   "cell_type": "markdown",
   "metadata": {},
   "source": [
    "## t-test"
   ]
  },
  {
   "cell_type": "code",
   "execution_count": null,
   "metadata": {},
   "outputs": [],
   "source": [
    "c = [1.85,1.92,1.95,1.7,2.1,2.5,2.2,2,2.08]\n",
    "\n",
    "function t_test(x; conf_level=0.95)\n",
    "    alpha = (1 - conf_level)\n",
    "    tstar = quantile(TDist(length(x)-1), 1 - alpha/2)\n",
    "    SE = std(x)/sqrt(length(x))\n",
    "\n",
    "    lo = Statistics.mean(x) + (-1 * tstar * SE)\n",
    "    hi = Statistics.mean(x) + 1 * tstar * SE\n",
    "    \"($lo, $hi)\"\n",
    "end\n",
    "\n",
    "t_test(c)"
   ]
  },
  {
   "cell_type": "markdown",
   "metadata": {},
   "source": [
    "## Steady State"
   ]
  },
  {
   "cell_type": "markdown",
   "metadata": {},
   "source": [
    "Steady state probability:\n",
    "The steady state is the long term probabilities as in Pi_j=limit(p_ij^n, n->infinity) where Pi_j > 0\n",
    "\n",
    "Requirements:\n",
    "Ergodic and irreducible\n",
    "\n",
    "Calculate:\n",
    "Pi_j=sum(Pi_i*p_ij,i=0..M)"
   ]
  },
  {
   "cell_type": "code",
   "execution_count": 62,
   "metadata": {},
   "outputs": [
    {
     "name": "stdout",
     "output_type": "stream",
     "text": [
      "[-0.25 0.3 0.15; 0.2 -0.4 0.05; 0.05 0.1 -0.19999999999999996; 1.0 1.0 1.0]"
     ]
    },
    {
     "data": {
      "text/plain": [
       "3-element Vector{Float64}:\n",
       " 0.47619047619047616\n",
       " 0.2698412698412698\n",
       " 0.25396825396825407"
      ]
     },
     "metadata": {},
     "output_type": "display_data"
    }
   ],
   "source": [
    "# Choose your matrix\n",
    "P = Matrix([0.75 0.2 0.05; 0.3 0.6 0.1; 0.15 0.05 0.8])\n",
    "function steady(P)\n",
    "    # Computing the left side of the equation\n",
    "    A=P'-Matrix(1.0I, length(P[1,:]), length(P[:,1]))\n",
    "\n",
    "    ones = repeat([1.0],length(P[1,:]))'\n",
    "    A = vcat(A,ones)\n",
    "    # The right side of the equation\n",
    "    b = vcat(repeat([0.0],length(A[1,:])),1.0)\n",
    "\n",
    "    #Probability to be in a certain state\n",
    "    Pi = A\\b\n",
    "end"
   ]
  },
  {
   "cell_type": "markdown",
   "metadata": {},
   "source": [
    "### First Passage Time"
   ]
  },
  {
   "cell_type": "markdown",
   "metadata": {},
   "source": [
    "#### n-step Probability"
   ]
  },
  {
   "cell_type": "code",
   "execution_count": 45,
   "metadata": {},
   "outputs": [
    {
     "data": {
      "text/plain": [
       "0.24288"
      ]
     },
     "metadata": {},
     "output_type": "display_data"
    }
   ],
   "source": [
    "# Probability for i to j in n-steps\n",
    "P= [0.632 0.632 0.1 0.2; \n",
    "    0.632 0.264 0.4 0.2; \n",
    "    0.264 0.184 0.368 0.368; \n",
    "    0.08 0.184 0.368 0.368]\n",
    "\n",
    "function nStepProp(P,i,j,n)\n",
    "    # Takes transition matrix: P\n",
    "    # i: start state\n",
    "    # j: end state\n",
    "    # n: steps\n",
    "    n = n-1\n",
    "\n",
    "    # Creating the vectors for the used probabilities\n",
    "    # Since k cannot equal j \n",
    "    p = []\n",
    "    f = []\n",
    "    for k in 1:length(P[1,:])\n",
    "        if k != j\n",
    "            append!(p,P[i,k])\n",
    "            append!(f,P[k,j])\n",
    "        end\n",
    "    end\n",
    "    # Create an empty array for saving\n",
    "    a = repeat([0],length(p))\n",
    "\n",
    "    for l in 1:n\n",
    "        #Running the iterative function\n",
    "        f = a .+ p.*f\n",
    "        a = f\n",
    "\n",
    "    end\n",
    "    #Final Probability\n",
    "    prop = sum(f)\n",
    "end\n",
    "nStepProp(P,4,1,2)\n",
    "\n"
   ]
  },
  {
   "cell_type": "markdown",
   "metadata": {},
   "source": [
    "#### Number of Steps (fx. weeks)"
   ]
  },
  {
   "cell_type": "code",
   "execution_count": null,
   "metadata": {},
   "outputs": [],
   "source": [
    "P= [0.632 0.632 0.1 0.2; \n",
    "    0.632 0.264 0.4 0.2; \n",
    "    0.264 0.184 0.368 0.368; \n",
    "    0.08 0.184 0.368 0.368]\n",
    "\n",
    "function numSteps()\n",
    "    "
   ]
  },
  {
   "cell_type": "markdown",
   "metadata": {},
   "source": [
    "#### Expected Recurence Time"
   ]
  },
  {
   "cell_type": "markdown",
   "metadata": {},
   "source": [
    "The steps it takes to return to the original state.\n",
    "Not a usefull function in itself but helpfull to remember how to do it."
   ]
  },
  {
   "cell_type": "code",
   "execution_count": 5,
   "metadata": {},
   "outputs": [
    {
     "ename": "ErrorException",
     "evalue": "syntax: incomplete: \"function\" at c:\\Users\\rasmu\\OneDrive - Danmarks Tekniske Universitet\\Onedrive\\OneDrive - Danmarks Tekniske Universitet\\Decisions under uncertainty\\Decisions_pushing\\Dejlig.ipynb:2 requires end",
     "output_type": "error",
     "traceback": [
      "syntax: incomplete: \"function\" at c:\\Users\\rasmu\\OneDrive - Danmarks Tekniske Universitet\\Onedrive\\OneDrive - Danmarks Tekniske Universitet\\Decisions under uncertainty\\Decisions_pushing\\Dejlig.ipynb:2 requires end\n",
      "\n",
      "Stacktrace:\n",
      "  [1] top-level scope\n",
      "    @ c:\\Users\\rasmu\\OneDrive - Danmarks Tekniske Universitet\\Onedrive\\OneDrive - Danmarks Tekniske Universitet\\Decisions under uncertainty\\Decisions_pushing\\Dejlig.ipynb:2\n",
      "  [2] eval\n",
      "    @ .\\boot.jl:373 [inlined]\n",
      "  [3] include_string(mapexpr::typeof(REPL.softscope), mod::Module, code::String, filename::String)\n",
      "    @ Base .\\loading.jl:1196\n",
      "  [4] #invokelatest#2\n",
      "    @ .\\essentials.jl:716 [inlined]\n",
      "  [5] invokelatest\n",
      "    @ .\\essentials.jl:714 [inlined]\n",
      "  [6] (::VSCodeServer.var\"#150#151\"{VSCodeServer.NotebookRunCellArguments, String})()\n",
      "    @ VSCodeServer c:\\Users\\rasmu\\.vscode\\extensions\\julialang.language-julia-1.5.11\\scripts\\packages\\VSCodeServer\\src\\serve_notebook.jl:18\n",
      "  [7] withpath(f::VSCodeServer.var\"#150#151\"{VSCodeServer.NotebookRunCellArguments, String}, path::String)\n",
      "    @ VSCodeServer c:\\Users\\rasmu\\.vscode\\extensions\\julialang.language-julia-1.5.11\\scripts\\packages\\VSCodeServer\\src\\repl.jl:185\n",
      "  [8] notebook_runcell_request(conn::VSCodeServer.JSONRPC.JSONRPCEndpoint{Base.PipeEndpoint, Base.PipeEndpoint}, params::VSCodeServer.NotebookRunCellArguments)\n",
      "    @ VSCodeServer c:\\Users\\rasmu\\.vscode\\extensions\\julialang.language-julia-1.5.11\\scripts\\packages\\VSCodeServer\\src\\serve_notebook.jl:14\n",
      "  [9] dispatch_msg(x::VSCodeServer.JSONRPC.JSONRPCEndpoint{Base.PipeEndpoint, Base.PipeEndpoint}, dispatcher::VSCodeServer.JSONRPC.MsgDispatcher, msg::Dict{String, Any})\n",
      "    @ VSCodeServer.JSONRPC c:\\Users\\rasmu\\.vscode\\extensions\\julialang.language-julia-1.5.11\\scripts\\packages\\JSONRPC\\src\\typed.jl:67\n",
      " [10] serve_notebook(pipename::String; crashreporting_pipename::String)\n",
      "    @ VSCodeServer c:\\Users\\rasmu\\.vscode\\extensions\\julialang.language-julia-1.5.11\\scripts\\packages\\VSCodeServer\\src\\serve_notebook.jl:94\n",
      " [11] top-level scope\n",
      "    @ c:\\Users\\rasmu\\.vscode\\extensions\\julialang.language-julia-1.5.11\\scripts\\notebook\\notebook.jl:12\n",
      " [12] include(mod::Module, _path::String)\n",
      "    @ Base .\\Base.jl:418\n",
      " [13] exec_options(opts::Base.JLOptions)\n",
      "    @ Base .\\client.jl:292\n",
      " [14] _start()\n",
      "    @ Base .\\client.jl:495"
     ]
    }
   ],
   "source": [
    "\n",
    "function ERT(P,i)\n",
    "    # takes transition matrix and state\n",
    "    Pi = steady(P)\n",
    "    1/Pi[i]"
   ]
  },
  {
   "cell_type": "markdown",
   "metadata": {},
   "source": [
    "# Matrix, Just example who cares cunt"
   ]
  },
  {
   "cell_type": "code",
   "execution_count": 6,
   "metadata": {},
   "outputs": [
    {
     "data": {
      "text/plain": [
       "3×3 Matrix{Int64}:\n",
       " 1  2  3\n",
       " 1  2  3\n",
       " 1  2  3"
      ]
     },
     "metadata": {},
     "output_type": "display_data"
    }
   ],
   "source": [
    "# Create a matrix, kinda sucks to do...\n",
    "\n",
    "P = [[1,1,1] [2,2,2] [3,3,3]]"
   ]
  },
  {
   "cell_type": "markdown",
   "metadata": {},
   "source": [
    "# Terms"
   ]
  },
  {
   "cell_type": "markdown",
   "metadata": {},
   "source": [
    "Ergodicity:\n",
    "ergodicity expresses the idea that a point of a moving system, either a dynamical system or a stochastic process, will eventually visit all parts of the space that the system moves in. Pi= Pi*p, Pi_i >0\n",
    "\n"
   ]
  }
 ],
 "metadata": {
  "kernelspec": {
   "display_name": "Julia 1.7.2",
   "language": "julia",
   "name": "julia-1.7"
  },
  "language_info": {
   "file_extension": ".jl",
   "mimetype": "application/julia",
   "name": "julia",
   "version": "1.7.2"
  },
  "orig_nbformat": 4
 },
 "nbformat": 4,
 "nbformat_minor": 2
}
