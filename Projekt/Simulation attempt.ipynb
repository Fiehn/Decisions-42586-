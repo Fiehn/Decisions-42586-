{
 "cells": [
  {
   "cell_type": "markdown",
   "metadata": {},
   "source": [
    "# The Real code"
   ]
  },
  {
   "cell_type": "code",
   "execution_count": 1,
   "metadata": {},
   "outputs": [],
   "source": [
    "using Random, Distributions, Plots, XLSX"
   ]
  },
  {
   "cell_type": "markdown",
   "metadata": {},
   "source": [
    "What needs to be done:\n",
    ". Statistics along the way\n",
    ". the simulation gives a shit ton of unfullfilled values, seems fucked!\n",
    ". Last simulation\n",
    "... Plots\n"
   ]
  },
  {
   "cell_type": "markdown",
   "metadata": {},
   "source": [
    "Questions\n",
    ". Weird arrival at midnight\n",
    ". Why the large amount of unfullfilled values?\n",
    ". Should we keep values for every step at every run or just the final statistics at every run?\n"
   ]
  },
  {
   "cell_type": "code",
   "execution_count": 2,
   "metadata": {},
   "outputs": [
    {
     "data": {
      "text/plain": [
       "insert_and_sort! (generic function with 1 method)"
      ]
     },
     "metadata": {},
     "output_type": "display_data"
    }
   ],
   "source": [
    "### Initial functions to load lambda and mu from the ArrivalProfiles.xlsx\n",
    "\n",
    "# Change the type to Float64 from Int and String for the loaded vectors\n",
    "function type_change(v)\n",
    "    v_ny = Vector{Float64}()\n",
    "    for i in 1:length(v)\n",
    "        if typeof(v[i]) == String\n",
    "            push!(v_ny,parse(Float64,v[i]))\n",
    "        elseif typeof(v[i]) == Int64\n",
    "            push!(v_ny,float(v[i]))\n",
    "        else\n",
    "            push!(v_ny,v[i])\n",
    "        end\n",
    "    end\n",
    "    return v_ny\n",
    "end\n",
    "# C:/Users/rasmu/Desktop/OneDrive/OneDrive - Danmarks Tekniske Universitet/Decisions under uncertainty/Projekt/ArrivalProfiles.xlsx\n",
    "\n",
    "function load_arri(path=\"C:/Users/rasmu/OneDrive - Danmarks Tekniske Universitet/Onedrive/OneDrive - Danmarks Tekniske Universitet/Decisions under uncertainty/Projekt/ArrivalProfiles.xlsx\")\n",
    "    xf = XLSX.readxlsx(path) # Loading\n",
    "\n",
    "    # Lambda is given as expected arrivals therefore inverse\n",
    "    lambda_port = 1 ./ type_change(xf[1][\"C2:AA2\"])\n",
    "    lambda_dtu = 1 ./ type_change(xf[1][\"C3:AA3\"])\n",
    "\n",
    "    # Travel time\n",
    "    mu_rammer_dtu = type_change(xf[1][\"C7:AA7\"])\n",
    "    mu_rammer_port = type_change(xf[1][\"C8:AA8\"])\n",
    "\n",
    "    return lambda_port, lambda_dtu, mu_rammer_dtu, mu_rammer_port\n",
    "end\n",
    "\n",
    "\n",
    "# Might not be just as fast as PriorityQueue but it is not that much behind\n",
    "# Inserts a value at the spot it fits\n",
    "function insert_and_sort!(vect::Vector, x)\n",
    "    (splice!(vect, searchsorted(vect,x), [x]); vect) \n",
    "end\n"
   ]
  },
  {
   "cell_type": "code",
   "execution_count": 3,
   "metadata": {},
   "outputs": [],
   "source": [
    "struct Environment # The environment including arrival rates and travel rates\n",
    "    lambda_dtu::Vector{Float64}  #arrival rate 1\n",
    "    mu_rammer_dtu::Vector{Float64} #service rate 1\n",
    "    lambda_port::Vector{Float64} # arrival rate 2\n",
    "    mu_rammer_port::Vector{Float64} #service rate 2\n",
    "    \n",
    "    # loading the vectors from excel\n",
    "    lambda_port, lambda_dtu, mu_rammer_dtu, mu_rammer_port = load_arri() # NEEDS the path to load the document from!\n",
    "    Environment() = new(lambda_port, lambda_dtu, mu_rammer_dtu, mu_rammer_port)\n",
    "end\n",
    "\n",
    "mutable struct Stats # Vector including [Station 1, Station 2]\n",
    "    n_cars::Vector{Int64} # Number of cars at the stations at any given time\n",
    "    un_fullfilled::Vector{Int64} # Amount of times a customer arrives to an empty station\n",
    "    fullfilled::Vector{Int64} # Amount of times a costumer arrives and gets a car\n",
    "    empty_time::Vector{Float64} # The time any given station has 0 cars\n",
    "    currently_empty::Vector{Bool} # Is the station empty\n",
    "end\n",
    "\n",
    "struct Balance\n",
    "    desired::Array{Tuple{Int64,Int64},1}\n",
    "    rebalance_times::Vector{Float64}\n",
    "end\n"
   ]
  },
  {
   "cell_type": "code",
   "execution_count": 4,
   "metadata": {},
   "outputs": [
    {
     "data": {
      "text/plain": [
       "rebalancing (generic function with 1 method)"
      ]
     },
     "metadata": {},
     "output_type": "display_data"
    }
   ],
   "source": [
    "\n",
    "function time_change(e::Array{Tuple{Float64,String},1},k::Int64,day::Int64) # problems\n",
    "    # Switch day and reset index\n",
    "    if k == 25\n",
    "        k = 0\n",
    "        day += 25\n",
    "    end\n",
    "    # Insert the next time change\n",
    "    popfirst!(e)[1]\n",
    "    insert_and_sort!(e,(k+day,\"time_change\"))\n",
    "\n",
    "    # Change index for time\n",
    "    k += 1\n",
    "    return k,day\n",
    "end\n",
    "\n",
    "function arrival_student(station::Int64,e::Array{Tuple{Float64,String},1},env::Environment,stat::Stats,k::Int64)\n",
    "    \n",
    "    # Insert next arrival based on previous arrival\n",
    "    if station == 1\n",
    "        insert_and_sort!(e,(rand(Exponential(env.lambda_dtu[k]))+e[1][1],\"st1\"))\n",
    "    elseif station == 2\n",
    "        insert_and_sort!(e,(rand(Exponential(env.lambda_dtu[k]))+e[1][1],\"st2\"))\n",
    "    end\n",
    "\n",
    "    if stat.currently_empty[station] == true # Student arrives at empty station. That is one unsatisfied costumer :(\n",
    "        stat.un_fullfilled[station] += 1\n",
    "        popfirst!(e)\n",
    "        \n",
    "    else # Costumer leaves station\n",
    "        stat.n_cars[station] -= 1 # removing car from station\n",
    "        stat.fullfilled[station] += 1 # one fullfilled request\n",
    "        \n",
    "        # Insert travel time based on arrival station\n",
    "        if station == 1\n",
    "            insert_and_sort!(e,(rand(Exponential(env.mu_rammer_port[k]))+e[1][1],\"que_st2\")) \n",
    "        elseif station == 2\n",
    "            insert_and_sort!(e,(rand(Exponential(env.mu_rammer_port[k]))+e[1][1],\"que_st1\")) \n",
    "        end\n",
    "\n",
    "        if stat.n_cars[station] == 0 # station becomes empty\n",
    "            stat.empty_time[station] -= popfirst!(e)[1] # Empty station timer starts \n",
    "            stat.currently_empty[station] = true\n",
    "        else\n",
    "            popfirst!(e)\n",
    "        end\n",
    "    end \n",
    "\n",
    "end \n",
    "\n",
    "function arrival_vehicle(station::Int64,e::Array{Tuple{Float64,String},1},env::Environment,stat::Stats)\n",
    "\n",
    "    if stat.currently_empty[station] == true # Arriving at an empty station\n",
    "        stat.n_cars[station] += 1 # arrive\n",
    "        stat.empty_time[station] += popfirst!(e)[1] # End empty timer\n",
    "        stat.currently_empty[station] = false\n",
    "    else\n",
    "        stat.n_cars[station] += 1 # arrive\n",
    "        popfirst!(e)\n",
    "    end\n",
    "\n",
    "end\n",
    "\n",
    "# FEJL! Den tager og sender de 100, ikke cheker at der skal være 100\n",
    "function rebalancing(rebal::Balance,stat::Stats,env::Environment,e::Array{Tuple{Float64,String},1},k::Int64,rebalance_action::Int64)\n",
    "    # NEEDS Documentation and a serious debugging\n",
    "    #travel_count_1 = 0\n",
    "    #travel_count_2 = 0\n",
    "    #for i in 1:length(e)\n",
    "    #    if e[i][2] == \"que_st1\"\n",
    "    #        travel_count_1 += 1\n",
    "    #    elseif e[i][2] == \"que_st2\"\n",
    "    #        travel_count_2 += 1\n",
    "    #    end\n",
    "    #end\n",
    "\n",
    "\n",
    "    if stat.n_cars[1] >= rebal.desired[rebalance_action][2]\n",
    "        for i in 1:rebal.desired[rebalance_action][1]\n",
    "            insert_and_sort!(e,(rand(Exponential(env.mu_rammer_dtu[k]))+e[1][1],\"que_st1\")) \n",
    "            stat.n_cars[2] -= 1\n",
    "        end\n",
    "        \n",
    "        # Start empty timer\n",
    "        if stat.n_cars[2] == 0\n",
    "            stat.empty_time[2] -= e[1][1]\n",
    "            stat.currently_empty[2] = true\n",
    "        end\n",
    "\n",
    "    else\n",
    "        for i in 1:stat.n_cars[2]\n",
    "            insert_and_sort!(e,(rand(Exponential(env.mu_rammer_dtu[k]))+e[1][1],\"que_st1\"))\n",
    "            stat.n_cars[2] -= 1\n",
    "        end\n",
    "        if stat.currently_empty[2] == false\n",
    "            stat.empty_time[2] -= e[1][1]\n",
    "            stat.currently_empty[2] = true\n",
    "        end\n",
    "    end\n",
    "\n",
    "    # For station 1\n",
    "    if stat.n_cars[1] >= rebal.desired[rebalance_action][2]\n",
    "        for i in 1:rebal.desired[rebalance_action][2]\n",
    "            insert_and_sort!(e,(rand(Exponential(env.mu_rammer_port[k]))+e[1][1],\"que_st2\"))\n",
    "            stat.n_cars[1] -= 1\n",
    "        end\n",
    "        \n",
    "        # Start empty timer\n",
    "        if stat.n_cars[1] == 0\n",
    "            stat.empty_time[1] -= e[1][1]\n",
    "            stat.currently_empty[1] = true\n",
    "        end\n",
    "    else\n",
    "        for i in 1:stat.n_cars[1]\n",
    "            insert_and_sort!(e,(rand(Exponential(env.mu_rammer_port[k]))+e[1][1],\"que_st2\"))\n",
    "            stat.n_cars[1] -= 1\n",
    "        end\n",
    "        if stat.currently_empty[1] == false\n",
    "            stat.empty_time[1] -= e[1][1]\n",
    "            stat.currently_empty[1] = true\n",
    "        end\n",
    "    end \n",
    "\n",
    "    insert_and_sort!(e,(24.0+popfirst!(e)[1],\"rebalance\"))\n",
    "\n",
    "    # Virkelig grim måde at gøre det på \n",
    "    if rebalance_action == length(rebal.desired)\n",
    "        rebalance_action = 1\n",
    "    else\n",
    "        rebalance_action += 1\n",
    "    end\n",
    "    \n",
    "end\n",
    "\n"
   ]
  },
  {
   "cell_type": "code",
   "execution_count": 5,
   "metadata": {},
   "outputs": [
    {
     "data": {
      "text/plain": [
       "sim (generic function with 1 method)"
      ]
     },
     "metadata": {},
     "output_type": "display_data"
    }
   ],
   "source": [
    "function sim(days_to_run::Int64,initial_n_cars::Vector{Int64}, rebal::Balance, env::Environment)\n",
    "\n",
    "    ###########\n",
    "    # Initial Misc\n",
    "    stat = Stats([initial_n_cars[1],initial_n_cars[2]],[0,0],[0,0],[0,0],[false,false])\n",
    "    e = Array{Tuple{Float64,String},1}()\n",
    "    runs = 0\n",
    "    \n",
    "    ###########\n",
    "    # arrival and travel rates\n",
    "    insert_and_sort!(e,(0.0,\"time_change\")) # THIS NEEDS TO BE FIXED!!!!!!!!\n",
    "    k = 1\n",
    "    day = 0\n",
    "    \n",
    "    ###########\n",
    "    # Arrivals\n",
    "    insert_and_sort!(e,(rand(Exponential(env.lambda_dtu[k])),\"st1\"))\n",
    "    insert_and_sort!(e,(rand(Exponential(env.lambda_port[k])),\"st2\"))\n",
    "    \n",
    "    ###########\n",
    "    # Rebalance\n",
    "    rebalance_action = 1\n",
    "    for i in 1:length(rebal.rebalance_times)\n",
    "        insert_and_sort!(e,(rebal.rebalance_times[i],\"rebalance\"))\n",
    "    end\n",
    "\n",
    "\n",
    "    while e[1][1] <= days_to_run*24.0 && runs <= 100000\n",
    "        load_type = e[1][2]\n",
    "        if load_type == \"st1\"\n",
    "            arrival_student(1,e,env,stat,k)\n",
    "        elseif load_type == \"st2\"\n",
    "            arrival_student(2,e,env,stat,k)\n",
    "        elseif load_type == \"que_st1\"\n",
    "            arrival_vehicle(1,e,env,stat)\n",
    "        elseif load_type == \"que_st2\"\n",
    "            arrival_vehicle(2,e,env,stat)\n",
    "        elseif load_type == \"time_change\"\n",
    "            k,day = time_change(e,k,day)\n",
    "        elseif load_type == \"rebalance\"\n",
    "            rebalancing(rebal,stat,env,e,k,rebalance_action)\n",
    "        else\n",
    "            throw(ErrorException(\"Issue in the event type!\"))\n",
    "        end\n",
    "        runs += 1 # Checks the amount of events\n",
    "    end\n",
    "    \n",
    "    # Make sure the empty timer stops at the end of the run\n",
    "    if stat.currently_empty[1] == true\n",
    "        stat.empty_time[1] += e[1][1]\n",
    "    elseif stat.currently_empty[2] == true\n",
    "        stat.empty_time[2] += e[1][1]\n",
    "    end\n",
    "    \n",
    "    return stat.n_cars,stat.un_fullfilled,stat.fullfilled,stat.empty_time,runs\n",
    "end"
   ]
  },
  {
   "cell_type": "markdown",
   "metadata": {},
   "source": [
    "### Testing"
   ]
  },
  {
   "cell_type": "code",
   "execution_count": 6,
   "metadata": {},
   "outputs": [
    {
     "data": {
      "text/plain": [
       "main (generic function with 1 method)"
      ]
     },
     "metadata": {},
     "output_type": "display_data"
    }
   ],
   "source": [
    "\n",
    "function main(initial_n_cars::Vector{Int64},days_to_run::Int64,n_of_runs::Int64,rebalance::Tuple{Vector{Tuple{Int64, Int64}}, Vector{Float64}})\n",
    "    env = Environment()\n",
    "    rebal = Balance(rebalance[1],rebalance[2])\n",
    "    overview = []\n",
    "    efficiancy = []\n",
    "\n",
    "    for i in 1:n_of_runs\n",
    "        a = sim(days_to_run,initial_n_cars,rebal,env)\n",
    "        overview = [overview;a]\n",
    "        # NEeds final stats\n",
    "    \n",
    "        efficiancy_fullfilled = [a[3][1]/(a[3][1]+a[2][1]), a[3][2]/(a[3][2]+a[2][2]) ]\n",
    "        efficiancy_emptytime = [a[4][1]/(days_to_run*24),a[4][2]/(days_to_run*24)]\n",
    "\n",
    "        #print(\"Efficiancy percentage for station 1 is \")\n",
    "        #printstyled(round(efficiancy_fullfilled[1]*100,digits=2),\"%\"; color=:blue)\n",
    "        #print(\" and \")\n",
    "        #printstyled(round(efficiancy_fullfilled[2]*100,digits=2),\"%\"; color=:blue)\n",
    "        #print(\" for station 2. Percentage of time spent empty for station 1 is \")\n",
    "        #printstyled(round(efficiancy_emptytime[1]*100,digits=2),\"%\"; color=:blue)\n",
    "        #print(\" and \")\n",
    "        #printstyled(round(efficiancy_emptytime[2]*100,digits=2),\"%\"; color=:blue)\n",
    "        #println(\" for station 2.\")\n",
    "\n",
    "        efficiancy = [efficiancy; [efficiancy_fullfilled]]\n",
    "    end\n",
    "    \n",
    "    return overview, efficiancy\n",
    "end"
   ]
  },
  {
   "cell_type": "code",
   "execution_count": 8,
   "metadata": {},
   "outputs": [
    {
     "data": {
      "text/plain": [
       "(Any[([142, 58], [1124, 1812], [9548, 8564], [71.58370106105622, 109.64529985552917], 67811), ([95, 105], [793, 1841], [8687, 8182], [47.78080441543398, 135.59649528048158], 64757), ([157, 43], [1056, 1810], [8936, 7872], [64.17371304468907, 120.47826141557107], 65006), ([165, 35], [862, 1647], [8927, 7904], [53.49838763761909, 107.57469008798944], 64576), ([108, 88], [903, 1667], [9889, 8574], [46.072205872427276, 114.48644868388419], 68684), ([108, 87], [1030, 1906], [9195, 7861], [56.6511554943595, 111.41431266368318], 65833), ([115, 82], [1636, 1540], [9740, 7256], [107.65161189756509, 113.86057198343497], 66147), ([127, 72], [1176, 1283], [9924, 8044], [66.09826925365633, 71.77844827735589], 67344), ([112, 88], [988, 1818], [8690, 8899], [65.30751986344558, 128.41103665476112], 65942), ([150, 48], [565, 2388], [9035, 9853], [30.0624191666393, 128.32977641901334], 68454), ([120, 78], [1295, 1509], [10470, 8033], [93.44839463480366, 110.85284736027052], 68896), ([143, 52], [1122, 2054], [8963, 8067], [81.60345492092938, 122.90270827450149], 66210), ([151, 49], [1339, 2109], [9280, 7579], [87.93126349741033, 158.23442563139042], 65427), ([140, 60], [1037, 1668], [10008, 8038], [76.78191709710609, 112.22121885019715], 67556), ([100, 100], [1244, 2021], [10099, 8657], [68.83429677772392, 127.6250082152178], 69220), ([103, 91], [890, 1677], [9731, 9064], [55.011521608187195, 129.9878801336713], 69052), ([163, 37], [1047, 2414], [9356, 7941], [67.03136612968865, 153.90384709326827], 66514), ([152, 48], [919, 2033], [8212, 8101], [48.2297713400485, 132.12818441566924], 63634), ([155, 42], [643, 2466], [9162, 8123], [41.061024722555885, 170.12768101620668], 66721), ([107, 87], [527, 1517], [8478, 7041], [32.197829948380786, 108.58473650210271], 62159)], Any[[0.8946776611694153, 0.825366229760987], [0.9163502109704641, 0.8163224583458046], [0.8943154523618895, 0.8130551538938235], [0.9119419756869956, 0.8275573238404356], [0.9163269088213492, 0.8372229274484914], [0.8992665036674816, 0.8048530766868025], [0.8561884669479606, 0.8249204183719873], [0.894054054054054, 0.8624423716093064], [0.8979127918991527, 0.8303629747130727], [0.9411458333333333, 0.8049178988644718], [0.8899277518062049, 0.8418570530287152], [0.8887456618740704, 0.7970556269143365], [0.8739052641491666, 0.7823080099091659], [0.9061113626075147, 0.8281475376056048], [0.8903288371682976, 0.8107323468814385], [0.9162037472930986, 0.8438692859137883], [0.899355955012977, 0.7668759053597296], [0.8993538495236009, 0.7993881981448588], [0.9344212136664967, 0.7671168193408254], [0.9414769572459745, 0.8227389577003973]])"
      ]
     },
     "metadata": {},
     "output_type": "display_data"
    }
   ],
   "source": [
    "########### User manual ############\n",
    "##### Inputs: main(1,2,3,4)\n",
    "# 1: [initial cars at station 1, initial cars at station 2] (Int,Int)\n",
    "# 2: days to run each simulation (Int)\n",
    "# 3: Amount simulations to run (Int)\n",
    "# 4: ( [(Desired amount at station 1 for first reblance, station 2 at first rebalance), (station 1 at second, station 2 at second), ..., (station 1 at n rebalance, station 2 at n)], [time of first rebalance, ..., time at n event] ) (Tuple(Int,Int),Float)\n",
    "\n",
    "\n",
    "\n",
    "main([100,100],100,20,([(130,70),(50,150)],[6.5,13.5]))"
   ]
  },
  {
   "cell_type": "code",
   "execution_count": 7,
   "metadata": {},
   "outputs": [
    {
     "name": "stdout",
     "output_type": "stream",
     "text": [
      "(0.6861664507073676, 3) for station1\n",
      "(0.575878081872723, 2) for station2\n",
      "[21, 39, 60] for station1\n",
      "[11, 49, 60] for station2\n"
     ]
    }
   ],
   "source": [
    "# Tjekker start distribution, virker som om den er stortset irrelevant\n",
    "\n",
    "effic_st1 = []\n",
    "effic_st2 = []\n",
    "position = []\n",
    "for n in 60:60\n",
    "    for i in 1:10:(n-1)\n",
    "        _, effic = main([i,n-i],100,n, ([(100,20),(40,80)],[7.0,13.0]) )\n",
    "        total_effic = [effic[1][1],effic[1][2]]\n",
    "        for j in 2:n\n",
    "            total_effic = [effic[j][1]+total_effic[1],effic[j][2]+total_effic[2]]\n",
    "        end\n",
    "        \n",
    "        push!(effic_st1,total_effic[1]/n)\n",
    "        push!(effic_st2,total_effic[2]/n)\n",
    "        push!(position,[i,n-i,n])\n",
    "\n",
    "    end\n",
    "end\n",
    "\n",
    "println(findmax(effic_st1),\" for station1\")\n",
    "println(findmax(effic_st2),\" for station2\")\n",
    "println(position[findmax(effic_st1)[2]],\" for station1\")\n",
    "println(position[findmax(effic_st2)[2]],\" for station2\")\n"
   ]
  },
  {
   "cell_type": "code",
   "execution_count": 25,
   "metadata": {},
   "outputs": [],
   "source": [
    "# Only rebalance amount\n",
    "effic_st1 = []\n",
    "effic_st2 = []\n",
    "position = []\n",
    "\n",
    "for i in 1:20:n*2\n",
    "    for j in 1:20:n*2\n",
    "        _, effic = main([n,n],100,30, ([(i,n*2-i),(j,n*2-j)],[float(k),float(c)]) )\n",
    "        total_effic = [effic[1][1],effic[1][2]]\n",
    "        for p in 2:30-1\n",
    "            total_effic = [effic[p][1]+total_effic[1],effic[p][2]+total_effic[2]]\n",
    "        end\n",
    "        \n",
    "        push!(effic_st1,total_effic[1]/30)\n",
    "        push!(effic_st2,total_effic[2]/30)\n",
    "        push!(position,[[i,n*2-i],[j,n*2-j]])\n",
    "        push!(times,[float(k),float(c)])\n",
    "    end\n",
    "end"
   ]
  },
  {
   "cell_type": "code",
   "execution_count": 24,
   "metadata": {},
   "outputs": [
    {
     "name": "stdout",
     "output_type": "stream",
     "text": [
      "[10.0, 16.0]"
     ]
    }
   ],
   "source": [
    "print(times[a[2]])"
   ]
  },
  {
   "cell_type": "code",
   "execution_count": 21,
   "metadata": {},
   "outputs": [
    {
     "data": {
      "text/plain": [
       "0.0"
      ]
     },
     "metadata": {},
     "output_type": "display_data"
    }
   ],
   "source": []
  },
  {
   "cell_type": "markdown",
   "metadata": {},
   "source": [
    "## Redundant\n"
   ]
  },
  {
   "cell_type": "code",
   "execution_count": null,
   "metadata": {},
   "outputs": [],
   "source": [
    "# Redundant reblance\n",
    "if stat.n_cars[2] >= rebal.desired[rebalance_action][1]\n",
    "    for i in 1:rebal.desired[rebalance_action][1]\n",
    "        insert_and_sort!(e,(rand(Exponential(env.mu_rammer_dtu[k]))+e[1][1],\"que_st1\")) \n",
    "        stat.n_cars[2] -= 1\n",
    "    end\n",
    "    \n",
    "    # Start empty timer\n",
    "    if stat.n_cars[2] == 0\n",
    "        stat.empty_time[2] -= e[1][1]\n",
    "        stat.currently_empty[2] = true\n",
    "    end\n",
    "\n",
    "else\n",
    "    for i in 1:stat.n_cars[2]\n",
    "        insert_and_sort!(e,(rand(Exponential(env.mu_rammer_dtu[k]))+e[1][1],\"que_st1\"))\n",
    "        stat.n_cars[2] -= 1\n",
    "    end\n",
    "    if stat.currently_empty[2] == false\n",
    "        stat.empty_time[2] -= e[1][1]\n",
    "        stat.currently_empty[2] = true\n",
    "    end\n",
    "end\n",
    "\n",
    "# For station 1\n",
    "if stat.n_cars[1] >= rebal.desired[rebalance_action][2]\n",
    "    for i in 1:rebal.desired[rebalance_action][2]\n",
    "        insert_and_sort!(e,(rand(Exponential(env.mu_rammer_port[k]))+e[1][1],\"que_st2\"))\n",
    "        stat.n_cars[1] -= 1\n",
    "    end\n",
    "    \n",
    "    # Start empty timer\n",
    "    if stat.n_cars[1] == 0\n",
    "        stat.empty_time[1] -= e[1][1]\n",
    "        stat.currently_empty[1] = true\n",
    "    end\n",
    "else\n",
    "    for i in 1:stat.n_cars[1]\n",
    "        insert_and_sort!(e,(rand(Exponential(env.mu_rammer_port[k]))+e[1][1],\"que_st2\"))\n",
    "        stat.n_cars[1] -= 1\n",
    "    end\n",
    "    if stat.currently_empty[1] == false\n",
    "        stat.empty_time[1] -= e[1][1]\n",
    "        stat.currently_empty[1] = true\n",
    "    end\n",
    "end \n"
   ]
  },
  {
   "cell_type": "code",
   "execution_count": null,
   "metadata": {},
   "outputs": [],
   "source": []
  }
 ],
 "metadata": {
  "kernelspec": {
   "display_name": "Julia 1.7.2",
   "language": "julia",
   "name": "julia-1.7"
  },
  "language_info": {
   "file_extension": ".jl",
   "mimetype": "application/julia",
   "name": "julia",
   "version": "1.7.2"
  },
  "orig_nbformat": 4
 },
 "nbformat": 4,
 "nbformat_minor": 2
}
