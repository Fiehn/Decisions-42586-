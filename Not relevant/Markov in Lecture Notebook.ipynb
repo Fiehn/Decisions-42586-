{
 "cells": [
  {
   "cell_type": "markdown",
   "id": "9339b33f",
   "metadata": {
    "slideshow": {
     "slide_type": "slide"
    }
   },
   "source": [
    "# Path to Recovery example\n",
    "\n",
    "When $I$nfected on day 1, what is the probability one is $R$ecovered on day 4?"
   ]
  },
  {
   "cell_type": "code",
   "execution_count": null,
   "id": "012727e0",
   "metadata": {
    "slideshow": {
     "slide_type": "subslide"
    }
   },
   "outputs": [],
   "source": [
    "P = [(999/1000) (1/1000) 0  0 \n",
    "     0   0.8         0.2    0\n",
    "     0     0         0.9   0.1\n",
    "    (1/700)  0        0 (699/700) ]\n",
    "\n",
    "ProbRec4Days = P[3,3]*P[3,3]*P[3,4] + P[3,3]*P[3,4]*P[4,4] + P[3,4]*P[4,4]*P[4,4]\n",
    "\n",
    "println(\"Calculated probability paths: \", ProbRec4Days)\n",
    "\n"
   ]
  },
  {
   "cell_type": "markdown",
   "id": "594d06f4",
   "metadata": {
    "slideshow": {
     "slide_type": "slide"
    }
   },
   "source": [
    "The above calculation requires exploring all possible paths. This may be cumbersome if we are interested in the probability of being recovered after $x$ days, with $x$ increasing. \n",
    "\n",
    "Someone proposes the below calculation:"
   ]
  },
  {
   "cell_type": "code",
   "execution_count": 17,
   "id": "aa62ae3b",
   "metadata": {
    "slideshow": {
     "slide_type": "subslide"
    }
   },
   "outputs": [
    {
     "name": "stdout",
     "output_type": "stream",
     "text": [
      "Proposed probability 0.27058591836734697 difference with previous: 0.0\n"
     ]
    }
   ],
   "source": [
    "P3 =  P^3\n",
    "println(\"Proposed probability \", P3[3,4], \" difference with previous: \" , (P3[3,4] - ProbRec4Days))\n"
   ]
  },
  {
   "cell_type": "markdown",
   "id": "bb95cf9a",
   "metadata": {
    "slideshow": {
     "slide_type": "slide"
    }
   },
   "source": [
    "If we now want to calculate the probability of being recovered after $x$ days, with $x=5, 6, 7, 8$, clearly, it is faster to use the matrix calculation:\n"
   ]
  },
  {
   "cell_type": "code",
   "execution_count": 18,
   "id": "fc233a89",
   "metadata": {
    "slideshow": {
     "slide_type": "subslide"
    }
   },
   "outputs": [
    {
     "name": "stdout",
     "output_type": "stream",
     "text": [
      "Probability of recovery after 4 days: 0.3430993670553936\n",
      "Probability of recovery after 5 days: 0.4082192279596002\n",
      "Probability of recovery after 6 days: 0.46668507076986204\n",
      "Probability of recovery after 7 days: 0.5191625140870607\n",
      "Probability of recovery after 8 days: 0.5662506213514001\n"
     ]
    }
   ],
   "source": [
    "for x= 4:8\n",
    "    Ptemp= P^x\n",
    "    println(\"Probability of recovery after $x days: \",  Ptemp[3,4])\n",
    "end\n",
    "\n",
    "#More comp efficient version, given a start point Pstart:\n",
    "#Pstart = P3\n",
    "#for x= 4:8\n",
    "#    Ptemp= P*Pstart\n",
    "#    println(\"Probability of recovery after $x days\",  Ptemp[3,4])\n",
    "#end\n",
    "\n"
   ]
  },
  {
   "cell_type": "markdown",
   "id": "5a22d429",
   "metadata": {
    "slideshow": {
     "slide_type": "slide"
    }
   },
   "source": [
    "What now if we want to calculate the following probability:\n",
    "Exposed on day 1, but only for the first time(!) enter the infected phase after day 5?\n",
    "\n",
    "The path method:\n",
    "- there are infinetely many paths for being recovered after day 5: e.g. recovery on day 6, 7, 8, ...\n",
    "The matrix method:\n",
    "- this would still require all $P^n$ for $n=5,6,7,...$\n",
    "\n",
    "\n",
    "This probability can be calculated as 1 minus the probability of entering the infected phase, recovered phase or susceptible phase on day 5 or earlier (4 transitions). For this we can use the matrix notation again:"
   ]
  },
  {
   "cell_type": "code",
   "execution_count": null,
   "id": "493c3063",
   "metadata": {
    "slideshow": {
     "slide_type": "slide"
    }
   },
   "outputs": [],
   "source": [
    "P4 = P3*P\n",
    "println(P4)\n",
    "prob = 1 - P4[2,3] - P4[2,4] - P4[2,1]\n",
    "println(\"Probability of entering the infected phase only after day 5: \", prob)"
   ]
  },
  {
   "cell_type": "markdown",
   "id": "01476b23",
   "metadata": {
    "slideshow": {
     "slide_type": "slide"
    }
   },
   "source": [
    "Should we then forget about the path-based methods?\n",
    "- No. For some specific questions and specific chains it may be the easiest. E.g. for probabilities described by one path only.\n",
    "- No, we will use the concept of sub-paths to calculate features of the Markov chain, such as first passage time, in the next lecture"
   ]
  }
 ],
 "metadata": {
  "celltoolbar": "Slideshow",
  "kernelspec": {
   "display_name": "Julia 1.7.1",
   "language": "julia",
   "name": "julia-1.7"
  },
  "language_info": {
   "file_extension": ".jl",
   "mimetype": "application/julia",
   "name": "julia",
   "version": "1.7.1"
  }
 },
 "nbformat": 4,
 "nbformat_minor": 5
}
