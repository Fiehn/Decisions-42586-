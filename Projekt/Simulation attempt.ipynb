{
 "cells": [
  {
   "cell_type": "markdown",
   "metadata": {},
   "source": [
    "# Redundant"
   ]
  },
  {
   "cell_type": "code",
   "execution_count": 1,
   "metadata": {},
   "outputs": [],
   "source": [
    "using Random, Distributions"
   ]
  },
  {
   "cell_type": "code",
   "execution_count": 110,
   "metadata": {},
   "outputs": [
    {
     "name": "stdout",
     "output_type": "stream",
     "text": [
      "aj\n",
      "na\n",
      "lon\n",
      "la\n",
      "aj\n",
      "lon\n",
      "aj\n",
      "aj\n",
      "la\n",
      "lon\n",
      "[71.62357998333988, 63.093335020066434, 33.313651003967, 9.832390594385078][64.9515268496291, 100.0, 37.834199381928, 100.0, 18.21233596117552, 100.0]\n"
     ]
    }
   ],
   "source": [
    "########################### Redundant!!!!!!\n",
    "# time_st1 = Vector{Float64}()\n",
    "# time_st2 = Vector{Float64}()\n",
    "# time_from_st1 = Vector{Float64}()\n",
    "# time_from_st2 = Vector{Float64}()\n",
    "# n_st1_vect = Vector{Int64}()\n",
    "# n_st2_vect = Vector{Int64}()\n",
    "\n",
    "# draw_st1 = rand(Exponential(10))\n",
    "# draw_st2 = rand(Exponential(10))\n",
    "\n",
    "\n",
    "\n",
    "# n_st1 = 5\n",
    "# n_st2 = 5\n",
    "# n_total = n_st1 + n_st2\n",
    "# n_travel = 0\n",
    "# travel_f_1 = 100 #problem - Interrem ingen rejser. ingen er op vej nogen steder hen\n",
    "# travel_f_2 = 100\n",
    "# shit_1 = 0 #Nogen som ankommer og går uden at blive serviceret. \n",
    "# shit_2 = 0\n",
    "\n",
    "# push!(time_st1,draw_st1) #Smider de første værdier ind i vektoren. \n",
    "# push!(time_st2,draw_st2)\n",
    "# push!(time_from_st1,travel_f_1)\n",
    "# push!(time_from_st2,travel_f_2)\n",
    "# push!(n_st1_vect,n_st1)\n",
    "# push!(n_st2_vect,n_st2)\n",
    "\n",
    "\n",
    "# # antager at hvis der ikke er en bil løber folk væk igen og der gåe en ny tid før studerende ankommer\n",
    "\n",
    "\n",
    "# for i in 1:10 #placeholder for whileloop. \n",
    "#     # Crude as shit!\n",
    "#     if last(time_st1) < last(time_st2) && last(time_st1) < last(time_from_st1) && last(time_st1) < last(time_from_st2)\n",
    "        \n",
    "#         if n_st1 >= 1 && n_st1 <= n_travel+n_st1+n_st2 \n",
    "#             n_st1 -= 1\n",
    "#             push!(n_st1_vect,n_st1)\n",
    "#             travel_f_1 = rand(Exponential(10))\n",
    "#             n_travel +=1\n",
    "#             push!(time_from_st1,travel_f_1+last(time_st1))\n",
    "        \n",
    "#         else\n",
    "#             shit_1 += 1\n",
    "#         end\n",
    "\n",
    "#         draw_st1 = rand(Exponential(10))\n",
    "#         push!(time_st1,last(time_st1)+draw_st1)\n",
    "\n",
    "#     elseif last(time_st2) < last(time_st1) && last(time_st2) < last(time_from_st1) && last(time_st2) < last(time_from_st2)\n",
    "        \n",
    "#         if n_st2 >= 1 && n_st2 <= n_travel+n_st1+n_st2\n",
    "#             n_st2 -= 1\n",
    "#             push!(n_st2_vect,n_st2)\n",
    "#             travel_f_2 = rand(Exponential(10))\n",
    "#             n_travel += 1\n",
    "#             push!(time_from_st2,travel_f_2+last(time_st2))\n",
    "            \n",
    "#         else\n",
    "#             shit_2 += 1\n",
    "#         end\n",
    "\n",
    "#         draw_st2 = rand(Exponential(10))\n",
    "#         push!(time_st2,last(time_st2)+draw_st2)\n",
    "\n",
    "#     elseif last(time_st1) > last(time_from_st1) && last(time_st2) > last(time_from_st1) && last(time_from_st1) < last(time_from_st2) && n_travel+n_st1+n_st2 == n_total\n",
    "#         n_st2 += 1\n",
    "#         push!(n_st2_vect,n_st2+last(n_st2_vect))\n",
    "#         n_travel -= 1\n",
    "        \n",
    "#         push!(time_from_st1,100)\n",
    "\n",
    "#     elseif last(time_st1) > last(time_from_st2) && last(time_st2) > last(time_from_st2) && last(time_from_st1) > last(time_from_st2) && n_travel+n_st1+n_st2 == n_total\n",
    "#         n_st1 += 1\n",
    "#         push!(n_st1_vect,n_st1+last(n_st1_vect))\n",
    "#         n_travel -= 1\n",
    "        \n",
    "#         push!(time_from_st2,100)\n",
    "#     else\n",
    "#         println('Something Wrong.')\n",
    "#     end\n",
    "# end\n",
    "\n",
    "\n",
    "# println(time_st1,time_from_st1)\n"
   ]
  },
  {
   "cell_type": "markdown",
   "metadata": {},
   "source": [
    "# The Real code"
   ]
  },
  {
   "cell_type": "code",
   "execution_count": 2,
   "metadata": {},
   "outputs": [],
   "source": [
    "using Random, Distributions, Plots"
   ]
  },
  {
   "cell_type": "code",
   "execution_count": 33,
   "metadata": {},
   "outputs": [
    {
     "data": {
      "text/plain": [
       "insert_and_sort! (generic function with 1 method)"
      ]
     },
     "metadata": {},
     "output_type": "display_data"
    }
   ],
   "source": [
    "# Using tuples instead of PriorityQueue, because they can have multiple identical keys and the queue cannot.\n",
    "# This is slightly slower but not by that much, not really a noticable difference in this case. \n",
    "# You have to get real up there in iterations before it really chugs behind.\n",
    "\n",
    "mutable struct Events\n",
    "    e::Array{Tuple{Float64,SubString},1}\n",
    "end\n",
    "\n",
    "struct Environment\n",
    "    hours::Float64\n",
    "    lambda::Float64  #arrival rate\n",
    "    mu::Float64 #service rate\n",
    "   \n",
    "   #Add arrival rate per hour for both stations. Add travel-time rate for both stations.\n",
    "    Environment() = new(\n",
    "    2, \n",
    "    (1/6), \n",
    "    (1/12)\n",
    "    )\n",
    "end\n",
    "\n",
    "mutable struct Stats\n",
    "    n_cars_st1::Int64\n",
    "    n_cars_st2::Int64\n",
    "    unfilled_st1::Int64\n",
    "    unfilled_st2::Int64\n",
    "  \n",
    "end\n",
    "\n",
    "# Might not be just as fast as PriorityQueue but it is not that much behind\n",
    "function insert_and_sort!(vect::Vector, x)\n",
    "    (splice!(vect, searchsorted(vect,x), [x]); vect) \n",
    "end"
   ]
  },
  {
   "cell_type": "code",
   "execution_count": 101,
   "metadata": {},
   "outputs": [
    {
     "data": {
      "text/plain": [
       "arrivals_generator (generic function with 2 methods)"
      ]
     },
     "metadata": {},
     "output_type": "display_data"
    }
   ],
   "source": [
    "function arrivals_generator(event::Events,env::Environment)\n",
    "\n",
    "    # Arrivals at station 1\n",
    "    push!(event.e,(rand(Exponential(env.lambda)),\"st1\")) # First arrival\n",
    "    while last(event.e)[1] <= env.hours\n",
    "       push!(event.e,(rand(Exponential(env.lambda))+last(event.e)[1],\"st1\"))\n",
    "    end\n",
    "\n",
    "    # Arrivals at station 2 (repeat of station 1)\n",
    "    push!(event.e,(rand(Exponential(env.lambda)),\"st2\"))\n",
    "    while last(event.e)[1] <= env.hours\n",
    "        push!(event.e,(rand(Exponential(env.lambda))+last(event.e)[1],\"st2\"))\n",
    "    end\n",
    "\n",
    "\n",
    "    # Sorting the arrivals so first time is 1 and so on\n",
    "    sort!(event.e)\n",
    "\n",
    "    return e\n",
    "end"
   ]
  },
  {
   "cell_type": "code",
   "execution_count": null,
   "metadata": {},
   "outputs": [],
   "source": [
    "# Do this:\n",
    "# stats.overview_usage = [stats.overview_usage; t state.queue_length state.server_busy]\n",
    "# Real nice, steal that shit!\n",
    "\n",
    "function arrival(station,event::Events,env::Enviroment,stat::Stats)\n",
    "    # WHAT to do when travel time passes total time?? makes sense? ask teacher\n",
    "    if station == \"st1\"\n",
    "        # Student arrives at empty station. That is one unsatisfied costumer :(\n",
    "        if stat.n_cars_st1 == 0\n",
    "            stat.unfilled_st1 += 1\n",
    "            popfirst!(event.e)\n",
    "        else\n",
    "            stat.n_cars_st1 -= 1\n",
    "        \n",
    "            insert_and_sort!(event.e,(rand(Exponential(env.mu))+event.e[1][1],\"que_st2\") )\n",
    "            popfirst!(event.e)\n",
    "        end\n",
    "        \n",
    "    elseif station == \"st2\"\n",
    "        if stat.n_cars_st1 == 0\n",
    "            stat.unfilled_st2 += 1\n",
    "            popfirst!(event.e)\n",
    "        else\n",
    "            stat.n_cars_st2 -= 1\n",
    "            \n",
    "            insert_and_sort!(event.e,(rand(Exponential(env.mu))+event.e[1][1],\"que_st1\") )\n",
    "            popfirst!(event.e)\n",
    "        end\n",
    "\n",
    "    else\n",
    "        throw(ErrorException(\"Something went wrong in main().\"))\n",
    "    end\n",
    "\n",
    "end \n",
    "\n",
    "function travel(station,e = e,env::Enviroment,stat::Stats)\n",
    "\n",
    "    if station == \"que_st1\"\n",
    "        stat.n_cars_st1 += 1\n",
    "        popfirst!(event.e)\n",
    "    elseif station == \"que_st2\"\n",
    "        stat.n_cars_st1 += 1\n",
    "        popfirst!(event.e)\n",
    "    else \n",
    "        throw(ErrorException(\"Something went wrong in main().\"))\n",
    "    end\n",
    "\n",
    "end\n"
   ]
  },
  {
   "cell_type": "code",
   "execution_count": null,
   "metadata": {},
   "outputs": [],
   "source": [
    "function main()\n",
    "    \n",
    "end"
   ]
  },
  {
   "cell_type": "markdown",
   "metadata": {},
   "source": [
    "### Testing"
   ]
  },
  {
   "cell_type": "code",
   "execution_count": 117,
   "metadata": {},
   "outputs": [
    {
     "data": {
      "text/plain": [
       "25-element Vector{Tuple{Float64, SubString}}:\n",
       " (0.18304872917366644, \"st1\")\n",
       " (0.32418133395301874, \"st1\")\n",
       " (0.42962937673558826, \"st1\")\n",
       " (0.8205059019465195, \"st2\")\n",
       " (0.8533169611400817, \"st2\")\n",
       " (0.9529054677557682, \"st1\")\n",
       " (0.9636302296602116, \"st2\")\n",
       " (1.0208796562297833, \"st1\")\n",
       " (1.1300790230053983, \"st1\")\n",
       " (1.1832036918799527, \"st1\")\n",
       " ⋮\n",
       " (1.6808449610470393, \"st2\")\n",
       " (1.6941841241859048, \"st1\")\n",
       " (1.7111897215440317, \"st2\")\n",
       " (1.7177486490598652, \"st2\")\n",
       " (1.8605707354780172, \"st2\")\n",
       " (1.8611077166784153, \"st1\")\n",
       " (1.9427148423650873, \"st1\")\n",
       " (1.9598780802176874, \"st2\")\n",
       " (1.9935731680409337, \"st2\")"
      ]
     },
     "metadata": {},
     "output_type": "display_data"
    }
   ],
   "source": [
    "env = Environment()\n",
    "arrivals_generator(env)"
   ]
  },
  {
   "cell_type": "code",
   "execution_count": 27,
   "metadata": {},
   "outputs": [
    {
     "data": {
      "text/plain": [
       "4-element Vector{Tuple{Float64, String}}:\n",
       " (1.0, \"1\")\n",
       " (2.0, \"4\")\n",
       " (4.0, \"2\")\n",
       " (223.0, \"3\")"
      ]
     },
     "metadata": {},
     "output_type": "display_data"
    }
   ],
   "source": [
    "v = Array{Tuple{Float64,String},1}([(1,\"1\"),(4,\"2\"),(223,\"3\")])\n",
    "sort!(v)\n",
    "insert_and_sort!(v, (2,\"4\"))\n",
    "v"
   ]
  },
  {
   "cell_type": "code",
   "execution_count": 23,
   "metadata": {},
   "outputs": [],
   "source": []
  }
 ],
 "metadata": {
  "kernelspec": {
   "display_name": "Julia 1.7.2",
   "language": "julia",
   "name": "julia-1.7"
  },
  "language_info": {
   "file_extension": ".jl",
   "mimetype": "application/julia",
   "name": "julia",
   "version": "1.7.2"
  },
  "orig_nbformat": 4
 },
 "nbformat": 4,
 "nbformat_minor": 2
}
