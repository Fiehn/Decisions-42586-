{
 "cells": [
  {
   "cell_type": "markdown",
   "metadata": {},
   "source": [
    "# The Real code"
   ]
  },
  {
   "cell_type": "code",
   "execution_count": 1,
   "metadata": {},
   "outputs": [],
   "source": [
    "using Random, Distributions, Plots, XLSX"
   ]
  },
  {
   "cell_type": "markdown",
   "metadata": {},
   "source": [
    "What needs to be done:\n",
    ". the simulation gives a shit ton of unfullfilled values, seems fucked!\n",
    ". Last simulation\n",
    "... Plots\n",
    "\n",
    "!! Rebalance !!\n",
    "!! Global??? !!\n"
   ]
  },
  {
   "cell_type": "markdown",
   "metadata": {},
   "source": [
    "Questions\n",
    ". Weird arrival at midnight\n",
    ". Why the large amount of unfullfilled values?\n",
    ". Should we keep values for every step at every run or just the final statistics at every run?\n"
   ]
  },
  {
   "cell_type": "code",
   "execution_count": 2,
   "metadata": {},
   "outputs": [
    {
     "data": {
      "text/plain": [
       "insert_and_sort! (generic function with 1 method)"
      ]
     },
     "metadata": {},
     "output_type": "display_data"
    }
   ],
   "source": [
    "### Initial functions to load lambda and mu from the ArrivalProfiles.xlsx\n",
    "\n",
    "# Change the type to Float64 from Int and String for the loaded vectors\n",
    "function type_change(v)\n",
    "    v_ny = Vector{Float64}()\n",
    "    for i in 1:length(v)\n",
    "        if typeof(v[i]) == String\n",
    "            push!(v_ny,parse(Float64,v[i]))\n",
    "        elseif typeof(v[i]) == Int64\n",
    "            push!(v_ny,float(v[i]))\n",
    "        else\n",
    "            push!(v_ny,v[i])\n",
    "        end\n",
    "    end\n",
    "    return v_ny\n",
    "end\n",
    "# Dsktop : \n",
    "# C:/Users/rasmu/Desktop/OneDrive/OneDrive - Danmarks Tekniske Universitet/Decisions under uncertainty/Projekt/ArrivalProfiles.xlsx\n",
    "## Laptop : \n",
    "# C:/Users/rasmu/OneDrive - Danmarks Tekniske Universitet/Onedrive/OneDrive - Danmarks Tekniske Universitet/Decisions under uncertainty/Projekt/ArrivalProfiles.xlsx\n",
    "\n",
    "function load_arri(path=\"C:/Users/rasmu/Desktop/OneDrive/OneDrive - Danmarks Tekniske Universitet/Decisions under uncertainty/Projekt/ArrivalProfiles.xlsx\")\n",
    "    xf = XLSX.readxlsx(path) # Loading\n",
    "\n",
    "    # Lambda is given as expected arrivals therefore inverse\n",
    "    lambda_port = 1 ./ type_change(xf[1][\"C2:Z2\"])\n",
    "    lambda_dtu = 1 ./ type_change(xf[1][\"C3:Z3\"])\n",
    "\n",
    "    # Travel time\n",
    "    mu_rammer_dtu = type_change(xf[1][\"C7:Z7\"])\n",
    "    mu_rammer_port = type_change(xf[1][\"C8:Z8\"])\n",
    "\n",
    "    return lambda_port, lambda_dtu, mu_rammer_dtu, mu_rammer_port\n",
    "end\n",
    "\n",
    "\n",
    "# Might not be just as fast as PriorityQueue but it is not that much behind\n",
    "# Inserts a value at the spot it fits\n",
    "function insert_and_sort!(vect::Vector, x)\n",
    "    (splice!(vect, searchsorted(vect,x), [x]); vect) \n",
    "end\n"
   ]
  },
  {
   "cell_type": "code",
   "execution_count": 3,
   "metadata": {},
   "outputs": [],
   "source": [
    "struct Environment # The environment including arrival rates and travel rates\n",
    "    lambda_dtu::Vector{Float64}  #arrival rate 1\n",
    "    mu_rammer_dtu::Vector{Float64} #service rate 1\n",
    "    lambda_port::Vector{Float64} # arrival rate 2\n",
    "    mu_rammer_port::Vector{Float64} #service rate 2\n",
    "    \n",
    "    # loading the vectors from excel\n",
    "    lambda_port, lambda_dtu, mu_rammer_dtu, mu_rammer_port = load_arri() # NEEDS the path to load the document from!\n",
    "    Environment() = new(lambda_port, lambda_dtu, mu_rammer_dtu, mu_rammer_port)\n",
    "end\n",
    "\n",
    "mutable struct Stats # Vector including [Station 1, Station 2]\n",
    "    n_cars::Vector{Int64} # Number of cars at the stations at any given time\n",
    "    un_fullfilled::Vector{Int64} # Amount of times a customer arrives to an empty station\n",
    "    fullfilled::Vector{Int64} # Amount of times a costumer arrives and gets a car\n",
    "    empty_time::Vector{Float64} # The time any given station has 0 cars\n",
    "    currently_empty::Vector{Bool} # Is the station empty\n",
    "end\n",
    "\n",
    "struct Balance\n",
    "    desired::Array{Tuple{Int64,Int64},1}\n",
    "    rebalance_times::Vector{Float64}\n",
    "end\n"
   ]
  },
  {
   "cell_type": "code",
   "execution_count": 4,
   "metadata": {},
   "outputs": [
    {
     "data": {
      "text/plain": [
       "rebalancing (generic function with 1 method)"
      ]
     },
     "metadata": {},
     "output_type": "display_data"
    }
   ],
   "source": [
    "\n",
    "function time_change(e::Array{Tuple{Float64,String},1},day::Int64)\n",
    "    # Switch day and reset index\n",
    "    if k == 24\n",
    "        global k = 0\n",
    "        global day += 24\n",
    "    end\n",
    "    # Insert the next time change\n",
    "    popfirst!(e)[1]\n",
    "    insert_and_sort!(e,(k+day,\"time_change\"))\n",
    "\n",
    "    # Change index for time\n",
    "    global k += 1\n",
    "\n",
    "end\n",
    "\n",
    "function arrival_student(station::Int64,e::Array{Tuple{Float64,String},1},env::Environment,stat::Stats)\n",
    "    \n",
    "    # Insert next arrival based on previous arrival\n",
    "    if station == 1\n",
    "        insert_and_sort!(e,(rand(Exponential(env.lambda_dtu[k]))+e[1][1],\"st1\"))\n",
    "    elseif station == 2\n",
    "        insert_and_sort!(e,(rand(Exponential(env.lambda_port[k]))+e[1][1],\"st2\"))\n",
    "    end\n",
    "\n",
    "    if stat.currently_empty[station] == true # Student arrives at empty station. That is one unsatisfied costumer :(\n",
    "        stat.un_fullfilled[station] += 1\n",
    "        popfirst!(e)\n",
    "        \n",
    "    else # Costumer leaves station\n",
    "        stat.n_cars[station] -= 1 # removing car from station\n",
    "        stat.fullfilled[station] += 1 # one fullfilled request\n",
    "        \n",
    "        # Insert travel time based on arrival station\n",
    "        if station == 1\n",
    "            insert_and_sort!(e,(rand(Exponential(env.mu_rammer_port[k]))+e[1][1],\"que_st2\")) \n",
    "        elseif station == 2\n",
    "            insert_and_sort!(e,(rand(Exponential(env.mu_rammer_dtu[k]))+e[1][1],\"que_st1\")) \n",
    "        end\n",
    "\n",
    "        if stat.n_cars[station] == 0 # station becomes empty\n",
    "            stat.empty_time[station] -= popfirst!(e)[1] # Empty station timer starts \n",
    "            stat.currently_empty[station] = true\n",
    "        else\n",
    "            popfirst!(e)\n",
    "        end\n",
    "    end \n",
    "\n",
    "end \n",
    "\n",
    "function arrival_vehicle(station::Int64,e::Array{Tuple{Float64,String},1},env::Environment,stat::Stats)\n",
    "\n",
    "    if stat.currently_empty[station] == true # Arriving at an empty station\n",
    "        stat.n_cars[station] += 1 # arrive\n",
    "        stat.empty_time[station] += popfirst!(e)[1] # End empty timer\n",
    "        stat.currently_empty[station] = false\n",
    "    else\n",
    "        stat.n_cars[station] += 1 # arrive\n",
    "        popfirst!(e)\n",
    "    end\n",
    "\n",
    "end\n",
    "\n",
    "\n",
    "function rebalancing(rebal::Balance,stat::Stats,env::Environment,e::Array{Tuple{Float64,String},1})\n",
    "    # NEEDS Documentation and a serious debugging\n",
    "\n",
    "    # This is slow, do it globally\n",
    "    travel_count_1 = 0\n",
    "    travel_count_2 = 0\n",
    "    for i in 1:length(e)\n",
    "       if e[i][2] == \"que_st1\"\n",
    "           travel_count_1 += 1\n",
    "       elseif e[i][2] == \"que_st2\"\n",
    "           travel_count_2 += 1\n",
    "       end\n",
    "    end\n",
    "\n",
    "    if travel_count_1 + stat.n_cars[1] >= rebal.desired[rebalance_action][1]\n",
    "        if stat.n_cars[1] <= (travel_count_1 + stat.n_cars[1])-rebal.desired[rebalance_action][1] # Hmmm\n",
    "            for i in 1:stat.n_cars[1]\n",
    "                insert_and_sort!(e,(rand(Exponential(env.mu_rammer_port[k]))+e[1][1],\"que_st2\"))\n",
    "                stat.n_cars[1] -= 1\n",
    "            end \n",
    "            stat.currently_empty[1] = true\n",
    "            stat.empty_time[1] -= e[1][1]\n",
    "        else\n",
    "            for i in 1:(travel_count_1 + stat.n_cars[1])-rebal.desired[rebalance_action][1]\n",
    "                insert_and_sort!(e,(rand(Exponential(env.mu_rammer_port[k]))+e[1][1],\"que_st2\"))\n",
    "                stat.n_cars[1] -= 1\n",
    "            end\n",
    "            \n",
    "        end\n",
    "\n",
    "    elseif travel_count_2 + stat.n_cars[2] >= rebal.desired[rebalance_action][2]\n",
    "        if stat.n_cars[2] <= (travel_count_2 + stat.n_cars[2])-rebal.desired[rebalance_action][2] # Hmmm\n",
    "            for i in 1:stat.n_cars[2]\n",
    "                insert_and_sort!(e,(rand(Exponential(env.mu_rammer_dtu[k]))+e[1][1],\"que_st1\"))\n",
    "                stat.n_cars[2] -= 1\n",
    "            end \n",
    "            stat.currently_empty[2] = true\n",
    "            stat.empty_time[2] -= e[1][1]\n",
    "        else\n",
    "            for i in 1:(travel_count_2 + stat.n_cars[2])-rebal.desired[rebalance_action][2]\n",
    "                insert_and_sort!(e,(rand(Exponential(env.mu_rammer_dtu[k]))+e[1][1],\"que_st1\"))\n",
    "                stat.n_cars[2] -= 1\n",
    "            end\n",
    "        end\n",
    "    else\n",
    "        throw(ErrorException(\"Error in rebalance!\"))\n",
    "\n",
    "    end\n",
    "\n",
    "    # Adding the next reblance event one day later\n",
    "    insert_and_sort!(e,(24.0+popfirst!(e)[1],\"rebalance\"))\n",
    "\n",
    "\n",
    "    if rebalance_action == length(rebal.desired)\n",
    "        global rebalance_action = 1\n",
    "    else\n",
    "        global rebalance_action += 1\n",
    "    end\n",
    "\n",
    "end\n",
    "\n",
    "# HVAD FUUUUCK"
   ]
  },
  {
   "cell_type": "code",
   "execution_count": 5,
   "metadata": {},
   "outputs": [
    {
     "data": {
      "text/plain": [
       "sim (generic function with 1 method)"
      ]
     },
     "metadata": {},
     "output_type": "display_data"
    }
   ],
   "source": [
    "function sim(days_to_run::Int64,initial_n_cars::Vector{Int64}, rebal::Balance, env::Environment)\n",
    "\n",
    "    ###########\n",
    "    # Initial Misc\n",
    "    stat = Stats([initial_n_cars[1],initial_n_cars[2]],[0,0],[0,0],[0,0],[false,false])\n",
    "    e = Array{Tuple{Float64,String},1}()\n",
    "    runs = 0\n",
    "    \n",
    "    ###########\n",
    "    # arrival and travel rates\n",
    "    insert_and_sort!(e,(0.0,\"time_change\")) # THIS NEEDS TO BE FIXED!!!!!!!!\n",
    "    global k = 1\n",
    "    global day = 0\n",
    "    \n",
    "    ###########\n",
    "    # Arrivals\n",
    "    insert_and_sort!(e,(rand(Exponential(env.lambda_dtu[k])),\"st1\"))\n",
    "    insert_and_sort!(e,(rand(Exponential(env.lambda_port[k])),\"st2\"))\n",
    "    \n",
    "    ###########\n",
    "    # Rebalance\n",
    "    global rebalance_action = 1\n",
    "    for i in 1:length(rebal.rebalance_times)\n",
    "        insert_and_sort!(e,(rebal.rebalance_times[i],\"rebalance\"))\n",
    "    end\n",
    "\n",
    "\n",
    "    while e[1][1] <= days_to_run*24.0 && runs <= 100000\n",
    "        load_type = e[1][2]\n",
    "        if load_type == \"st1\"\n",
    "            arrival_student(1,e,env,stat)\n",
    "        elseif load_type == \"st2\"\n",
    "            arrival_student(2,e,env,stat)\n",
    "        elseif load_type == \"que_st1\"\n",
    "            arrival_vehicle(1,e,env,stat)\n",
    "        elseif load_type == \"que_st2\"\n",
    "            arrival_vehicle(2,e,env,stat)\n",
    "        elseif load_type == \"time_change\"\n",
    "            time_change(e,day)\n",
    "        elseif load_type == \"rebalance\"\n",
    "            rebalancing(rebal,stat,env,e)\n",
    "        else\n",
    "            throw(ErrorException(\"Issue in the event type!\"))\n",
    "        end\n",
    "        runs += 1 # Checks the amount of events\n",
    "    end\n",
    "    \n",
    "    # Make sure the empty timer stops at the end of the run\n",
    "    if stat.currently_empty[1] == true\n",
    "        stat.empty_time[1] += e[1][1]\n",
    "    elseif stat.currently_empty[2] == true\n",
    "        stat.empty_time[2] += e[1][1]\n",
    "    end\n",
    "    \n",
    "    return stat.n_cars,stat.un_fullfilled,stat.fullfilled,stat.empty_time,runs\n",
    "end"
   ]
  },
  {
   "cell_type": "markdown",
   "metadata": {},
   "source": [
    "### Testing"
   ]
  },
  {
   "cell_type": "code",
   "execution_count": 6,
   "metadata": {},
   "outputs": [
    {
     "data": {
      "text/plain": [
       "main (generic function with 1 method)"
      ]
     },
     "metadata": {},
     "output_type": "display_data"
    }
   ],
   "source": [
    "\n",
    "function main(initial_n_cars::Vector{Int64},days_to_run::Int64,n_of_runs::Int64,rebalance::Tuple{Vector{Tuple{Int64, Int64}}, Vector{Float64}})\n",
    "    env = Environment()\n",
    "    rebal = Balance(rebalance[1],rebalance[2])\n",
    "    overview = []\n",
    "    efficiancy = []\n",
    "\n",
    "    for i in 1:n_of_runs\n",
    "        a = sim(days_to_run,initial_n_cars,rebal,env)\n",
    "        overview = [overview;a]\n",
    "        # NEeds final stats\n",
    "    \n",
    "        efficiancy_fullfilled = [a[3][1]/(a[3][1]+a[2][1]), a[3][2]/(a[3][2]+a[2][2]) ]\n",
    "        efficiancy_emptytime = [a[4][1]/(days_to_run*24),a[4][2]/(days_to_run*24)]\n",
    "\n",
    "        print(\"Efficiancy percentage for station 1 is \")\n",
    "        printstyled(round(efficiancy_fullfilled[1]*100,digits=2),\"%\"; color=:blue)\n",
    "        print(\" and \")\n",
    "        printstyled(round(efficiancy_fullfilled[2]*100,digits=2),\"%\"; color=:blue)\n",
    "        print(\" for station 2. Percentage of time spent empty for station 1 is \")\n",
    "        printstyled(round(efficiancy_emptytime[1]*100,digits=2),\"%\"; color=:blue)\n",
    "        print(\" and \")\n",
    "        printstyled(round(efficiancy_emptytime[2]*100,digits=2),\"%\"; color=:blue)\n",
    "        println(\" for station 2.\")\n",
    "\n",
    "        efficiancy = [efficiancy; [efficiancy_fullfilled]]\n",
    "    end\n",
    "    \n",
    "    return overview, efficiancy\n",
    "end"
   ]
  },
  {
   "cell_type": "code",
   "execution_count": 39,
   "metadata": {},
   "outputs": [
    {
     "data": {
      "text/plain": [
       "([36, 60], [932, 0], [1616, 941], [44.020921527080645, 0.0], 7849)"
      ]
     },
     "metadata": {},
     "output_type": "display_data"
    }
   ],
   "source": [
    "########### User manual ############\n",
    "##### Inputs: main(1,2,3,4)\n",
    "# 1: [initial cars at station 1, initial cars at station 2] (Int,Int)\n",
    "# 2: days to run each simulation (Int)\n",
    "# 3: Amount simulations to run (Int)\n",
    "# 4: ( [(Desired amount at station 1 for first reblance, station 2 at first rebalance), (station 1 at second, station 2 at second), ..., (station 1 at n rebalance, station 2 at n)], [time of first rebalance, ..., time at n event] ) (Tuple(Int,Int),Float)\n",
    "\n",
    "\n",
    "rebal = Balance([(60,60),(60,60)],[0.0,12.0])\n",
    "env = Environment()\n",
    "\n",
    "sim(20,[60,60],rebal,env)\n",
    "\n",
    "\n",
    "# main([100,100],100,20,([(130,70),(50,150)],[6.5,13.5]))\n",
    "#main([90,20],100,10,([(90,20)],[23.9]))\n",
    "\n",
    "# Der er for mange unfullfilled for station 1\n",
    "# Empty time for station 2 er for høj relativt til station 1\n",
    "\n"
   ]
  },
  {
   "cell_type": "code",
   "execution_count": null,
   "metadata": {},
   "outputs": [],
   "source": [
    "# Tjekker start distribution, virker som om den er stortset irrelevant\n",
    "\n",
    "effic_st1 = []\n",
    "effic_st2 = []\n",
    "position = []\n",
    "for n in 60:60\n",
    "    for i in 1:10:(n-1)\n",
    "        _, effic = main([i,n-i],100,n, ([(100,20),(40,80)],[7.0,13.0]) )\n",
    "        total_effic = [effic[1][1],effic[1][2]]\n",
    "        for j in 2:n\n",
    "            total_effic = [effic[j][1]+total_effic[1],effic[j][2]+total_effic[2]]\n",
    "        end\n",
    "        \n",
    "        push!(effic_st1,total_effic[1]/n)\n",
    "        push!(effic_st2,total_effic[2]/n)\n",
    "        push!(position,[i,n-i,n])\n",
    "\n",
    "    end\n",
    "end\n",
    "\n",
    "println(findmax(effic_st1),\" for station1\")\n",
    "println(findmax(effic_st2),\" for station2\")\n",
    "println(position[findmax(effic_st1)[2]],\" for station1\")\n",
    "println(position[findmax(effic_st2)[2]],\" for station2\")\n"
   ]
  },
  {
   "cell_type": "code",
   "execution_count": 300,
   "metadata": {},
   "outputs": [
    {
     "ename": "UndefVarError",
     "evalue": "UndefVarError: c not defined",
     "output_type": "error",
     "traceback": [
      "UndefVarError: c not defined\n",
      "\n",
      "Stacktrace:\n",
      "  [1] top-level scope\n",
      "    @ c:\\Users\\rasmu\\Desktop\\OneDrive\\OneDrive - Danmarks Tekniske Universitet\\Decisions under uncertainty\\Projekt\\Simulation attempt.ipynb:19\n",
      "  [2] eval\n",
      "    @ .\\boot.jl:373 [inlined]\n",
      "  [3] include_string(mapexpr::typeof(REPL.softscope), mod::Module, code::String, filename::String)\n",
      "    @ Base .\\loading.jl:1196\n",
      "  [4] #invokelatest#2\n",
      "    @ .\\essentials.jl:716 [inlined]\n",
      "  [5] invokelatest\n",
      "    @ .\\essentials.jl:714 [inlined]\n",
      "  [6] (::VSCodeServer.var\"#164#165\"{VSCodeServer.NotebookRunCellArguments, String})()\n",
      "    @ VSCodeServer c:\\Users\\rasmu\\.vscode\\extensions\\julialang.language-julia-1.6.17\\scripts\\packages\\VSCodeServer\\src\\serve_notebook.jl:19\n",
      "  [7] withpath(f::VSCodeServer.var\"#164#165\"{VSCodeServer.NotebookRunCellArguments, String}, path::String)\n",
      "    @ VSCodeServer c:\\Users\\rasmu\\.vscode\\extensions\\julialang.language-julia-1.6.17\\scripts\\packages\\VSCodeServer\\src\\repl.jl:184\n",
      "  [8] notebook_runcell_request(conn::VSCodeServer.JSONRPC.JSONRPCEndpoint{Base.PipeEndpoint, Base.PipeEndpoint}, params::VSCodeServer.NotebookRunCellArguments)\n",
      "    @ VSCodeServer c:\\Users\\rasmu\\.vscode\\extensions\\julialang.language-julia-1.6.17\\scripts\\packages\\VSCodeServer\\src\\serve_notebook.jl:13\n",
      "  [9] dispatch_msg(x::VSCodeServer.JSONRPC.JSONRPCEndpoint{Base.PipeEndpoint, Base.PipeEndpoint}, dispatcher::VSCodeServer.JSONRPC.MsgDispatcher, msg::Dict{String, Any})\n",
      "    @ VSCodeServer.JSONRPC c:\\Users\\rasmu\\.vscode\\extensions\\julialang.language-julia-1.6.17\\scripts\\packages\\JSONRPC\\src\\typed.jl:67\n",
      " [10] serve_notebook(pipename::String, outputchannel_logger::Base.CoreLogging.SimpleLogger; crashreporting_pipename::String)\n",
      "    @ VSCodeServer c:\\Users\\rasmu\\.vscode\\extensions\\julialang.language-julia-1.6.17\\scripts\\packages\\VSCodeServer\\src\\serve_notebook.jl:136\n",
      " [11] top-level scope\n",
      "    @ c:\\Users\\rasmu\\.vscode\\extensions\\julialang.language-julia-1.6.17\\scripts\\notebook\\notebook.jl:32\n",
      " [12] include(mod::Module, _path::String)\n",
      "    @ Base .\\Base.jl:418\n",
      " [13] exec_options(opts::Base.JLOptions)\n",
      "    @ Base .\\client.jl:292\n",
      " [14] _start()\n",
      "    @ Base .\\client.jl:495"
     ]
    }
   ],
   "source": [
    "# Only rebalance amount\n",
    "effic_st1 = []\n",
    "effic_st2 = []\n",
    "position = []\n",
    "n = 60\n",
    "\n",
    "\n",
    "for i in 1:20:n*2\n",
    "    for j in 1:20:n*2\n",
    "        _, effic = main([n,n],100,30, ([(i,n*2-i),(j,n*2-j)],[2.0,15.0]) )\n",
    "        total_effic = [effic[1][1],effic[1][2]]\n",
    "        for p in 2:30-1\n",
    "            total_effic = [effic[p][1]+total_effic[1],effic[p][2]+total_effic[2]]\n",
    "        end\n",
    "        \n",
    "        push!(effic_st1,total_effic[1]/30)\n",
    "        push!(effic_st2,total_effic[2]/30)\n",
    "        push!(position,[[i,n*2-i],[j,n*2-j]])\n",
    "        push!(times,[float(k),float(c)])\n",
    "    end\n",
    "end"
   ]
  },
  {
   "cell_type": "code",
   "execution_count": 299,
   "metadata": {},
   "outputs": [
    {
     "ename": "UndefVarError",
     "evalue": "UndefVarError: i not defined",
     "output_type": "error",
     "traceback": [
      "UndefVarError: i not defined\n",
      "\n",
      "Stacktrace:\n",
      "  [1] top-level scope\n",
      "    @ c:\\Users\\rasmu\\Desktop\\OneDrive\\OneDrive - Danmarks Tekniske Universitet\\Decisions under uncertainty\\Projekt\\Simulation attempt.ipynb:14\n",
      "  [2] eval\n",
      "    @ .\\boot.jl:373 [inlined]\n",
      "  [3] include_string(mapexpr::typeof(REPL.softscope), mod::Module, code::String, filename::String)\n",
      "    @ Base .\\loading.jl:1196\n",
      "  [4] #invokelatest#2\n",
      "    @ .\\essentials.jl:716 [inlined]\n",
      "  [5] invokelatest\n",
      "    @ .\\essentials.jl:714 [inlined]\n",
      "  [6] (::VSCodeServer.var\"#164#165\"{VSCodeServer.NotebookRunCellArguments, String})()\n",
      "    @ VSCodeServer c:\\Users\\rasmu\\.vscode\\extensions\\julialang.language-julia-1.6.17\\scripts\\packages\\VSCodeServer\\src\\serve_notebook.jl:19\n",
      "  [7] withpath(f::VSCodeServer.var\"#164#165\"{VSCodeServer.NotebookRunCellArguments, String}, path::String)\n",
      "    @ VSCodeServer c:\\Users\\rasmu\\.vscode\\extensions\\julialang.language-julia-1.6.17\\scripts\\packages\\VSCodeServer\\src\\repl.jl:184\n",
      "  [8] notebook_runcell_request(conn::VSCodeServer.JSONRPC.JSONRPCEndpoint{Base.PipeEndpoint, Base.PipeEndpoint}, params::VSCodeServer.NotebookRunCellArguments)\n",
      "    @ VSCodeServer c:\\Users\\rasmu\\.vscode\\extensions\\julialang.language-julia-1.6.17\\scripts\\packages\\VSCodeServer\\src\\serve_notebook.jl:13\n",
      "  [9] dispatch_msg(x::VSCodeServer.JSONRPC.JSONRPCEndpoint{Base.PipeEndpoint, Base.PipeEndpoint}, dispatcher::VSCodeServer.JSONRPC.MsgDispatcher, msg::Dict{String, Any})\n",
      "    @ VSCodeServer.JSONRPC c:\\Users\\rasmu\\.vscode\\extensions\\julialang.language-julia-1.6.17\\scripts\\packages\\JSONRPC\\src\\typed.jl:67\n",
      " [10] serve_notebook(pipename::String, outputchannel_logger::Base.CoreLogging.SimpleLogger; crashreporting_pipename::String)\n",
      "    @ VSCodeServer c:\\Users\\rasmu\\.vscode\\extensions\\julialang.language-julia-1.6.17\\scripts\\packages\\VSCodeServer\\src\\serve_notebook.jl:136\n",
      " [11] top-level scope\n",
      "    @ c:\\Users\\rasmu\\.vscode\\extensions\\julialang.language-julia-1.6.17\\scripts\\notebook\\notebook.jl:32\n",
      " [12] include(mod::Module, _path::String)\n",
      "    @ Base .\\Base.jl:418\n",
      " [13] exec_options(opts::Base.JLOptions)\n",
      "    @ Base .\\client.jl:292\n",
      " [14] _start()\n",
      "    @ Base .\\client.jl:495"
     ]
    }
   ],
   "source": [
    "effic_st1 = []\n",
    "effic_st2 = []\n",
    "position = []\n",
    "n = 110\n",
    "for j in 1:10:n*2\n",
    "    _, effic = main([n,n],100,30, ([(j,n*2-j)],[0.0]) )\n",
    "    total_effic = [effic[1][1],effic[1][2]]\n",
    "    for p in 2:30-1\n",
    "        total_effic = [effic[p][1]+total_effic[1],effic[p][2]+total_effic[2]]\n",
    "    end\n",
    "    \n",
    "    push!(effic_st1,total_effic[1]/30)\n",
    "    push!(effic_st2,total_effic[2]/30)\n",
    "    push!(position,[[i,n*2-i],[j,n*2-j]])\n",
    "\n",
    "end"
   ]
  },
  {
   "cell_type": "code",
   "execution_count": 21,
   "metadata": {},
   "outputs": [
    {
     "data": {
      "text/plain": [
       "0.0"
      ]
     },
     "metadata": {},
     "output_type": "display_data"
    }
   ],
   "source": []
  },
  {
   "cell_type": "markdown",
   "metadata": {},
   "source": [
    "## Redundant\n"
   ]
  },
  {
   "cell_type": "code",
   "execution_count": 165,
   "metadata": {},
   "outputs": [
    {
     "data": {
      "text/plain": [
       "sim_uden_rebalance (generic function with 1 method)"
      ]
     },
     "metadata": {},
     "output_type": "display_data"
    }
   ],
   "source": [
    "function sim_uden_rebalance(days_to_run::Int64,initial_n_cars::Vector{Int64}, env::Environment)\n",
    "\n",
    "    ###########\n",
    "    # Initial Misc\n",
    "    stat = Stats([initial_n_cars[1],initial_n_cars[2]],[0,0],[0,0],[0,0],[false,false])\n",
    "    e = Array{Tuple{Float64,String},1}()\n",
    "    runs = 0\n",
    "    \n",
    "    ###########\n",
    "    # arrival and travel rates\n",
    "    insert_and_sort!(e,(0.0,\"time_change\")) # THIS NEEDS TO BE FIXED!!!!!!!!\n",
    "    global k = 1\n",
    "    global day = 0\n",
    "    \n",
    "    ###########\n",
    "    # Arrivals\n",
    "    insert_and_sort!(e,(rand(Exponential(env.lambda_dtu[k])),\"st1\"))\n",
    "    insert_and_sort!(e,(rand(Exponential(env.lambda_port[k])),\"st2\"))\n",
    "\n",
    "\n",
    "    while e[1][1] <= days_to_run*24.0 && runs <= 100000\n",
    "        load_type = e[1][2]\n",
    "        if load_type == \"st1\"\n",
    "            arrival_student(1,e,env,stat)\n",
    "        elseif load_type == \"st2\"\n",
    "            arrival_student(2,e,env,stat)\n",
    "        elseif load_type == \"que_st1\"\n",
    "            arrival_vehicle(1,e,env,stat)\n",
    "        elseif load_type == \"que_st2\"\n",
    "            arrival_vehicle(2,e,env,stat)\n",
    "        elseif load_type == \"time_change\"\n",
    "            time_change(e,day)\n",
    "        else\n",
    "            throw(ErrorException(\"Issue in the event type!\"))\n",
    "        end\n",
    "        runs += 1 # Checks the amount of events\n",
    "    end\n",
    "    \n",
    "    # Make sure the empty timer stops at the end of the run\n",
    "    if stat.currently_empty[1] == true\n",
    "        stat.empty_time[1] += e[1][1]\n",
    "    elseif stat.currently_empty[2] == true\n",
    "        stat.empty_time[2] += e[1][1]\n",
    "    end\n",
    "    \n",
    "    return stat.n_cars,stat.un_fullfilled,stat.fullfilled,stat.empty_time,runs\n",
    "end"
   ]
  },
  {
   "cell_type": "code",
   "execution_count": 188,
   "metadata": {},
   "outputs": [
    {
     "data": {
      "text/plain": [
       "([2, 56], [1600, 136], [833, 807], [127.3369999523511, 68.93927664246212], 5495)"
      ]
     },
     "metadata": {},
     "output_type": "display_data"
    }
   ],
   "source": [
    "sim_uden_rebalance(20,[30,30],Environment())"
   ]
  },
  {
   "cell_type": "code",
   "execution_count": null,
   "metadata": {},
   "outputs": [],
   "source": [
    "\n",
    "    if stat.n_cars[1] >= rebal.desired[rebalance_action][2]\n",
    "        for i in 1:rebal.desired[rebalance_action][1]\n",
    "            insert_and_sort!(e,(rand(Exponential(env.mu_rammer_dtu[k]))+e[1][1],\"que_st1\")) \n",
    "            stat.n_cars[2] -= 1\n",
    "        end\n",
    "        \n",
    "        # Start empty timer\n",
    "        if stat.n_cars[2] == 0\n",
    "            stat.empty_time[2] -= e[1][1]\n",
    "            stat.currently_empty[2] = true\n",
    "        end\n",
    "\n",
    "    else\n",
    "        for i in 1:stat.n_cars[2]\n",
    "            insert_and_sort!(e,(rand(Exponential(env.mu_rammer_dtu[k]))+e[1][1],\"que_st1\"))\n",
    "            stat.n_cars[2] -= 1\n",
    "        end\n",
    "        if stat.currently_empty[2] == false\n",
    "            stat.empty_time[2] -= e[1][1]\n",
    "            stat.currently_empty[2] = true\n",
    "        end\n",
    "    end\n",
    "\n",
    "    # For station 1\n",
    "    if stat.n_cars[1] >= rebal.desired[rebalance_action][2]\n",
    "        for i in 1:rebal.desired[rebalance_action][2]\n",
    "            insert_and_sort!(e,(rand(Exponential(env.mu_rammer_port[k]))+e[1][1],\"que_st2\"))\n",
    "            stat.n_cars[1] -= 1\n",
    "        end\n",
    "        \n",
    "        # Start empty timer\n",
    "        if stat.n_cars[1] == 0\n",
    "            stat.empty_time[1] -= e[1][1]\n",
    "            stat.currently_empty[1] = true\n",
    "        end\n",
    "    else\n",
    "        for i in 1:stat.n_cars[1]\n",
    "            insert_and_sort!(e,(rand(Exponential(env.mu_rammer_port[k]))+e[1][1],\"que_st2\"))\n",
    "            stat.n_cars[1] -= 1\n",
    "        end\n",
    "        if stat.currently_empty[1] == false\n",
    "            stat.empty_time[1] -= e[1][1]\n",
    "            stat.currently_empty[1] = true\n",
    "        end\n",
    "    end \n",
    "\n",
    "    insert_and_sort!(e,(24.0+popfirst!(e)[1],\"rebalance\"))\n",
    "\n",
    "    # Virkelig grim måde at gøre det på \n",
    "    if rebalance_action == length(rebal.desired)\n",
    "        rebalance_action = 1\n",
    "    else\n",
    "        rebalance_action += 1\n",
    "    end"
   ]
  }
 ],
 "metadata": {
  "kernelspec": {
   "display_name": "Julia 1.7.2",
   "language": "julia",
   "name": "julia-1.7"
  },
  "language_info": {
   "file_extension": ".jl",
   "mimetype": "application/julia",
   "name": "julia",
   "version": "1.7.2"
  },
  "orig_nbformat": 4
 },
 "nbformat": 4,
 "nbformat_minor": 2
}
