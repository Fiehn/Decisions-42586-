{
 "cells": [
  {
   "cell_type": "markdown",
   "metadata": {},
   "source": [
    "# The Real code"
   ]
  },
  {
   "cell_type": "code",
   "execution_count": 1,
   "metadata": {},
   "outputs": [],
   "source": [
    "using Random, Distributions, Plots, XLSX"
   ]
  },
  {
   "cell_type": "markdown",
   "metadata": {},
   "source": [
    "What needs to be done:\n",
    ". Statistics along the way\n",
    ". the simulation gives a shit ton of unfullfilled values, seems fucked!\n",
    ". Last simulation\n",
    "... Plots\n"
   ]
  },
  {
   "cell_type": "markdown",
   "metadata": {},
   "source": [
    "Questions\n",
    ". Weird arrival at midnight\n",
    ". Why the large amount of unfullfilled values?\n",
    ". Should we keep values for every step at every run or just the final statistics at every run?\n"
   ]
  },
  {
   "cell_type": "code",
   "execution_count": 2,
   "metadata": {},
   "outputs": [
    {
     "data": {
      "text/plain": [
       "insert_and_sort! (generic function with 1 method)"
      ]
     },
     "metadata": {},
     "output_type": "display_data"
    }
   ],
   "source": [
    "### Initial functions to load lambda and mu from the ArrivalProfiles.xlsx\n",
    "\n",
    "# Change the type to Float64 from Int and String for the loaded vectors\n",
    "function type_change(v)\n",
    "    v_ny = Vector{Float64}()\n",
    "    for i in 1:length(v)\n",
    "        if typeof(v[i]) == String\n",
    "            push!(v_ny,parse(Float64,v[i]))\n",
    "        elseif typeof(v[i]) == Int64\n",
    "            push!(v_ny,float(v[i]))\n",
    "        else\n",
    "            push!(v_ny,v[i])\n",
    "        end\n",
    "    end\n",
    "    return v_ny\n",
    "end\n",
    "\n",
    "\n",
    "function load_arri(path=\"C:/Users/rasmu/Desktop/OneDrive/OneDrive - Danmarks Tekniske Universitet/Decisions under uncertainty/Projekt/ArrivalProfiles.xlsx\")\n",
    "    xf = XLSX.readxlsx(path) # Loading\n",
    "\n",
    "    # Lambda is given as expected arrivals therefore inverse\n",
    "    lambda_port = 1 ./ type_change(xf[1][\"C2:AA2\"])\n",
    "    lambda_dtu = 1 ./ type_change(xf[1][\"C3:AA3\"])\n",
    "\n",
    "    # Travel time\n",
    "    mu_rammer_dtu = type_change(xf[1][\"C7:AA7\"])\n",
    "    mu_rammer_port = type_change(xf[1][\"C8:AA8\"])\n",
    "\n",
    "    return lambda_port, lambda_dtu, mu_rammer_dtu, mu_rammer_port\n",
    "end\n",
    "\n",
    "\n",
    "# Might not be just as fast as PriorityQueue but it is not that much behind\n",
    "# Inserts a value at the spot it fits\n",
    "function insert_and_sort!(vect::Vector, x)\n",
    "    (splice!(vect, searchsorted(vect,x), [x]); vect) \n",
    "end\n"
   ]
  },
  {
   "cell_type": "code",
   "execution_count": 3,
   "metadata": {},
   "outputs": [],
   "source": [
    "struct Environment # The environment including arrival rates and travel rates\n",
    "    lambda_dtu::Vector{Float64}  #arrival rate 1\n",
    "    mu_rammer_dtu::Vector{Float64} #service rate 1\n",
    "    lambda_port::Vector{Float64} # arrival rate 2\n",
    "    mu_rammer_port::Vector{Float64} #service rate 2\n",
    "    \n",
    "    # loading the vectors from excel\n",
    "    lambda_port, lambda_dtu, mu_rammer_dtu, mu_rammer_port = load_arri() # NEEDS the path to load the document from!\n",
    "    Environment() = new(lambda_port, lambda_dtu, mu_rammer_dtu, mu_rammer_port)\n",
    "end\n",
    "\n",
    "mutable struct Stats # Vector including [Station 1, Station 2]\n",
    "    n_cars::Vector{Int64} # Number of cars at the stations at any given time\n",
    "    un_fullfilled::Vector{Int64} # Amount of times a customer arrives to an empty station\n",
    "    fullfilled::Vector{Int64} # Amount of times a costumer arrives and gets a car\n",
    "    empty_time::Vector{Float64} # The time any given station has 0 cars\n",
    "    currently_empty::Vector{Bool} # Is the station empty\n",
    "end\n",
    "\n",
    "struct Balance\n",
    "    desired_n_st1::Int64\n",
    "    desired_n_st2::Int64\n",
    "    rebalance_times::Vector{Float64}\n",
    "end\n"
   ]
  },
  {
   "cell_type": "code",
   "execution_count": 4,
   "metadata": {},
   "outputs": [
    {
     "data": {
      "text/plain": [
       "rebalancing (generic function with 1 method)"
      ]
     },
     "metadata": {},
     "output_type": "display_data"
    }
   ],
   "source": [
    "# Do this:\n",
    "# stats.overview_usage = [stats.overview_usage; t state.queue_length state.server_busy]\n",
    "# Real nice, steal that shit!\n",
    "\n",
    "function time_change(e::Array{Tuple{Float64,String},1},k::Int64,day::Int64) # problems\n",
    "    # Switch day and reset index\n",
    "    if k == 25\n",
    "        k = 0\n",
    "        day += 25\n",
    "    end\n",
    "    # Insert the next time change\n",
    "    popfirst!(e)[1]\n",
    "    insert_and_sort!(e,(k+day,\"time_change\"))\n",
    "\n",
    "    # Change index for time\n",
    "    k += 1\n",
    "    return k,day\n",
    "end\n",
    "\n",
    "function arrival(station::Int64,e::Array{Tuple{Float64,String},1},env::Environment,stat::Stats,k::Int64)\n",
    "    \n",
    "    # Insert next arrival based on previous arrival\n",
    "    if station == 1\n",
    "        insert_and_sort!(e,(rand(Exponential(env.lambda_dtu[k]))+e[1][1],\"st1\"))\n",
    "    elseif station == 2\n",
    "        insert_and_sort!(e,(rand(Exponential(env.lambda_dtu[k]))+e[1][1],\"st2\"))\n",
    "    end\n",
    "\n",
    "    if stat.n_cars[station] == 0 && stat.currently_empty[station] == false || stat.currently_empty[station] == true # Student arrives at empty station. That is one unsatisfied costumer :(\n",
    "        stat.un_fullfilled[station] += 1\n",
    "        popfirst!(e)\n",
    "        stat.currently_empty[station] = true\n",
    "        \n",
    "    else # Costumer leaves station\n",
    "        stat.n_cars[station] -= 1 # removing car from station\n",
    "        stat.fullfilled[station] += 1 # one fullfilled request\n",
    "        \n",
    "        # Insert travel time based on arrival station\n",
    "        if station == 1\n",
    "            insert_and_sort!(e,(rand(Exponential(env.mu_rammer_port[k]))+e[1][1],\"que_st2\")) \n",
    "        elseif station == 2\n",
    "            insert_and_sort!(e,(rand(Exponential(env.mu_rammer_port[k]))+e[1][1],\"que_st1\")) \n",
    "        end\n",
    "\n",
    "        # Removing the occured event\n",
    "        if stat.n_cars[station] == 0 # station becomes empty\n",
    "            stat.empty_time[station] -= popfirst!(e)[1] # Empty station timer starts \n",
    "            stat.currently_empty[station] = true\n",
    "        else\n",
    "            popfirst!(e)\n",
    "        end\n",
    "    end \n",
    "\n",
    "end \n",
    "\n",
    "function travel(station::Int64,e::Array{Tuple{Float64,String},1},env::Environment,stat::Stats)\n",
    "\n",
    "    if stat.currently_empty[station] == true # Arriving at an empty station\n",
    "        stat.n_cars[station] += 1 # arrive\n",
    "        stat.empty_time[station] += popfirst!(e)[1] # End empty timer\n",
    "        stat.currently_empty[station] = false\n",
    "    else\n",
    "        stat.n_cars[station] += 1 # arrive\n",
    "        popfirst!(e)\n",
    "    end\n",
    "\n",
    "end\n",
    "\n",
    "\n",
    "function rebalancing(rebal::Balance,stat::Stats,env::Environment,e::Array{Tuple{Float64,String},1},k::Int64)\n",
    "    # NEEDS Documentation and a serious debugging\n",
    "    if stat.n_cars[2] >= rebal.desired_n_st1\n",
    "        for i in 1:rebal.desired_n_st1\n",
    "            insert_and_sort!(e,(rand(Exponential(env.mu_rammer_dtu[k]))+e[1][1],\"que_st1\") ) \n",
    "            stat.n_cars[2] -= 1\n",
    "        end\n",
    "        \n",
    "        # Start empty timer\n",
    "        if stat.n_cars[2] == 0 && stat.currently_empty[2] == false\n",
    "            stat.empty_time[2] -= e[1][1]\n",
    "            stat.currently_empty[2] = true\n",
    "        end\n",
    "\n",
    "    else\n",
    "        for i in 1:stat.n_cars[2]\n",
    "            insert_and_sort!(e,(rand(Exponential(env.mu_rammer_dtu[k]))+e[1][1],\"que_st1\") )\n",
    "            stat.n_cars[2] -= 1\n",
    "        end\n",
    "        if stat.currently_empty[2] == false\n",
    "            stat.empty_time[2] -= e[1][1]\n",
    "            stat.currently_empty[2] = true\n",
    "        end\n",
    "\n",
    "    end\n",
    "\n",
    "    # For station 1\n",
    "    if stat.n_cars[1] >= rebal.desired_n_st2\n",
    "        for i in 1:rebal.desired_n_st2\n",
    "            insert_and_sort!(e,(rand(Exponential(env.mu_rammer_port[k]))+e[1][1],\"que_st2\") )\n",
    "            stat.n_cars[1] -= 1\n",
    "        end\n",
    "        \n",
    "        # Start empty timer\n",
    "        if stat.n_cars[1] == 0 && stat.currently_empty[1] == false\n",
    "            stat.empty_time[1] -= e[1][1]\n",
    "            stat.currently_empty[1] = true\n",
    "        end\n",
    "    else\n",
    "        for i in 1:stat.n_cars[1]\n",
    "            insert_and_sort!(e,(rand(Exponential(env.mu_rammer_port[k]))+e[1][1],\"que_st2\") )\n",
    "            stat.n_cars[1] -= 1\n",
    "        end\n",
    "        if stat.currently_empty[1] == false\n",
    "            stat.empty_time[1] -= e[1][1]\n",
    "            stat.currently_empty[1] = true\n",
    "        end\n",
    "        \n",
    "    end \n",
    "\n",
    "    insert_and_sort!(e,(24.0+popfirst!(e)[1],\"rebalance\") )\n",
    "    \n",
    "end\n"
   ]
  },
  {
   "cell_type": "code",
   "execution_count": 5,
   "metadata": {},
   "outputs": [
    {
     "data": {
      "text/plain": [
       "sim (generic function with 1 method)"
      ]
     },
     "metadata": {},
     "output_type": "display_data"
    }
   ],
   "source": [
    "function sim(days_to_run::Int64,initial_n_cars::Vector{Int64}, rebal::Balance, env::Environment)\n",
    "\n",
    "    stat = Stats([initial_n_cars[1],initial_n_cars[2]],[0,0],[0,0],[0,0],[false,false])\n",
    "\n",
    "    e = Array{Tuple{Float64,String},1}()\n",
    "    \n",
    "    runs = 0\n",
    "    k = 1\n",
    "    day = 0\n",
    "    insert_and_sort!(e,(rand(Exponential(env.lambda_dtu[k])),\"st1\")) # Insert first arrival\n",
    "    insert_and_sort!(e,(rand(Exponential(env.lambda_port[k])),\"st2\")) # Insert frist arrival\n",
    "    insert_and_sort!(e,(0.0,\"time_change\")) # THIS NEEDS TO BE FIXED!!!!!!!!\n",
    "\n",
    "    for i in 1:length(rebal.rebalance_times)\n",
    "        insert_and_sort!(e,(rebal.rebalance_times[i],\"rebalance\"))\n",
    "    end\n",
    "\n",
    "\n",
    "    while e[1][1] <= days_to_run*24.0 && runs <= 100000\n",
    "        load_type = e[1][2]\n",
    "        if load_type == \"st1\"\n",
    "            arrival(1,e,env,stat,k)\n",
    "        elseif load_type == \"st2\"\n",
    "            arrival(2,e,env,stat,k)\n",
    "        elseif load_type == \"que_st1\"\n",
    "            travel(1,e,env,stat)\n",
    "        elseif load_type == \"que_st2\"\n",
    "            travel(2,e,env,stat)\n",
    "        elseif load_type == \"time_change\"\n",
    "            k,day = time_change(e,k,day)\n",
    "        elseif load_type == \"rebalance\"\n",
    "            rebalancing(rebal,stat,env,e,k)\n",
    "        else\n",
    "            throw(ErrorException(\"Issue in the event type!\"))\n",
    "        end\n",
    "        runs += 1 # Checks the amount of events\n",
    "    end\n",
    "    \n",
    "    # Make sure the empty timer stops at the end of the run\n",
    "    if stat.n_cars[1] == 0\n",
    "        stat.empty_time[1] += days_to_run*24.0\n",
    "    elseif stat.n_cars[2] == 0\n",
    "        stat.empty_time[2] += days_to_run*24.0\n",
    "    end\n",
    "    \n",
    "    return stat.n_cars,stat.un_fullfilled,stat.fullfilled,stat.empty_time,runs\n",
    "end"
   ]
  },
  {
   "cell_type": "markdown",
   "metadata": {},
   "source": [
    "### Testing"
   ]
  },
  {
   "cell_type": "code",
   "execution_count": 6,
   "metadata": {},
   "outputs": [
    {
     "data": {
      "text/plain": [
       "main (generic function with 2 methods)"
      ]
     },
     "metadata": {},
     "output_type": "display_data"
    }
   ],
   "source": [
    "\n",
    "function main(initial_n_cars::Vector{Int64},days_to_run::Int64,n_of_runs::Int64,rebalance::Tuple{Int64, Int64, Vector{Float64}},path = \"C:/Users/rasmu/Desktop/OneDrive/OneDrive - Danmarks Tekniske Universitet/Decisions under uncertainty/Projekt/ArrivalProfiles.xlsx\")\n",
    "    # Rebalance is given in [desired_n_st1, desired_n_st2, time_1, time_2] for now int\n",
    "    env = Environment()\n",
    "    rebal = Balance(rebalance[1],rebalance[2],rebalance[3])\n",
    "    overview = []\n",
    "    efficiancy = []\n",
    "\n",
    "    for i in 1:n_of_runs\n",
    "        a = sim(days_to_run,initial_n_cars,rebal,env)\n",
    "        overview = [overview;a]\n",
    "        # NEeds final stats\n",
    "    \n",
    "        efficiancy_fullfilled = [a[2][1]/a[3][1],a[2][2]/a[3][2]]\n",
    "        efficiancy_emptytime = [a[4][1]/(days_to_run*24),a[4][2]/(days_to_run*24)]\n",
    "        # Print it with color\n",
    "        # print(\"Efficiancy percentage for station 1 is \")\n",
    "        # printstyled(round(efficiancy_fullfilled[1]*100,digits=2),\"%\"; color=:blue)\n",
    "        # print(\" and \")\n",
    "        # printstyled(round(efficiancy_fullfilled[2]*100,digits=2),\"%\"; color=:blue)\n",
    "        # print(\" for station 2. Percentage of time spent empty for station 1 is \")\n",
    "        # printstyled(round(efficiancy_emptytime[1]*100,digits=2),\"%\"; color=:blue)\n",
    "        # print(\" and \")\n",
    "        # printstyled(round(efficiancy_emptytime[2]*100,digits=2),\"%\"; color=:blue)\n",
    "        # println(\" for station 2.\")\n",
    "\n",
    "        efficiancy = [efficiancy; [efficiancy_fullfilled]]\n",
    "    end\n",
    "    \n",
    "    return overview, efficiancy\n",
    "end"
   ]
  },
  {
   "cell_type": "code",
   "execution_count": 7,
   "metadata": {},
   "outputs": [],
   "source": []
  },
  {
   "cell_type": "code",
   "execution_count": 25,
   "metadata": {},
   "outputs": [
    {
     "data": {
      "text/plain": [
       "39-element Vector{Any}:\n",
       " (1.296464046541811, 1.3472599135845795, [1, 19, 20])\n",
       " (1.3532245444902098, 1.3303346263259344, [2, 18, 20])\n",
       " (1.3623270333980533, 1.2491618346400002, [3, 17, 20])\n",
       " (1.4148383865924703, 1.3406115284474605, [4, 16, 20])\n",
       " (1.36684510616568, 1.3186119205977826, [5, 15, 20])\n",
       " (1.299120749820162, 1.3309107800918043, [6, 14, 20])\n",
       " (1.3231223270019852, 1.3288528512859503, [7, 13, 20])\n",
       " (1.2669065423061276, 1.333883060169296, [8, 12, 20])\n",
       " (1.3965269251838557, 1.3302357361963077, [9, 11, 20])\n",
       " (1.4017850882320573, 1.2657996663371607, [10, 10, 20])\n",
       " ⋮\n",
       " (1.292842261451211, 1.2791939506164174, [12, 9, 21])\n",
       " (1.3310301465492254, 1.2771273031734192, [13, 8, 21])\n",
       " (1.3146915638561096, 1.3934636881176512, [14, 7, 21])\n",
       " (1.323649578941777, 1.2892847496984186, [15, 6, 21])\n",
       " (1.3032108416229222, 1.3312775231436784, [16, 5, 21])\n",
       " (1.3234116859115295, 1.271138184943553, [17, 4, 21])\n",
       " (1.2686588713710223, 1.2863236891188894, [18, 3, 21])\n",
       " (1.2616635298281125, 1.3621266354802806, [19, 2, 21])\n",
       " (1.3147233831378757, 1.3519640613886668, [20, 1, 21])"
      ]
     },
     "metadata": {},
     "output_type": "display_data"
    }
   ],
   "source": [
    "average_effic = []\n",
    "for n in 20:21\n",
    "    for i in 1:(n-1)\n",
    "        _, effic = main([i,n-i],100,n,(n,n,[23.9]))\n",
    "        total_effic = [effic[1][1],effic[1][2]]\n",
    "        for j in 2:n\n",
    "            total_effic = [effic[j][1]+total_effic[1],effic[j][2]+total_effic[2]]\n",
    "        end\n",
    "        \n",
    "        average_effic = [average_effic; (total_effic[1]/n,total_effic[2]/n,[i,n-i,n])]\n",
    "\n",
    "    end\n",
    "end\n",
    "\n",
    "# Using gauss bababy\n",
    "display(average_effic)\n"
   ]
  },
  {
   "cell_type": "code",
   "execution_count": 26,
   "metadata": {},
   "outputs": [
    {
     "data": {
      "text/plain": [
       "20-element Vector{Any}:\n",
       " [0.4484238567411573, 0.49320023148148145]\n",
       " [0.4030700013232764, 0.35443037974683544]\n",
       " [0.4108507705801278, 0.3815837937384899]\n",
       " [0.440361372237822, 0.31684196857550967]\n",
       " [0.5653730488328799, 0.40492137449039023]\n",
       " [0.3447701958776085, 0.42779258541313303]\n",
       " [0.515014803327224, 0.43676003465203583]\n",
       " [0.5889882788402221, 0.527561661976494]\n",
       " [0.5954261270154656, 0.48217206411514557]\n",
       " [0.4267535692116698, 0.543594177835423]\n",
       " [0.4672154017857143, 0.4640101024273888]\n",
       " [0.5275334866729806, 0.3698039760878632]\n",
       " [0.4029126213592233, 0.47454951992634486]\n",
       " [0.3860471005317802, 0.41908914728682173]\n",
       " [0.5269509251810137, 0.5926792578973759]\n",
       " [0.5196155871511322, 0.3875319511502414]\n",
       " [0.5180063820088132, 0.3829623944742901]\n",
       " [0.4198291555804509, 0.4586476868327402]\n",
       " [0.438944918541505, 0.5181695827725438]\n",
       " [0.3830881302671047, 0.5162262084075038]"
      ]
     },
     "metadata": {},
     "output_type": "display_data"
    }
   ],
   "source": [
    "_, effic = main([50,50],100,20,(50,50,[24.0]))\n",
    "display(effic)\n"
   ]
  },
  {
   "cell_type": "code",
   "execution_count": null,
   "metadata": {},
   "outputs": [],
   "source": []
  }
 ],
 "metadata": {
  "kernelspec": {
   "display_name": "Julia 1.7.2",
   "language": "julia",
   "name": "julia-1.7"
  },
  "language_info": {
   "file_extension": ".jl",
   "mimetype": "application/julia",
   "name": "julia",
   "version": "1.7.2"
  },
  "orig_nbformat": 4
 },
 "nbformat": 4,
 "nbformat_minor": 2
}
